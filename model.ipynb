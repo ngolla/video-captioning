{
  "nbformat": 4,
  "nbformat_minor": 0,
  "metadata": {
    "colab": {
      "name": "model.ipynb",
      "provenance": [],
      "collapsed_sections": [],
      "authorship_tag": "ABX9TyMgVTEmZxMa2HxMq42UgyHd",
      "include_colab_link": true
    },
    "kernelspec": {
      "name": "python3",
      "display_name": "Python 3"
    }
  },
  "cells": [
    {
      "cell_type": "markdown",
      "metadata": {
        "id": "view-in-github",
        "colab_type": "text"
      },
      "source": [
        "<a href=\"https://colab.research.google.com/github/ngolla/video-captioning/blob/master/model.ipynb\" target=\"_parent\"><img src=\"https://colab.research.google.com/assets/colab-badge.svg\" alt=\"Open In Colab\"/></a>"
      ]
    },
    {
      "cell_type": "code",
      "metadata": {
        "id": "xrPN9uqnfk14"
      },
      "source": [
        "import pickle\n",
        "from google.colab import drive\n",
        "from pathlib import Path\n",
        "import numpy as np"
      ],
      "execution_count": 1,
      "outputs": []
    },
    {
      "cell_type": "code",
      "metadata": {
        "id": "p-mIiG7if7KI",
        "outputId": "6b15f357-7cdb-42eb-847b-248ccc32b413",
        "colab": {
          "base_uri": "https://localhost:8080/"
        }
      },
      "source": [
        "drive.mount('/content/drive')"
      ],
      "execution_count": 2,
      "outputs": [
        {
          "output_type": "stream",
          "text": [
            "Mounted at /content/drive\n"
          ],
          "name": "stdout"
        }
      ]
    },
    {
      "cell_type": "code",
      "metadata": {
        "id": "MhmuHrUBfsIq",
        "outputId": "60d930b6-e6b2-4be5-d4aa-af5d9924f57b",
        "colab": {
          "base_uri": "https://localhost:8080/"
        }
      },
      "source": [
        "drive_path=Path('/content/drive/My Drive')\n",
        "list(drive_path.glob('*'))"
      ],
      "execution_count": 2,
      "outputs": [
        {
          "output_type": "execute_result",
          "data": {
            "text/plain": [
              "[PosixPath('/content/drive/My Drive/Colab Notebooks'),\n",
              " PosixPath('/content/drive/My Drive/YouTubeClips.tar'),\n",
              " PosixPath('/content/drive/My Drive/video_corpus.csv'),\n",
              " PosixPath('/content/drive/My Drive/.ipynb_checkpoints'),\n",
              " PosixPath('/content/drive/My Drive/VideoArrays'),\n",
              " PosixPath('/content/drive/My Drive/model1.h5'),\n",
              " PosixPath('/content/drive/My Drive/splitdata'),\n",
              " PosixPath('/content/drive/My Drive/splitset'),\n",
              " PosixPath('/content/drive/My Drive/test.dat'),\n",
              " PosixPath('/content/drive/My Drive/tokens_word_index.txt'),\n",
              " PosixPath('/content/drive/My Drive/tokens_index_word.txt')]"
            ]
          },
          "metadata": {
            "tags": []
          },
          "execution_count": 2
        }
      ]
    },
    {
      "cell_type": "code",
      "metadata": {
        "id": "qfj3Hbsc8dsj",
        "outputId": "c0f725cb-3222-4b95-e710-9c37fbf07d91",
        "colab": {
          "base_uri": "https://localhost:8080/"
        }
      },
      "source": [
        "split_path=drive_path.joinpath('splitset')\n",
        "list(split_path.glob('*'))"
      ],
      "execution_count": 3,
      "outputs": [
        {
          "output_type": "execute_result",
          "data": {
            "text/plain": [
              "[PosixPath('/content/drive/My Drive/splitset/train.dat'),\n",
              " PosixPath('/content/drive/My Drive/splitset/test.dat'),\n",
              " PosixPath('/content/drive/My Drive/splitset/tokens_word_index.txt'),\n",
              " PosixPath('/content/drive/My Drive/splitset/tokens_index_word.txt')]"
            ]
          },
          "metadata": {
            "tags": []
          },
          "execution_count": 3
        }
      ]
    },
    {
      "cell_type": "code",
      "metadata": {
        "id": "D4DFcDBVgJjN"
      },
      "source": [
        "train_file=split_path.joinpath('train.dat')\n",
        "val_file=split_path.joinpath('test.dat')"
      ],
      "execution_count": 4,
      "outputs": []
    },
    {
      "cell_type": "code",
      "metadata": {
        "id": "9V50lM_khIIj"
      },
      "source": [
        "(vid_test, cap_test)=pickle.load(open( val_file, \"rb\" ))\n",
        "(vid_train, cap_train)=pickle.load(open( train_file, \"rb\" ))"
      ],
      "execution_count": 5,
      "outputs": []
    },
    {
      "cell_type": "code",
      "metadata": {
        "id": "q1fjJ4jJh8xV",
        "outputId": "d7cc3383-cce1-4245-95f8-99c3ddd9a705",
        "colab": {
          "base_uri": "https://localhost:8080/"
        }
      },
      "source": [
        "print(len(vid_train), vid_train[0].shape)\n",
        "print(len(vid_test), vid_test[0].shape)"
      ],
      "execution_count": 8,
      "outputs": [
        {
          "output_type": "stream",
          "text": [
            "8000 (80, 4096)\n",
            "2000 (80, 4096)\n"
          ],
          "name": "stdout"
        }
      ]
    },
    {
      "cell_type": "code",
      "metadata": {
        "id": "4aseWEIYkO6u"
      },
      "source": [
        "vid_train=np.array(vid_train)\n",
        "cap_train=np.array(cap_train)"
      ],
      "execution_count": 6,
      "outputs": []
    },
    {
      "cell_type": "code",
      "metadata": {
        "id": "IfxudfOm9Nlh"
      },
      "source": [
        "#vid_test=np.array(vid_test)\n",
        "#cap_test=np.array(cap_test)"
      ],
      "execution_count": null,
      "outputs": []
    },
    {
      "cell_type": "code",
      "metadata": {
        "id": "K0XGB80vOaif"
      },
      "source": [
        "from tensorflow.keras import Model\n",
        "from tensorflow.keras.layers import Input, LSTM, Dense\n",
        "\n",
        "# returns train, inference_encoder and inference_decoder models\n",
        "def basic_enc_dec(n_input, n_output, n_units):\n",
        "    # define training encoder\n",
        "    encoder_inputs = Input(shape=(None, n_input))\n",
        "    encoder = LSTM(n_units, return_state=True)\n",
        "    encoder_outputs, state_h, state_c = encoder(encoder_inputs)\n",
        "    encoder_states = [state_h, state_c]\n",
        "\n",
        "    # define training decoder\n",
        "    decoder_inputs = Input(shape=(None, n_output))\n",
        "    decoder_lstm = LSTM(n_units, return_sequences=True, return_state=True)\n",
        "    decoder_outputs, _, _ = decoder_lstm(decoder_inputs, initial_state=encoder_states)\n",
        "    decoder_dense = Dense(n_output, activation='softmax')\n",
        "    decoder_outputs = decoder_dense(decoder_outputs)\n",
        "    model = Model([encoder_inputs, decoder_inputs], decoder_outputs)\n",
        "\n",
        "    # define inference encoder\n",
        "    encoder_model = Model(encoder_inputs, encoder_states)\n",
        "\n",
        "    # define inference decoder\n",
        "    decoder_state_input_h = Input(shape=(n_units,))\n",
        "    decoder_state_input_c = Input(shape=(n_units,))\n",
        "    decoder_states_inputs = [decoder_state_input_h, decoder_state_input_c]\n",
        "    decoder_outputs, state_h, state_c = decoder_lstm(decoder_inputs, initial_state=decoder_states_inputs)\n",
        "    decoder_states = [state_h, state_c]\n",
        "    decoder_outputs = decoder_dense(decoder_outputs)\n",
        "    decoder_model = Model([decoder_inputs] + decoder_states_inputs, [decoder_outputs] + decoder_states)\n",
        "\n",
        "    # return all models\n",
        "    return model, encoder_model, decoder_model"
      ],
      "execution_count": 7,
      "outputs": []
    },
    {
      "cell_type": "code",
      "metadata": {
        "id": "jwz87-p5_xBa",
        "outputId": "f3e68f30-3451-436e-a756-96cdb6585af6",
        "colab": {
          "base_uri": "https://localhost:8080/"
        }
      },
      "source": [
        "#split_path.joinpath('tokens_word_index.txt')\n",
        "token=pickle.load(open(split_path.joinpath('tokens_word_index.txt'),\"rb\"))\n",
        "len(token.items())"
      ],
      "execution_count": 11,
      "outputs": [
        {
          "output_type": "execute_result",
          "data": {
            "text/plain": [
              "3434"
            ]
          },
          "metadata": {
            "tags": []
          },
          "execution_count": 11
        }
      ]
    },
    {
      "cell_type": "code",
      "metadata": {
        "id": "kig2IfhK--t5",
        "outputId": "65998334-d53f-4e58-c8dc-c3b103cb3865",
        "colab": {
          "base_uri": "https://localhost:8080/"
        }
      },
      "source": [
        "cap_train.shape[1]\n",
        "vid_train.shape[2]\n",
        "cap_train.shape[1]"
      ],
      "execution_count": 17,
      "outputs": [
        {
          "output_type": "execute_result",
          "data": {
            "text/plain": [
              "(8000, 35)"
            ]
          },
          "metadata": {
            "tags": []
          },
          "execution_count": 17
        }
      ]
    },
    {
      "cell_type": "code",
      "metadata": {
        "id": "yZCNXTxO8TIF"
      },
      "source": [
        "vocab_size=len(token.items())+1\n",
        "#dim_embedding=64\n",
        "maxlen=cap_train.shape[1]"
      ],
      "execution_count": 12,
      "outputs": []
    },
    {
      "cell_type": "code",
      "metadata": {
        "id": "hLrUkyMtP9eB"
      },
      "source": [
        "model, enc, dec = basic_enc_dec(vid_train.shape[2], vocab_size, maxlen)"
      ],
      "execution_count": 13,
      "outputs": []
    },
    {
      "cell_type": "code",
      "metadata": {
        "id": "ONBT2OObRweP",
        "outputId": "380a7204-cfbd-4141-dab7-fe3450edb143",
        "colab": {
          "base_uri": "https://localhost:8080/"
        }
      },
      "source": [
        "model.summary()"
      ],
      "execution_count": 16,
      "outputs": [
        {
          "output_type": "stream",
          "text": [
            "Model: \"functional_1\"\n",
            "__________________________________________________________________________________________________\n",
            "Layer (type)                    Output Shape         Param #     Connected to                     \n",
            "==================================================================================================\n",
            "input_1 (InputLayer)            [(None, None, 4096)] 0                                            \n",
            "__________________________________________________________________________________________________\n",
            "input_2 (InputLayer)            [(None, None, 3435)] 0                                            \n",
            "__________________________________________________________________________________________________\n",
            "lstm (LSTM)                     [(None, 35), (None,  578480      input_1[0][0]                    \n",
            "__________________________________________________________________________________________________\n",
            "lstm_1 (LSTM)                   [(None, None, 35), ( 485940      input_2[0][0]                    \n",
            "                                                                 lstm[0][1]                       \n",
            "                                                                 lstm[0][2]                       \n",
            "__________________________________________________________________________________________________\n",
            "dense (Dense)                   (None, None, 3435)   123660      lstm_1[0][0]                     \n",
            "==================================================================================================\n",
            "Total params: 1,188,080\n",
            "Trainable params: 1,188,080\n",
            "Non-trainable params: 0\n",
            "__________________________________________________________________________________________________\n"
          ],
          "name": "stdout"
        }
      ]
    },
    {
      "cell_type": "code",
      "metadata": {
        "id": "XwjlpmOmUPd2"
      },
      "source": [
        "x2 = np.hstack([np.zeros((cap_train.shape[0], 1)), np.array(cap_train)])\n",
        "x2 = x2[:, :-1]"
      ],
      "execution_count": 19,
      "outputs": []
    },
    {
      "cell_type": "code",
      "metadata": {
        "id": "HqjYxJffU9v2"
      },
      "source": [
        "#Convert to (no of captions)x(no of words)x(vocab size)\n",
        "from keras.utils.np_utils import to_categorical   \n",
        "\n",
        "#x2_in = to_categorical(x2, num_classes = vocab_size)\n",
        "x2 = to_categorical(x2, num_classes = vocab_size)\n",
        "outputs = to_categorical(cap_train, num_classes = vocab_size)\n",
        "#print(x2_in.shape, outputs.shape)\n",
        "print(x2.shape, outputs.shape)"
      ],
      "execution_count": null,
      "outputs": []
    },
    {
      "cell_type": "code",
      "metadata": {
        "id": "AtkickzwVD5l"
      },
      "source": [
        "from tensorflow.keras.optimizers import RMSprop\n",
        "model.compile(optimizer=RMSprop(lr=7e-4), loss='categorical_crossentropy')\n",
        "history=model.fit([vid, x2_in], outputs, epochs = 1)"
      ],
      "execution_count": null,
      "outputs": []
    },
    {
      "cell_type": "code",
      "metadata": {
        "id": "475pd_hwVzjz",
        "outputId": "d2fa3ab2-8b55-4470-ac89-f411ffa5b78f",
        "colab": {
          "base_uri": "https://localhost:8080/"
        }
      },
      "source": [
        "history.history"
      ],
      "execution_count": null,
      "outputs": [
        {
          "output_type": "execute_result",
          "data": {
            "text/plain": [
              "{'loss': [4.78618049621582]}"
            ]
          },
          "metadata": {
            "tags": []
          },
          "execution_count": 29
        }
      ]
    }
  ]
}