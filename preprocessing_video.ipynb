{
  "nbformat": 4,
  "nbformat_minor": 0,
  "metadata": {
    "colab": {
      "name": "Copy of preprocessing-video.ipynb",
      "provenance": [],
      "collapsed_sections": [],
      "include_colab_link": true
    },
    "kernelspec": {
      "name": "python3",
      "display_name": "Python 3"
    }
  },
  "cells": [
    {
      "cell_type": "markdown",
      "metadata": {
        "id": "view-in-github",
        "colab_type": "text"
      },
      "source": [
        "<a href=\"https://colab.research.google.com/github/ngolla/video-captioning/blob/master/preprocessing_video.ipynb\" target=\"_parent\"><img src=\"https://colab.research.google.com/assets/colab-badge.svg\" alt=\"Open In Colab\"/></a>"
      ]
    },
    {
      "cell_type": "code",
      "metadata": {
        "id": "N5Y9gdCLqsoR"
      },
      "source": [
        "#Load data from link\n",
        "# !wget http://www.cs.utexas.edu/users/ml/clamp/videoDescription/YouTubeClips.tar"
      ],
      "execution_count": null,
      "outputs": []
    },
    {
      "cell_type": "code",
      "metadata": {
        "id": "fDLybNDqScKw",
        "outputId": "de4647ed-f4d0-4bf6-aebd-34dbbba3520e",
        "colab": {
          "base_uri": "https://localhost:8080/",
          "height": 167
        }
      },
      "source": [
        "!pip install scikit-video\n",
        "#video =skvideo.io.vread('YouTubeClips/-_aaMGK6GGw_57_61.avi')"
      ],
      "execution_count": null,
      "outputs": [
        {
          "output_type": "stream",
          "text": [
            "Collecting scikit-video\n",
            "\u001b[?25l  Downloading https://files.pythonhosted.org/packages/b1/a6/c69cad508139a342810ae46e946ebb3256aa6e42f690d901bb68f50582e3/scikit_video-1.1.11-py2.py3-none-any.whl (2.3MB)\n",
            "\u001b[K     |████████████████████████████████| 2.3MB 2.8MB/s \n",
            "\u001b[?25hRequirement already satisfied: scipy in /usr/local/lib/python3.6/dist-packages (from scikit-video) (1.4.1)\n",
            "Requirement already satisfied: pillow in /usr/local/lib/python3.6/dist-packages (from scikit-video) (7.0.0)\n",
            "Requirement already satisfied: numpy in /usr/local/lib/python3.6/dist-packages (from scikit-video) (1.18.5)\n",
            "Installing collected packages: scikit-video\n",
            "Successfully installed scikit-video-1.1.11\n"
          ],
          "name": "stdout"
        }
      ]
    },
    {
      "cell_type": "code",
      "metadata": {
        "id": "hbzQOPTSX3xe"
      },
      "source": [
        "import math\n",
        "import cv2\n",
        "\n",
        "#from google.colab.patches import cv2_imshow"
      ],
      "execution_count": null,
      "outputs": []
    },
    {
      "cell_type": "code",
      "metadata": {
        "id": "iNnxijnDrVQB",
        "outputId": "a5c4b6dc-bc8e-4192-ddab-717cf8c09069",
        "colab": {
          "base_uri": "https://localhost:8080/",
          "height": 33
        }
      },
      "source": [
        "from google.colab import drive\n",
        "drive.mount('/content/drive')"
      ],
      "execution_count": null,
      "outputs": [
        {
          "output_type": "stream",
          "text": [
            "Mounted at /content/drive\n"
          ],
          "name": "stdout"
        }
      ]
    },
    {
      "cell_type": "code",
      "metadata": {
        "id": "tCK0iGCerChh",
        "outputId": "42949597-64e2-41e8-cea9-c2835ecabff1",
        "colab": {
          "base_uri": "https://localhost:8080/",
          "height": 33
        }
      },
      "source": [
        "!ls \"/content/drive/My Drive\""
      ],
      "execution_count": null,
      "outputs": [
        {
          "output_type": "stream",
          "text": [
            "'Colab Notebooks'   VideoArrays   YouTubeClips.tar\n"
          ],
          "name": "stdout"
        }
      ]
    },
    {
      "cell_type": "code",
      "metadata": {
        "id": "i8Op_c4Msi70"
      },
      "source": [
        "drive_path=Path(\"/content/drive/My Drive\")"
      ],
      "execution_count": null,
      "outputs": []
    },
    {
      "cell_type": "code",
      "metadata": {
        "id": "UqOatm_wsoyo"
      },
      "source": [
        "list(drive_path.glob('*'))\n",
        "vid_dim_path=drive_path.joinpath('VideoArrays')\n",
        "#vid_dim_path.mkdir()"
      ],
      "execution_count": null,
      "outputs": []
    },
    {
      "cell_type": "code",
      "metadata": {
        "id": "te2AD7WC6IZe",
        "outputId": "5115754b-ed0f-441b-a494-fcff83e7f8f2",
        "colab": {
          "base_uri": "https://localhost:8080/",
          "height": 33
        }
      },
      "source": [
        "len(list(vid_dim_path.glob('*')))"
      ],
      "execution_count": null,
      "outputs": [
        {
          "output_type": "execute_result",
          "data": {
            "text/plain": [
              "322"
            ]
          },
          "metadata": {
            "tags": []
          },
          "execution_count": 7
        }
      ]
    },
    {
      "cell_type": "code",
      "metadata": {
        "id": "8QU8kXd4r9_c"
      },
      "source": [
        "!tar xf \"/content/drive/My Drive/YouTubeClips.tar\""
      ],
      "execution_count": null,
      "outputs": []
    },
    {
      "cell_type": "code",
      "metadata": {
        "id": "Zj_uibhwt8Lu",
        "outputId": "b98ef4f2-9614-45ff-e981-fce8755cda49",
        "colab": {
          "base_uri": "https://localhost:8080/",
          "height": 50
        }
      },
      "source": [
        "#This is to count number of videos in the directory #https://devconnected.com/how-to-count-files-in-directory-on-linux/ reference\n",
        "!ls YouTubeClips/ | wc -l\n",
        "\n",
        "import os\n",
        "video_ids=list(os.listdir(path='YouTubeClips/'))\n",
        "print(len(video_ids))"
      ],
      "execution_count": null,
      "outputs": [
        {
          "output_type": "stream",
          "text": [
            "1970\n",
            "1970\n"
          ],
          "name": "stdout"
        }
      ]
    },
    {
      "cell_type": "code",
      "metadata": {
        "id": "24NMQ-KzzWRc",
        "outputId": "75124a4b-3230-4490-ff63-7c1d8a6ba0a0",
        "colab": {
          "resources": {
            "http://localhost:8080/nbextensions/google.colab/files.js": {
              "data": "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",
              "ok": true,
              "headers": [
                [
                  "content-type",
                  "application/javascript"
                ]
              ],
              "status": 200,
              "status_text": ""
            }
          },
          "base_uri": "https://localhost:8080/",
          "height": 70
        }
      },
      "source": [
        "#Load annotations files\n",
        "from google.colab import files\n",
        "uploadedfile=files.upload()"
      ],
      "execution_count": null,
      "outputs": [
        {
          "output_type": "display_data",
          "data": {
            "text/html": [
              "\n",
              "     <input type=\"file\" id=\"files-3c7eeafe-6d41-4b63-adad-303a4b6e9e12\" name=\"files[]\" multiple disabled\n",
              "        style=\"border:none\" />\n",
              "     <output id=\"result-3c7eeafe-6d41-4b63-adad-303a4b6e9e12\">\n",
              "      Upload widget is only available when the cell has been executed in the\n",
              "      current browser session. Please rerun this cell to enable.\n",
              "      </output>\n",
              "      <script src=\"/nbextensions/google.colab/files.js\"></script> "
            ],
            "text/plain": [
              "<IPython.core.display.HTML object>"
            ]
          },
          "metadata": {
            "tags": []
          }
        },
        {
          "output_type": "stream",
          "text": [
            "Saving video_corpus.csv to video_corpus.csv\n"
          ],
          "name": "stdout"
        }
      ]
    },
    {
      "cell_type": "code",
      "metadata": {
        "id": "Ap8CLpMe7Pae"
      },
      "source": [
        "import pandas as pd\n",
        "import io\n",
        "annotations=pd.read_csv(io.BytesIO(uploadedfile['video_corpus.csv']))"
      ],
      "execution_count": null,
      "outputs": []
    },
    {
      "cell_type": "code",
      "metadata": {
        "id": "rcxsFRF0wNPu",
        "outputId": "217da299-4a0f-4ae8-a213-b7d5cc9aa904",
        "colab": {
          "base_uri": "https://localhost:8080/",
          "height": 33
        }
      },
      "source": [
        "print(annotations.shape)\n",
        "print(annotations.columns)\n",
        "print(len(annotations['Language'].unique()))\n",
        "print(annotations['Language'].unique())\n",
        "# only english annotations\n",
        "english_ants=annotations[annotations['Language']=='English']\n",
        "print(english_ants.shape) # 85511 rows and 8 columns\n",
        "print(english_ants.columns)"
      ],
      "execution_count": null,
      "outputs": [
        {
          "output_type": "execute_result",
          "data": {
            "text/plain": [
              "(122604, 8)"
            ]
          },
          "metadata": {
            "tags": []
          },
          "execution_count": 7
        }
      ]
    },
    {
      "cell_type": "code",
      "metadata": {
        "id": "v2S2LRTLwzfK",
        "outputId": "a72d36db-0d1d-401f-f78a-e847f2d8a25f",
        "colab": {
          "base_uri": "https://localhost:8080/",
          "height": 33
        }
      },
      "source": [
        "cols = ['VideoID', 'Start', 'End']\n",
        "specificVideo=english_ants.query('VideoID==\"-_hbPLsZvvo\"').filter(items=cols)\n",
        "print('Number of chunks in a video ',len(specificVideo.drop_duplicates())) #-_hbPLsZvvo has 11 chunks"
      ],
      "execution_count": null,
      "outputs": [
        {
          "output_type": "stream",
          "text": [
            "Number of chunks in a video  11\n"
          ],
          "name": "stdout"
        }
      ]
    },
    {
      "cell_type": "code",
      "metadata": {
        "id": "6j7N0ZU0xaKT",
        "outputId": "18eeaa9b-4af4-4310-d7a9-a118019a0a0a",
        "colab": {
          "base_uri": "https://localhost:8080/",
          "height": 33
        }
      },
      "source": [
        "english_ants=english_ants.assign(AnnotationID=english_ants[cols].apply(lambda row: '_'.join(row.values.astype(str)), axis=1))\n",
        "corpusVideoIds=english_ants['AnnotationID'].unique()\n",
        "len(corpusVideoIds)"
      ],
      "execution_count": null,
      "outputs": [
        {
          "output_type": "execute_result",
          "data": {
            "text/plain": [
              "2088"
            ]
          },
          "metadata": {
            "tags": []
          },
          "execution_count": 12
        }
      ]
    },
    {
      "cell_type": "code",
      "metadata": {
        "id": "YFovuznhMWsv"
      },
      "source": [
        "from pathlib import Path\n",
        "pdir=Path('YouTubeClips/')"
      ],
      "execution_count": null,
      "outputs": []
    },
    {
      "cell_type": "code",
      "metadata": {
        "id": "1HctIIQlNnnC",
        "outputId": "a55d9396-c6e6-4ba1-e909-bc37bb1a1ddd",
        "colab": {
          "base_uri": "https://localhost:8080/",
          "height": 33
        }
      },
      "source": [
        "Path('frames').mkdir()\n",
        "frame_dir=Path('frames')\n",
        "len(list(frame_dir.glob('*')))\n",
        "#frame_dir.rmdir()"
      ],
      "execution_count": null,
      "outputs": [
        {
          "output_type": "execute_result",
          "data": {
            "text/plain": [
              "0"
            ]
          },
          "metadata": {
            "tags": []
          },
          "execution_count": 33
        }
      ]
    },
    {
      "cell_type": "code",
      "metadata": {
        "id": "GOCirkzWrAg_",
        "outputId": "257030a6-f775-478b-eaf9-a86d34e488f8",
        "colab": {
          "base_uri": "https://localhost:8080/",
          "height": 33
        }
      },
      "source": [
        ""
      ],
      "execution_count": null,
      "outputs": [
        {
          "output_type": "execute_result",
          "data": {
            "text/plain": [
              "<bound method Path.mkdir of PosixPath('dimarray')>"
            ]
          },
          "metadata": {
            "tags": []
          },
          "execution_count": 90
        }
      ]
    },
    {
      "cell_type": "code",
      "metadata": {
        "id": "6X5dS1slQjrw"
      },
      "source": [
        "v=frame_dir.joinpath('v1').mkdir()\n",
        "frame_dir.is_dir()\n"
      ],
      "execution_count": null,
      "outputs": []
    },
    {
      "cell_type": "code",
      "metadata": {
        "id": "ef8Tvi8Hrm_O",
        "outputId": "2343ed01-2244-4a1a-9cfa-45b2e0be5887",
        "colab": {
          "base_uri": "https://localhost:8080/",
          "height": 33
        }
      },
      "source": [
        "v=frame_dir.joinpath('v1')\n",
        "print(v.mkdir())"
      ],
      "execution_count": null,
      "outputs": [
        {
          "output_type": "stream",
          "text": [
            "None\n"
          ],
          "name": "stdout"
        }
      ]
    },
    {
      "cell_type": "markdown",
      "metadata": {
        "id": "upaC_Yadnz1t"
      },
      "source": [
        "#Remove frames directory, since numpy arrays are generated, frames are not necessary"
      ]
    },
    {
      "cell_type": "code",
      "metadata": {
        "id": "IxWEWD1LSg6A"
      },
      "source": [
        "import shutil\n",
        "shutil.rmtree(frame_dir, ignore_errors=True)"
      ],
      "execution_count": null,
      "outputs": []
    },
    {
      "cell_type": "code",
      "metadata": {
        "id": "CCgDqEQYSw6P"
      },
      "source": [
        "import skvideo.io \n",
        "import numpy as np\n"
      ],
      "execution_count": null,
      "outputs": []
    },
    {
      "cell_type": "code",
      "metadata": {
        "id": "Ym-c2I1XtpBj",
        "outputId": "dc639d82-fa52-4bfd-bd54-0db6d98789a5",
        "colab": {
          "base_uri": "https://localhost:8080/",
          "height": 50
        }
      },
      "source": [
        "model=model_cnn_load()"
      ],
      "execution_count": null,
      "outputs": [
        {
          "output_type": "stream",
          "text": [
            "Downloading data from https://storage.googleapis.com/tensorflow/keras-applications/vgg16/vgg16_weights_tf_dim_ordering_tf_kernels.h5\n",
            "553467904/553467096 [==============================] - 13s 0us/step\n"
          ],
          "name": "stdout"
        }
      ]
    },
    {
      "cell_type": "code",
      "metadata": {
        "id": "QEIK3xoEN5SB",
        "outputId": "259b4670-8b30-47b6-ceba-c6fd76eb46c1",
        "colab": {
          "base_uri": "https://localhost:8080/",
          "height": 1000
        }
      },
      "source": [
        "for item in pdir.glob('**/*.avi'):\n",
        "  print('Processing video: '+str(item)+\" - \"+str(item.name) + \" - \"+ str(item.stem))\n",
        "  if(videoName in corpusVideoIds):\n",
        "    v_dir=frame_dir.joinpath(item.stem)\n",
        "    v_dir.mkdir(parents=True)\n",
        "    print(\"Creating directory: \",v_dir, ' created? ', v_dir.is_dir())\n",
        "    extract_frames(str(item), v_dir)\n",
        "    image_list=sorted(v_dir.glob('*.jpg')) #list of sorted key frames\n",
        "    samples = np.round(np.linspace(0, len(image_list) - 1, frames_step)) #evenly spaced numbers\n",
        "    image_list = [image_list[int(sample)] for sample in samples] #each sample of linspace\n",
        "    images = np.zeros((len(image_list), img_dim, img_dim, channels)) # empty image array\n",
        "    for i in range(len(image_list)):\n",
        "      img = load_image(image_list[i]) # load immage\n",
        "      images[i] = img  #save images as list\n",
        "    images = np.array(images)#convert to array of images\n",
        "    fc_feats = model.predict(images,batch_size) # predict dense features from model\n",
        "    img_feats = np.array(fc_feats) # save feature as array\n",
        "    outfile = vid_dim_path.joinpath(item.stem+'.npy')\n",
        "    np.save(str(outfile), img_feats) #save as file\n",
        "#frame_dir.rmdir()\n",
        "#shutil.rmtree(frame_dir, ignore_errors=True)"
      ],
      "execution_count": null,
      "outputs": [
        {
          "output_type": "stream",
          "text": [
            "Processing video: YouTubeClips/ri5AyXzxb4o_201_215.avi - ri5AyXzxb4o_201_215.avi - ri5AyXzxb4o_201_215\n",
            "Creating directory:  frames/ri5AyXzxb4o_201_215  created?  True\n",
            "frameRate  30.0\n",
            "Processing video: YouTubeClips/Q7H9mI9dtMY_20_34.avi - Q7H9mI9dtMY_20_34.avi - Q7H9mI9dtMY_20_34\n",
            "Creating directory:  frames/Q7H9mI9dtMY_20_34  created?  True\n",
            "frameRate  29.97002997002997\n",
            "Processing video: YouTubeClips/Xp6rxW4hFFo_32_40.avi - Xp6rxW4hFFo_32_40.avi - Xp6rxW4hFFo_32_40\n",
            "Creating directory:  frames/Xp6rxW4hFFo_32_40  created?  True\n",
            "frameRate  29.97002997002997\n",
            "Processing video: YouTubeClips/Je3V7U5Ctj4_558_563.avi - Je3V7U5Ctj4_558_563.avi - Je3V7U5Ctj4_558_563\n",
            "Creating directory:  frames/Je3V7U5Ctj4_558_563  created?  True\n",
            "frameRate  29.969\n",
            "Processing video: YouTubeClips/2YhDTpzxd3c_174_180.avi - 2YhDTpzxd3c_174_180.avi - 2YhDTpzxd3c_174_180\n",
            "Creating directory:  frames/2YhDTpzxd3c_174_180  created?  True\n",
            "frameRate  29.97002997002997\n",
            "Processing video: YouTubeClips/74tRCYS_534_49_57.avi - 74tRCYS_534_49_57.avi - 74tRCYS_534_49_57\n",
            "Creating directory:  frames/74tRCYS_534_49_57  created?  True\n",
            "frameRate  29.083333333333332\n",
            "Processing video: YouTubeClips/HJHPB_Y8GZE_22_28.avi - HJHPB_Y8GZE_22_28.avi - HJHPB_Y8GZE_22_28\n",
            "Creating directory:  frames/HJHPB_Y8GZE_22_28  created?  True\n",
            "frameRate  25.0\n",
            "Processing video: YouTubeClips/39Ce7I6nXIw_96_104.avi - 39Ce7I6nXIw_96_104.avi - 39Ce7I6nXIw_96_104\n",
            "Creating directory:  frames/39Ce7I6nXIw_96_104  created?  True\n",
            "frameRate  29.97002997002997\n",
            "Processing video: YouTubeClips/FGjtmhI-Rmk_30_37.avi - FGjtmhI-Rmk_30_37.avi - FGjtmhI-Rmk_30_37\n",
            "Creating directory:  frames/FGjtmhI-Rmk_30_37  created?  True\n",
            "frameRate  29.97002997002997\n",
            "Processing video: YouTubeClips/LLkehH86ABY_30_36.avi - LLkehH86ABY_30_36.avi - LLkehH86ABY_30_36\n",
            "Creating directory:  frames/LLkehH86ABY_30_36  created?  True\n",
            "frameRate  25.0\n",
            "Processing video: YouTubeClips/QTAqjSbMkXU_65_75.avi - QTAqjSbMkXU_65_75.avi - QTAqjSbMkXU_65_75\n",
            "Creating directory:  frames/QTAqjSbMkXU_65_75  created?  True\n",
            "frameRate  29.917\n",
            "Processing video: YouTubeClips/v5CeGLEnVFE_0_8.avi - v5CeGLEnVFE_0_8.avi - v5CeGLEnVFE_0_8\n",
            "Creating directory:  frames/v5CeGLEnVFE_0_8  created?  True\n",
            "frameRate  25.0\n",
            "Processing video: YouTubeClips/1dA1RQgPN3c_72_82.avi - 1dA1RQgPN3c_72_82.avi - 1dA1RQgPN3c_72_82\n",
            "Creating directory:  frames/1dA1RQgPN3c_72_82  created?  True\n",
            "frameRate  29.97002997002997\n",
            "Processing video: YouTubeClips/FeTaKOPVaJg_60_70.avi - FeTaKOPVaJg_60_70.avi - FeTaKOPVaJg_60_70\n",
            "Creating directory:  frames/FeTaKOPVaJg_60_70  created?  True\n",
            "frameRate  24.0\n",
            "Processing video: YouTubeClips/c_XV7nPoRg8_2_12.avi - c_XV7nPoRg8_2_12.avi - c_XV7nPoRg8_2_12\n",
            "Creating directory:  frames/c_XV7nPoRg8_2_12  created?  True\n",
            "frameRate  25.0\n",
            "Processing video: YouTubeClips/mZVPkPqwzR4_38_45.avi - mZVPkPqwzR4_38_45.avi - mZVPkPqwzR4_38_45\n",
            "Creating directory:  frames/mZVPkPqwzR4_38_45  created?  True\n",
            "frameRate  29.97002997002997\n",
            "Processing video: YouTubeClips/WqwcWk1In_g_46_54.avi - WqwcWk1In_g_46_54.avi - WqwcWk1In_g_46_54\n",
            "Creating directory:  frames/WqwcWk1In_g_46_54  created?  True\n",
            "frameRate  15.0\n",
            "Processing video: YouTubeClips/fvBs0xpEZhQ_10_30.avi - fvBs0xpEZhQ_10_30.avi - fvBs0xpEZhQ_10_30\n",
            "Creating directory:  frames/fvBs0xpEZhQ_10_30  created?  True\n",
            "frameRate  29.97002997002997\n",
            "Processing video: YouTubeClips/4QYPZM01xFE_14_26.avi - 4QYPZM01xFE_14_26.avi - 4QYPZM01xFE_14_26\n",
            "Creating directory:  frames/4QYPZM01xFE_14_26  created?  True\n",
            "frameRate  30.0\n",
            "Processing video: YouTubeClips/kRNHJSc4AXE_220_228.avi - kRNHJSc4AXE_220_228.avi - kRNHJSc4AXE_220_228\n",
            "Creating directory:  frames/kRNHJSc4AXE_220_228  created?  True\n",
            "frameRate  25.0\n",
            "Processing video: YouTubeClips/UdcObAQ5OOM_15_30.avi - UdcObAQ5OOM_15_30.avi - UdcObAQ5OOM_15_30\n",
            "Creating directory:  frames/UdcObAQ5OOM_15_30  created?  True\n",
            "frameRate  23.976023976023978\n",
            "Processing video: YouTubeClips/xfRIRSWy0y0_10_20.avi - xfRIRSWy0y0_10_20.avi - xfRIRSWy0y0_10_20\n",
            "Creating directory:  frames/xfRIRSWy0y0_10_20  created?  True\n",
            "frameRate  25.0\n",
            "Processing video: YouTubeClips/fgWFxFg7-GU_10_26.avi - fgWFxFg7-GU_10_26.avi - fgWFxFg7-GU_10_26\n",
            "Creating directory:  frames/fgWFxFg7-GU_10_26  created?  True\n",
            "frameRate  23.976023976023978\n",
            "Processing video: YouTubeClips/UqBafx3iRKw_22_29.avi - UqBafx3iRKw_22_29.avi - UqBafx3iRKw_22_29\n",
            "Creating directory:  frames/UqBafx3iRKw_22_29  created?  True\n",
            "frameRate  23.976023976023978\n",
            "Processing video: YouTubeClips/IiIiY6o-C9k_49_55.avi - IiIiY6o-C9k_49_55.avi - IiIiY6o-C9k_49_55\n",
            "Creating directory:  frames/IiIiY6o-C9k_49_55  created?  True\n",
            "frameRate  29.97002997002997\n",
            "Processing video: YouTubeClips/QzulzuWr0Zw_20_45.avi - QzulzuWr0Zw_20_45.avi - QzulzuWr0Zw_20_45\n",
            "Creating directory:  frames/QzulzuWr0Zw_20_45  created?  True\n",
            "frameRate  15.0\n",
            "Processing video: YouTubeClips/PBHZtoygOYg_450_465.avi - PBHZtoygOYg_450_465.avi - PBHZtoygOYg_450_465\n",
            "Creating directory:  frames/PBHZtoygOYg_450_465  created?  True\n",
            "frameRate  29.97002997002997\n",
            "Processing video: YouTubeClips/WPG-BIWOrG4_755_761.avi - WPG-BIWOrG4_755_761.avi - WPG-BIWOrG4_755_761\n",
            "Creating directory:  frames/WPG-BIWOrG4_755_761  created?  True\n",
            "frameRate  29.969\n",
            "Processing video: YouTubeClips/5YJaS2Eswg0_22_26.avi - 5YJaS2Eswg0_22_26.avi - 5YJaS2Eswg0_22_26\n",
            "Creating directory:  frames/5YJaS2Eswg0_22_26  created?  True\n",
            "frameRate  30.0\n",
            "Processing video: YouTubeClips/1RchFBCT9JU_43_53.avi - 1RchFBCT9JU_43_53.avi - 1RchFBCT9JU_43_53\n",
            "Creating directory:  frames/1RchFBCT9JU_43_53  created?  True\n",
            "frameRate  14.985014985014985\n",
            "Processing video: YouTubeClips/05gNigkqfNU_78_84.avi - 05gNigkqfNU_78_84.avi - 05gNigkqfNU_78_84\n",
            "Creating directory:  frames/05gNigkqfNU_78_84  created?  True\n",
            "frameRate  29.97002997002997\n",
            "Processing video: YouTubeClips/-_hbPLsZvvo_19_25.avi - -_hbPLsZvvo_19_25.avi - -_hbPLsZvvo_19_25\n",
            "Creating directory:  frames/-_hbPLsZvvo_19_25  created?  True\n",
            "frameRate  59.916666666666664\n",
            "Processing video: YouTubeClips/-Cv5LsqKUXc_17_25.avi - -Cv5LsqKUXc_17_25.avi - -Cv5LsqKUXc_17_25\n",
            "Creating directory:  frames/-Cv5LsqKUXc_17_25  created?  True\n",
            "frameRate  59.916666666666664\n",
            "Processing video: YouTubeClips/fjDvKHkmxs0_72_87.avi - fjDvKHkmxs0_72_87.avi - fjDvKHkmxs0_72_87\n",
            "Creating directory:  frames/fjDvKHkmxs0_72_87  created?  True\n",
            "frameRate  29.97002997002997\n",
            "Processing video: YouTubeClips/_O9kWD8nuRU_16_23.avi - _O9kWD8nuRU_16_23.avi - _O9kWD8nuRU_16_23\n",
            "Creating directory:  frames/_O9kWD8nuRU_16_23  created?  True\n",
            "frameRate  59.916666666666664\n",
            "Processing video: YouTubeClips/UbmZAe5u5FI_101_110.avi - UbmZAe5u5FI_101_110.avi - UbmZAe5u5FI_101_110\n",
            "Creating directory:  frames/UbmZAe5u5FI_101_110  created?  True\n",
            "frameRate  29.97002997002997\n",
            "Processing video: YouTubeClips/_9iG5Ge01PM_3_11.avi - _9iG5Ge01PM_3_11.avi - _9iG5Ge01PM_3_11\n",
            "Creating directory:  frames/_9iG5Ge01PM_3_11  created?  True\n",
            "frameRate  25.0\n",
            "Processing video: YouTubeClips/pfQPRXcihkI_127_138.avi - pfQPRXcihkI_127_138.avi - pfQPRXcihkI_127_138\n",
            "Creating directory:  frames/pfQPRXcihkI_127_138  created?  True\n",
            "frameRate  30.0\n",
            "Processing video: YouTubeClips/8PQiaurIiDM_173_180.avi - 8PQiaurIiDM_173_180.avi - 8PQiaurIiDM_173_180\n",
            "Creating directory:  frames/8PQiaurIiDM_173_180  created?  True\n",
            "frameRate  29.97002997002997\n",
            "Processing video: YouTubeClips/EwTZ2xpQwpA_14_21.avi - EwTZ2xpQwpA_14_21.avi - EwTZ2xpQwpA_14_21\n",
            "Creating directory:  frames/EwTZ2xpQwpA_14_21  created?  True\n",
            "frameRate  29.97002997002997\n",
            "Processing video: YouTubeClips/jfrrO5K_vKM_55_65.avi - jfrrO5K_vKM_55_65.avi - jfrrO5K_vKM_55_65\n",
            "Creating directory:  frames/jfrrO5K_vKM_55_65  created?  True\n",
            "frameRate  25.0\n",
            "Processing video: YouTubeClips/0lh_UWF9ZP4_103_110.avi - 0lh_UWF9ZP4_103_110.avi - 0lh_UWF9ZP4_103_110\n",
            "Creating directory:  frames/0lh_UWF9ZP4_103_110  created?  True\n",
            "frameRate  29.916666666666668\n",
            "Processing video: YouTubeClips/o2X6UCaNqKA_27_36.avi - o2X6UCaNqKA_27_36.avi - o2X6UCaNqKA_27_36\n",
            "Creating directory:  frames/o2X6UCaNqKA_27_36  created?  True\n",
            "frameRate  29.97002997002997\n",
            "Processing video: YouTubeClips/PeUHy0A1GF0_62_66.avi - PeUHy0A1GF0_62_66.avi - PeUHy0A1GF0_62_66\n",
            "Creating directory:  frames/PeUHy0A1GF0_62_66  created?  True\n",
            "frameRate  29.916666666666668\n",
            "Processing video: YouTubeClips/3lBHYoI5V8s_30_45.avi - 3lBHYoI5V8s_30_45.avi - 3lBHYoI5V8s_30_45\n",
            "Creating directory:  frames/3lBHYoI5V8s_30_45  created?  True\n",
            "frameRate  29.97002997002997\n",
            "Processing video: YouTubeClips/AE9UaQwum8c_0_10.avi - AE9UaQwum8c_0_10.avi - AE9UaQwum8c_0_10\n",
            "Creating directory:  frames/AE9UaQwum8c_0_10  created?  True\n",
            "frameRate  25.0\n",
            "Processing video: YouTubeClips/PeUHy0A1GF0_74_77.avi - PeUHy0A1GF0_74_77.avi - PeUHy0A1GF0_74_77\n",
            "Creating directory:  frames/PeUHy0A1GF0_74_77  created?  True\n",
            "frameRate  29.916666666666668\n",
            "Processing video: YouTubeClips/21uB8g-jDZI_70_79.avi - 21uB8g-jDZI_70_79.avi - 21uB8g-jDZI_70_79\n",
            "Creating directory:  frames/21uB8g-jDZI_70_79  created?  True\n",
            "frameRate  29.97002997002997\n",
            "Processing video: YouTubeClips/2YhDTpzxd3c_149_154.avi - 2YhDTpzxd3c_149_154.avi - 2YhDTpzxd3c_149_154\n",
            "Creating directory:  frames/2YhDTpzxd3c_149_154  created?  True\n",
            "frameRate  29.97002997002997\n",
            "Processing video: YouTubeClips/rl1rVk_xIOs_1_16.avi - rl1rVk_xIOs_1_16.avi - rl1rVk_xIOs_1_16\n",
            "Creating directory:  frames/rl1rVk_xIOs_1_16  created?  True\n",
            "frameRate  29.97002997002997\n",
            "Processing video: YouTubeClips/WPG-BIWOrG4_635_640.avi - WPG-BIWOrG4_635_640.avi - WPG-BIWOrG4_635_640\n",
            "Creating directory:  frames/WPG-BIWOrG4_635_640  created?  True\n",
            "frameRate  29.969\n",
            "Processing video: YouTubeClips/W8l_ezoU8Lc_156_162.avi - W8l_ezoU8Lc_156_162.avi - W8l_ezoU8Lc_156_162\n",
            "Creating directory:  frames/W8l_ezoU8Lc_156_162  created?  True\n",
            "frameRate  25.0\n",
            "Processing video: YouTubeClips/aGUx0QOKWXw_7_12.avi - aGUx0QOKWXw_7_12.avi - aGUx0QOKWXw_7_12\n",
            "Creating directory:  frames/aGUx0QOKWXw_7_12  created?  True\n",
            "frameRate  29.916666666666668\n",
            "Processing video: YouTubeClips/aeA-HN7BMdo_52_58.avi - aeA-HN7BMdo_52_58.avi - aeA-HN7BMdo_52_58\n",
            "Creating directory:  frames/aeA-HN7BMdo_52_58  created?  True\n",
            "frameRate  29.97002997002997\n",
            "Processing video: YouTubeClips/WTf5EgVY5uU_16_24.avi - WTf5EgVY5uU_16_24.avi - WTf5EgVY5uU_16_24\n",
            "Creating directory:  frames/WTf5EgVY5uU_16_24  created?  True\n",
            "frameRate  29.916666666666668\n",
            "Processing video: YouTubeClips/MTkGPfMRXtc_5_21.avi - MTkGPfMRXtc_5_21.avi - MTkGPfMRXtc_5_21\n",
            "Creating directory:  frames/MTkGPfMRXtc_5_21  created?  True\n",
            "frameRate  29.97002997002997\n",
            "Processing video: YouTubeClips/5zkCnHUnoYY_69_74.avi - 5zkCnHUnoYY_69_74.avi - 5zkCnHUnoYY_69_74\n",
            "Creating directory:  frames/5zkCnHUnoYY_69_74  created?  True\n",
            "frameRate  23.976023976023978\n",
            "Processing video: YouTubeClips/EVqc7e8JCco_5_15.avi - EVqc7e8JCco_5_15.avi - EVqc7e8JCco_5_15\n",
            "Creating directory:  frames/EVqc7e8JCco_5_15  created?  True\n",
            "frameRate  14.985014985014985\n",
            "Processing video: YouTubeClips/tn-Hoz4KbkE_89_93.avi - tn-Hoz4KbkE_89_93.avi - tn-Hoz4KbkE_89_93\n",
            "Creating directory:  frames/tn-Hoz4KbkE_89_93  created?  True\n",
            "frameRate  29.97002997002997\n",
            "Processing video: YouTubeClips/eTnlw7v8ea0_36_50.avi - eTnlw7v8ea0_36_50.avi - eTnlw7v8ea0_36_50\n",
            "Creating directory:  frames/eTnlw7v8ea0_36_50  created?  True\n",
            "frameRate  25.0\n",
            "Processing video: YouTubeClips/hWhKdXcqYeU_3_12.avi - hWhKdXcqYeU_3_12.avi - hWhKdXcqYeU_3_12\n",
            "Creating directory:  frames/hWhKdXcqYeU_3_12  created?  True\n",
            "frameRate  30.0\n",
            "Processing video: YouTubeClips/8PQiaurIiDM_94_99.avi - 8PQiaurIiDM_94_99.avi - 8PQiaurIiDM_94_99\n",
            "Creating directory:  frames/8PQiaurIiDM_94_99  created?  True\n",
            "frameRate  29.97002997002997\n",
            "Processing video: YouTubeClips/ogcqFaNbah4_475_487.avi - ogcqFaNbah4_475_487.avi - ogcqFaNbah4_475_487\n",
            "Creating directory:  frames/ogcqFaNbah4_475_487  created?  True\n",
            "frameRate  29.97002997002997\n",
            "Processing video: YouTubeClips/5fq9iIxxA1s_12_27.avi - 5fq9iIxxA1s_12_27.avi - 5fq9iIxxA1s_12_27\n",
            "Creating directory:  frames/5fq9iIxxA1s_12_27  created?  True\n",
            "frameRate  25.0\n",
            "Processing video: YouTubeClips/fKqBnl8D1Qo_5_44.avi - fKqBnl8D1Qo_5_44.avi - fKqBnl8D1Qo_5_44\n",
            "Creating directory:  frames/fKqBnl8D1Qo_5_44  created?  True\n",
            "frameRate  29.97002997002997\n",
            "Processing video: YouTubeClips/J---aiyznGQ_0_6.avi - J---aiyznGQ_0_6.avi - J---aiyznGQ_0_6\n",
            "Creating directory:  frames/J---aiyznGQ_0_6  created?  True\n",
            "frameRate  14.985014985014985\n",
            "Processing video: YouTubeClips/AzMrltkXGJk_0_10.avi - AzMrltkXGJk_0_10.avi - AzMrltkXGJk_0_10\n",
            "Creating directory:  frames/AzMrltkXGJk_0_10  created?  True\n",
            "frameRate  24.0\n",
            "Processing video: YouTubeClips/8MVo7fje_oE_108_113.avi - 8MVo7fje_oE_108_113.avi - 8MVo7fje_oE_108_113\n",
            "Creating directory:  frames/8MVo7fje_oE_108_113  created?  True\n",
            "frameRate  29.97002997002997\n",
            "Processing video: YouTubeClips/sMscRb9TcQE_146_161.avi - sMscRb9TcQE_146_161.avi - sMscRb9TcQE_146_161\n",
            "Creating directory:  frames/sMscRb9TcQE_146_161  created?  True\n",
            "frameRate  29.97002997002997\n",
            "Processing video: YouTubeClips/O9yLRzpPp44_36_55.avi - O9yLRzpPp44_36_55.avi - O9yLRzpPp44_36_55\n",
            "Creating directory:  frames/O9yLRzpPp44_36_55  created?  True\n",
            "frameRate  30.0\n",
            "Processing video: YouTubeClips/yFPHhRat6bc_160_210.avi - yFPHhRat6bc_160_210.avi - yFPHhRat6bc_160_210\n",
            "Creating directory:  frames/yFPHhRat6bc_160_210  created?  True\n",
            "frameRate  30.0\n",
            "Processing video: YouTubeClips/0NPtAv3_uVI_46_54.avi - 0NPtAv3_uVI_46_54.avi - 0NPtAv3_uVI_46_54\n",
            "Creating directory:  frames/0NPtAv3_uVI_46_54  created?  True\n",
            "frameRate  29.916666666666668\n",
            "Processing video: YouTubeClips/BtQEY2SL4g4_126_132.avi - BtQEY2SL4g4_126_132.avi - BtQEY2SL4g4_126_132\n",
            "Creating directory:  frames/BtQEY2SL4g4_126_132  created?  True\n",
            "frameRate  25.0\n",
            "Processing video: YouTubeClips/WeOU0Iba1Xg_1_30.avi - WeOU0Iba1Xg_1_30.avi - WeOU0Iba1Xg_1_30\n",
            "Creating directory:  frames/WeOU0Iba1Xg_1_30  created?  True\n",
            "frameRate  20.0\n",
            "Processing video: YouTubeClips/e-j59PqJjSM_405_416.avi - e-j59PqJjSM_405_416.avi - e-j59PqJjSM_405_416\n",
            "Creating directory:  frames/e-j59PqJjSM_405_416  created?  True\n",
            "frameRate  30.0\n",
            "Processing video: YouTubeClips/6ZhKOK08tgM_225_233.avi - 6ZhKOK08tgM_225_233.avi - 6ZhKOK08tgM_225_233\n",
            "Creating directory:  frames/6ZhKOK08tgM_225_233  created?  True\n",
            "frameRate  29.97002997002997\n",
            "Processing video: YouTubeClips/Jag7oTemldY_12_25.avi - Jag7oTemldY_12_25.avi - Jag7oTemldY_12_25\n",
            "Creating directory:  frames/Jag7oTemldY_12_25  created?  True\n",
            "frameRate  25.0\n",
            "Processing video: YouTubeClips/R1UrFBF_0iU_35_41.avi - R1UrFBF_0iU_35_41.avi - R1UrFBF_0iU_35_41\n",
            "Creating directory:  frames/R1UrFBF_0iU_35_41  created?  True\n",
            "frameRate  29.97002997002997\n",
            "Processing video: YouTubeClips/ywMLb2VfHbI_13_20.avi - ywMLb2VfHbI_13_20.avi - ywMLb2VfHbI_13_20\n",
            "Creating directory:  frames/ywMLb2VfHbI_13_20  created?  True\n",
            "frameRate  14.985014985014985\n",
            "Processing video: YouTubeClips/a8PAY4rvzRM_1_10.avi - a8PAY4rvzRM_1_10.avi - a8PAY4rvzRM_1_10\n",
            "Creating directory:  frames/a8PAY4rvzRM_1_10  created?  True\n",
            "frameRate  29.916666666666668\n",
            "Processing video: YouTubeClips/iCiGjZEV7VI_65_75.avi - iCiGjZEV7VI_65_75.avi - iCiGjZEV7VI_65_75\n",
            "Creating directory:  frames/iCiGjZEV7VI_65_75  created?  True\n",
            "frameRate  25.0\n",
            "Processing video: YouTubeClips/CjvMNwpAFWM_56_66.avi - CjvMNwpAFWM_56_66.avi - CjvMNwpAFWM_56_66\n",
            "Creating directory:  frames/CjvMNwpAFWM_56_66  created?  True\n",
            "frameRate  29.97002997002997\n",
            "Processing video: YouTubeClips/YAud4eS3DoA_54_65.avi - YAud4eS3DoA_54_65.avi - YAud4eS3DoA_54_65\n",
            "Creating directory:  frames/YAud4eS3DoA_54_65  created?  True\n",
            "frameRate  30.0\n",
            "Processing video: YouTubeClips/EpMuCrbxE8A_107_115.avi - EpMuCrbxE8A_107_115.avi - EpMuCrbxE8A_107_115\n",
            "Creating directory:  frames/EpMuCrbxE8A_107_115  created?  True\n",
            "frameRate  30.0\n",
            "Processing video: YouTubeClips/t3VPeyYL-fI_35_39.avi - t3VPeyYL-fI_35_39.avi - t3VPeyYL-fI_35_39\n",
            "Creating directory:  frames/t3VPeyYL-fI_35_39  created?  True\n",
            "frameRate  29.97002997002997\n",
            "Processing video: YouTubeClips/klteYv1Uv9A_27_33.avi - klteYv1Uv9A_27_33.avi - klteYv1Uv9A_27_33\n",
            "Creating directory:  frames/klteYv1Uv9A_27_33  created?  True\n",
            "frameRate  15.0\n",
            "Processing video: YouTubeClips/LwicaralvS0_90_104.avi - LwicaralvS0_90_104.avi - LwicaralvS0_90_104\n",
            "Creating directory:  frames/LwicaralvS0_90_104  created?  True\n",
            "frameRate  25.0\n",
            "Processing video: YouTubeClips/WTf5EgVY5uU_76_83.avi - WTf5EgVY5uU_76_83.avi - WTf5EgVY5uU_76_83\n",
            "Creating directory:  frames/WTf5EgVY5uU_76_83  created?  True\n",
            "frameRate  29.916666666666668\n",
            "Processing video: YouTubeClips/Q-soOsOLIGQ_0_22.avi - Q-soOsOLIGQ_0_22.avi - Q-soOsOLIGQ_0_22\n",
            "Creating directory:  frames/Q-soOsOLIGQ_0_22  created?  True\n",
            "frameRate  25.0\n",
            "Processing video: YouTubeClips/g1Gldu1KS44_8_14.avi - g1Gldu1KS44_8_14.avi - g1Gldu1KS44_8_14\n",
            "Creating directory:  frames/g1Gldu1KS44_8_14  created?  True\n",
            "frameRate  29.97002997002997\n",
            "Processing video: YouTubeClips/INDhUwDMg-4_220_227.avi - INDhUwDMg-4_220_227.avi - INDhUwDMg-4_220_227\n",
            "Creating directory:  frames/INDhUwDMg-4_220_227  created?  True\n",
            "frameRate  25.0\n",
            "Processing video: YouTubeClips/o4pL7FObqds_72_78.avi - o4pL7FObqds_72_78.avi - o4pL7FObqds_72_78\n",
            "Creating directory:  frames/o4pL7FObqds_72_78  created?  True\n",
            "frameRate  30.0\n",
            "Processing video: YouTubeClips/_6OTzzK7t9Y_158_170.avi - _6OTzzK7t9Y_158_170.avi - _6OTzzK7t9Y_158_170\n",
            "Creating directory:  frames/_6OTzzK7t9Y_158_170  created?  True\n",
            "frameRate  29.917\n",
            "Processing video: YouTubeClips/0lh_UWF9ZP4_174_178.avi - 0lh_UWF9ZP4_174_178.avi - 0lh_UWF9ZP4_174_178\n",
            "Creating directory:  frames/0lh_UWF9ZP4_174_178  created?  True\n",
            "frameRate  29.916666666666668\n",
            "Processing video: YouTubeClips/nTUONeDqhdk_10_15.avi - nTUONeDqhdk_10_15.avi - nTUONeDqhdk_10_15\n",
            "Creating directory:  frames/nTUONeDqhdk_10_15  created?  True\n",
            "frameRate  25.0\n",
            "Processing video: YouTubeClips/n_Z0-giaspE_379_387.avi - n_Z0-giaspE_379_387.avi - n_Z0-giaspE_379_387\n",
            "Creating directory:  frames/n_Z0-giaspE_379_387  created?  True\n",
            "frameRate  15.0\n",
            "Processing video: YouTubeClips/9BScZRpF7SI_31_36.avi - 9BScZRpF7SI_31_36.avi - 9BScZRpF7SI_31_36\n",
            "Creating directory:  frames/9BScZRpF7SI_31_36  created?  True\n",
            "frameRate  23.967\n",
            "Processing video: YouTubeClips/_pj2Nutu5v8_1_8.avi - _pj2Nutu5v8_1_8.avi - _pj2Nutu5v8_1_8\n",
            "Creating directory:  frames/_pj2Nutu5v8_1_8  created?  True\n",
            "frameRate  29.97002997002997\n",
            "Processing video: YouTubeClips/8e0yXMa708Y_24_33.avi - 8e0yXMa708Y_24_33.avi - 8e0yXMa708Y_24_33\n",
            "Creating directory:  frames/8e0yXMa708Y_24_33  created?  True\n",
            "frameRate  25.0\n",
            "Processing video: YouTubeClips/kWLNZzuo3do_17_23.avi - kWLNZzuo3do_17_23.avi - kWLNZzuo3do_17_23\n",
            "Creating directory:  frames/kWLNZzuo3do_17_23  created?  True\n",
            "frameRate  59.916666666666664\n",
            "Processing video: YouTubeClips/-rkErLY0rRc_63_67.avi - -rkErLY0rRc_63_67.avi - -rkErLY0rRc_63_67\n",
            "Creating directory:  frames/-rkErLY0rRc_63_67  created?  True\n",
            "frameRate  29.97002997002997\n",
            "Processing video: YouTubeClips/27hs9W89FuI_0_10.avi - 27hs9W89FuI_0_10.avi - 27hs9W89FuI_0_10\n",
            "Creating directory:  frames/27hs9W89FuI_0_10  created?  True\n",
            "frameRate  25.0\n",
            "Processing video: YouTubeClips/0sUL0KCIc48_15_25.avi - 0sUL0KCIc48_15_25.avi - 0sUL0KCIc48_15_25\n",
            "Creating directory:  frames/0sUL0KCIc48_15_25  created?  True\n",
            "frameRate  30.0\n",
            "Processing video: YouTubeClips/j1Z890_Q3so_131_138.avi - j1Z890_Q3so_131_138.avi - j1Z890_Q3so_131_138\n",
            "Creating directory:  frames/j1Z890_Q3so_131_138  created?  True\n",
            "frameRate  59.916666666666664\n",
            "Processing video: YouTubeClips/bXsKw3TOQXs_30_55.avi - bXsKw3TOQXs_30_55.avi - bXsKw3TOQXs_30_55\n",
            "Creating directory:  frames/bXsKw3TOQXs_30_55  created?  True\n",
            "frameRate  14.985014985014985\n",
            "Processing video: YouTubeClips/PiyoeFC31kE_9_27.avi - PiyoeFC31kE_9_27.avi - PiyoeFC31kE_9_27\n",
            "Creating directory:  frames/PiyoeFC31kE_9_27  created?  True\n",
            "frameRate  59.916666666666664\n",
            "Processing video: YouTubeClips/IY1Fn796MoY_7_10.avi - IY1Fn796MoY_7_10.avi - IY1Fn796MoY_7_10\n",
            "Creating directory:  frames/IY1Fn796MoY_7_10  created?  True\n",
            "frameRate  29.97002997002997\n",
            "Processing video: YouTubeClips/cSDkshD2ME0_11_14.avi - cSDkshD2ME0_11_14.avi - cSDkshD2ME0_11_14\n",
            "Creating directory:  frames/cSDkshD2ME0_11_14  created?  True\n",
            "frameRate  29.97002997002997\n",
            "Processing video: YouTubeClips/_JVxurtGIhI_32_42.avi - _JVxurtGIhI_32_42.avi - _JVxurtGIhI_32_42\n",
            "Creating directory:  frames/_JVxurtGIhI_32_42  created?  True\n",
            "frameRate  30.0\n",
            "Processing video: YouTubeClips/xxHx6s_DbUo_216_222.avi - xxHx6s_DbUo_216_222.avi - xxHx6s_DbUo_216_222\n",
            "Creating directory:  frames/xxHx6s_DbUo_216_222  created?  True\n",
            "frameRate  23.976023976023978\n",
            "Processing video: YouTubeClips/PQbkdRbir0M_45_53.avi - PQbkdRbir0M_45_53.avi - PQbkdRbir0M_45_53\n",
            "Creating directory:  frames/PQbkdRbir0M_45_53  created?  True\n",
            "frameRate  29.97002997002997\n",
            "Processing video: YouTubeClips/ZxqkAGNyo8A_12_22.avi - ZxqkAGNyo8A_12_22.avi - ZxqkAGNyo8A_12_22\n",
            "Creating directory:  frames/ZxqkAGNyo8A_12_22  created?  True\n",
            "frameRate  24.0\n",
            "Processing video: YouTubeClips/VfqlfprZsaQ_75_85.avi - VfqlfprZsaQ_75_85.avi - VfqlfprZsaQ_75_85\n",
            "Creating directory:  frames/VfqlfprZsaQ_75_85  created?  True\n",
            "frameRate  29.97002997002997\n",
            "Processing video: YouTubeClips/cSDkshD2ME0_12_15.avi - cSDkshD2ME0_12_15.avi - cSDkshD2ME0_12_15\n",
            "Creating directory:  frames/cSDkshD2ME0_12_15  created?  True\n",
            "frameRate  29.97002997002997\n",
            "Processing video: YouTubeClips/Ar70p1_LcfM_2_20.avi - Ar70p1_LcfM_2_20.avi - Ar70p1_LcfM_2_20\n",
            "Creating directory:  frames/Ar70p1_LcfM_2_20  created?  True\n",
            "frameRate  14.993\n",
            "Processing video: YouTubeClips/e4QGnppJ-ys_6_14.avi - e4QGnppJ-ys_6_14.avi - e4QGnppJ-ys_6_14\n",
            "Creating directory:  frames/e4QGnppJ-ys_6_14  created?  True\n",
            "frameRate  25.0\n",
            "Processing video: YouTubeClips/-_aaMGK6GGw_57_61.avi - -_aaMGK6GGw_57_61.avi - -_aaMGK6GGw_57_61\n",
            "Creating directory:  frames/-_aaMGK6GGw_57_61  created?  True\n",
            "frameRate  29.97002997002997\n",
            "Processing video: YouTubeClips/0RWJEOScToE_414_421.avi - 0RWJEOScToE_414_421.avi - 0RWJEOScToE_414_421\n",
            "Creating directory:  frames/0RWJEOScToE_414_421  created?  True\n",
            "frameRate  29.97002997002997\n",
            "Processing video: YouTubeClips/0lh_UWF9ZP4_215_226.avi - 0lh_UWF9ZP4_215_226.avi - 0lh_UWF9ZP4_215_226\n",
            "Creating directory:  frames/0lh_UWF9ZP4_215_226  created?  True\n",
            "frameRate  29.916666666666668\n",
            "Processing video: YouTubeClips/wSwwS_0MKEc_68_78.avi - wSwwS_0MKEc_68_78.avi - wSwwS_0MKEc_68_78\n",
            "Creating directory:  frames/wSwwS_0MKEc_68_78  created?  True\n",
            "frameRate  23.976023976023978\n",
            "Processing video: YouTubeClips/WTf5EgVY5uU_66_75.avi - WTf5EgVY5uU_66_75.avi - WTf5EgVY5uU_66_75\n",
            "Creating directory:  frames/WTf5EgVY5uU_66_75  created?  True\n",
            "frameRate  29.916666666666668\n",
            "Processing video: YouTubeClips/MJNStEgDKXU_3_10.avi - MJNStEgDKXU_3_10.avi - MJNStEgDKXU_3_10\n",
            "Creating directory:  frames/MJNStEgDKXU_3_10  created?  True\n",
            "frameRate  29.97002997002997\n",
            "Processing video: YouTubeClips/9LOJmQQktHA_10_18.avi - 9LOJmQQktHA_10_18.avi - 9LOJmQQktHA_10_18\n",
            "Creating directory:  frames/9LOJmQQktHA_10_18  created?  True\n",
            "frameRate  14.985014985014985\n",
            "Processing video: YouTubeClips/E6sqA9QtV5I_195_201.avi - E6sqA9QtV5I_195_201.avi - E6sqA9QtV5I_195_201\n",
            "Creating directory:  frames/E6sqA9QtV5I_195_201  created?  True\n",
            "frameRate  23.976023976023978\n",
            "Processing video: YouTubeClips/-wa0umYJVGg_168_176.avi - -wa0umYJVGg_168_176.avi - -wa0umYJVGg_168_176\n",
            "Creating directory:  frames/-wa0umYJVGg_168_176  created?  True\n",
            "frameRate  29.916666666666668\n",
            "Processing video: YouTubeClips/6owu8Mow0_g_850_855.avi - 6owu8Mow0_g_850_855.avi - 6owu8Mow0_g_850_855\n",
            "Creating directory:  frames/6owu8Mow0_g_850_855  created?  True\n",
            "frameRate  29.969\n",
            "Processing video: YouTubeClips/h0JvF9vpqx8_36_42.avi - h0JvF9vpqx8_36_42.avi - h0JvF9vpqx8_36_42\n",
            "Creating directory:  frames/h0JvF9vpqx8_36_42  created?  True\n",
            "frameRate  30.0\n",
            "Processing video: YouTubeClips/shPymuahrsc_5_12.avi - shPymuahrsc_5_12.avi - shPymuahrsc_5_12\n",
            "Creating directory:  frames/shPymuahrsc_5_12  created?  True\n",
            "frameRate  24.0\n",
            "Processing video: YouTubeClips/jjl2ZMdFCsw_17_35.avi - jjl2ZMdFCsw_17_35.avi - jjl2ZMdFCsw_17_35\n",
            "Creating directory:  frames/jjl2ZMdFCsw_17_35  created?  True\n",
            "frameRate  29.97002997002997\n",
            "Processing video: YouTubeClips/11xs9mFKObs_0_8.avi - 11xs9mFKObs_0_8.avi - 11xs9mFKObs_0_8\n",
            "Creating directory:  frames/11xs9mFKObs_0_8  created?  True\n",
            "frameRate  29.97002997002997\n",
            "Processing video: YouTubeClips/YZ0-6hdQ0mU_0_3.avi - YZ0-6hdQ0mU_0_3.avi - YZ0-6hdQ0mU_0_3\n",
            "Creating directory:  frames/YZ0-6hdQ0mU_0_3  created?  True\n",
            "frameRate  24.983\n",
            "Processing video: YouTubeClips/vulNlhUI6m0_7_27.avi - vulNlhUI6m0_7_27.avi - vulNlhUI6m0_7_27\n",
            "Creating directory:  frames/vulNlhUI6m0_7_27  created?  True\n",
            "frameRate  25.0\n",
            "Processing video: YouTubeClips/IhwPQL9dFYc_137_143.avi - IhwPQL9dFYc_137_143.avi - IhwPQL9dFYc_137_143\n",
            "Creating directory:  frames/IhwPQL9dFYc_137_143  created?  True\n",
            "frameRate  29.916666666666668\n",
            "Processing video: YouTubeClips/HBCJYhUjVf0_0_9.avi - HBCJYhUjVf0_0_9.avi - HBCJYhUjVf0_0_9\n",
            "Creating directory:  frames/HBCJYhUjVf0_0_9  created?  True\n",
            "frameRate  29.833333333333332\n",
            "Processing video: YouTubeClips/0lh_UWF9ZP4_199_207.avi - 0lh_UWF9ZP4_199_207.avi - 0lh_UWF9ZP4_199_207\n",
            "Creating directory:  frames/0lh_UWF9ZP4_199_207  created?  True\n",
            "frameRate  29.916666666666668\n",
            "Processing video: YouTubeClips/BOv-2HzNPaA_7_12.avi - BOv-2HzNPaA_7_12.avi - BOv-2HzNPaA_7_12\n",
            "Creating directory:  frames/BOv-2HzNPaA_7_12  created?  True\n",
            "frameRate  30.0\n",
            "Processing video: YouTubeClips/YersIyzsOpc_15_30.avi - YersIyzsOpc_15_30.avi - YersIyzsOpc_15_30\n",
            "Creating directory:  frames/YersIyzsOpc_15_30  created?  True\n",
            "frameRate  30.0\n",
            "Processing video: YouTubeClips/0hyZ__3YhZc_302_307.avi - 0hyZ__3YhZc_302_307.avi - 0hyZ__3YhZc_302_307\n",
            "Creating directory:  frames/0hyZ__3YhZc_302_307  created?  True\n",
            "frameRate  29.97002997002997\n",
            "Processing video: YouTubeClips/IEQyCcageGg_99_126.avi - IEQyCcageGg_99_126.avi - IEQyCcageGg_99_126\n",
            "Creating directory:  frames/IEQyCcageGg_99_126  created?  True\n",
            "frameRate  15.0\n",
            "Processing video: YouTubeClips/-zOrV-5vh1A_69_76.avi - -zOrV-5vh1A_69_76.avi - -zOrV-5vh1A_69_76\n",
            "Creating directory:  frames/-zOrV-5vh1A_69_76  created?  True\n",
            "frameRate  25.0\n",
            "Processing video: YouTubeClips/rw9h_574HxE_127_133.avi - rw9h_574HxE_127_133.avi - rw9h_574HxE_127_133\n",
            "Creating directory:  frames/rw9h_574HxE_127_133  created?  True\n",
            "frameRate  25.0\n",
            "Processing video: YouTubeClips/45AGQSbodbU_5_15.avi - 45AGQSbodbU_5_15.avi - 45AGQSbodbU_5_15\n",
            "Creating directory:  frames/45AGQSbodbU_5_15  created?  True\n",
            "frameRate  30.0\n",
            "Processing video: YouTubeClips/kWLNZzuo3do_251_260.avi - kWLNZzuo3do_251_260.avi - kWLNZzuo3do_251_260\n",
            "Creating directory:  frames/kWLNZzuo3do_251_260  created?  True\n",
            "frameRate  59.916666666666664\n",
            "Processing video: YouTubeClips/KpmVL4ANieA_0_9.avi - KpmVL4ANieA_0_9.avi - KpmVL4ANieA_0_9\n",
            "Creating directory:  frames/KpmVL4ANieA_0_9  created?  True\n",
            "frameRate  25.0\n",
            "Processing video: YouTubeClips/J3_hkgu6MGc_43_52.avi - J3_hkgu6MGc_43_52.avi - J3_hkgu6MGc_43_52\n",
            "Creating directory:  frames/J3_hkgu6MGc_43_52  created?  True\n",
            "frameRate  29.916666666666668\n",
            "Processing video: YouTubeClips/zCf8NWJ8kzA_47_52.avi - zCf8NWJ8kzA_47_52.avi - zCf8NWJ8kzA_47_52\n",
            "Creating directory:  frames/zCf8NWJ8kzA_47_52  created?  True\n",
            "frameRate  30.0\n",
            "Processing video: YouTubeClips/4Hhdr1IPOGs_90_98.avi - 4Hhdr1IPOGs_90_98.avi - 4Hhdr1IPOGs_90_98\n",
            "Creating directory:  frames/4Hhdr1IPOGs_90_98  created?  True\n",
            "frameRate  29.97002997002997\n",
            "Processing video: YouTubeClips/2Nn2CAeaI5k_72_77.avi - 2Nn2CAeaI5k_72_77.avi - 2Nn2CAeaI5k_72_77\n",
            "Creating directory:  frames/2Nn2CAeaI5k_72_77  created?  True\n",
            "frameRate  14.985014985014985\n",
            "Processing video: YouTubeClips/30GeJHYoerk_63_75.avi - 30GeJHYoerk_63_75.avi - 30GeJHYoerk_63_75\n",
            "Creating directory:  frames/30GeJHYoerk_63_75  created?  True\n",
            "frameRate  25.0\n",
            "Processing video: YouTubeClips/bAYIIlX-WWw_5_15.avi - bAYIIlX-WWw_5_15.avi - bAYIIlX-WWw_5_15\n",
            "Creating directory:  frames/bAYIIlX-WWw_5_15  created?  True\n",
            "frameRate  30.0\n",
            "Processing video: YouTubeClips/Je3V7U5Ctj4_997_1004.avi - Je3V7U5Ctj4_997_1004.avi - Je3V7U5Ctj4_997_1004\n",
            "Creating directory:  frames/Je3V7U5Ctj4_997_1004  created?  True\n",
            "frameRate  29.969\n",
            "Processing video: YouTubeClips/4t5POXt2e68_5_11.avi - 4t5POXt2e68_5_11.avi - 4t5POXt2e68_5_11\n",
            "Creating directory:  frames/4t5POXt2e68_5_11  created?  True\n",
            "frameRate  30.0\n",
            "Processing video: YouTubeClips/iarsmqA3dck_19_25.avi - iarsmqA3dck_19_25.avi - iarsmqA3dck_19_25\n",
            "Creating directory:  frames/iarsmqA3dck_19_25  created?  True\n",
            "frameRate  29.97002997002997\n",
            "Processing video: YouTubeClips/YmXCfQm0_CA_277_284.avi - YmXCfQm0_CA_277_284.avi - YmXCfQm0_CA_277_284\n",
            "Creating directory:  frames/YmXCfQm0_CA_277_284  created?  True\n",
            "frameRate  59.916666666666664\n",
            "Processing video: YouTubeClips/6t0BpjwYKco_217_229.avi - 6t0BpjwYKco_217_229.avi - 6t0BpjwYKco_217_229\n",
            "Creating directory:  frames/6t0BpjwYKco_217_229  created?  True\n",
            "frameRate  29.916666666666668\n",
            "Processing video: YouTubeClips/YUlG_PKzpvc_0_8.avi - YUlG_PKzpvc_0_8.avi - YUlG_PKzpvc_0_8\n",
            "Creating directory:  frames/YUlG_PKzpvc_0_8  created?  True\n",
            "frameRate  29.97002997002997\n",
            "Processing video: YouTubeClips/xPR0xFgCAZY_17_27.avi - xPR0xFgCAZY_17_27.avi - xPR0xFgCAZY_17_27\n",
            "Creating directory:  frames/xPR0xFgCAZY_17_27  created?  True\n",
            "frameRate  29.97002997002997\n",
            "Processing video: YouTubeClips/htWPOGTagec_2_18.avi - htWPOGTagec_2_18.avi - htWPOGTagec_2_18\n",
            "Creating directory:  frames/htWPOGTagec_2_18  created?  True\n",
            "frameRate  58.916666666666664\n",
            "Processing video: YouTubeClips/hJFBXHtxKIc_118_123.avi - hJFBXHtxKIc_118_123.avi - hJFBXHtxKIc_118_123\n",
            "Creating directory:  frames/hJFBXHtxKIc_118_123  created?  True\n",
            "frameRate  29.97002997002997\n",
            "Processing video: YouTubeClips/jTaLGh_MKCM_5_20.avi - jTaLGh_MKCM_5_20.avi - jTaLGh_MKCM_5_20\n",
            "Creating directory:  frames/jTaLGh_MKCM_5_20  created?  True\n",
            "frameRate  25.0\n",
            "Processing video: YouTubeClips/6ZZkO14S7GY_5_15.avi - 6ZZkO14S7GY_5_15.avi - 6ZZkO14S7GY_5_15\n",
            "Creating directory:  frames/6ZZkO14S7GY_5_15  created?  True\n",
            "frameRate  15.0\n",
            "Processing video: YouTubeClips/ZDoy9S82ETA_5_15.avi - ZDoy9S82ETA_5_15.avi - ZDoy9S82ETA_5_15\n",
            "Creating directory:  frames/ZDoy9S82ETA_5_15  created?  True\n",
            "frameRate  30.0\n",
            "Processing video: YouTubeClips/clKtfGBVI1I_15_28.avi - clKtfGBVI1I_15_28.avi - clKtfGBVI1I_15_28\n",
            "Creating directory:  frames/clKtfGBVI1I_15_28  created?  True\n",
            "frameRate  25.0\n",
            "Processing video: YouTubeClips/FHwC2THZJfA_0_10.avi - FHwC2THZJfA_0_10.avi - FHwC2THZJfA_0_10\n",
            "Creating directory:  frames/FHwC2THZJfA_0_10  created?  True\n",
            "frameRate  29.97002997002997\n",
            "Processing video: YouTubeClips/mFCf8lLXrUc_25_35.avi - mFCf8lLXrUc_25_35.avi - mFCf8lLXrUc_25_35\n",
            "Creating directory:  frames/mFCf8lLXrUc_25_35  created?  True\n",
            "frameRate  29.97002997002997\n",
            "Processing video: YouTubeClips/s6QwbmWbSmw_18_24.avi - s6QwbmWbSmw_18_24.avi - s6QwbmWbSmw_18_24\n",
            "Creating directory:  frames/s6QwbmWbSmw_18_24  created?  True\n",
            "frameRate  10.0\n",
            "Processing video: YouTubeClips/XzCcRzEa83U_1_8.avi - XzCcRzEa83U_1_8.avi - XzCcRzEa83U_1_8\n",
            "Creating directory:  frames/XzCcRzEa83U_1_8  created?  True\n",
            "frameRate  25.0\n",
            "Processing video: YouTubeClips/SKhmFSV-XB0_12_18.avi - SKhmFSV-XB0_12_18.avi - SKhmFSV-XB0_12_18\n",
            "Creating directory:  frames/SKhmFSV-XB0_12_18  created?  True\n",
            "frameRate  29.97002997002997\n",
            "Processing video: YouTubeClips/u4kMN1jamdM_10_20.avi - u4kMN1jamdM_10_20.avi - u4kMN1jamdM_10_20\n",
            "Creating directory:  frames/u4kMN1jamdM_10_20  created?  True\n",
            "frameRate  29.97002997002997\n",
            "Processing video: YouTubeClips/5U3xz9Ovmhk_214_222.avi - 5U3xz9Ovmhk_214_222.avi - 5U3xz9Ovmhk_214_222\n",
            "Creating directory:  frames/5U3xz9Ovmhk_214_222  created?  True\n",
            "frameRate  25.0\n",
            "Processing video: YouTubeClips/N5wsl86P37Q_1_15.avi - N5wsl86P37Q_1_15.avi - N5wsl86P37Q_1_15\n",
            "Creating directory:  frames/N5wsl86P37Q_1_15  created?  True\n",
            "frameRate  49.916666666666664\n",
            "Processing video: YouTubeClips/b4FM9OLBGyM_37_49.avi - b4FM9OLBGyM_37_49.avi - b4FM9OLBGyM_37_49\n",
            "Creating directory:  frames/b4FM9OLBGyM_37_49  created?  True\n",
            "frameRate  29.916666666666668\n",
            "Processing video: YouTubeClips/PHDmVhShE80_78_82.avi - PHDmVhShE80_78_82.avi - PHDmVhShE80_78_82\n",
            "Creating directory:  frames/PHDmVhShE80_78_82  created?  True\n",
            "frameRate  29.97002997002997\n",
            "Processing video: YouTubeClips/-8y1Q0rA3n8_95_102.avi - -8y1Q0rA3n8_95_102.avi - -8y1Q0rA3n8_95_102\n",
            "Creating directory:  frames/-8y1Q0rA3n8_95_102  created?  True\n",
            "frameRate  29.97002997002997\n",
            "Processing video: YouTubeClips/MHWxjWwAbwM_10_25.avi - MHWxjWwAbwM_10_25.avi - MHWxjWwAbwM_10_25\n",
            "Creating directory:  frames/MHWxjWwAbwM_10_25  created?  True\n",
            "frameRate  30.0\n",
            "Processing video: YouTubeClips/ecm9gf2Pgkc_1_24.avi - ecm9gf2Pgkc_1_24.avi - ecm9gf2Pgkc_1_24\n",
            "Creating directory:  frames/ecm9gf2Pgkc_1_24  created?  True\n",
            "frameRate  29.97002997002997\n",
            "Processing video: YouTubeClips/nd0ToNwccl4_12_17.avi - nd0ToNwccl4_12_17.avi - nd0ToNwccl4_12_17\n",
            "Creating directory:  frames/nd0ToNwccl4_12_17  created?  True\n",
            "frameRate  29.97002997002997\n",
            "Processing video: YouTubeClips/yyxtyCaEVqk_329_360.avi - yyxtyCaEVqk_329_360.avi - yyxtyCaEVqk_329_360\n",
            "Creating directory:  frames/yyxtyCaEVqk_329_360  created?  True\n",
            "frameRate  29.97002997002997\n",
            "Processing video: YouTubeClips/229NvV0SRHw_0_5.avi - 229NvV0SRHw_0_5.avi - 229NvV0SRHw_0_5\n",
            "Creating directory:  frames/229NvV0SRHw_0_5  created?  True\n",
            "frameRate  30.0\n",
            "Processing video: YouTubeClips/DuMkW35BwK8_43_47.avi - DuMkW35BwK8_43_47.avi - DuMkW35BwK8_43_47\n",
            "Creating directory:  frames/DuMkW35BwK8_43_47  created?  True\n",
            "frameRate  14.985014985014985\n",
            "Processing video: YouTubeClips/nTasT5h0LEg_40_43.avi - nTasT5h0LEg_40_43.avi - nTasT5h0LEg_40_43\n",
            "Creating directory:  frames/nTasT5h0LEg_40_43  created?  True\n",
            "frameRate  29.97002997002997\n",
            "Processing video: YouTubeClips/NjblUomxFQo_100_108.avi - NjblUomxFQo_100_108.avi - NjblUomxFQo_100_108\n",
            "Creating directory:  frames/NjblUomxFQo_100_108  created?  True\n",
            "frameRate  30.0\n",
            "Processing video: YouTubeClips/NKtfKR4GNjU_0_20.avi - NKtfKR4GNjU_0_20.avi - NKtfKR4GNjU_0_20\n",
            "Creating directory:  frames/NKtfKR4GNjU_0_20  created?  True\n",
            "frameRate  24.0\n",
            "Processing video: YouTubeClips/953PkxFNiko_82_85.avi - 953PkxFNiko_82_85.avi - 953PkxFNiko_82_85\n",
            "Creating directory:  frames/953PkxFNiko_82_85  created?  True\n",
            "frameRate  23.976023976023978\n",
            "Processing video: YouTubeClips/MwOEK-KXSPc_1_10.avi - MwOEK-KXSPc_1_10.avi - MwOEK-KXSPc_1_10\n",
            "Creating directory:  frames/MwOEK-KXSPc_1_10  created?  True\n",
            "frameRate  29.93\n",
            "Processing video: YouTubeClips/DDtX5a-OgLQ_1_15.avi - DDtX5a-OgLQ_1_15.avi - DDtX5a-OgLQ_1_15\n",
            "Creating directory:  frames/DDtX5a-OgLQ_1_15  created?  True\n",
            "frameRate  29.97002997002997\n",
            "Processing video: YouTubeClips/mHv4iJ9Yr1g_10_16.avi - mHv4iJ9Yr1g_10_16.avi - mHv4iJ9Yr1g_10_16\n",
            "Creating directory:  frames/mHv4iJ9Yr1g_10_16  created?  True\n",
            "frameRate  29.97002997002997\n",
            "Processing video: YouTubeClips/OO-5-eVEKPA_25_31.avi - OO-5-eVEKPA_25_31.avi - OO-5-eVEKPA_25_31\n",
            "Creating directory:  frames/OO-5-eVEKPA_25_31  created?  True\n",
            "frameRate  29.97002997002997\n",
            "Processing video: YouTubeClips/LQ-jv8g1YVI_1_6.avi - LQ-jv8g1YVI_1_6.avi - LQ-jv8g1YVI_1_6\n",
            "Creating directory:  frames/LQ-jv8g1YVI_1_6  created?  True\n",
            "frameRate  25.0\n",
            "Processing video: YouTubeClips/9Q0JfdP36kI_167_170.avi - 9Q0JfdP36kI_167_170.avi - 9Q0JfdP36kI_167_170\n",
            "Creating directory:  frames/9Q0JfdP36kI_167_170  created?  True\n",
            "frameRate  59.916666666666664\n"
          ],
          "name": "stdout"
        }
      ]
    },
    {
      "cell_type": "code",
      "metadata": {
        "id": "JSaEIc29qu-5"
      },
      "source": [
        "from keras.applications.vgg16 import VGG16\n",
        "from keras.models import Model \n",
        "import time\n",
        "#Defining few variables\n",
        "img_dim=224 # image height and width 224 by 224\n",
        "channels=3 # three channesl RGB\n",
        "batch_size=128 # batch normalization\n",
        "frames_step=80 # select 80 frames\n",
        "\n",
        "#load image adjust to the dimensions mentioned\n",
        "def load_image(path):\n",
        "    img = cv2.imread(str(path))\n",
        "    img = cv2.resize(img,(img_dim,img_dim))\n",
        "    return img\n",
        "\n",
        "#Transfer learning  using vgg16\n",
        "def model_cnn_load():\n",
        "    model = VGG16(weights = \"imagenet\", include_top=True,input_shape = (img_dim,img_dim,channels))\n",
        "    out = model.layers[-2].output\n",
        "    model_final = Model(inputs=model.input,outputs=out)\n",
        "    return model_final"
      ],
      "execution_count": null,
      "outputs": []
    },
    {
      "cell_type": "code",
      "metadata": {
        "id": "JLbz6h_ncCgr"
      },
      "source": [
        "from skimage.transform import resize"
      ],
      "execution_count": null,
      "outputs": []
    },
    {
      "cell_type": "code",
      "metadata": {
        "id": "1xXcDC2I_-m3"
      },
      "source": [
        "##It is saving the last frame every second. \n",
        "#If frame rate is 30 fps and x = 30 (it is the 30th frame), \n",
        "#it saves the image, one second later after another 30 frames, \n",
        "#it will once again save the frame. If it were not conditional, \n",
        "#it would try to write as many files per second \n",
        "#as the stream's fps which generally would clog the pipeline and hurt throughput.\n",
        "def extract_frames(video_path, v_dir):\n",
        "    cap = cv2.VideoCapture(video_path)\n",
        "    frameRate = cap.get(5) #frame rate\n",
        "    print('frameRate ',frameRate)\n",
        "    while(cap.isOpened()):\n",
        "        frameId = cap.get(1) #current frame number\n",
        "        #print('frameId ',frameId)\n",
        "        ret, frame = cap.read()\n",
        "        if (ret != True):\n",
        "            break\n",
        "        if (frameId % math.floor(frameRate) == 0):\n",
        "          frame_path=v_dir.joinpath(str(int(frameId))+'.jpg')\n",
        "          #frame_path.touch()\n",
        "          cv2.imwrite(str(frame_path), frame)\n",
        "    cap.release()\n",
        "    cv2.destroyAllWindows()"
      ],
      "execution_count": null,
      "outputs": []
    },
    {
      "cell_type": "code",
      "metadata": {
        "id": "Des6Ufg4ZNif"
      },
      "source": [
        "def extract_dense_features(video):\n",
        "  videogen = skvideo.io.vread(video)\n",
        "  videometadata = skvideo.io.ffprobe(video)['video'] #key-value dictionary that has video details\n",
        "  rate = np.int(eval(videometadata['@avg_frame_rate'])) #frame rate i.e., no of frames per second ex: 30 frames per sec.\n",
        "  total_frames, rows, cols, channels = videogen.shape\n",
        "  print(\"Shape: of video: \",videogen.shape,' avg framerate: ', rate, ' number of frames: ', total_frames)\n",
        "  input_rows, input_cols=(224, 224)\n",
        "  frameImage = np.zeros((input_rows, input_cols, channels), np.uint8)\n",
        "  horz_scaling = input_cols/cols\n",
        "  rz_rows = int(rows * horz_scaling)\n",
        "  rz_cols = input_cols\n",
        "  nb_blank_rows = input_rows - rz_rows\n",
        "  blank_height = nb_blank_rows // 2 #similar to math.floor(blankrows/2)\n",
        "  print(horz_scaling, ' ', rz_rows, '  ', rz_cols, '  ', nb_blank_rows, '  ', blank_height)\n",
        "  print(frameImage.shape)\n",
        "  #for eachFrame in range(total_frames):\n",
        "  #  if eachFrame%rate==0:\n",
        "  frame=videogen[0]\n",
        "  print(frame.shape)\n",
        "  frame = resize(frame, (rz_rows, rz_cols, channels))\n",
        "  print(frame.shape)\n",
        "  # resize made the image a float, so convert back to uint8\n",
        "  maxval = np.max(frame)\n",
        "  print(maxval)\n",
        "  frame /= maxval\n",
        "  print(frame.shape)\n",
        "  frame *= 255\n",
        "  print(frame)\n",
        "  frame = frame.astype(np.uint8)\n",
        "\n",
        "\n"
      ],
      "execution_count": null,
      "outputs": []
    },
    {
      "cell_type": "code",
      "metadata": {
        "id": "0tQgczt4ZYrn",
        "outputId": "b8720616-ce1a-4186-ec91-ca13fb8798a3",
        "colab": {
          "base_uri": "https://localhost:8080/",
          "height": 927
        }
      },
      "source": [
        "video = 'YouTubeClips/ri5AyXzxb4o_201_215.avi'\n",
        "extract_dense_features(video)"
      ],
      "execution_count": null,
      "outputs": [
        {
          "output_type": "stream",
          "text": [
            "Shape: of video:  (421, 480, 640, 3)  avg framerate:  30  number of frames:  421\n",
            "0.35   168    224    56    28\n",
            "(224, 224, 3)\n",
            "(480, 640, 3)\n",
            "(168, 224, 3)\n",
            "1.0\n",
            "(168, 224, 3)\n",
            "[[[130.37244898 147.37244898 167.37244898]\n",
            "  [124.65816327 141.60204082 161.60204082]\n",
            "  [184.35714286 196.83163265 211.61734694]\n",
            "  ...\n",
            "  [188.92857143 231.07142857 253.        ]\n",
            "  [176.66836735 224.75510204 248.54081633]\n",
            "  [131.53571429 179.67346939 215.52040816]]\n",
            "\n",
            " [[106.32653061 123.32653061 143.32653061]\n",
            "  [115.71428571 132.71428571 152.71428571]\n",
            "  [189.64285714 202.57653061 217.08163265]\n",
            "  ...\n",
            "  [167.98469388 202.47959184 231.05102041]\n",
            "  [165.74489796 202.43367347 230.31122449]\n",
            "  [125.54081633 161.88265306 195.54081633]]\n",
            "\n",
            " [[122.06632653 134.78061224 153.1377551 ]\n",
            "  [106.32142857 119.54081633 137.89795918]\n",
            "  [134.85204082 150.26530612 167.39285714]\n",
            "  ...\n",
            "  [112.02040816 142.60714286 176.30612245]\n",
            "  [124.57653061 154.14795918 180.93877551]\n",
            "  [132.16326531 162.52040816 183.54591837]]\n",
            "\n",
            " ...\n",
            "\n",
            " [[ 11.          16.          22.        ]\n",
            "  [ 11.78571429  16.78571429  22.78571429]\n",
            "  [ 17.27040816  22.27040816  28.68367347]\n",
            "  ...\n",
            "  [ 21.87244898  21.45918367  18.87244898]\n",
            "  [ 26.1377551   26.1377551   23.1377551 ]\n",
            "  [ 21.          21.          18.        ]]\n",
            "\n",
            " [[ 11.21428571  16.21428571  22.21428571]\n",
            "  [ 12.          17.          23.        ]\n",
            "  [ 14.07142857  19.07142857  25.57653061]\n",
            "  ...\n",
            "  [ 30.56632653  30.56632653  27.56632653]\n",
            "  [ 20.94897959  20.94897959  17.94897959]\n",
            "  [ 17.14285714  17.14285714  14.14285714]]\n",
            "\n",
            " [[ 18.14285714  23.14285714  29.14285714]\n",
            "  [ 18.14285714  23.14285714  29.14285714]\n",
            "  [ 19.66836735  24.66836735  31.66836735]\n",
            "  ...\n",
            "  [ 20.92857143  20.92857143  17.92857143]\n",
            "  [ 12.78571429  12.78571429   9.78571429]\n",
            "  [ 14.          14.          11.        ]]]\n"
          ],
          "name": "stdout"
        }
      ]
    },
    {
      "cell_type": "markdown",
      "metadata": {
        "id": "jtz7uTX0UtE7"
      },
      "source": [
        "video.shape ##ndarray of dimension (T, M, N, C), where T is the number of frames, M is the height, N is width, and C is depth.\n",
        "vid_in = skvideo.io.FFmpegReader('YouTubeClips/-_aaMGK6GGw_57_61.avi')\n",
        "data = skvideo.io.ffprobe('YouTubeClips/-_aaMGK6GGw_57_61.avi')['video']\n",
        "rate = data[vid_in.INFO_AVERAGE_FRAMERATE]\n",
        "T = np.int(data[vid_in.INFO_NB_FRAMES])"
      ]
    },
    {
      "cell_type": "code",
      "metadata": {
        "id": "U69198cOpxAT"
      },
      "source": [
        "vid_out = skvideo.io.FFmpegWriter('YouTubeClips/ri5AyXzxb4o_201_215.avi', inputdict={\n",
        "      '-r': rate,\n",
        "    },\n",
        "    outputdict={\n",
        "      '-vcodec': 'libx264',\n",
        "      '-pix_fmt': 'yuv420p',\n",
        "      '-r': rate,\n",
        "})"
      ],
      "execution_count": null,
      "outputs": []
    },
    {
      "cell_type": "markdown",
      "metadata": {
        "id": "g1jEu_Mp1kMT"
      },
      "source": [
        "https://docs.opencv.org/3.4/d4/d15/group__videoio__flags__base.html#ggaeb8dd9c89c10a5c63c139bf7c4f5704da7c2fa550ba270713fca1405397b90ae0\n",
        "\n",
        " cv::CAP_PROP_POS_FRAMES =1,\n",
        "  cv::CAP_PROP_POS_AVI_RATIO =2,\n",
        "  cv::CAP_PROP_FRAME_WIDTH =3,\n",
        "  cv::CAP_PROP_FRAME_HEIGHT =4,\n",
        "  cv::CAP_PROP_FPS =5,"
      ]
    },
    {
      "cell_type": "code",
      "metadata": {
        "id": "vVf5oNj6Byfj",
        "outputId": "7ed9d154-2079-45b3-898e-5c145b0ffd2d",
        "colab": {
          "base_uri": "https://localhost:8080/",
          "height": 277
        }
      },
      "source": [
        "video = 'YouTubeClips/ri5AyXzxb4o_201_215.avi'\n",
        "extract_frames(video)"
      ],
      "execution_count": null,
      "outputs": [
        {
          "output_type": "stream",
          "text": [
            "frameRate  30.0\n",
            "selected  0.0\n",
            "selected  30.0\n",
            "selected  60.0\n",
            "selected  90.0\n",
            "selected  120.0\n",
            "selected  150.0\n",
            "selected  180.0\n",
            "selected  210.0\n",
            "selected  240.0\n",
            "selected  270.0\n",
            "selected  300.0\n",
            "selected  330.0\n",
            "selected  360.0\n",
            "selected  390.0\n",
            "selected  420.0\n"
          ],
          "name": "stdout"
        }
      ]
    },
    {
      "cell_type": "code",
      "metadata": {
        "id": "XKw922AEBCtW"
      },
      "source": [
        "\n",
        "videogen = skvideo.io.vread(video)\n",
        "videometadata = skvideo.io.ffprobe(video)['video']"
      ],
      "execution_count": null,
      "outputs": []
    },
    {
      "cell_type": "code",
      "metadata": {
        "id": "vox08ukJBD0J",
        "outputId": "f98b0389-4069-4af4-bb99-736d208ae463",
        "colab": {
          "base_uri": "https://localhost:8080/",
          "height": 33
        }
      },
      "source": [
        "import numpy as np\n",
        "\n",
        "int(eval(videometadata['@avg_frame_rate']))\n"
      ],
      "execution_count": null,
      "outputs": [
        {
          "output_type": "execute_result",
          "data": {
            "text/plain": [
              "30"
            ]
          },
          "metadata": {
            "tags": []
          },
          "execution_count": 43
        }
      ]
    },
    {
      "cell_type": "code",
      "metadata": {
        "id": "neD4oWot5TaS",
        "outputId": "f3907b10-7267-4a20-b885-5183252f010b",
        "colab": {
          "base_uri": "https://localhost:8080/",
          "height": 50
        }
      },
      "source": [
        "video = 'YouTubeClips/ri5AyXzxb4o_201_215.avi'\n",
        "videogen = skvideo.io.vread(video)\n",
        "videometadata = skvideo.io.ffprobe(video)\n",
        "frame_rate = int(eval(videometadata['video']['@avg_frame_rate']))\n",
        "num_frames = np.int(videometadata['video']['@nb_frames'])\n",
        "print(num_frames)\n",
        "print(frame_rate)\n",
        "for i in range(0,num_frames): \n",
        "  if(i%frame_rate==0):\n",
        "    frame = cv2.cvtColor(videogen[i],cv2.COLOR_BGR2RGB) #this code do color conversion\n",
        "    filename=str(frame_dir)+'\\\\'+str(i)+\".jpg\"\n",
        "    cv2.imwrite(filename,frame)\n",
        "    #cv2_imshow(videogen[i])\n",
        "    if cv2.waitKey(1) & 0xFF == ord('q'):\n",
        "        break\n",
        "cv2.destroyAllWindows()"
      ],
      "execution_count": null,
      "outputs": [
        {
          "output_type": "stream",
          "text": [
            "421\n",
            "30\n"
          ],
          "name": "stdout"
        }
      ]
    },
    {
      "cell_type": "code",
      "metadata": {
        "id": "LM_UTHawYsPV"
      },
      "source": [
        "from keras.applications.vgg16 import VGG16\n",
        "from keras.applications.vgg16 import preprocess_input\n",
        "from keras.applications.vgg16 import decode_predictions\n",
        "from keras.preprocessing.image import load_img\n",
        "import skvideo.io\n",
        "#skvideo.setFFmpegPath('/opt/conda/lib/python3.6/dist-packages/ffmpeg/')\n",
        "from skimage.transform import resize\n",
        "\n",
        "from sys import path as spath\n",
        "spath.append('/kaggle/input')\n",
        "import custom_plots\n",
        "\n",
        "model = VGG16()\n",
        "print(model.summary())\n",
        "\n",
        "infile = '/kaggle/input/llama.mp4'\n",
        "videodata = skvideo.io.vread(infile)\n",
        "N_frames, rows, cols, channels = videodata.shape\n",
        "# The image must be 224x224 pixels in order to input to the model, but our image is not\n",
        "# square. Solution: Create a blank (all-zeros) image, resize the width of our image to 224, and the\n",
        "# resize the height by the same factor used to resize the width. Then place this into the blank,\n",
        "# square one. There will be black bars at the top and bottom of the square input image because our\n",
        "# frame width is greater than its height, but this will not affect our classifier.\n",
        "input_rows, input_cols = (224, 224)\n",
        "Img = np.zeros((input_rows, input_cols, channels), np.uint8)\n",
        "horz_scaling = input_cols/cols\n",
        "rz_rows = int(rows * horz_scaling)\n",
        "rz_cols = input_cols\n",
        "nb_blank_rows = input_rows - rz_rows\n",
        "blank_height = nb_blank_rows // 2\n",
        "\n",
        "for iframe in range(N_frames):\n",
        "    if iframe%10==0: # let's skip some of the frames, reading only every 10th\n",
        "        imgnumb = str(iframe).zfill(4)\n",
        "        \n",
        "        # get the current frame and resize\n",
        "        Input = videodata[iframe,:,:,:] # shape = (480, 854, 3)\n",
        "        Input = resize(Input, (rz_rows, rz_cols, channels))\n",
        "        \n",
        "        # resize made the image a float, so convert back to uint8\n",
        "        maxval = np.max(Input)\n",
        "        Input /= maxval\n",
        "        Input *= 255\n",
        "        Input = Input.astype(np.uint8)\n",
        "        \n",
        "        # insert the frame image into the blank square image\n",
        "        Img[blank_height:blank_height+rz_rows, :] = Input\n",
        "        \n",
        "        # optional - show the frames\n",
        "        custom_plots.show_img(Img, imgnumb, pause=True)\n",
        "        \n",
        "        # input the frame data into the model and get the classification result\n",
        "        Input = np.expand_dims(Img, axis=0)\n",
        "        # image pixel values need to normalized the same way as the ImageNet training data the model was trained on\n",
        "        Input = preprocess_input(Input)\n",
        "        pred = model.predict(Input)\n",
        "        label = decode_predictions(pred)\n",
        "        label = label[0][0]\n",
        "        print(f'frame: {iframe} | prediction: {label[1] }{label[2]*100:0.2f}')"
      ],
      "execution_count": null,
      "outputs": []
    },
    {
      "cell_type": "code",
      "metadata": {
        "id": "r7wV379J-Dsd",
        "outputId": "c9f6b88d-c05a-4d42-cd5c-f83d6394c282",
        "colab": {
          "base_uri": "https://localhost:8080/",
          "height": 321
        }
      },
      "source": [
        "from IPython.display import YouTubeVideo\n",
        "YouTubeVideo('EsceiAe1B6w')"
      ],
      "execution_count": null,
      "outputs": [
        {
          "output_type": "execute_result",
          "data": {
            "text/html": [
              "\n",
              "        <iframe\n",
              "            width=\"400\"\n",
              "            height=\"300\"\n",
              "            src=\"https://www.youtube.com/embed/EsceiAe1B6w\"\n",
              "            frameborder=\"0\"\n",
              "            allowfullscreen\n",
              "        ></iframe>\n",
              "        "
            ],
            "text/plain": [
              "<IPython.lib.display.YouTubeVideo at 0x7fcc8621fa90>"
            ],
            "image/jpeg": "[encoded data removed]"
          },
          "metadata": {
            "tags": []
          },
          "execution_count": 5
        }
      ]
    },
    {
      "cell_type": "markdown",
      "metadata": {
        "id": "KSYFsKlluwAg"
      },
      "source": [
        "Can use later as a \n",
        "Reference : https://colab.research.google.com/drive/1l09j_Yv3H016EqHyrJUe_0mNah1M80qf\n",
        "\n",
        "\n",
        "Some good articles:\n",
        "Simple code to ope drive files in colab\n",
        "https://medium.com/ml-book/simplest-way-to-open-files-from-google-drive-in-google-colab-fae14810674"
      ]
    },
    {
      "cell_type": "markdown",
      "metadata": {
        "id": "xcgse_iAhkWC"
      },
      "source": [
        "STREAM SELECTION                                                 \n",
        "       By default, ffmpeg includes only one stream of each type  \n",
        "       (video, audio, subtitle) present in the input files and   \n",
        "       adds them to each output file.  It picks the \"best\" of    \n",
        "       each based upon the following criteria: for video, it is  \n",
        "       the stream with the highest resolution, for audio, it is  \n",
        "       the stream with the most channels, for subtitles, it is   \n",
        "       the first subtitle stream. In the case where several      \n",
        "       streams of the same type rate equally, the stream with the\n",
        "       lowest index is chosen.\n",
        "\n",
        "r_frame_rate is \"the lowest framerate with which all timestamps can be represented accurately (it is the least common multiple of all framerates in the stream).\"\n",
        "\n",
        "avg_frame_rate is just that: total duration / total # of frames\n",
        "\n",
        "You can just specify -r 30000/1001 to maintain the average rate (near-abouts). You don't specify which format you're outputting to, but for MP4, ffmpeg defaults to constant-frame rate, where it picks r_frame_rate as the value. It will then duplicate or drop frames to keep that rate. Use -vsync vfr to keep the variable rate."
      ]
    },
    {
      "cell_type": "markdown",
      "metadata": {
        "id": "96rVaH8SHjLS"
      },
      "source": [
        "https://stackoverflow.com/questions/42798634/extracting-keyframes-python-opencv"
      ]
    },
    {
      "cell_type": "code",
      "metadata": {
        "id": "ihvHoRcKHgJ8"
      },
      "source": [
        "import cv2\n",
        "import numpy as np\n",
        "\n",
        "video_path = \"/Users/anmoluppal/Downloads/SampleVideo_1280x720_1mb.mp4\"\n",
        "p_frame_thresh = 300000 # You may need to adjust this threshold\n",
        "\n",
        "cap = cv2.VideoCapture(video_path)\n",
        "# Read the first frame.\n",
        "ret, prev_frame = cap.read()\n",
        "\n",
        "while ret:\n",
        "    ret, curr_frame = cap.read()\n",
        "\n",
        "    if ret:\n",
        "        diff = cv2.absdiff(curr_frame, prev_frame)\n",
        "        non_zero_count = np.count_nonzero(diff)\n",
        "        if non_zero_count > p_frame_thresh:\n",
        "            print \"Got P-Frame\"\n",
        "        prev_frame = curr_frame"
      ],
      "execution_count": null,
      "outputs": []
    }
  ]
}