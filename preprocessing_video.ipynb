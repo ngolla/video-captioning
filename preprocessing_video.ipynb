{
  "nbformat": 4,
  "nbformat_minor": 0,
  "metadata": {
    "colab": {
      "name": "Copy of preprocessing-video.ipynb",
      "provenance": [],
      "collapsed_sections": [],
      "toc_visible": true,
      "include_colab_link": true
    },
    "kernelspec": {
      "name": "python3",
      "display_name": "Python 3"
    }
  },
  "cells": [
    {
      "cell_type": "markdown",
      "metadata": {
        "id": "view-in-github",
        "colab_type": "text"
      },
      "source": [
        "<a href=\"https://colab.research.google.com/github/ngolla/video-captioning/blob/master/preprocessing_video.ipynb\" target=\"_parent\"><img src=\"https://colab.research.google.com/assets/colab-badge.svg\" alt=\"Open In Colab\"/></a>"
      ]
    },
    {
      "cell_type": "code",
      "metadata": {
        "id": "N5Y9gdCLqsoR"
      },
      "source": [
        "#Load data from link\n",
        "# !wget http://www.cs.utexas.edu/users/ml/clamp/videoDescription/YouTubeClips.tar"
      ],
      "execution_count": null,
      "outputs": []
    },
    {
      "cell_type": "code",
      "metadata": {
        "id": "fDLybNDqScKw",
        "outputId": "d8218bee-b014-4039-ff0a-4b09a2fdf650",
        "colab": {
          "base_uri": "https://localhost:8080/",
          "height": 167
        }
      },
      "source": [
        "!pip install scikit-video\n",
        "#video =skvideo.io.vread('YouTubeClips/-_aaMGK6GGw_57_61.avi')"
      ],
      "execution_count": 1,
      "outputs": [
        {
          "output_type": "stream",
          "text": [
            "Collecting scikit-video\n",
            "\u001b[?25l  Downloading https://files.pythonhosted.org/packages/b1/a6/c69cad508139a342810ae46e946ebb3256aa6e42f690d901bb68f50582e3/scikit_video-1.1.11-py2.py3-none-any.whl (2.3MB)\n",
            "\u001b[K     |████████████████████████████████| 2.3MB 2.7MB/s \n",
            "\u001b[?25hRequirement already satisfied: pillow in /usr/local/lib/python3.6/dist-packages (from scikit-video) (7.0.0)\n",
            "Requirement already satisfied: scipy in /usr/local/lib/python3.6/dist-packages (from scikit-video) (1.4.1)\n",
            "Requirement already satisfied: numpy in /usr/local/lib/python3.6/dist-packages (from scikit-video) (1.18.5)\n",
            "Installing collected packages: scikit-video\n",
            "Successfully installed scikit-video-1.1.11\n"
          ],
          "name": "stdout"
        }
      ]
    },
    {
      "cell_type": "code",
      "metadata": {
        "id": "hbzQOPTSX3xe"
      },
      "source": [
        "import math\n",
        "import cv2\n",
        "from pathlib import Path\n",
        "from google.colab import drive\n",
        "import numpy as np\n",
        "#import skvideo.io \n",
        "import shutil\n",
        "#from google.colab.patches import cv2_imshow"
      ],
      "execution_count": 1,
      "outputs": []
    },
    {
      "cell_type": "code",
      "metadata": {
        "id": "iNnxijnDrVQB",
        "outputId": "3e327772-14eb-4478-df66-65df81051a21",
        "colab": {
          "base_uri": "https://localhost:8080/",
          "height": 33
        }
      },
      "source": [
        "\n",
        "drive.mount('/content/drive')"
      ],
      "execution_count": 2,
      "outputs": [
        {
          "output_type": "stream",
          "text": [
            "Mounted at /content/drive\n"
          ],
          "name": "stdout"
        }
      ]
    },
    {
      "cell_type": "code",
      "metadata": {
        "id": "tCK0iGCerChh",
        "outputId": "46c1871e-3755-417d-957f-8d9412dcc145",
        "colab": {
          "base_uri": "https://localhost:8080/",
          "height": 33
        }
      },
      "source": [
        "!ls \"/content/drive/My Drive\""
      ],
      "execution_count": null,
      "outputs": [
        {
          "output_type": "stream",
          "text": [
            "'Colab Notebooks'   VideoArrays   YouTubeClips.tar\n"
          ],
          "name": "stdout"
        }
      ]
    },
    {
      "cell_type": "code",
      "metadata": {
        "id": "i8Op_c4Msi70"
      },
      "source": [
        "drive_path=Path(\"/content/drive/My Drive\")"
      ],
      "execution_count": 3,
      "outputs": []
    },
    {
      "cell_type": "code",
      "metadata": {
        "id": "UqOatm_wsoyo"
      },
      "source": [
        "list(drive_path.glob('*'))\n",
        "vid_dim_path=drive_path.joinpath('VideoArrays')\n",
        "#vid_dim_path.mkdir()"
      ],
      "execution_count": 4,
      "outputs": []
    },
    {
      "cell_type": "code",
      "metadata": {
        "id": "te2AD7WC6IZe",
        "outputId": "6b774656-e578-45af-9546-b268d1a98649",
        "colab": {
          "base_uri": "https://localhost:8080/",
          "height": 33
        }
      },
      "source": [
        "len(list(vid_dim_path.glob('*')))"
      ],
      "execution_count": 5,
      "outputs": [
        {
          "output_type": "execute_result",
          "data": {
            "text/plain": [
              "1969"
            ]
          },
          "metadata": {
            "tags": []
          },
          "execution_count": 5
        }
      ]
    },
    {
      "cell_type": "code",
      "metadata": {
        "id": "hgL1xnbjXjpe"
      },
      "source": [
        "filei=vid_dim_path.joinpath('ri5AyXzxb4o_201_215.npy')\n",
        "numparray=np.load(str())\n",
        "numparray.shape"
      ],
      "execution_count": null,
      "outputs": []
    },
    {
      "cell_type": "markdown",
      "metadata": {
        "id": "BxEnzKoKlBnE"
      },
      "source": [
        "Extract videos from the tar file"
      ]
    },
    {
      "cell_type": "code",
      "metadata": {
        "id": "8QU8kXd4r9_c"
      },
      "source": [
        "def tar_to_dir():\n",
        "  !tar xf \"/content/drive/My Drive/YouTubeClips.tar\""
      ],
      "execution_count": 6,
      "outputs": []
    },
    {
      "cell_type": "code",
      "metadata": {
        "id": "jdJYTs8Pi6yI",
        "outputId": "e6b6c537-e0b7-4a57-868f-8cd6b78e9c95",
        "colab": {
          "base_uri": "https://localhost:8080/",
          "height": 33
        }
      },
      "source": [
        "pdir=Path('YouTubeClips/')\n",
        "if pdir.is_dir() and len(list(pdir.glob('*'))) >0 :\n",
        "  vlen=len(list(pdir.glob('*')))\n",
        "  print(str(pdir) + ' has all the video files ' + str(vlen))\n",
        "else:\n",
        "  tar_to_dir()\n",
        "  print('Youtube video files created ', len(list(pdir.glob('*'))))"
      ],
      "execution_count": 7,
      "outputs": [
        {
          "output_type": "stream",
          "text": [
            "Youtube video files created  1970\n"
          ],
          "name": "stdout"
        }
      ]
    },
    {
      "cell_type": "code",
      "metadata": {
        "id": "Zj_uibhwt8Lu",
        "outputId": "2101f627-7f43-4303-cee5-a8138e354d4e",
        "colab": {
          "base_uri": "https://localhost:8080/",
          "height": 33
        }
      },
      "source": [
        "#This is to count number of videos in the directory #https://devconnected.com/how-to-count-files-in-directory-on-linux/ reference\n",
        "#!ls YouTubeClips/ | wc -l\n",
        "\n",
        "#import os\n",
        "#video_ids=list(os.listdir(path='YouTubeClips/'))\n",
        "#print(len(video_ids))\n",
        "\n",
        "len(list(pdir.glob('*')))"
      ],
      "execution_count": 8,
      "outputs": [
        {
          "output_type": "execute_result",
          "data": {
            "text/plain": [
              "1970"
            ]
          },
          "metadata": {
            "tags": []
          },
          "execution_count": 8
        }
      ]
    },
    {
      "cell_type": "code",
      "metadata": {
        "id": "CinjxNjNX8-W",
        "outputId": "b7ebb99c-24c3-4339-b046-0e9b9669a0a9",
        "colab": {
          "base_uri": "https://localhost:8080/",
          "height": 212
        }
      },
      "source": [
        "print('A video of videoID -_hbPLsZvvo* has ',len(list(pdir.glob('**/-_hbPLsZvvo*.avi'))),' chunks')\n",
        "list(pdir.glob('**/-_hbPLsZvvo*.avi'))"
      ],
      "execution_count": 28,
      "outputs": [
        {
          "output_type": "stream",
          "text": [
            "A video of videoID -_hbPLsZvvo* has  11  chunks\n"
          ],
          "name": "stdout"
        },
        {
          "output_type": "execute_result",
          "data": {
            "text/plain": [
              "[PosixPath('YouTubeClips/-_hbPLsZvvo_269_275.avi'),\n",
              " PosixPath('YouTubeClips/-_hbPLsZvvo_19_26.avi'),\n",
              " PosixPath('YouTubeClips/-_hbPLsZvvo_172_179.avi'),\n",
              " PosixPath('YouTubeClips/-_hbPLsZvvo_43_55.avi'),\n",
              " PosixPath('YouTubeClips/-_hbPLsZvvo_18_25.avi'),\n",
              " PosixPath('YouTubeClips/-_hbPLsZvvo_49_55.avi'),\n",
              " PosixPath('YouTubeClips/-_hbPLsZvvo_323_328.avi'),\n",
              " PosixPath('YouTubeClips/-_hbPLsZvvo_5_8.avi'),\n",
              " PosixPath('YouTubeClips/-_hbPLsZvvo_19_25.avi'),\n",
              " PosixPath('YouTubeClips/-_hbPLsZvvo_288_305.avi'),\n",
              " PosixPath('YouTubeClips/-_hbPLsZvvo_211_219.avi')]"
            ]
          },
          "metadata": {
            "tags": []
          },
          "execution_count": 28
        }
      ]
    },
    {
      "cell_type": "code",
      "metadata": {
        "id": "1HctIIQlNnnC",
        "outputId": "adb9409e-d938-4fb5-d07c-c24c4c3a2858",
        "colab": {
          "base_uri": "https://localhost:8080/",
          "height": 33
        }
      },
      "source": [
        "#Path('frames').mkdir()\n",
        "frame_dir=Path('frames')\n",
        "len(list(frame_dir.glob('*')))\n",
        "#frame_dir.rmdir()"
      ],
      "execution_count": 9,
      "outputs": [
        {
          "output_type": "execute_result",
          "data": {
            "text/plain": [
              "0"
            ]
          },
          "metadata": {
            "tags": []
          },
          "execution_count": 9
        }
      ]
    },
    {
      "cell_type": "markdown",
      "metadata": {
        "id": "upaC_Yadnz1t"
      },
      "source": [
        "#Remove frames directory, since numpy arrays are generated, frames are not necessary"
      ]
    },
    {
      "cell_type": "code",
      "metadata": {
        "id": "JSaEIc29qu-5"
      },
      "source": [
        "from keras.applications.vgg16 import VGG16\n",
        "from keras.models import Model \n",
        "import time\n",
        "#Defining few variables\n",
        "img_dim=224 # image height and width 224 by 224\n",
        "channels=3 # three channesl RGB\n",
        "batch_size=128 # batch normalization\n",
        "frames_step=80 # select 80 frames\n",
        "\n",
        "#load image adjust to the dimensions mentioned\n",
        "def load_image(path):\n",
        "    img = cv2.imread(str(path))\n",
        "    img = cv2.resize(img,(img_dim,img_dim))\n",
        "    return img\n",
        "\n",
        "#Transfer learning  using vgg16\n",
        "def model_cnn_load():\n",
        "    model = VGG16(weights = \"imagenet\", include_top=True,input_shape = (img_dim,img_dim,channels))\n",
        "    out = model.layers[-2].output\n",
        "    model_final = Model(inputs=model.input,outputs=out)\n",
        "    return model_final"
      ],
      "execution_count": 10,
      "outputs": []
    },
    {
      "cell_type": "code",
      "metadata": {
        "id": "1xXcDC2I_-m3"
      },
      "source": [
        "##It is saving the last frame every second. \n",
        "#If frame rate is 30 fps and x = 30 (it is the 30th frame), \n",
        "#it saves the image, one second later after another 30 frames, \n",
        "#it will once again save the frame. If it were not conditional, \n",
        "#it would try to write as many files per second \n",
        "#as the stream's fps which generally would clog the pipeline and hurt throughput.\n",
        "def extract_frames(video_path, v_dir):\n",
        "    cap = cv2.VideoCapture(video_path)\n",
        "    frameRate = cap.get(5) #frame rate\n",
        "    print('frameRate ',frameRate)\n",
        "    while(cap.isOpened()):\n",
        "        frameId = cap.get(1) #current frame number\n",
        "        #print('frameId ',frameId)\n",
        "        ret, frame = cap.read()\n",
        "        if (ret != True):\n",
        "            break\n",
        "        if (frameId % math.floor(frameRate) == 0):\n",
        "          frame_path=v_dir.joinpath(str(int(frameId))+'.jpg')\n",
        "          #frame_path.touch()\n",
        "          cv2.imwrite(str(frame_path), frame)\n",
        "    cap.release()\n",
        "    cv2.destroyAllWindows()"
      ],
      "execution_count": 11,
      "outputs": []
    },
    {
      "cell_type": "code",
      "metadata": {
        "id": "IxWEWD1LSg6A"
      },
      "source": [
        "def remove_dir(frame_dir):\n",
        "  shutil.rmtree(frame_dir, ignore_errors=True)"
      ],
      "execution_count": 12,
      "outputs": []
    },
    {
      "cell_type": "code",
      "metadata": {
        "id": "OWM4J1N98h55"
      },
      "source": [
        "video_df=pd.DataFrame(columns=['Name','no_frames', 'rows', 'cols'])"
      ],
      "execution_count": 52,
      "outputs": []
    },
    {
      "cell_type": "code",
      "metadata": {
        "id": "CZMblHq8wUmz"
      },
      "source": [
        "start_pc=time.perf_counter()\n",
        "start_pt=time.process_time()"
      ],
      "execution_count": 13,
      "outputs": []
    },
    {
      "cell_type": "code",
      "metadata": {
        "id": "C2Dz0VAFV7b-"
      },
      "source": [
        "#list(pdir.glob('**/*.avi'))\n",
        "from tqdm import tqdm\n",
        "import os"
      ],
      "execution_count": 14,
      "outputs": []
    },
    {
      "cell_type": "code",
      "metadata": {
        "id": "SLg3wwkSXuPC"
      },
      "source": [
        "processed_files=[x.stem for x in vid_dim_path.glob('*')]\n",
        "all_files=[x.stem for x in pdir.glob('*')]\n",
        "unprocess_files=[item for item in all_files if item not in processed_files]"
      ],
      "execution_count": 23,
      "outputs": []
    },
    {
      "cell_type": "code",
      "metadata": {
        "id": "3ik6HQV9Gnc1",
        "outputId": "cce7ee07-7e74-4eb3-ed46-d2aee0c2d4a1",
        "colab": {
          "base_uri": "https://localhost:8080/",
          "height": 66
        }
      },
      "source": [
        "print(len(processed_files))\n",
        "print(len(all_files))\n",
        "print(len(unprocess_files))\n",
        "#print(len(corpusVideoIds))"
      ],
      "execution_count": 24,
      "outputs": [
        {
          "output_type": "stream",
          "text": [
            "1970\n",
            "1970\n",
            "0\n"
          ],
          "name": "stdout"
        }
      ]
    },
    {
      "cell_type": "code",
      "metadata": {
        "id": "HHPys7wRavOk",
        "outputId": "0e338d17-5b21-4e8c-8989-357131b80090",
        "colab": {
          "base_uri": "https://localhost:8080/",
          "height": 50
        }
      },
      "source": [
        "model=model_cnn_load()\n",
        "def convert_vid_to_numpy(process_file):\n",
        "  print('Processing video: '+str(item)+\" - \"+str(item.name) + \" - \"+ str(item.stem))\n",
        "  videoName=item.stem\n",
        "  if(videoName in corpusVideoIds):\n",
        "    v_dir=frame_dir.joinpath(item.stem)\n",
        "    v_dir.mkdir(parents=True)\n",
        "    extract_frames(str(item), v_dir)\n",
        "    image_list=sorted(v_dir.glob('*.jpg')) #list of sorted key frames\n",
        "    samples = np.round(np.linspace(0, len(image_list) - 1, frames_step)) #evenly spaced numbers\n",
        "    image_list = [image_list[int(sample)] for sample in samples] #each sample of linspace\n",
        "    images = np.zeros((len(image_list), img_dim, img_dim, channels)) # empty image array\n",
        "    for i in range(len(image_list)):\n",
        "      img = load_image(image_list[i]) # load immage\n",
        "      images[i] = img  #save images as list\n",
        "    images = np.array(images)#convert to array of images\n",
        "    fc_feats = model.predict(images,batch_size) # predict dense features from model\n",
        "    img_feats = np.array(fc_feats) # save feature as array\n",
        "    outfile = vid_dim_path.joinpath(item.stem+'.npy')\n",
        "    np.save(str(outfile), img_feats) #save as file\n",
        "    remove_dir(v_dir) # remove video directory as we got numpy \n"
      ],
      "execution_count": 18,
      "outputs": [
        {
          "output_type": "stream",
          "text": [
            "Downloading data from https://storage.googleapis.com/tensorflow/keras-applications/vgg16/vgg16_weights_tf_dim_ordering_tf_kernels.h5\n",
            "553467904/553467096 [==============================] - 4s 0us/step\n"
          ],
          "name": "stdout"
        }
      ]
    },
    {
      "cell_type": "code",
      "metadata": {
        "id": "QEIK3xoEN5SB",
        "outputId": "7ba6132d-d9b1-41ec-d157-860d5139e20e",
        "colab": {
          "base_uri": "https://localhost:8080/",
          "height": 82
        }
      },
      "source": [
        "process_count=0\n",
        "for item in tqdm(pdir.glob('**/*.avi')):\n",
        "  if(item.stem in unprocess_files):\n",
        "    convert_vid_to_numpy(item)\n",
        "    process_count=process_count+1\n",
        "#shutil.rmtree(frame_dir, ignore_errors=True)\n",
        "print('Total number of videos processed '+str(process_count))"
      ],
      "execution_count": 19,
      "outputs": [
        {
          "output_type": "stream",
          "text": [
            "\r0it [00:00, ?it/s]"
          ],
          "name": "stderr"
        },
        {
          "output_type": "stream",
          "text": [
            "Processing video: YouTubeClips/jbzaMtPYtl8_48_58.avi - jbzaMtPYtl8_48_58.avi - jbzaMtPYtl8_48_58\n",
            "frameRate  29.97002997002997\n"
          ],
          "name": "stdout"
        },
        {
          "output_type": "stream",
          "text": [
            "1970it [00:28, 68.23it/s]"
          ],
          "name": "stderr"
        },
        {
          "output_type": "stream",
          "text": [
            "Total number of videos processed 1\n"
          ],
          "name": "stdout"
        },
        {
          "output_type": "stream",
          "text": [
            "\n"
          ],
          "name": "stderr"
        }
      ]
    },
    {
      "cell_type": "code",
      "metadata": {
        "id": "5y75NZivx-Y2"
      },
      "source": [
        "end_pc=time.perf_counter()\n",
        "end_pt=time.process_time()"
      ],
      "execution_count": 20,
      "outputs": []
    },
    {
      "cell_type": "code",
      "metadata": {
        "id": "pk3Gcqo20Juz",
        "outputId": "cafdb2a3-1a2d-4588-d322-19f9dd21d839",
        "colab": {
          "base_uri": "https://localhost:8080/",
          "height": 50
        }
      },
      "source": [
        "print(' Time taken to perf counter ', str(end_pc-start_pc))\n",
        "print(' Time taken to process time ', str(end_pt-start_pt))"
      ],
      "execution_count": 21,
      "outputs": [
        {
          "output_type": "stream",
          "text": [
            " Time taken to perf counter  165.35075651699998\n",
            " Time taken to process time  60.722307573\n"
          ],
          "name": "stdout"
        }
      ]
    },
    {
      "cell_type": "code",
      "metadata": {
        "id": "_x_oDq-HwOtt",
        "outputId": "53631f11-43b9-483d-bf2f-4828533c5b43",
        "colab": {
          "base_uri": "https://localhost:8080/",
          "height": 50
        }
      },
      "source": [
        "import time\n",
        "import pandas as pd\n",
        "from keras.applications.vgg16 import VGG16\n",
        "from keras.applications.vgg16 import preprocess_input\n",
        "from keras.applications.vgg16 import decode_predictions\n",
        "from keras.preprocessing.image import load_img\n",
        "import skvideo.io\n",
        "#skvideo.setFFmpegPath('/opt/conda/lib/python3.6/dist-packages/ffmpeg/')\n",
        "from skimage.transform import resize\n",
        "\n",
        "model = VGG16()"
      ],
      "execution_count": 38,
      "outputs": [
        {
          "output_type": "stream",
          "text": [
            "Downloading data from https://storage.googleapis.com/tensorflow/keras-applications/vgg16/vgg16_weights_tf_dim_ordering_tf_kernels.h5\n",
            "553467904/553467096 [==============================] - 5s 0us/step\n"
          ],
          "name": "stdout"
        }
      ]
    },
    {
      "cell_type": "code",
      "metadata": {
        "id": "A_l-wTsXnFbv",
        "outputId": "617375fb-9e92-4722-aa47-6aa6ba754728",
        "colab": {
          "base_uri": "https://localhost:8080/",
          "height": 228
        }
      },
      "source": [
        "for item in pdir.glob('**/*.avi'):\n",
        "  print('Processing video: '+str(item)+' - '+str(item.name)+' - '+str(item.stem))\n",
        "  process_each_video(str(item))\n",
        "  break"
      ],
      "execution_count": 47,
      "outputs": [
        {
          "output_type": "stream",
          "text": [
            "Processing video: YouTubeClips/WTf5EgVY5uU_94_98.avi - WTf5EgVY5uU_94_98.avi - WTf5EgVY5uU_94_98\n",
            "frame: 0 | prediction: Petri_dish82.06\n",
            "frame: 10 | prediction: Petri_dish97.08\n",
            "frame: 20 | prediction: Petri_dish59.88\n",
            "frame: 30 | prediction: Petri_dish70.84\n",
            "frame: 40 | prediction: Petri_dish39.61\n",
            "frame: 50 | prediction: Petri_dish43.90\n",
            "frame: 60 | prediction: Petri_dish20.29\n",
            "frame: 70 | prediction: Petri_dish41.40\n",
            "frame: 80 | prediction: Petri_dish99.33\n",
            "frame: 90 | prediction: Dandie_Dinmont29.15\n",
            "frame: 100 | prediction: Dandie_Dinmont33.05\n",
            "frame: 110 | prediction: Dandie_Dinmont18.68\n"
          ],
          "name": "stdout"
        }
      ]
    },
    {
      "cell_type": "code",
      "metadata": {
        "id": "T1lAsXIDztdh"
      },
      "source": [
        "def process_each_video(video_path):\n",
        "  videodata = skvideo.io.vread(video_path)\n",
        "  N_frames, rows, cols, channels = videodata.shape\n",
        "  video_df.append([video_path,N_frames, rows, cols])\n",
        "  input_rows, input_cols = (224, 224)\n",
        "  Img = np.zeros((input_rows, input_cols, channels), np.uint8)\n",
        "  horz_scaling = input_cols/cols\n",
        "  rz_rows = int(rows * horz_scaling)\n",
        "  rz_cols = input_cols\n",
        "  nb_blank_rows = input_rows - rz_rows\n",
        "  blank_height = nb_blank_rows // 2\n",
        "  for eachFrame in range(N_frames):\n",
        "    if eachFrame%10==0: # let's skip some of the frames, reading only every 10th\n",
        "      imgnumb = str(eachFrame).zfill(4)\n",
        "      # get the current frame and resize\n",
        "      Input = videodata[eachFrame,:,:,:] # shape = (480, 854, 3)\n",
        "      Input = resize(Input, (rz_rows, rz_cols, channels))\n",
        "        \n",
        "      # resize made the image a float, so convert back to uint8\n",
        "      maxval = np.max(Input)\n",
        "      Input /= maxval\n",
        "      Input *= 255\n",
        "      Input = Input.astype(np.uint8)\n",
        "        \n",
        "      # insert the frame image into the blank square image\n",
        "      Img[blank_height:blank_height+rz_rows, :] = Input\n",
        "      # input the frame data into the model and get the classification result\n",
        "      Input = np.expand_dims(Img, axis=0)\n",
        "      # image pixel values need to normalized the same way as the ImageNet training data the model was trained on\n",
        "      Input = preprocess_input(Input)\n",
        "      pred = model.predict(Input)\n",
        "      label = decode_predictions(pred)\n",
        "      label = label[0][0]\n",
        "      print(f'frame: {eachFrame} | prediction: {label[1] }{label[2]*100:0.2f}')"
      ],
      "execution_count": 46,
      "outputs": []
    },
    {
      "cell_type": "code",
      "metadata": {
        "id": "vDA-sRWt3iwR"
      },
      "source": [
        "from keras.applications.vgg16 import VGG16\n",
        "from keras.applications.vgg16 import preprocess_input\n",
        "from keras.applications.vgg16 import decode_predictions\n",
        "from keras.preprocessing.image import load_img\n",
        "import skvideo.io\n",
        "#skvideo.setFFmpegPath('/opt/conda/lib/python3.6/dist-packages/ffmpeg/')\n",
        "from skimage.transform import resize\n",
        "import custom_plots\n",
        "\n",
        "model = VGG16()\n",
        "print(model.summary())\n",
        "\n"
      ],
      "execution_count": null,
      "outputs": []
    },
    {
      "cell_type": "code",
      "metadata": {
        "id": "Des6Ufg4ZNif"
      },
      "source": [
        "def extract_dense_features(video):\n",
        "  videogen = skvideo.io.vread(video)\n",
        "  videometadata = skvideo.io.ffprobe(video)['video'] #key-value dictionary that has video details\n",
        "  rate = np.int(eval(videometadata['@avg_frame_rate'])) #frame rate i.e., no of frames per second ex: 30 frames per sec.\n",
        "  total_frames, rows, cols, channels = videogen.shape\n",
        "  print(\"Shape: of video: \",videogen.shape,' avg framerate: ', rate, ' number of frames: ', total_frames)\n",
        "  input_rows, input_cols=(224, 224)\n",
        "  frameImage = np.zeros((input_rows, input_cols, channels), np.uint8)\n",
        "  horz_scaling = input_cols/cols\n",
        "  rz_rows = int(rows * horz_scaling)\n",
        "  rz_cols = input_cols\n",
        "  nb_blank_rows = input_rows - rz_rows\n",
        "  blank_height = nb_blank_rows // 2 #similar to math.floor(blankrows/2)\n",
        "  print(horz_scaling, ' ', rz_rows, '  ', rz_cols, '  ', nb_blank_rows, '  ', blank_height)\n",
        "  print(frameImage.shape)\n",
        "  #for eachFrame in range(total_frames):\n",
        "  #  if eachFrame%rate==0:\n",
        "  frame=videogen[0]\n",
        "  print(frame.shape)\n",
        "  frame = resize(frame, (rz_rows, rz_cols, channels))\n",
        "  print(frame.shape)\n",
        "  # resize made the image a float, so convert back to uint8\n",
        "  maxval = np.max(frame)\n",
        "  print(maxval)\n",
        "  frame /= maxval\n",
        "  print(frame.shape)\n",
        "  frame *= 255\n",
        "  print(frame)\n",
        "  frame = frame.astype(np.uint8)"
      ],
      "execution_count": null,
      "outputs": []
    },
    {
      "cell_type": "code",
      "metadata": {
        "id": "0tQgczt4ZYrn",
        "outputId": "b8720616-ce1a-4186-ec91-ca13fb8798a3",
        "colab": {
          "base_uri": "https://localhost:8080/",
          "height": 927
        }
      },
      "source": [
        "video = 'YouTubeClips/ri5AyXzxb4o_201_215.avi'\n",
        "extract_dense_features(video)"
      ],
      "execution_count": null,
      "outputs": [
        {
          "output_type": "stream",
          "text": [
            "Shape: of video:  (421, 480, 640, 3)  avg framerate:  30  number of frames:  421\n",
            "0.35   168    224    56    28\n",
            "(224, 224, 3)\n",
            "(480, 640, 3)\n",
            "(168, 224, 3)\n",
            "1.0\n",
            "(168, 224, 3)\n",
            "[[[130.37244898 147.37244898 167.37244898]\n",
            "  [124.65816327 141.60204082 161.60204082]\n",
            "  [184.35714286 196.83163265 211.61734694]\n",
            "  ...\n",
            "  [188.92857143 231.07142857 253.        ]\n",
            "  [176.66836735 224.75510204 248.54081633]\n",
            "  [131.53571429 179.67346939 215.52040816]]\n",
            "\n",
            " [[106.32653061 123.32653061 143.32653061]\n",
            "  [115.71428571 132.71428571 152.71428571]\n",
            "  [189.64285714 202.57653061 217.08163265]\n",
            "  ...\n",
            "  [167.98469388 202.47959184 231.05102041]\n",
            "  [165.74489796 202.43367347 230.31122449]\n",
            "  [125.54081633 161.88265306 195.54081633]]\n",
            "\n",
            " [[122.06632653 134.78061224 153.1377551 ]\n",
            "  [106.32142857 119.54081633 137.89795918]\n",
            "  [134.85204082 150.26530612 167.39285714]\n",
            "  ...\n",
            "  [112.02040816 142.60714286 176.30612245]\n",
            "  [124.57653061 154.14795918 180.93877551]\n",
            "  [132.16326531 162.52040816 183.54591837]]\n",
            "\n",
            " ...\n",
            "\n",
            " [[ 11.          16.          22.        ]\n",
            "  [ 11.78571429  16.78571429  22.78571429]\n",
            "  [ 17.27040816  22.27040816  28.68367347]\n",
            "  ...\n",
            "  [ 21.87244898  21.45918367  18.87244898]\n",
            "  [ 26.1377551   26.1377551   23.1377551 ]\n",
            "  [ 21.          21.          18.        ]]\n",
            "\n",
            " [[ 11.21428571  16.21428571  22.21428571]\n",
            "  [ 12.          17.          23.        ]\n",
            "  [ 14.07142857  19.07142857  25.57653061]\n",
            "  ...\n",
            "  [ 30.56632653  30.56632653  27.56632653]\n",
            "  [ 20.94897959  20.94897959  17.94897959]\n",
            "  [ 17.14285714  17.14285714  14.14285714]]\n",
            "\n",
            " [[ 18.14285714  23.14285714  29.14285714]\n",
            "  [ 18.14285714  23.14285714  29.14285714]\n",
            "  [ 19.66836735  24.66836735  31.66836735]\n",
            "  ...\n",
            "  [ 20.92857143  20.92857143  17.92857143]\n",
            "  [ 12.78571429  12.78571429   9.78571429]\n",
            "  [ 14.          14.          11.        ]]]\n"
          ],
          "name": "stdout"
        }
      ]
    },
    {
      "cell_type": "code",
      "metadata": {
        "id": "Ym-c2I1XtpBj",
        "outputId": "dc639d82-fa52-4bfd-bd54-0db6d98789a5",
        "colab": {
          "base_uri": "https://localhost:8080/",
          "height": 50
        }
      },
      "source": [
        "model=model_cnn_load()"
      ],
      "execution_count": null,
      "outputs": [
        {
          "output_type": "stream",
          "text": [
            "Downloading data from https://storage.googleapis.com/tensorflow/keras-applications/vgg16/vgg16_weights_tf_dim_ordering_tf_kernels.h5\n",
            "553467904/553467096 [==============================] - 13s 0us/step\n"
          ],
          "name": "stdout"
        }
      ]
    },
    {
      "cell_type": "markdown",
      "metadata": {
        "id": "jtz7uTX0UtE7"
      },
      "source": [
        "video.shape ##ndarray of dimension (T, M, N, C), where T is the number of frames, M is the height, N is width, and C is depth.\n",
        "vid_in = skvideo.io.FFmpegReader('YouTubeClips/-_aaMGK6GGw_57_61.avi')\n",
        "data = skvideo.io.ffprobe('YouTubeClips/-_aaMGK6GGw_57_61.avi')['video']\n",
        "rate = data[vid_in.INFO_AVERAGE_FRAMERATE]\n",
        "T = np.int(data[vid_in.INFO_NB_FRAMES])"
      ]
    },
    {
      "cell_type": "code",
      "metadata": {
        "id": "U69198cOpxAT"
      },
      "source": [
        "vid_out = skvideo.io.FFmpegWriter('YouTubeClips/ri5AyXzxb4o_201_215.avi', inputdict={\n",
        "      '-r': rate,\n",
        "    },\n",
        "    outputdict={\n",
        "      '-vcodec': 'libx264',\n",
        "      '-pix_fmt': 'yuv420p',\n",
        "      '-r': rate,\n",
        "})"
      ],
      "execution_count": null,
      "outputs": []
    },
    {
      "cell_type": "markdown",
      "metadata": {
        "id": "g1jEu_Mp1kMT"
      },
      "source": [
        "https://docs.opencv.org/3.4/d4/d15/group__videoio__flags__base.html#ggaeb8dd9c89c10a5c63c139bf7c4f5704da7c2fa550ba270713fca1405397b90ae0\n",
        "\n",
        " cv::CAP_PROP_POS_FRAMES =1,\n",
        "  cv::CAP_PROP_POS_AVI_RATIO =2,\n",
        "  cv::CAP_PROP_FRAME_WIDTH =3,\n",
        "  cv::CAP_PROP_FRAME_HEIGHT =4,\n",
        "  cv::CAP_PROP_FPS =5,"
      ]
    },
    {
      "cell_type": "code",
      "metadata": {
        "id": "vVf5oNj6Byfj",
        "outputId": "7ed9d154-2079-45b3-898e-5c145b0ffd2d",
        "colab": {
          "base_uri": "https://localhost:8080/",
          "height": 277
        }
      },
      "source": [
        "video = 'YouTubeClips/ri5AyXzxb4o_201_215.avi'\n",
        "extract_frames(video)"
      ],
      "execution_count": null,
      "outputs": [
        {
          "output_type": "stream",
          "text": [
            "frameRate  30.0\n",
            "selected  0.0\n",
            "selected  30.0\n",
            "selected  60.0\n",
            "selected  90.0\n",
            "selected  120.0\n",
            "selected  150.0\n",
            "selected  180.0\n",
            "selected  210.0\n",
            "selected  240.0\n",
            "selected  270.0\n",
            "selected  300.0\n",
            "selected  330.0\n",
            "selected  360.0\n",
            "selected  390.0\n",
            "selected  420.0\n"
          ],
          "name": "stdout"
        }
      ]
    },
    {
      "cell_type": "code",
      "metadata": {
        "id": "XKw922AEBCtW"
      },
      "source": [
        "\n",
        "videogen = skvideo.io.vread(video)\n",
        "videometadata = skvideo.io.ffprobe(video)['video']"
      ],
      "execution_count": null,
      "outputs": []
    },
    {
      "cell_type": "code",
      "metadata": {
        "id": "vox08ukJBD0J",
        "outputId": "f98b0389-4069-4af4-bb99-736d208ae463",
        "colab": {
          "base_uri": "https://localhost:8080/",
          "height": 33
        }
      },
      "source": [
        "\n",
        "int(eval(videometadata['@avg_frame_rate']))\n"
      ],
      "execution_count": null,
      "outputs": [
        {
          "output_type": "execute_result",
          "data": {
            "text/plain": [
              "30"
            ]
          },
          "metadata": {
            "tags": []
          },
          "execution_count": 43
        }
      ]
    },
    {
      "cell_type": "code",
      "metadata": {
        "id": "neD4oWot5TaS",
        "outputId": "f3907b10-7267-4a20-b885-5183252f010b",
        "colab": {
          "base_uri": "https://localhost:8080/",
          "height": 50
        }
      },
      "source": [
        "video = 'YouTubeClips/ri5AyXzxb4o_201_215.avi'\n",
        "videogen = skvideo.io.vread(video)\n",
        "videometadata = skvideo.io.ffprobe(video)\n",
        "frame_rate = int(eval(videometadata['video']['@avg_frame_rate']))\n",
        "num_frames = np.int(videometadata['video']['@nb_frames'])\n",
        "print(num_frames)\n",
        "print(frame_rate)\n",
        "for i in range(0,num_frames): \n",
        "  if(i%frame_rate==0):\n",
        "    frame = cv2.cvtColor(videogen[i],cv2.COLOR_BGR2RGB) #this code do color conversion\n",
        "    filename=str(frame_dir)+'\\\\'+str(i)+\".jpg\"\n",
        "    cv2.imwrite(filename,frame)\n",
        "    #cv2_imshow(videogen[i])\n",
        "    if cv2.waitKey(1) & 0xFF == ord('q'):\n",
        "        break\n",
        "cv2.destroyAllWindows()"
      ],
      "execution_count": null,
      "outputs": [
        {
          "output_type": "stream",
          "text": [
            "421\n",
            "30\n"
          ],
          "name": "stdout"
        }
      ]
    },
    {
      "cell_type": "code",
      "metadata": {
        "id": "LM_UTHawYsPV"
      },
      "source": [
        "from keras.applications.vgg16 import VGG16\n",
        "from keras.applications.vgg16 import preprocess_input\n",
        "from keras.applications.vgg16 import decode_predictions\n",
        "from keras.preprocessing.image import load_img\n",
        "import skvideo.io\n",
        "#skvideo.setFFmpegPath('/opt/conda/lib/python3.6/dist-packages/ffmpeg/')\n",
        "from skimage.transform import resize\n",
        "\n",
        "from sys import path as spath\n",
        "spath.append('/kaggle/input')\n",
        "import custom_plots\n",
        "\n",
        "model = VGG16()\n",
        "print(model.summary())\n",
        "\n",
        "infile = '/kaggle/input/llama.mp4'\n",
        "videodata = skvideo.io.vread(infile)\n",
        "N_frames, rows, cols, channels = videodata.shape\n",
        "# The image must be 224x224 pixels in order to input to the model, but our image is not\n",
        "# square. Solution: Create a blank (all-zeros) image, resize the width of our image to 224, and the\n",
        "# resize the height by the same factor used to resize the width. Then place this into the blank,\n",
        "# square one. There will be black bars at the top and bottom of the square input image because our\n",
        "# frame width is greater than its height, but this will not affect our classifier.\n",
        "input_rows, input_cols = (224, 224)\n",
        "Img = np.zeros((input_rows, input_cols, channels), np.uint8)\n",
        "horz_scaling = input_cols/cols\n",
        "rz_rows = int(rows * horz_scaling)\n",
        "rz_cols = input_cols\n",
        "nb_blank_rows = input_rows - rz_rows\n",
        "blank_height = nb_blank_rows // 2\n",
        "\n",
        "for iframe in range(N_frames):\n",
        "    if iframe%10==0: # let's skip some of the frames, reading only every 10th\n",
        "        imgnumb = str(iframe).zfill(4)\n",
        "        \n",
        "        # get the current frame and resize\n",
        "        Input = videodata[iframe,:,:,:] # shape = (480, 854, 3)\n",
        "        Input = resize(Input, (rz_rows, rz_cols, channels))\n",
        "        \n",
        "        # resize made the image a float, so convert back to uint8\n",
        "        maxval = np.max(Input)\n",
        "        Input /= maxval\n",
        "        Input *= 255\n",
        "        Input = Input.astype(np.uint8)\n",
        "        \n",
        "        # insert the frame image into the blank square image\n",
        "        Img[blank_height:blank_height+rz_rows, :] = Input\n",
        "        \n",
        "        # optional - show the frames\n",
        "        custom_plots.show_img(Img, imgnumb, pause=True)\n",
        "        \n",
        "        # input the frame data into the model and get the classification result\n",
        "        Input = np.expand_dims(Img, axis=0)\n",
        "        # image pixel values need to normalized the same way as the ImageNet training data the model was trained on\n",
        "        Input = preprocess_input(Input)\n",
        "        pred = model.predict(Input)\n",
        "        label = decode_predictions(pred)\n",
        "        label = label[0][0]\n",
        "        print(f'frame: {iframe} | prediction: {label[1] }{label[2]*100:0.2f}')"
      ],
      "execution_count": null,
      "outputs": []
    },
    {
      "cell_type": "code",
      "metadata": {
        "id": "r7wV379J-Dsd",
        "outputId": "c9f6b88d-c05a-4d42-cd5c-f83d6394c282",
        "colab": {
          "base_uri": "https://localhost:8080/",
          "height": 321
        }
      },
      "source": [
        "from IPython.display import YouTubeVideo\n",
        "YouTubeVideo('EsceiAe1B6w')"
      ],
      "execution_count": null,
      "outputs": [
        {
          "output_type": "execute_result",
          "data": {
            "text/html": [
              "\n",
              "        <iframe\n",
              "            width=\"400\"\n",
              "            height=\"300\"\n",
              "            src=\"https://www.youtube.com/embed/EsceiAe1B6w\"\n",
              "            frameborder=\"0\"\n",
              "            allowfullscreen\n",
              "        ></iframe>\n",
              "        "
            ],
            "text/plain": [
              "<IPython.lib.display.YouTubeVideo at 0x7fcc8621fa90>"
            ],
            "image/jpeg": "[encoded data removed]"
          },
          "metadata": {
            "tags": []
          },
          "execution_count": 5
        }
      ]
    },
    {
      "cell_type": "markdown",
      "metadata": {
        "id": "KSYFsKlluwAg"
      },
      "source": [
        "Can use later as a \n",
        "Reference : https://colab.research.google.com/drive/1l09j_Yv3H016EqHyrJUe_0mNah1M80qf\n",
        "\n",
        "\n",
        "Some good articles:\n",
        "Simple code to ope drive files in colab\n",
        "https://medium.com/ml-book/simplest-way-to-open-files-from-google-drive-in-google-colab-fae14810674"
      ]
    },
    {
      "cell_type": "markdown",
      "metadata": {
        "id": "xcgse_iAhkWC"
      },
      "source": [
        "STREAM SELECTION                                                 \n",
        "       By default, ffmpeg includes only one stream of each type  \n",
        "       (video, audio, subtitle) present in the input files and   \n",
        "       adds them to each output file.  It picks the \"best\" of    \n",
        "       each based upon the following criteria: for video, it is  \n",
        "       the stream with the highest resolution, for audio, it is  \n",
        "       the stream with the most channels, for subtitles, it is   \n",
        "       the first subtitle stream. In the case where several      \n",
        "       streams of the same type rate equally, the stream with the\n",
        "       lowest index is chosen.\n",
        "\n",
        "r_frame_rate is \"the lowest framerate with which all timestamps can be represented accurately (it is the least common multiple of all framerates in the stream).\"\n",
        "\n",
        "avg_frame_rate is just that: total duration / total # of frames\n",
        "\n",
        "You can just specify -r 30000/1001 to maintain the average rate (near-abouts). You don't specify which format you're outputting to, but for MP4, ffmpeg defaults to constant-frame rate, where it picks r_frame_rate as the value. It will then duplicate or drop frames to keep that rate. Use -vsync vfr to keep the variable rate."
      ]
    },
    {
      "cell_type": "markdown",
      "metadata": {
        "id": "96rVaH8SHjLS"
      },
      "source": [
        "https://stackoverflow.com/questions/42798634/extracting-keyframes-python-opencv"
      ]
    },
    {
      "cell_type": "code",
      "metadata": {
        "id": "ihvHoRcKHgJ8"
      },
      "source": [
        "import cv2\n",
        "import numpy as np\n",
        "\n",
        "video_path = \"/Users/anmoluppal/Downloads/SampleVideo_1280x720_1mb.mp4\"\n",
        "p_frame_thresh = 300000 # You may need to adjust this threshold\n",
        "\n",
        "cap = cv2.VideoCapture(video_path)\n",
        "# Read the first frame.\n",
        "ret, prev_frame = cap.read()\n",
        "\n",
        "while ret:\n",
        "    ret, curr_frame = cap.read()\n",
        "\n",
        "    if ret:\n",
        "        diff = cv2.absdiff(curr_frame, prev_frame)\n",
        "        non_zero_count = np.count_nonzero(diff)\n",
        "        if non_zero_count > p_frame_thresh:\n",
        "            print \"Got P-Frame\"\n",
        "        prev_frame = curr_frame"
      ],
      "execution_count": null,
      "outputs": []
    },
    {
      "cell_type": "markdown",
      "metadata": {
        "id": "88DwnKglgxpH"
      },
      "source": [
        "#Text preprocessing\n"
      ]
    },
    {
      "cell_type": "code",
      "metadata": {
        "id": "IuZx0mCIVnm8"
      },
      "source": [
        "import pandas as pd\n"
      ],
      "execution_count": 19,
      "outputs": []
    },
    {
      "cell_type": "code",
      "metadata": {
        "id": "xmWbQyU4wC9p"
      },
      "source": [
        "def load_csv(file_name):\n",
        "  drive_path=Path(\"/content/drive/My Drive\")\n",
        "  corpus_file=drive_path.joinpath(file_name)\n",
        "  if(corpus_file.is_file()):\n",
        "    corpus_df=pd.read_csv(str(corpus_file))\n",
        "  else:\n",
        "    uploaded=files.upload()\n",
        "    corpus_df=pd.read_csv(io.BytesIO(uploaded[file_name]))\n",
        "    corpus_df.to_csv(corpus_file)\n",
        "  return corpus_df"
      ],
      "execution_count": 20,
      "outputs": []
    },
    {
      "cell_type": "code",
      "metadata": {
        "id": "vBrDyMex-YG-"
      },
      "source": [
        "annotations=load_csv('video_corpus.csv')"
      ],
      "execution_count": 21,
      "outputs": []
    },
    {
      "cell_type": "code",
      "metadata": {
        "id": "F2FaZuU5AsuU"
      },
      "source": [
        "english_ants=annotations[annotations['Language']=='English']\n",
        "english_ants=english_ants.drop(columns='Unnamed: 0')"
      ],
      "execution_count": 22,
      "outputs": []
    },
    {
      "cell_type": "code",
      "metadata": {
        "id": "zu409ECXCz0k",
        "outputId": "297228a2-70bf-45b1-ecb1-3039083d5a4a",
        "colab": {
          "base_uri": "https://localhost:8080/",
          "height": 440
        }
      },
      "source": [
        "cols = ['VideoID', 'Start', 'End']\n",
        "print(english_ants.groupby(by=cols)['Description'].count()) #Total number of corpus text for each video chunk\n",
        "print(english_ants.groupby(by='VideoID')['Description'].count() )"
      ],
      "execution_count": 23,
      "outputs": [
        {
          "output_type": "stream",
          "text": [
            "VideoID      Start  End\n",
            "-4wsuPCjDBc  5      15     29\n",
            "-7KMZQEsJW4  205    208    42\n",
            "-8rBYNP0UKM  50     82     52\n",
            "             194    201    56\n",
            "-8y1Q0rA3n8  95     102    27\n",
            "                           ..\n",
            "zulPFoY64wE  26     33     34\n",
            "zv2RIbUsnSw  159    162    25\n",
            "             335    341    28\n",
            "zxB4dFJhHR8  1      9      53\n",
            "zzit5b_-ukg  5      20     41\n",
            "Name: Description, Length: 2088, dtype: int64\n",
            "VideoID\n",
            "-4wsuPCjDBc     29\n",
            "-7KMZQEsJW4     42\n",
            "-8rBYNP0UKM    108\n",
            "-8y1Q0rA3n8     59\n",
            "-9CUm-2cui8     28\n",
            "              ... \n",
            "zuYZ5kPatJE     45\n",
            "zulPFoY64wE     34\n",
            "zv2RIbUsnSw     53\n",
            "zxB4dFJhHR8     53\n",
            "zzit5b_-ukg     41\n",
            "Name: Description, Length: 1586, dtype: int64\n"
          ],
          "name": "stdout"
        }
      ]
    },
    {
      "cell_type": "code",
      "metadata": {
        "id": "JVU-w7a8HDWS"
      },
      "source": [
        "def merge_rows(cols,df):\n",
        "  df=df.assign(AnnotationID=df[cols].apply(lambda row: '_'.join(row.values.astype(str)), axis=1))\n",
        "  return df"
      ],
      "execution_count": 24,
      "outputs": []
    },
    {
      "cell_type": "code",
      "metadata": {
        "id": "nRjH-rbzGL6c",
        "outputId": "ef70fd85-9630-4ac1-dd34-aaec56411986",
        "colab": {
          "base_uri": "https://localhost:8080/",
          "height": 33
        }
      },
      "source": [
        "english_ants=merge_rows(cols,english_ants)\n",
        "corpusVideoIds=english_ants['AnnotationID'].unique()\n",
        "len(corpusVideoIds)"
      ],
      "execution_count": 25,
      "outputs": [
        {
          "output_type": "execute_result",
          "data": {
            "text/plain": [
              "2088"
            ]
          },
          "metadata": {
            "tags": []
          },
          "execution_count": 25
        }
      ]
    }
  ]
}