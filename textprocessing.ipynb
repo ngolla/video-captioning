{
  "nbformat": 4,
  "nbformat_minor": 0,
  "metadata": {
    "colab": {
      "name": "Copy of example.ipynb",
      "provenance": [],
      "collapsed_sections": [],
      "authorship_tag": "ABX9TyOke7GDgW0DnApjYVM3EbSq",
      "include_colab_link": true
    },
    "kernelspec": {
      "name": "python3",
      "display_name": "Python 3"
    }
  },
  "cells": [
    {
      "cell_type": "markdown",
      "metadata": {
        "id": "view-in-github",
        "colab_type": "text"
      },
      "source": [
        "<a href=\"https://colab.research.google.com/github/ngolla/video-captioning/blob/master/textprocessing.ipynb\" target=\"_parent\"><img src=\"https://colab.research.google.com/assets/colab-badge.svg\" alt=\"Open In Colab\"/></a>"
      ]
    },
    {
      "cell_type": "code",
      "metadata": {
        "id": "b-HwjwCrwUyS"
      },
      "source": [
        "from google.colab import files\n",
        "from google.colab import drive\n",
        "from pathlib import Path\n",
        "import io\n",
        "import pandas as pd\n",
        "import numpy as np\n",
        "import string\n",
        "import time\n",
        "from tqdm import tqdm\n",
        "import pickle\n",
        "import numpy as np\n",
        "#import h5py"
      ],
      "execution_count": 44,
      "outputs": []
    },
    {
      "cell_type": "code",
      "metadata": {
        "id": "yqtYmuQhwmwr",
        "outputId": "9f9728a9-08d6-4c21-abf6-3968a0cbd4d5",
        "colab": {
          "base_uri": "https://localhost:8080/"
        }
      },
      "source": [
        "drive.mount('/content/drive')"
      ],
      "execution_count": 45,
      "outputs": [
        {
          "output_type": "stream",
          "text": [
            "Drive already mounted at /content/drive; to attempt to forcibly remount, call drive.mount(\"/content/drive\", force_remount=True).\n"
          ],
          "name": "stdout"
        }
      ]
    },
    {
      "cell_type": "code",
      "metadata": {
        "id": "nU-xqWg_w7Fa"
      },
      "source": [
        "drive_path=Path(\"/content/drive/My Drive\")"
      ],
      "execution_count": 46,
      "outputs": []
    },
    {
      "cell_type": "code",
      "metadata": {
        "id": "Rrv6eSCzwx5U"
      },
      "source": [
        "def load_csv(file_name, drive_path):\n",
        "  corpus_file=drive_path.joinpath(file_name)\n",
        "  if(corpus_file.is_file()):\n",
        "    corpus_df=pd.read_csv(str(corpus_file))\n",
        "  else:\n",
        "    uploaded=files.upload()\n",
        "    corpus_df=pd.read_csv(io.BytesIO(uploaded[file_name]))\n",
        "    corpus_df.to_csv(corpus_file)\n",
        "  return corpus_df"
      ],
      "execution_count": 47,
      "outputs": []
    },
    {
      "cell_type": "code",
      "metadata": {
        "id": "claMwqxSQwdn"
      },
      "source": [
        "annotations=load_csv('video_corpus.csv', drive_path)"
      ],
      "execution_count": 48,
      "outputs": []
    },
    {
      "cell_type": "code",
      "metadata": {
        "id": "SL0AbYH3xOb3"
      },
      "source": [
        "def extractBy(title, value, dataset):\n",
        "  return dataset[dataset[title]==value]"
      ],
      "execution_count": 49,
      "outputs": []
    },
    {
      "cell_type": "code",
      "metadata": {
        "id": "TrIz-gDCw-35"
      },
      "source": [
        "annotations=extractBy('Language','English', annotations)"
      ],
      "execution_count": 50,
      "outputs": []
    },
    {
      "cell_type": "code",
      "metadata": {
        "id": "znHg5mPuxRlU"
      },
      "source": [
        "def merge_rows(cols,df):\n",
        "  df=df.assign(AnnotationID=df[cols].apply(lambda row: '_'.join(row.values.astype(str)), axis=1))\n",
        "  return df"
      ],
      "execution_count": 51,
      "outputs": []
    },
    {
      "cell_type": "code",
      "metadata": {
        "id": "10bztjjwxbqp"
      },
      "source": [
        "cols = ['VideoID', 'Start', 'End']\n",
        "annotations=merge_rows(cols,annotations)"
      ],
      "execution_count": 52,
      "outputs": []
    },
    {
      "cell_type": "code",
      "metadata": {
        "id": "mtOQOljpxjis"
      },
      "source": [
        "annotations=annotations[['AnnotationID','Description']]"
      ],
      "execution_count": 53,
      "outputs": []
    },
    {
      "cell_type": "code",
      "metadata": {
        "id": "c5JGV7Q6x1LE",
        "outputId": "ebb627c1-3985-4bab-ffb4-cd69eae887de",
        "colab": {
          "base_uri": "https://localhost:8080/"
        }
      },
      "source": [
        "annotations.shape"
      ],
      "execution_count": 54,
      "outputs": [
        {
          "output_type": "execute_result",
          "data": {
            "text/plain": [
              "(85511, 2)"
            ]
          },
          "metadata": {
            "tags": []
          },
          "execution_count": 54
        }
      ]
    },
    {
      "cell_type": "code",
      "metadata": {
        "id": "zihwZzBfzEmz"
      },
      "source": [
        "def drop_nullvalues(df):\n",
        "  df=df.dropna()\n",
        "  return df"
      ],
      "execution_count": 55,
      "outputs": []
    },
    {
      "cell_type": "code",
      "metadata": {
        "id": "25q4nRtwzGyO"
      },
      "source": [
        "#Drop null values\n",
        "annotations=drop_nullvalues(annotations)"
      ],
      "execution_count": 56,
      "outputs": []
    },
    {
      "cell_type": "code",
      "metadata": {
        "id": "OYM9cs0azTqP"
      },
      "source": [
        "def convert_to_lower(data, title):\n",
        "  return [x.lower() for x in data[title]]"
      ],
      "execution_count": 57,
      "outputs": []
    },
    {
      "cell_type": "code",
      "metadata": {
        "id": "TGWUEBhVzXAN"
      },
      "source": [
        "annotations['Description'] = convert_to_lower(annotations, 'Description')"
      ],
      "execution_count": 58,
      "outputs": []
    },
    {
      "cell_type": "code",
      "metadata": {
        "id": "k9jZ2p5jzipY"
      },
      "source": [
        "# To remove punctuations\n",
        "def remove_punctuation(text_original):\n",
        "    text_no_punctuation = text_original.translate(string.punctuation)\n",
        "    return(text_no_punctuation)\n",
        "\n",
        "\n",
        "# To remove single characters\n",
        "def remove_single_character(text):\n",
        "    text_len_more_than1 = \"\"\n",
        "    for word in text.split():\n",
        "        if len(word) > 1:\n",
        "            text_len_more_than1 += \" \" + word\n",
        "    return(text_len_more_than1)\n",
        "\n",
        "# To remove numeric values\n",
        "def remove_numeric(text,printTF=False):\n",
        "    text_no_numeric = \"\"\n",
        "    for word in text.split():\n",
        "        isalpha = word.isalpha()\n",
        "        if printTF:\n",
        "            print(\"    {:10} : {:}\".format(word,isalpha))\n",
        "        if isalpha:\n",
        "            text_no_numeric += \" \" + word\n",
        "    return(text_no_numeric)\n",
        "def text_clean(text_original):\n",
        "    text = remove_punctuation(text_original)\n",
        "    text = remove_single_character(text)\n",
        "    text = remove_numeric(text)\n",
        "    return(text)"
      ],
      "execution_count": 59,
      "outputs": []
    },
    {
      "cell_type": "code",
      "metadata": {
        "id": "s8vzRLB7zmjF",
        "outputId": "748296aa-2b49-483d-f652-b0785d1bcc48",
        "colab": {
          "base_uri": "https://localhost:8080/"
        }
      },
      "source": [
        "for i, caption in tqdm(enumerate(annotations.Description.values),total=annotations.shape[0]):\n",
        "    newcaption = text_clean(caption)\n",
        "    annotations['Description'].iloc[i] = newcaption"
      ],
      "execution_count": 60,
      "outputs": [
        {
          "output_type": "stream",
          "text": [
            "100%|██████████| 85510/85510 [00:55<00:00, 1552.54it/s]\n"
          ],
          "name": "stderr"
        }
      ]
    },
    {
      "cell_type": "code",
      "metadata": {
        "id": "21CvLouxyjG0"
      },
      "source": [
        " def addPath(text_data,video_path):\n",
        "   text_data['VideoPath'] = text_data.apply(lambda row: row['AnnotationID']+'.npy', axis=1)\n",
        "   text_data['VideoPath'] = text_data['VideoPath'].map(lambda x: video_path.joinpath(x))\n",
        "   text_data = text_data[text_data['VideoPath'].map(lambda x: x.is_file())]\n",
        "   text_data = text_data[text_data['Description'].map(lambda x: isinstance(x, str))]\n",
        "   unique_filenames = sorted(text_data['VideoPath'].unique())\n",
        "   data = text_data[text_data['VideoPath'].map(lambda x: x in unique_filenames)]\n",
        "   return data"
      ],
      "execution_count": 61,
      "outputs": []
    },
    {
      "cell_type": "code",
      "metadata": {
        "id": "psWPWS3TyBLg"
      },
      "source": [
        "video_path=drive_path.joinpath('VideoArrays')\n",
        "annotations=addPath(annotations, video_path)"
      ],
      "execution_count": 62,
      "outputs": []
    },
    {
      "cell_type": "code",
      "metadata": {
        "id": "_Y5SgEST0NnV",
        "outputId": "ace8f285-894b-4c38-a31a-ebe19c498131",
        "colab": {
          "base_uri": "https://localhost:8080/"
        }
      },
      "source": [
        "print(len(list(np.unique(annotations['VideoPath']))))\n",
        "print(len(list(np.unique(annotations['AnnotationID']))))"
      ],
      "execution_count": 63,
      "outputs": [
        {
          "output_type": "stream",
          "text": [
            "1969\n",
            "1969\n"
          ],
          "name": "stdout"
        }
      ]
    },
    {
      "cell_type": "code",
      "metadata": {
        "id": "ikolvsVK0eUb",
        "outputId": "c694f162-adaa-4afd-a226-ff358ba8b41c",
        "colab": {
          "base_uri": "https://localhost:8080/"
        }
      },
      "source": [
        "annotations.shape"
      ],
      "execution_count": 64,
      "outputs": [
        {
          "output_type": "execute_result",
          "data": {
            "text/plain": [
              "(80799, 3)"
            ]
          },
          "metadata": {
            "tags": []
          },
          "execution_count": 64
        }
      ]
    },
    {
      "cell_type": "code",
      "metadata": {
        "id": "Phq6dgzNk986",
        "outputId": "560c984e-5280-4ef1-bcf7-42435c767a8e",
        "colab": {
          "base_uri": "https://localhost:8080/",
          "height": 359
        }
      },
      "source": [
        "annotations[:10]"
      ],
      "execution_count": 65,
      "outputs": [
        {
          "output_type": "execute_result",
          "data": {
            "text/html": [
              "<div>\n",
              "<style scoped>\n",
              "    .dataframe tbody tr th:only-of-type {\n",
              "        vertical-align: middle;\n",
              "    }\n",
              "\n",
              "    .dataframe tbody tr th {\n",
              "        vertical-align: top;\n",
              "    }\n",
              "\n",
              "    .dataframe thead th {\n",
              "        text-align: right;\n",
              "    }\n",
              "</style>\n",
              "<table border=\"1\" class=\"dataframe\">\n",
              "  <thead>\n",
              "    <tr style=\"text-align: right;\">\n",
              "      <th></th>\n",
              "      <th>AnnotationID</th>\n",
              "      <th>Description</th>\n",
              "      <th>VideoPath</th>\n",
              "    </tr>\n",
              "  </thead>\n",
              "  <tbody>\n",
              "    <tr>\n",
              "      <th>18</th>\n",
              "      <td>mv89psg6zh4_33_46</td>\n",
              "      <td>bird in sink keeps getting under the running ...</td>\n",
              "      <td>/content/drive/My Drive/VideoArrays/mv89psg6zh...</td>\n",
              "    </tr>\n",
              "    <tr>\n",
              "      <th>19</th>\n",
              "      <td>mv89psg6zh4_33_46</td>\n",
              "      <td>bird is bathing in</td>\n",
              "      <td>/content/drive/My Drive/VideoArrays/mv89psg6zh...</td>\n",
              "    </tr>\n",
              "    <tr>\n",
              "      <th>20</th>\n",
              "      <td>mv89psg6zh4_33_46</td>\n",
              "      <td>bird is splashing around under running</td>\n",
              "      <td>/content/drive/My Drive/VideoArrays/mv89psg6zh...</td>\n",
              "    </tr>\n",
              "    <tr>\n",
              "      <th>21</th>\n",
              "      <td>mv89psg6zh4_33_46</td>\n",
              "      <td>bird is bathing in</td>\n",
              "      <td>/content/drive/My Drive/VideoArrays/mv89psg6zh...</td>\n",
              "    </tr>\n",
              "    <tr>\n",
              "      <th>22</th>\n",
              "      <td>mv89psg6zh4_33_46</td>\n",
              "      <td>bird is standing in sink drinking water that ...</td>\n",
              "      <td>/content/drive/My Drive/VideoArrays/mv89psg6zh...</td>\n",
              "    </tr>\n",
              "    <tr>\n",
              "      <th>23</th>\n",
              "      <td>mv89psg6zh4_33_46</td>\n",
              "      <td>faucet is running while bird stands in the sink</td>\n",
              "      <td>/content/drive/My Drive/VideoArrays/mv89psg6zh...</td>\n",
              "    </tr>\n",
              "    <tr>\n",
              "      <th>24</th>\n",
              "      <td>mv89psg6zh4_33_46</td>\n",
              "      <td>bird is playing in sink with running</td>\n",
              "      <td>/content/drive/My Drive/VideoArrays/mv89psg6zh...</td>\n",
              "    </tr>\n",
              "    <tr>\n",
              "      <th>25</th>\n",
              "      <td>mv89psg6zh4_33_46</td>\n",
              "      <td>bird is playing in tap</td>\n",
              "      <td>/content/drive/My Drive/VideoArrays/mv89psg6zh...</td>\n",
              "    </tr>\n",
              "    <tr>\n",
              "      <th>26</th>\n",
              "      <td>mv89psg6zh4_33_46</td>\n",
              "      <td>bird is bathing in the</td>\n",
              "      <td>/content/drive/My Drive/VideoArrays/mv89psg6zh...</td>\n",
              "    </tr>\n",
              "    <tr>\n",
              "      <th>27</th>\n",
              "      <td>mv89psg6zh4_33_46</td>\n",
              "      <td>bird is taking</td>\n",
              "      <td>/content/drive/My Drive/VideoArrays/mv89psg6zh...</td>\n",
              "    </tr>\n",
              "  </tbody>\n",
              "</table>\n",
              "</div>"
            ],
            "text/plain": [
              "         AnnotationID  ...                                          VideoPath\n",
              "18  mv89psg6zh4_33_46  ...  /content/drive/My Drive/VideoArrays/mv89psg6zh...\n",
              "19  mv89psg6zh4_33_46  ...  /content/drive/My Drive/VideoArrays/mv89psg6zh...\n",
              "20  mv89psg6zh4_33_46  ...  /content/drive/My Drive/VideoArrays/mv89psg6zh...\n",
              "21  mv89psg6zh4_33_46  ...  /content/drive/My Drive/VideoArrays/mv89psg6zh...\n",
              "22  mv89psg6zh4_33_46  ...  /content/drive/My Drive/VideoArrays/mv89psg6zh...\n",
              "23  mv89psg6zh4_33_46  ...  /content/drive/My Drive/VideoArrays/mv89psg6zh...\n",
              "24  mv89psg6zh4_33_46  ...  /content/drive/My Drive/VideoArrays/mv89psg6zh...\n",
              "25  mv89psg6zh4_33_46  ...  /content/drive/My Drive/VideoArrays/mv89psg6zh...\n",
              "26  mv89psg6zh4_33_46  ...  /content/drive/My Drive/VideoArrays/mv89psg6zh...\n",
              "27  mv89psg6zh4_33_46  ...  /content/drive/My Drive/VideoArrays/mv89psg6zh...\n",
              "\n",
              "[10 rows x 3 columns]"
            ]
          },
          "metadata": {
            "tags": []
          },
          "execution_count": 65
        }
      ]
    },
    {
      "cell_type": "code",
      "metadata": {
        "id": "IxNdHDzU0kBJ"
      },
      "source": [
        "annotations_0=annotations[:10000]"
      ],
      "execution_count": 66,
      "outputs": []
    },
    {
      "cell_type": "code",
      "metadata": {
        "id": "CehHcU5RlM_0",
        "outputId": "c20ad4d1-9574-4860-be0f-322032368d59",
        "colab": {
          "base_uri": "https://localhost:8080/"
        }
      },
      "source": [
        "annotations_0.shape"
      ],
      "execution_count": 67,
      "outputs": [
        {
          "output_type": "execute_result",
          "data": {
            "text/plain": [
              "(10000, 3)"
            ]
          },
          "metadata": {
            "tags": []
          },
          "execution_count": 67
        }
      ]
    },
    {
      "cell_type": "code",
      "metadata": {
        "id": "gPSGJn3slkiX",
        "outputId": "2b594f25-fb7a-4019-c22e-9e6a27f33ee9",
        "colab": {
          "base_uri": "https://localhost:8080/"
        }
      },
      "source": [
        "video_paths=np.unique(annotations_0.VideoPath)\n",
        "len(video_paths)"
      ],
      "execution_count": 68,
      "outputs": [
        {
          "output_type": "execute_result",
          "data": {
            "text/plain": [
              "242"
            ]
          },
          "metadata": {
            "tags": []
          },
          "execution_count": 68
        }
      ]
    },
    {
      "cell_type": "code",
      "metadata": {
        "id": "eucQIozTleCc",
        "outputId": "543a1c5b-c565-47bc-e3ae-34988ca8cbfa",
        "colab": {
          "base_uri": "https://localhost:8080/"
        }
      },
      "source": [
        "def load_videos_as_numpy(video_paths):\n",
        "  video_np={}\n",
        "  for eachVideo in tqdm(np.unique(video_paths)):\n",
        "    video_np[eachVideo.stem]=np.load(eachVideo)\n",
        "  return video_np\n",
        "video_np=load_videos_as_numpy(video_paths)\n",
        "print(len(video_np))"
      ],
      "execution_count": 69,
      "outputs": [
        {
          "output_type": "stream",
          "text": [
            "100%|██████████| 242/242 [00:00<00:00, 297.87it/s]"
          ],
          "name": "stderr"
        },
        {
          "output_type": "stream",
          "text": [
            "242\n"
          ],
          "name": "stdout"
        },
        {
          "output_type": "stream",
          "text": [
            "\n"
          ],
          "name": "stderr"
        }
      ]
    },
    {
      "cell_type": "code",
      "metadata": {
        "id": "wy0d9JOIm6cx",
        "outputId": "afe9b0ef-4cb6-4447-9cd8-455f51b19a6a",
        "colab": {
          "base_uri": "https://localhost:8080/"
        }
      },
      "source": [
        "def preprocess_captions(data):\n",
        "  total_captions=[]\n",
        "  for caption in tqdm(data['Description'].astype(str)):\n",
        "    caption='<start> '+caption+' <end>'\n",
        "    total_captions.append(caption)\n",
        "  return total_captions\n",
        "total_captions=preprocess_captions(annotations_0)"
      ],
      "execution_count": 70,
      "outputs": [
        {
          "output_type": "stream",
          "text": [
            "100%|██████████| 10000/10000 [00:00<00:00, 803444.95it/s]\n"
          ],
          "name": "stderr"
        }
      ]
    },
    {
      "cell_type": "code",
      "metadata": {
        "id": "jqz0UxcYnC0X",
        "outputId": "f009fd87-e14a-4aff-9839-4087d60e9988",
        "colab": {
          "base_uri": "https://localhost:8080/"
        }
      },
      "source": [
        "annotations_0['captions']=total_captions"
      ],
      "execution_count": 71,
      "outputs": [
        {
          "output_type": "stream",
          "text": [
            "/usr/local/lib/python3.6/dist-packages/ipykernel_launcher.py:1: SettingWithCopyWarning: \n",
            "A value is trying to be set on a copy of a slice from a DataFrame.\n",
            "Try using .loc[row_indexer,col_indexer] = value instead\n",
            "\n",
            "See the caveats in the documentation: https://pandas.pydata.org/pandas-docs/stable/user_guide/indexing.html#returning-a-view-versus-a-copy\n",
            "  \"\"\"Entry point for launching an IPython kernel.\n"
          ],
          "name": "stderr"
        }
      ]
    },
    {
      "cell_type": "code",
      "metadata": {
        "id": "w--py-9anqZA",
        "outputId": "de93522d-a26e-42e2-e3d6-6f180e15e110",
        "colab": {
          "base_uri": "https://localhost:8080/"
        }
      },
      "source": [
        "annotations_0.shape"
      ],
      "execution_count": 72,
      "outputs": [
        {
          "output_type": "execute_result",
          "data": {
            "text/plain": [
              "(10000, 4)"
            ]
          },
          "metadata": {
            "tags": []
          },
          "execution_count": 72
        }
      ]
    },
    {
      "cell_type": "code",
      "metadata": {
        "id": "6hFX1BF_ng_4",
        "outputId": "37438dc1-88b3-4f2e-948a-1ec2df3c20f3",
        "colab": {
          "base_uri": "https://localhost:8080/"
        }
      },
      "source": [
        "keepindex = []\n",
        "videos_dt=[]\n",
        "for i, fnm in tqdm(enumerate(annotations_0.AnnotationID), total=annotations_0.shape[0]):\n",
        "    if fnm in video_np.keys():\n",
        "      videos_dt.append(video_np[fnm])\n",
        "      keepindex.append(i)\n",
        "\n",
        "total_captions = annotations_0[\"captions\"].iloc[keepindex].values"
      ],
      "execution_count": 73,
      "outputs": [
        {
          "output_type": "stream",
          "text": [
            "100%|██████████| 10000/10000 [00:00<00:00, 511831.31it/s]\n"
          ],
          "name": "stderr"
        }
      ]
    },
    {
      "cell_type": "code",
      "metadata": {
        "id": "g_50zI0doEPA",
        "outputId": "6bf7e569-91fd-43bf-dad4-5b21f814b44c",
        "colab": {
          "base_uri": "https://localhost:8080/"
        }
      },
      "source": [
        "from keras.preprocessing.text import Tokenizer\n",
        "# prepare tokenizer\n",
        "#tokenizer = Tokenizer(\n",
        "    #num_words=None, filters='!\"#$%&()*+,-./:;<=>?@[\\\\]^_`{|}~\\t\\n', lower=True,\n",
        "    #split=' ', char_level=False, oov_token=None, document_count=0)\n",
        "#tokenizer = Tokenizer(num_words=top_k, oov_token=\"<unk>\", filters='!\"#$%&()*+.,-/:;=?@[\\]^_`{|}~ ')\n",
        "tokenizer = Tokenizer(num_words=None, oov_token=\"<unk>\", filters='!\"#$%&()*+.,-/:;=?@[\\]^_`{|}~ ')\n",
        "tokenizer.fit_on_texts(total_captions)\n",
        "vocab_size = len(tokenizer.word_index) + 1\n",
        "print('Vocabulary Size: %d' % vocab_size)"
      ],
      "execution_count": 74,
      "outputs": [
        {
          "output_type": "stream",
          "text": [
            "Vocabulary Size: 3435\n"
          ],
          "name": "stdout"
        }
      ]
    },
    {
      "cell_type": "code",
      "metadata": {
        "id": "4F6FFEFMoLtA"
      },
      "source": [
        "# integer encode descriptions\n",
        "sequences = tokenizer.texts_to_sequences(total_captions)"
      ],
      "execution_count": 75,
      "outputs": []
    },
    {
      "cell_type": "code",
      "metadata": {
        "id": "MlcbPLaooSng",
        "outputId": "9ad309bf-4a6c-492a-9828-3dbc21d5c37b",
        "colab": {
          "base_uri": "https://localhost:8080/"
        }
      },
      "source": [
        "from keras.preprocessing.sequence import pad_sequences\n",
        "# Pad each vector to the max_length of the captions\n",
        "# If you do not provide a max_length value, pad_sequences calculates it automatically\n",
        "cap_vector = pad_sequences(sequences, padding='post')\n",
        "cap_vector[0].shape"
      ],
      "execution_count": 76,
      "outputs": [
        {
          "output_type": "execute_result",
          "data": {
            "text/plain": [
              "(35,)"
            ]
          },
          "metadata": {
            "tags": []
          },
          "execution_count": 76
        }
      ]
    },
    {
      "cell_type": "code",
      "metadata": {
        "id": "ebHMxjONovCy",
        "outputId": "6b4c8c29-bd3d-4f0d-f89b-86f7917e6f9e",
        "colab": {
          "base_uri": "https://localhost:8080/"
        }
      },
      "source": [
        "max_len=len(cap_vector[0])\n",
        "max_len"
      ],
      "execution_count": 77,
      "outputs": [
        {
          "output_type": "execute_result",
          "data": {
            "text/plain": [
              "35"
            ]
          },
          "metadata": {
            "tags": []
          },
          "execution_count": 77
        }
      ]
    },
    {
      "cell_type": "code",
      "metadata": {
        "id": "3Zwv8tPAozaX",
        "outputId": "7bc31f89-e05b-4c28-b5f3-be4173ac96fa",
        "colab": {
          "base_uri": "https://localhost:8080/"
        }
      },
      "source": [
        "print('Number of captions: ', str(len(total_captions)))\n",
        "print('length of sequences : ',str(len(sequences)))\n",
        "print('first sequence: ', sequences[0])\n",
        "print('first sequence length : ', len(sequences[0]))\n",
        "print('first caption: ', total_captions[0])\n",
        "print('padding vector ', cap_vector.shape)\n",
        "print('first caption padding vector ', cap_vector[0].shape)\n",
        "print('Max len of single padding vector or number of rows ', max_len)"
      ],
      "execution_count": 78,
      "outputs": [
        {
          "output_type": "stream",
          "text": [
            "Number of captions:  10000\n",
            "length of sequences :  10000\n",
            "first sequence:  [2, 128, 10, 308, 1843, 156, 269, 5, 42, 41, 31, 3]\n",
            "first sequence length :  12\n",
            "first caption:  <start>  bird in sink keeps getting under the running water from <end>\n",
            "padding vector  (10000, 35)\n",
            "first caption padding vector  (35,)\n",
            "Max len of single padding vector or number of rows  35\n"
          ],
          "name": "stdout"
        }
      ]
    },
    {
      "cell_type": "code",
      "metadata": {
        "id": "nxWsfxgVqEeH",
        "outputId": "2251d6ae-2205-464a-8952-f9f0ef813937",
        "colab": {
          "base_uri": "https://localhost:8080/"
        }
      },
      "source": [
        "len(videos_dt), videos_dt[0].shape, videos_dt[0].ndim"
      ],
      "execution_count": 79,
      "outputs": [
        {
          "output_type": "execute_result",
          "data": {
            "text/plain": [
              "(10000, (80, 4096), 2)"
            ]
          },
          "metadata": {
            "tags": []
          },
          "execution_count": 79
        }
      ]
    },
    {
      "cell_type": "code",
      "metadata": {
        "id": "D__g4qkWqJ42",
        "outputId": "52f19266-1541-4f6c-813d-8f5e15fd6814",
        "colab": {
          "base_uri": "https://localhost:8080/"
        }
      },
      "source": [
        "len(cap_vector), cap_vector[0].shape, cap_vector[0].ndim"
      ],
      "execution_count": 80,
      "outputs": [
        {
          "output_type": "execute_result",
          "data": {
            "text/plain": [
              "(10000, (35,), 1)"
            ]
          },
          "metadata": {
            "tags": []
          },
          "execution_count": 80
        }
      ]
    },
    {
      "cell_type": "code",
      "metadata": {
        "id": "HLPVRVGdqbZO",
        "outputId": "8f8ea92b-779e-4149-9404-543bd81cb48c",
        "colab": {
          "base_uri": "https://localhost:8080/"
        }
      },
      "source": [
        "# Scikit-learn includes many helpful utilities\n",
        "from sklearn.model_selection import train_test_split\n",
        "# Create training and validation sets using an 80-20 split\n",
        "vid_train, vid_val, cap_train, cap_val = train_test_split(videos_dt,cap_vector,test_size=0.2,random_state=0)\n",
        "len(vid_train), len(cap_train), len(vid_val), len(cap_val)\n",
        "# Feel free to change these parameters according to your system's configuration"
      ],
      "execution_count": 81,
      "outputs": [
        {
          "output_type": "execute_result",
          "data": {
            "text/plain": [
              "(8000, 8000, 2000, 2000)"
            ]
          },
          "metadata": {
            "tags": []
          },
          "execution_count": 81
        }
      ]
    },
    {
      "cell_type": "code",
      "metadata": {
        "id": "HgrTyo-MPzcw"
      },
      "source": [
        "files_path=drive_path.joinpath('splitset')\n",
        "#files_path.mkdir(parents=False)"
      ],
      "execution_count": 82,
      "outputs": []
    },
    {
      "cell_type": "code",
      "metadata": {
        "id": "pzAJaKGltWuu"
      },
      "source": [
        "outfile = open(files_path.joinpath('train.dat'),'wb')\n",
        "pickle.dump((vid_train, cap_train),outfile)\n",
        "outfile.close()"
      ],
      "execution_count": 83,
      "outputs": []
    },
    {
      "cell_type": "code",
      "metadata": {
        "id": "lgt1gNN1tYzS"
      },
      "source": [
        "outfile = open(files_path.joinpath('test.dat'),'wb')\n",
        "pickle.dump((vid_val, cap_val),outfile)\n",
        "outfile.close()"
      ],
      "execution_count": 87,
      "outputs": []
    },
    {
      "cell_type": "code",
      "metadata": {
        "id": "tVCZwTNevCtl"
      },
      "source": [
        "outfile = open(files_path.joinpath('tokens_word_index.txt'),'wb')\n",
        "pickle.dump(tokenizer.word_index,outfile)\n",
        "outfile.close()"
      ],
      "execution_count": 88,
      "outputs": []
    },
    {
      "cell_type": "code",
      "metadata": {
        "id": "wq0MniNNwRAB"
      },
      "source": [
        "outfile = open(files_path.joinpath('tokens_index_word.txt'),'wb')\n",
        "pickle.dump(tokenizer.index_word,outfile)\n",
        "outfile.close()"
      ],
      "execution_count": 89,
      "outputs": []
    },
    {
      "cell_type": "markdown",
      "metadata": {
        "id": "ztA7eBoe4yYf"
      },
      "source": [
        "#End of code\n"
      ]
    },
    {
      "cell_type": "code",
      "metadata": {
        "id": "Vm9U1hh-QQ7A"
      },
      "source": [
        "train_file=files_path.joinpath('test.h5')"
      ],
      "execution_count": null,
      "outputs": []
    },
    {
      "cell_type": "code",
      "metadata": {
        "id": "lq-1442TQWgh"
      },
      "source": [
        "vid_train=np.array(vid_train)\n",
        "cap_train=np.array(cap_train)"
      ],
      "execution_count": null,
      "outputs": []
    },
    {
      "cell_type": "code",
      "metadata": {
        "id": "n5Fg5HQTRy_c"
      },
      "source": [
        "f=h5py.File(train_file,mode='a')"
      ],
      "execution_count": null,
      "outputs": []
    },
    {
      "cell_type": "code",
      "metadata": {
        "id": "3Yq3L64C2KQh",
        "outputId": "bcd15b5b-b9da-4b32-ec14-1f123ca9bab2",
        "colab": {
          "base_uri": "https://localhost:8080/"
        }
      },
      "source": [
        "f.keys()"
      ],
      "execution_count": null,
      "outputs": [
        {
          "output_type": "execute_result",
          "data": {
            "text/plain": [
              "<KeysViewHDF5 ['train_dt', 'val_dt']>"
            ]
          },
          "metadata": {
            "tags": []
          },
          "execution_count": 53
        }
      ]
    },
    {
      "cell_type": "code",
      "metadata": {
        "id": "vPR6O5g9SFD0",
        "outputId": "b141f70d-79e9-4187-fe2b-0e920744957b",
        "colab": {
          "base_uri": "https://localhost:8080/"
        }
      },
      "source": [
        "grp1=f.create_group('train_dt',track_order=True)\n",
        "grp1.create_dataset('train_vid',data=vid_train)\n",
        "grp1.create_dataset('train_cap',data=cap_train)"
      ],
      "execution_count": null,
      "outputs": [
        {
          "output_type": "execute_result",
          "data": {
            "text/plain": [
              "<HDF5 dataset \"train_cap\": shape (8000, 35), type \"<i4\">"
            ]
          },
          "metadata": {
            "tags": []
          },
          "execution_count": 47
        }
      ]
    },
    {
      "cell_type": "code",
      "metadata": {
        "id": "dOpVE4gy3a-M"
      },
      "source": [
        "#del cap_train\n",
        "#del vid_train"
      ],
      "execution_count": null,
      "outputs": []
    },
    {
      "cell_type": "code",
      "metadata": {
        "id": "zcfuu37BnmTV"
      },
      "source": [
        "vid_val=np.array(vid_val)\n",
        "cap_val=np.array(cap_val)"
      ],
      "execution_count": null,
      "outputs": []
    },
    {
      "cell_type": "code",
      "metadata": {
        "id": "LHeUd57wSWhg",
        "outputId": "f5a4f93e-02c9-4942-b832-d14173829283",
        "colab": {
          "base_uri": "https://localhost:8080/"
        }
      },
      "source": [
        "grp2=f.create_group('val_dt',track_order=True)\n",
        "grp2.create_dataset('val_vid',data=vid_val)\n",
        "grp2.create_dataset('val_cap',data=cap_val)"
      ],
      "execution_count": null,
      "outputs": [
        {
          "output_type": "execute_result",
          "data": {
            "text/plain": [
              "<HDF5 dataset \"val_cap\": shape (2000, 35), type \"<i4\">"
            ]
          },
          "metadata": {
            "tags": []
          },
          "execution_count": 52
        }
      ]
    },
    {
      "cell_type": "code",
      "metadata": {
        "id": "IXa7A4C64B-k"
      },
      "source": [
        "#del cap_val\n",
        "#del vid_val"
      ],
      "execution_count": null,
      "outputs": []
    },
    {
      "cell_type": "code",
      "metadata": {
        "id": "GqbsU8MWs_HV"
      },
      "source": [
        "f.close()"
      ],
      "execution_count": null,
      "outputs": []
    },
    {
      "cell_type": "code",
      "metadata": {
        "id": "QUfxGTUbSdRv",
        "outputId": "8e84ffe3-3ff5-44e7-bfa7-e38140ca300d",
        "colab": {
          "base_uri": "https://localhost:8080/"
        }
      },
      "source": [
        "#f.keys()\n",
        "#f['train_dt'].keys()\n",
        "f['train_dt'].get('train_vid.dat')"
      ],
      "execution_count": null,
      "outputs": [
        {
          "output_type": "execute_result",
          "data": {
            "text/plain": [
              "<HDF5 dataset \"train_vid.dat\": shape (8000, 80, 4096), type \"<f4\">"
            ]
          },
          "metadata": {
            "tags": []
          },
          "execution_count": 86
        }
      ]
    }
  ]
}