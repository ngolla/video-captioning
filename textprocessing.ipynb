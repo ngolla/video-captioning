{
  "nbformat": 4,
  "nbformat_minor": 0,
  "metadata": {
    "colab": {
      "name": "Copy of example.ipynb",
      "provenance": [],
      "collapsed_sections": [],
      "authorship_tag": "ABX9TyO/hHGzTVll3Xfj+UJiqI58",
      "include_colab_link": true
    },
    "kernelspec": {
      "name": "python3",
      "display_name": "Python 3"
    }
  },
  "cells": [
    {
      "cell_type": "markdown",
      "metadata": {
        "id": "view-in-github",
        "colab_type": "text"
      },
      "source": [
        "<a href=\"https://colab.research.google.com/github/ngolla/video-captioning/blob/master/textprocessing.ipynb\" target=\"_parent\"><img src=\"https://colab.research.google.com/assets/colab-badge.svg\" alt=\"Open In Colab\"/></a>"
      ]
    },
    {
      "cell_type": "code",
      "metadata": {
        "id": "b-HwjwCrwUyS"
      },
      "source": [
        "from google.colab import files\n",
        "from google.colab import drive\n",
        "from pathlib import Path\n",
        "import io\n",
        "import pandas as pd\n",
        "import numpy as np\n",
        "import string\n",
        "import time\n",
        "from tqdm import tqdm\n",
        "#import pickle\n",
        "import numpy as np\n",
        "import h5py"
      ],
      "execution_count": 1,
      "outputs": []
    },
    {
      "cell_type": "code",
      "metadata": {
        "id": "yqtYmuQhwmwr",
        "outputId": "616d4259-7d30-43cf-8bf0-5ae9d841213a",
        "colab": {
          "base_uri": "https://localhost:8080/"
        }
      },
      "source": [
        "drive.mount('/content/drive')"
      ],
      "execution_count": 2,
      "outputs": [
        {
          "output_type": "stream",
          "text": [
            "Drive already mounted at /content/drive; to attempt to forcibly remount, call drive.mount(\"/content/drive\", force_remount=True).\n"
          ],
          "name": "stdout"
        }
      ]
    },
    {
      "cell_type": "code",
      "metadata": {
        "id": "nU-xqWg_w7Fa"
      },
      "source": [
        "drive_path=Path(\"/content/drive/My Drive\")"
      ],
      "execution_count": 3,
      "outputs": []
    },
    {
      "cell_type": "code",
      "metadata": {
        "id": "Rrv6eSCzwx5U"
      },
      "source": [
        "def load_csv(file_name, drive_path):\n",
        "  corpus_file=drive_path.joinpath(file_name)\n",
        "  if(corpus_file.is_file()):\n",
        "    corpus_df=pd.read_csv(str(corpus_file))\n",
        "  else:\n",
        "    uploaded=files.upload()\n",
        "    corpus_df=pd.read_csv(io.BytesIO(uploaded[file_name]))\n",
        "    corpus_df.to_csv(corpus_file)\n",
        "  return corpus_df"
      ],
      "execution_count": 4,
      "outputs": []
    },
    {
      "cell_type": "code",
      "metadata": {
        "id": "claMwqxSQwdn"
      },
      "source": [
        "annotations=load_csv('video_corpus.csv', drive_path)"
      ],
      "execution_count": 5,
      "outputs": []
    },
    {
      "cell_type": "code",
      "metadata": {
        "id": "SL0AbYH3xOb3"
      },
      "source": [
        "def extractBy(title, value, dataset):\n",
        "  return dataset[dataset[title]==value]"
      ],
      "execution_count": 6,
      "outputs": []
    },
    {
      "cell_type": "code",
      "metadata": {
        "id": "TrIz-gDCw-35"
      },
      "source": [
        "annotations=extractBy('Language','English', annotations)"
      ],
      "execution_count": 7,
      "outputs": []
    },
    {
      "cell_type": "code",
      "metadata": {
        "id": "znHg5mPuxRlU"
      },
      "source": [
        "def merge_rows(cols,df):\n",
        "  df=df.assign(AnnotationID=df[cols].apply(lambda row: '_'.join(row.values.astype(str)), axis=1))\n",
        "  return df"
      ],
      "execution_count": 8,
      "outputs": []
    },
    {
      "cell_type": "code",
      "metadata": {
        "id": "10bztjjwxbqp"
      },
      "source": [
        "cols = ['VideoID', 'Start', 'End']\n",
        "annotations=merge_rows(cols,annotations)"
      ],
      "execution_count": 9,
      "outputs": []
    },
    {
      "cell_type": "code",
      "metadata": {
        "id": "mtOQOljpxjis"
      },
      "source": [
        "annotations=annotations[['AnnotationID','Description']]"
      ],
      "execution_count": 10,
      "outputs": []
    },
    {
      "cell_type": "code",
      "metadata": {
        "id": "c5JGV7Q6x1LE",
        "outputId": "eb020156-103b-4a8a-c00b-d0a40b59f280",
        "colab": {
          "base_uri": "https://localhost:8080/"
        }
      },
      "source": [
        "annotations.shape"
      ],
      "execution_count": 11,
      "outputs": [
        {
          "output_type": "execute_result",
          "data": {
            "text/plain": [
              "(85511, 2)"
            ]
          },
          "metadata": {
            "tags": []
          },
          "execution_count": 11
        }
      ]
    },
    {
      "cell_type": "code",
      "metadata": {
        "id": "zihwZzBfzEmz"
      },
      "source": [
        "def drop_nullvalues(df):\n",
        "  df=df.dropna()\n",
        "  return df"
      ],
      "execution_count": 12,
      "outputs": []
    },
    {
      "cell_type": "code",
      "metadata": {
        "id": "25q4nRtwzGyO"
      },
      "source": [
        "#Drop null values\n",
        "annotations=drop_nullvalues(annotations)"
      ],
      "execution_count": 13,
      "outputs": []
    },
    {
      "cell_type": "code",
      "metadata": {
        "id": "OYM9cs0azTqP"
      },
      "source": [
        "def convert_to_lower(data, title):\n",
        "  return [x.lower() for x in data[title]]"
      ],
      "execution_count": 14,
      "outputs": []
    },
    {
      "cell_type": "code",
      "metadata": {
        "id": "TGWUEBhVzXAN"
      },
      "source": [
        "annotations['Description'] = convert_to_lower(annotations, 'Description')"
      ],
      "execution_count": 15,
      "outputs": []
    },
    {
      "cell_type": "code",
      "metadata": {
        "id": "k9jZ2p5jzipY"
      },
      "source": [
        "# To remove punctuations\n",
        "def remove_punctuation(text_original):\n",
        "    text_no_punctuation = text_original.translate(string.punctuation)\n",
        "    return(text_no_punctuation)\n",
        "\n",
        "\n",
        "# To remove single characters\n",
        "def remove_single_character(text):\n",
        "    text_len_more_than1 = \"\"\n",
        "    for word in text.split():\n",
        "        if len(word) > 1:\n",
        "            text_len_more_than1 += \" \" + word\n",
        "    return(text_len_more_than1)\n",
        "\n",
        "# To remove numeric values\n",
        "def remove_numeric(text,printTF=False):\n",
        "    text_no_numeric = \"\"\n",
        "    for word in text.split():\n",
        "        isalpha = word.isalpha()\n",
        "        if printTF:\n",
        "            print(\"    {:10} : {:}\".format(word,isalpha))\n",
        "        if isalpha:\n",
        "            text_no_numeric += \" \" + word\n",
        "    return(text_no_numeric)\n",
        "def text_clean(text_original):\n",
        "    text = remove_punctuation(text_original)\n",
        "    text = remove_single_character(text)\n",
        "    text = remove_numeric(text)\n",
        "    return(text)"
      ],
      "execution_count": 16,
      "outputs": []
    },
    {
      "cell_type": "code",
      "metadata": {
        "id": "s8vzRLB7zmjF",
        "outputId": "9347a1aa-7fe7-4d4c-fea8-7fa492283476",
        "colab": {
          "base_uri": "https://localhost:8080/"
        }
      },
      "source": [
        "for i, caption in tqdm(enumerate(annotations.Description.values),total=annotations.shape[0]):\n",
        "    newcaption = text_clean(caption)\n",
        "    annotations['Description'].iloc[i] = newcaption"
      ],
      "execution_count": 17,
      "outputs": [
        {
          "output_type": "stream",
          "text": [
            "100%|██████████| 85510/85510 [00:56<00:00, 1515.15it/s]\n"
          ],
          "name": "stderr"
        }
      ]
    },
    {
      "cell_type": "code",
      "metadata": {
        "id": "21CvLouxyjG0"
      },
      "source": [
        " def addPath(text_data,video_path):\n",
        "   text_data['VideoPath'] = text_data.apply(lambda row: row['AnnotationID']+'.npy', axis=1)\n",
        "   text_data['VideoPath'] = text_data['VideoPath'].map(lambda x: video_path.joinpath(x))\n",
        "   text_data = text_data[text_data['VideoPath'].map(lambda x: x.is_file())]\n",
        "   text_data = text_data[text_data['Description'].map(lambda x: isinstance(x, str))]\n",
        "   unique_filenames = sorted(text_data['VideoPath'].unique())\n",
        "   data = text_data[text_data['VideoPath'].map(lambda x: x in unique_filenames)]\n",
        "   return data"
      ],
      "execution_count": 18,
      "outputs": []
    },
    {
      "cell_type": "code",
      "metadata": {
        "id": "psWPWS3TyBLg"
      },
      "source": [
        "video_path=drive_path.joinpath('VideoArrays')\n",
        "annotations=addPath(annotations, video_path)"
      ],
      "execution_count": 19,
      "outputs": []
    },
    {
      "cell_type": "code",
      "metadata": {
        "id": "_Y5SgEST0NnV",
        "outputId": "3bd25f04-57ba-49ff-e038-8acfb16715b8",
        "colab": {
          "base_uri": "https://localhost:8080/"
        }
      },
      "source": [
        "print(len(list(np.unique(annotations['VideoPath']))))\n",
        "print(len(list(np.unique(annotations['AnnotationID']))))"
      ],
      "execution_count": 20,
      "outputs": [
        {
          "output_type": "stream",
          "text": [
            "1969\n",
            "1969\n"
          ],
          "name": "stdout"
        }
      ]
    },
    {
      "cell_type": "code",
      "metadata": {
        "id": "ikolvsVK0eUb",
        "outputId": "ab294448-1350-40ea-b704-1dfe8a1d5b40",
        "colab": {
          "base_uri": "https://localhost:8080/"
        }
      },
      "source": [
        "annotations.shape"
      ],
      "execution_count": 21,
      "outputs": [
        {
          "output_type": "execute_result",
          "data": {
            "text/plain": [
              "(80799, 3)"
            ]
          },
          "metadata": {
            "tags": []
          },
          "execution_count": 21
        }
      ]
    },
    {
      "cell_type": "code",
      "metadata": {
        "id": "Phq6dgzNk986",
        "outputId": "ab856aed-2019-4a52-c721-66a3921724ca",
        "colab": {
          "base_uri": "https://localhost:8080/",
          "height": 359
        }
      },
      "source": [
        "annotations[:10]"
      ],
      "execution_count": 22,
      "outputs": [
        {
          "output_type": "execute_result",
          "data": {
            "text/html": [
              "<div>\n",
              "<style scoped>\n",
              "    .dataframe tbody tr th:only-of-type {\n",
              "        vertical-align: middle;\n",
              "    }\n",
              "\n",
              "    .dataframe tbody tr th {\n",
              "        vertical-align: top;\n",
              "    }\n",
              "\n",
              "    .dataframe thead th {\n",
              "        text-align: right;\n",
              "    }\n",
              "</style>\n",
              "<table border=\"1\" class=\"dataframe\">\n",
              "  <thead>\n",
              "    <tr style=\"text-align: right;\">\n",
              "      <th></th>\n",
              "      <th>AnnotationID</th>\n",
              "      <th>Description</th>\n",
              "      <th>VideoPath</th>\n",
              "    </tr>\n",
              "  </thead>\n",
              "  <tbody>\n",
              "    <tr>\n",
              "      <th>18</th>\n",
              "      <td>mv89psg6zh4_33_46</td>\n",
              "      <td>bird in sink keeps getting under the running ...</td>\n",
              "      <td>/content/drive/My Drive/VideoArrays/mv89psg6zh...</td>\n",
              "    </tr>\n",
              "    <tr>\n",
              "      <th>19</th>\n",
              "      <td>mv89psg6zh4_33_46</td>\n",
              "      <td>bird is bathing in</td>\n",
              "      <td>/content/drive/My Drive/VideoArrays/mv89psg6zh...</td>\n",
              "    </tr>\n",
              "    <tr>\n",
              "      <th>20</th>\n",
              "      <td>mv89psg6zh4_33_46</td>\n",
              "      <td>bird is splashing around under running</td>\n",
              "      <td>/content/drive/My Drive/VideoArrays/mv89psg6zh...</td>\n",
              "    </tr>\n",
              "    <tr>\n",
              "      <th>21</th>\n",
              "      <td>mv89psg6zh4_33_46</td>\n",
              "      <td>bird is bathing in</td>\n",
              "      <td>/content/drive/My Drive/VideoArrays/mv89psg6zh...</td>\n",
              "    </tr>\n",
              "    <tr>\n",
              "      <th>22</th>\n",
              "      <td>mv89psg6zh4_33_46</td>\n",
              "      <td>bird is standing in sink drinking water that ...</td>\n",
              "      <td>/content/drive/My Drive/VideoArrays/mv89psg6zh...</td>\n",
              "    </tr>\n",
              "    <tr>\n",
              "      <th>23</th>\n",
              "      <td>mv89psg6zh4_33_46</td>\n",
              "      <td>faucet is running while bird stands in the sink</td>\n",
              "      <td>/content/drive/My Drive/VideoArrays/mv89psg6zh...</td>\n",
              "    </tr>\n",
              "    <tr>\n",
              "      <th>24</th>\n",
              "      <td>mv89psg6zh4_33_46</td>\n",
              "      <td>bird is playing in sink with running</td>\n",
              "      <td>/content/drive/My Drive/VideoArrays/mv89psg6zh...</td>\n",
              "    </tr>\n",
              "    <tr>\n",
              "      <th>25</th>\n",
              "      <td>mv89psg6zh4_33_46</td>\n",
              "      <td>bird is playing in tap</td>\n",
              "      <td>/content/drive/My Drive/VideoArrays/mv89psg6zh...</td>\n",
              "    </tr>\n",
              "    <tr>\n",
              "      <th>26</th>\n",
              "      <td>mv89psg6zh4_33_46</td>\n",
              "      <td>bird is bathing in the</td>\n",
              "      <td>/content/drive/My Drive/VideoArrays/mv89psg6zh...</td>\n",
              "    </tr>\n",
              "    <tr>\n",
              "      <th>27</th>\n",
              "      <td>mv89psg6zh4_33_46</td>\n",
              "      <td>bird is taking</td>\n",
              "      <td>/content/drive/My Drive/VideoArrays/mv89psg6zh...</td>\n",
              "    </tr>\n",
              "  </tbody>\n",
              "</table>\n",
              "</div>"
            ],
            "text/plain": [
              "         AnnotationID  ...                                          VideoPath\n",
              "18  mv89psg6zh4_33_46  ...  /content/drive/My Drive/VideoArrays/mv89psg6zh...\n",
              "19  mv89psg6zh4_33_46  ...  /content/drive/My Drive/VideoArrays/mv89psg6zh...\n",
              "20  mv89psg6zh4_33_46  ...  /content/drive/My Drive/VideoArrays/mv89psg6zh...\n",
              "21  mv89psg6zh4_33_46  ...  /content/drive/My Drive/VideoArrays/mv89psg6zh...\n",
              "22  mv89psg6zh4_33_46  ...  /content/drive/My Drive/VideoArrays/mv89psg6zh...\n",
              "23  mv89psg6zh4_33_46  ...  /content/drive/My Drive/VideoArrays/mv89psg6zh...\n",
              "24  mv89psg6zh4_33_46  ...  /content/drive/My Drive/VideoArrays/mv89psg6zh...\n",
              "25  mv89psg6zh4_33_46  ...  /content/drive/My Drive/VideoArrays/mv89psg6zh...\n",
              "26  mv89psg6zh4_33_46  ...  /content/drive/My Drive/VideoArrays/mv89psg6zh...\n",
              "27  mv89psg6zh4_33_46  ...  /content/drive/My Drive/VideoArrays/mv89psg6zh...\n",
              "\n",
              "[10 rows x 3 columns]"
            ]
          },
          "metadata": {
            "tags": []
          },
          "execution_count": 22
        }
      ]
    },
    {
      "cell_type": "code",
      "metadata": {
        "id": "IxNdHDzU0kBJ"
      },
      "source": [
        "annotations_0=annotations[:10000]"
      ],
      "execution_count": 23,
      "outputs": []
    },
    {
      "cell_type": "code",
      "metadata": {
        "id": "CehHcU5RlM_0",
        "outputId": "9793d437-2277-4f11-b34b-1a5b291d8822",
        "colab": {
          "base_uri": "https://localhost:8080/"
        }
      },
      "source": [
        "annotations_0.shape"
      ],
      "execution_count": 24,
      "outputs": [
        {
          "output_type": "execute_result",
          "data": {
            "text/plain": [
              "(10000, 3)"
            ]
          },
          "metadata": {
            "tags": []
          },
          "execution_count": 24
        }
      ]
    },
    {
      "cell_type": "code",
      "metadata": {
        "id": "gPSGJn3slkiX",
        "outputId": "b2321ae5-2167-4671-9590-f3731180a94c",
        "colab": {
          "base_uri": "https://localhost:8080/"
        }
      },
      "source": [
        "video_paths=np.unique(annotations_0.VideoPath)\n",
        "len(video_paths)"
      ],
      "execution_count": 25,
      "outputs": [
        {
          "output_type": "execute_result",
          "data": {
            "text/plain": [
              "242"
            ]
          },
          "metadata": {
            "tags": []
          },
          "execution_count": 25
        }
      ]
    },
    {
      "cell_type": "code",
      "metadata": {
        "id": "eucQIozTleCc",
        "outputId": "d716129f-0749-4ae1-f560-1cea68aeffba",
        "colab": {
          "base_uri": "https://localhost:8080/"
        }
      },
      "source": [
        "def load_videos_as_numpy(video_paths):\n",
        "  video_np={}\n",
        "  for eachVideo in tqdm(np.unique(video_paths)):\n",
        "    video_np[eachVideo.stem]=np.load(eachVideo)\n",
        "  return video_np\n",
        "video_np=load_videos_as_numpy(video_paths)\n",
        "print(len(video_np))"
      ],
      "execution_count": 26,
      "outputs": [
        {
          "output_type": "stream",
          "text": [
            "100%|██████████| 242/242 [00:06<00:00, 40.22it/s]"
          ],
          "name": "stderr"
        },
        {
          "output_type": "stream",
          "text": [
            "242\n"
          ],
          "name": "stdout"
        },
        {
          "output_type": "stream",
          "text": [
            "\n"
          ],
          "name": "stderr"
        }
      ]
    },
    {
      "cell_type": "code",
      "metadata": {
        "id": "wy0d9JOIm6cx",
        "outputId": "ed5ac829-d27e-4a5d-9c5c-b11b86eaab82",
        "colab": {
          "base_uri": "https://localhost:8080/"
        }
      },
      "source": [
        "def preprocess_captions(data):\n",
        "  total_captions=[]\n",
        "  for caption in tqdm(data['Description'].astype(str)):\n",
        "    caption='<start> '+caption+' <end>'\n",
        "    total_captions.append(caption)\n",
        "  return total_captions\n",
        "total_captions=preprocess_captions(annotations_0)"
      ],
      "execution_count": 27,
      "outputs": [
        {
          "output_type": "stream",
          "text": [
            "100%|██████████| 10000/10000 [00:00<00:00, 921987.16it/s]\n"
          ],
          "name": "stderr"
        }
      ]
    },
    {
      "cell_type": "code",
      "metadata": {
        "id": "jqz0UxcYnC0X",
        "outputId": "28950655-237d-4e31-b23b-e13fb80b9b05",
        "colab": {
          "base_uri": "https://localhost:8080/"
        }
      },
      "source": [
        "annotations_0['captions']=total_captions"
      ],
      "execution_count": 28,
      "outputs": [
        {
          "output_type": "stream",
          "text": [
            "/usr/local/lib/python3.6/dist-packages/ipykernel_launcher.py:1: SettingWithCopyWarning: \n",
            "A value is trying to be set on a copy of a slice from a DataFrame.\n",
            "Try using .loc[row_indexer,col_indexer] = value instead\n",
            "\n",
            "See the caveats in the documentation: https://pandas.pydata.org/pandas-docs/stable/user_guide/indexing.html#returning-a-view-versus-a-copy\n",
            "  \"\"\"Entry point for launching an IPython kernel.\n"
          ],
          "name": "stderr"
        }
      ]
    },
    {
      "cell_type": "code",
      "metadata": {
        "id": "w--py-9anqZA",
        "outputId": "75c07098-3d19-47b1-d835-f5f5730c3636",
        "colab": {
          "base_uri": "https://localhost:8080/"
        }
      },
      "source": [
        "annotations_0.shape"
      ],
      "execution_count": 29,
      "outputs": [
        {
          "output_type": "execute_result",
          "data": {
            "text/plain": [
              "(10000, 4)"
            ]
          },
          "metadata": {
            "tags": []
          },
          "execution_count": 29
        }
      ]
    },
    {
      "cell_type": "code",
      "metadata": {
        "id": "6hFX1BF_ng_4",
        "outputId": "120725e6-afe5-4a18-c855-ad6cfe180b65",
        "colab": {
          "base_uri": "https://localhost:8080/"
        }
      },
      "source": [
        "keepindex = []\n",
        "videos_dt=[]\n",
        "for i, fnm in tqdm(enumerate(annotations_0.AnnotationID), total=annotations_0.shape[0]):\n",
        "    if fnm in video_np.keys():\n",
        "      videos_dt.append(video_np[fnm])\n",
        "      keepindex.append(i)\n",
        "\n",
        "total_captions = annotations_0[\"captions\"].iloc[keepindex].values"
      ],
      "execution_count": 30,
      "outputs": [
        {
          "output_type": "stream",
          "text": [
            "100%|██████████| 10000/10000 [00:00<00:00, 1067117.16it/s]\n"
          ],
          "name": "stderr"
        }
      ]
    },
    {
      "cell_type": "code",
      "metadata": {
        "id": "g_50zI0doEPA",
        "outputId": "0b422343-d2b3-4536-bed2-e15ae4543639",
        "colab": {
          "base_uri": "https://localhost:8080/"
        }
      },
      "source": [
        "from keras.preprocessing.text import Tokenizer\n",
        "# prepare tokenizer\n",
        "#tokenizer = Tokenizer(\n",
        "    #num_words=None, filters='!\"#$%&()*+,-./:;<=>?@[\\\\]^_`{|}~\\t\\n', lower=True,\n",
        "    #split=' ', char_level=False, oov_token=None, document_count=0)\n",
        "#tokenizer = Tokenizer(num_words=top_k, oov_token=\"<unk>\", filters='!\"#$%&()*+.,-/:;=?@[\\]^_`{|}~ ')\n",
        "tokenizer = Tokenizer(num_words=None, oov_token=\"<unk>\", filters='!\"#$%&()*+.,-/:;=?@[\\]^_`{|}~ ')\n",
        "tokenizer.fit_on_texts(total_captions)\n",
        "vocab_size = len(tokenizer.word_index) + 1\n",
        "print('Vocabulary Size: %d' % vocab_size)"
      ],
      "execution_count": 31,
      "outputs": [
        {
          "output_type": "stream",
          "text": [
            "Vocabulary Size: 3435\n"
          ],
          "name": "stdout"
        }
      ]
    },
    {
      "cell_type": "code",
      "metadata": {
        "id": "4F6FFEFMoLtA"
      },
      "source": [
        "# integer encode descriptions\n",
        "sequences = tokenizer.texts_to_sequences(total_captions)"
      ],
      "execution_count": 32,
      "outputs": []
    },
    {
      "cell_type": "code",
      "metadata": {
        "id": "MlcbPLaooSng",
        "outputId": "f2f302c6-4b99-44e7-9155-8f2e5288f405",
        "colab": {
          "base_uri": "https://localhost:8080/"
        }
      },
      "source": [
        "from keras.preprocessing.sequence import pad_sequences\n",
        "# Pad each vector to the max_length of the captions\n",
        "# If you do not provide a max_length value, pad_sequences calculates it automatically\n",
        "cap_vector = pad_sequences(sequences, padding='post')\n",
        "cap_vector[0].shape"
      ],
      "execution_count": 33,
      "outputs": [
        {
          "output_type": "execute_result",
          "data": {
            "text/plain": [
              "(35,)"
            ]
          },
          "metadata": {
            "tags": []
          },
          "execution_count": 33
        }
      ]
    },
    {
      "cell_type": "code",
      "metadata": {
        "id": "ebHMxjONovCy",
        "outputId": "6bb6c8c5-0ec5-4caa-f4ae-3328dc8a8643",
        "colab": {
          "base_uri": "https://localhost:8080/"
        }
      },
      "source": [
        "max_len=len(cap_vector[0])\n",
        "max_len"
      ],
      "execution_count": 34,
      "outputs": [
        {
          "output_type": "execute_result",
          "data": {
            "text/plain": [
              "35"
            ]
          },
          "metadata": {
            "tags": []
          },
          "execution_count": 34
        }
      ]
    },
    {
      "cell_type": "code",
      "metadata": {
        "id": "3Zwv8tPAozaX",
        "outputId": "f4982b79-5738-4363-cbe7-9452884c13d1",
        "colab": {
          "base_uri": "https://localhost:8080/"
        }
      },
      "source": [
        "print('Number of captions: ', str(len(total_captions)))\n",
        "print('length of sequences : ',str(len(sequences)))\n",
        "print('first sequence: ', sequences[0])\n",
        "print('first sequence length : ', len(sequences[0]))\n",
        "print('first caption: ', total_captions[0])\n",
        "print('padding vector ', cap_vector.shape)\n",
        "print('first caption padding vector ', cap_vector[0].shape)\n",
        "print('Max len of single padding vector or number of rows ', max_len)"
      ],
      "execution_count": 35,
      "outputs": [
        {
          "output_type": "stream",
          "text": [
            "Number of captions:  10000\n",
            "length of sequences :  10000\n",
            "first sequence:  [2, 128, 10, 308, 1843, 156, 269, 5, 42, 41, 31, 3]\n",
            "first sequence length :  12\n",
            "first caption:  <start>  bird in sink keeps getting under the running water from <end>\n",
            "padding vector  (10000, 35)\n",
            "first caption padding vector  (35,)\n",
            "Max len of single padding vector or number of rows  35\n"
          ],
          "name": "stdout"
        }
      ]
    },
    {
      "cell_type": "code",
      "metadata": {
        "id": "nxWsfxgVqEeH",
        "outputId": "d3a7ccb8-db71-4241-ded0-a4921f5ccb6a",
        "colab": {
          "base_uri": "https://localhost:8080/"
        }
      },
      "source": [
        "len(videos_dt), videos_dt[0].shape, videos_dt[0].ndim"
      ],
      "execution_count": 36,
      "outputs": [
        {
          "output_type": "execute_result",
          "data": {
            "text/plain": [
              "(10000, (80, 4096), 2)"
            ]
          },
          "metadata": {
            "tags": []
          },
          "execution_count": 36
        }
      ]
    },
    {
      "cell_type": "code",
      "metadata": {
        "id": "D__g4qkWqJ42",
        "outputId": "acc2cada-87ae-4f61-a981-b6f15ebfaf37",
        "colab": {
          "base_uri": "https://localhost:8080/"
        }
      },
      "source": [
        "len(cap_vector), cap_vector[0].shape, cap_vector[0].ndim"
      ],
      "execution_count": 37,
      "outputs": [
        {
          "output_type": "execute_result",
          "data": {
            "text/plain": [
              "(10000, (35,), 1)"
            ]
          },
          "metadata": {
            "tags": []
          },
          "execution_count": 37
        }
      ]
    },
    {
      "cell_type": "code",
      "metadata": {
        "id": "HLPVRVGdqbZO",
        "outputId": "21f6f9ff-3ef7-45c9-bee8-b2dccee4c397",
        "colab": {
          "base_uri": "https://localhost:8080/"
        }
      },
      "source": [
        "# Scikit-learn includes many helpful utilities\n",
        "from sklearn.model_selection import train_test_split\n",
        "# Create training and validation sets using an 80-20 split\n",
        "vid_train, vid_val, cap_train, cap_val = train_test_split(videos_dt,cap_vector,test_size=0.2,random_state=0)\n",
        "len(vid_train), len(cap_train), len(vid_val), len(cap_val)\n",
        "# Feel free to change these parameters according to your system's configuration"
      ],
      "execution_count": 38,
      "outputs": [
        {
          "output_type": "execute_result",
          "data": {
            "text/plain": [
              "(8000, 8000, 2000, 2000)"
            ]
          },
          "metadata": {
            "tags": []
          },
          "execution_count": 38
        }
      ]
    },
    {
      "cell_type": "code",
      "metadata": {
        "id": "HgrTyo-MPzcw"
      },
      "source": [
        "files_path=drive_path.joinpath('splitdata')\n",
        "#files_path.mkdir(parents=False)"
      ],
      "execution_count": 39,
      "outputs": []
    },
    {
      "cell_type": "code",
      "metadata": {
        "id": "Vm9U1hh-QQ7A"
      },
      "source": [
        "train_file=files_path.joinpath('test.h5')"
      ],
      "execution_count": 40,
      "outputs": []
    },
    {
      "cell_type": "code",
      "metadata": {
        "id": "lq-1442TQWgh"
      },
      "source": [
        "vid_train=np.array(vid_train)\n",
        "cap_train=np.array(cap_train)"
      ],
      "execution_count": 131,
      "outputs": []
    },
    {
      "cell_type": "code",
      "metadata": {
        "id": "zcfuu37BnmTV"
      },
      "source": [
        "vid_val=np.array(vid_val)\n",
        "cap_val=np.array(cap_val)"
      ],
      "execution_count": 41,
      "outputs": []
    },
    {
      "cell_type": "code",
      "metadata": {
        "id": "n5Fg5HQTRy_c"
      },
      "source": [
        "f=h5py.File(train_file,mode='w')"
      ],
      "execution_count": 42,
      "outputs": []
    },
    {
      "cell_type": "code",
      "metadata": {
        "id": "vPR6O5g9SFD0"
      },
      "source": [
        "grp1=f.create_group('train_dt',track_order=True)\n",
        "grp1.create_dataset('train_vid',data=vid_train)\n",
        "grp1.create_dataset('train_cap',data=cap_train)"
      ],
      "execution_count": 73,
      "outputs": []
    },
    {
      "cell_type": "code",
      "metadata": {
        "id": "LHeUd57wSWhg",
        "outputId": "3976379c-936b-44ee-8712-70f9e649d0b3",
        "colab": {
          "base_uri": "https://localhost:8080/"
        }
      },
      "source": [
        "grp2=f.create_group('val_dt',track_order=True)\n",
        "grp2.create_dataset('val_vid',data=vid_val)\n",
        "grp2.create_dataset('val_cap',data=cap_val)"
      ],
      "execution_count": 43,
      "outputs": [
        {
          "output_type": "execute_result",
          "data": {
            "text/plain": [
              "<HDF5 dataset \"val_cap.dat\": shape (2000, 35), type \"<i4\">"
            ]
          },
          "metadata": {
            "tags": []
          },
          "execution_count": 43
        }
      ]
    },
    {
      "cell_type": "code",
      "metadata": {
        "id": "GqbsU8MWs_HV"
      },
      "source": [
        "f.close()"
      ],
      "execution_count": 46,
      "outputs": []
    },
    {
      "cell_type": "code",
      "metadata": {
        "id": "QUfxGTUbSdRv",
        "outputId": "8e84ffe3-3ff5-44e7-bfa7-e38140ca300d",
        "colab": {
          "base_uri": "https://localhost:8080/"
        }
      },
      "source": [
        "#f.keys()\n",
        "#f['train_dt'].keys()\n",
        "f['train_dt'].get('train_vid.dat')"
      ],
      "execution_count": 86,
      "outputs": [
        {
          "output_type": "execute_result",
          "data": {
            "text/plain": [
              "<HDF5 dataset \"train_vid.dat\": shape (8000, 80, 4096), type \"<f4\">"
            ]
          },
          "metadata": {
            "tags": []
          },
          "execution_count": 86
        }
      ]
    },
    {
      "cell_type": "code",
      "metadata": {
        "id": "pzAJaKGltWuu"
      },
      "source": [
        "outfile = open(files_path.joinpath('train_array.dat'),'wb')\n",
        "pickle.dump((vid_train, cap_train),outfile)\n",
        "outfile.close()"
      ],
      "execution_count": null,
      "outputs": []
    },
    {
      "cell_type": "code",
      "metadata": {
        "id": "lgt1gNN1tYzS"
      },
      "source": [
        "outfile = open(drive_path.joinpath('test.dat'),'wb')\n",
        "pickle.dump((vid_val, cap_val),outfile)\n",
        "outfile.close()"
      ],
      "execution_count": null,
      "outputs": []
    },
    {
      "cell_type": "code",
      "metadata": {
        "id": "tVCZwTNevCtl"
      },
      "source": [
        "outfile = open(drive_path.joinpath('tokens_word_index.txt'),'wb')\n",
        "pickle.dump(tokenizer.word_index,outfile)\n",
        "outfile.close()"
      ],
      "execution_count": null,
      "outputs": []
    },
    {
      "cell_type": "code",
      "metadata": {
        "id": "wq0MniNNwRAB"
      },
      "source": [
        "outfile = open(drive_path.joinpath('tokens_index_word.txt'),'wb')\n",
        "pickle.dump(tokenizer.index_word,outfile)\n",
        "outfile.close()"
      ],
      "execution_count": null,
      "outputs": []
    }
  ]
}