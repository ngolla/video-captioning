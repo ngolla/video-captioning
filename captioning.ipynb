{
  "nbformat": 4,
  "nbformat_minor": 0,
  "metadata": {
    "colab": {
      "name": "captioning",
      "provenance": [],
      "collapsed_sections": [],
      "authorship_tag": "ABX9TyPGmseh3+ikpOtA633c2xU1",
      "include_colab_link": true
    },
    "kernelspec": {
      "name": "python3",
      "display_name": "Python 3"
    }
  },
  "cells": [
    {
      "cell_type": "markdown",
      "metadata": {
        "id": "view-in-github",
        "colab_type": "text"
      },
      "source": [
        "<a href=\"https://colab.research.google.com/github/ngolla/video-captioning/blob/master/captioning.ipynb\" target=\"_parent\"><img src=\"https://colab.research.google.com/assets/colab-badge.svg\" alt=\"Open In Colab\"/></a>"
      ]
    },
    {
      "cell_type": "code",
      "metadata": {
        "id": "n8NpkGalvB42"
      },
      "source": [
        "from google.colab import files\n",
        "from google.colab import drive\n",
        "from pathlib import Path\n",
        "import io\n",
        "import pandas as pd\n",
        "import spacy\n",
        "import numpy as np\n",
        "# import counter class from collections module \n",
        "from collections import Counter \n",
        "import matplotlib.pyplot as plt\n",
        "# Import seaborn\n",
        "import seaborn as sns\n",
        "import string\n",
        "import time"
      ],
      "execution_count": 1,
      "outputs": []
    },
    {
      "cell_type": "markdown",
      "metadata": {
        "id": "8zhx3oOGv7g4"
      },
      "source": [
        "function to upload caption corpus and save it to drive and save data to pandas dataframe"
      ]
    },
    {
      "cell_type": "code",
      "metadata": {
        "id": "sf7NoLDpveLY",
        "outputId": "061cf96a-6d02-45e7-9e75-ccf83bfd729b",
        "colab": {
          "base_uri": "https://localhost:8080/"
        }
      },
      "source": [
        "drive.mount('/content/drive')"
      ],
      "execution_count": 2,
      "outputs": [
        {
          "output_type": "stream",
          "text": [
            "Mounted at /content/drive\n"
          ],
          "name": "stdout"
        }
      ]
    },
    {
      "cell_type": "code",
      "metadata": {
        "id": "xmWbQyU4wC9p"
      },
      "source": [
        "def load_csv(file_name, drive_path):\n",
        "  corpus_file=drive_path.joinpath(file_name)\n",
        "  if(corpus_file.is_file()):\n",
        "    corpus_df=pd.read_csv(str(corpus_file))\n",
        "  else:\n",
        "    uploaded=files.upload()\n",
        "    corpus_df=pd.read_csv(io.BytesIO(uploaded[file_name]))\n",
        "    corpus_df.to_csv(corpus_file)\n",
        "  return corpus_df"
      ],
      "execution_count": 3,
      "outputs": []
    },
    {
      "cell_type": "code",
      "metadata": {
        "id": "vBrDyMex-YG-"
      },
      "source": [
        "drive_path=Path(\"/content/drive/My Drive\")\n",
        "annotations=load_csv('video_corpus.csv', drive_path)"
      ],
      "execution_count": 4,
      "outputs": []
    },
    {
      "cell_type": "markdown",
      "metadata": {
        "id": "UpIdxLcPANQ_"
      },
      "source": [
        "Data exploration : Annotation dataframe"
      ]
    },
    {
      "cell_type": "code",
      "metadata": {
        "id": "HD6NIz31-rxf",
        "outputId": "ad3ed429-0638-478d-e089-3f70dddb75a2",
        "colab": {
          "base_uri": "https://localhost:8080/",
          "height": 111
        }
      },
      "source": [
        "annotations.head(2)"
      ],
      "execution_count": null,
      "outputs": [
        {
          "output_type": "execute_result",
          "data": {
            "text/html": [
              "<div>\n",
              "<style scoped>\n",
              "    .dataframe tbody tr th:only-of-type {\n",
              "        vertical-align: middle;\n",
              "    }\n",
              "\n",
              "    .dataframe tbody tr th {\n",
              "        vertical-align: top;\n",
              "    }\n",
              "\n",
              "    .dataframe thead th {\n",
              "        text-align: right;\n",
              "    }\n",
              "</style>\n",
              "<table border=\"1\" class=\"dataframe\">\n",
              "  <thead>\n",
              "    <tr style=\"text-align: right;\">\n",
              "      <th></th>\n",
              "      <th>Unnamed: 0</th>\n",
              "      <th>VideoID</th>\n",
              "      <th>Start</th>\n",
              "      <th>End</th>\n",
              "      <th>WorkerID</th>\n",
              "      <th>Source</th>\n",
              "      <th>AnnotationTime</th>\n",
              "      <th>Language</th>\n",
              "      <th>Description</th>\n",
              "    </tr>\n",
              "  </thead>\n",
              "  <tbody>\n",
              "    <tr>\n",
              "      <th>0</th>\n",
              "      <td>0</td>\n",
              "      <td>mv89psg6zh4</td>\n",
              "      <td>33</td>\n",
              "      <td>46</td>\n",
              "      <td>588702</td>\n",
              "      <td>unverified</td>\n",
              "      <td>55</td>\n",
              "      <td>Slovene</td>\n",
              "      <td>Papagaj se umiva pod tekočo vodo v lijaku.</td>\n",
              "    </tr>\n",
              "    <tr>\n",
              "      <th>1</th>\n",
              "      <td>1</td>\n",
              "      <td>mv89psg6zh4</td>\n",
              "      <td>33</td>\n",
              "      <td>46</td>\n",
              "      <td>588702</td>\n",
              "      <td>unverified</td>\n",
              "      <td>37</td>\n",
              "      <td>Slovene</td>\n",
              "      <td>Papagaj se umiva pod tekočo vodo v lijaku.</td>\n",
              "    </tr>\n",
              "  </tbody>\n",
              "</table>\n",
              "</div>"
            ],
            "text/plain": [
              "   Unnamed: 0      VideoID  ...  Language                                 Description\n",
              "0           0  mv89psg6zh4  ...   Slovene  Papagaj se umiva pod tekočo vodo v lijaku.\n",
              "1           1  mv89psg6zh4  ...   Slovene  Papagaj se umiva pod tekočo vodo v lijaku.\n",
              "\n",
              "[2 rows x 9 columns]"
            ]
          },
          "metadata": {
            "tags": []
          },
          "execution_count": 5
        }
      ]
    },
    {
      "cell_type": "code",
      "metadata": {
        "id": "jfuuaVc9EW8e"
      },
      "source": [
        "def extractBy(title, value, dataset):\n",
        "  return dataset[dataset[title]==value]"
      ],
      "execution_count": 5,
      "outputs": []
    },
    {
      "cell_type": "code",
      "metadata": {
        "id": "_HRnSqvPjpPg"
      },
      "source": [
        "annotations=extractBy('Language','English', annotations)"
      ],
      "execution_count": 7,
      "outputs": []
    },
    {
      "cell_type": "code",
      "metadata": {
        "id": "rlYyD7gp5HFQ",
        "outputId": "88f08f7e-0276-40ab-d088-15ed0560c2a3",
        "colab": {
          "base_uri": "https://localhost:8080/"
        }
      },
      "source": [
        "print('Annotations shape: ',annotations.shape)\n",
        "print('Columns ',annotations.columns)\n",
        "print('Number of Languages available ',len(annotations['Language'].unique()))\n",
        "print('Language available ',annotations['Language'].unique())\n",
        "# only english annotations\n",
        "\n",
        "print('English corpus available data ',annotations.shape) # 85511 rows and 8 columns\n",
        "print('Total number of columns ',annotations.columns)"
      ],
      "execution_count": 8,
      "outputs": [
        {
          "output_type": "stream",
          "text": [
            "Annotations shape:  (85511, 9)\n",
            "Columns  Index(['Unnamed: 0', 'VideoID', 'Start', 'End', 'WorkerID', 'Source',\n",
            "       'AnnotationTime', 'Language', 'Description'],\n",
            "      dtype='object')\n",
            "Number of Languages available  1\n",
            "Language available  ['English']\n",
            "English corpus available data  (85511, 9)\n",
            "Total number of columns  Index(['Unnamed: 0', 'VideoID', 'Start', 'End', 'WorkerID', 'Source',\n",
            "       'AnnotationTime', 'Language', 'Description'],\n",
            "      dtype='object')\n"
          ],
          "name": "stdout"
        }
      ]
    },
    {
      "cell_type": "code",
      "metadata": {
        "id": "t0FP2Ttm7ayX",
        "outputId": "b1cb5611-e400-466e-90e6-dd5fd344bf8f",
        "colab": {
          "base_uri": "https://localhost:8080/"
        }
      },
      "source": [
        "print(annotations.describe()) #describe \n",
        "print(annotations.info) # info\n",
        "print(annotations.dtypes) # type"
      ],
      "execution_count": 9,
      "outputs": [
        {
          "output_type": "stream",
          "text": [
            "          Unnamed: 0         Start           End       WorkerID  AnnotationTime\n",
            "count   85511.000000  85511.000000  85511.000000   85511.000000    85511.000000\n",
            "mean    61422.715148     74.137351     84.358480  522296.482850       90.375846\n",
            "std     35409.262471    115.452416    114.966295  260078.333787      200.714320\n",
            "min        18.000000      0.000000      3.000000  100234.000000        5.000000\n",
            "25%     30816.500000      7.000000     18.000000  297776.000000       24.000000\n",
            "50%     61443.000000     30.000000     41.000000  550906.000000       41.000000\n",
            "75%     92065.500000     93.000000    101.000000  760882.000000       80.000000\n",
            "max    122601.000000    997.000000   1004.000000  998645.000000     3590.000000\n",
            "<bound method DataFrame.info of         Unnamed: 0  ...                                        Description\n",
            "18              18  ...  A bird in a sink keeps getting under the runni...\n",
            "19              19  ...                       A bird is bathing in a sink.\n",
            "20              20  ...  A bird is splashing around under a running fau...\n",
            "21              21  ...                       A bird is bathing in a sink.\n",
            "22              22  ...  A bird is standing in a sink drinking water th...\n",
            "...            ...  ...                                                ...\n",
            "122597      122597  ...               Milk being poured to a bowl of pasta\n",
            "122598      122598  ...                      the girls are mixing the milk\n",
            "122599      122599  ...         The lady added a cream sauce to the pasta.\n",
            "122600      122600  ...                       women are cooking her kichen\n",
            "122601      122601  ...         The woman is pouring cream over the pasta.\n",
            "\n",
            "[85511 rows x 9 columns]>\n",
            "Unnamed: 0         int64\n",
            "VideoID           object\n",
            "Start              int64\n",
            "End                int64\n",
            "WorkerID           int64\n",
            "Source            object\n",
            "AnnotationTime     int64\n",
            "Language          object\n",
            "Description       object\n",
            "dtype: object\n"
          ],
          "name": "stdout"
        }
      ]
    },
    {
      "cell_type": "markdown",
      "metadata": {
        "id": "4J8bNh7LBkLm"
      },
      "source": [
        "#Data cleaning"
      ]
    },
    {
      "cell_type": "code",
      "metadata": {
        "id": "F2FaZuU5AsuU"
      },
      "source": [
        "annotations=annotations.drop(columns='Unnamed: 0')"
      ],
      "execution_count": 10,
      "outputs": []
    },
    {
      "cell_type": "code",
      "metadata": {
        "id": "zu409ECXCz0k",
        "outputId": "283f1355-44ec-4ac4-9641-2a0e30c2e95a",
        "colab": {
          "base_uri": "https://localhost:8080/"
        }
      },
      "source": [
        "cols = ['VideoID', 'Start', 'End']\n",
        "print(annotations.groupby(by=cols)['Description'].count()) #Total number of corpus text for each video chunk\n",
        "print(annotations.groupby(by='VideoID')['Description'].count() )"
      ],
      "execution_count": 11,
      "outputs": [
        {
          "output_type": "stream",
          "text": [
            "VideoID      Start  End\n",
            "-4wsuPCjDBc  5      15     29\n",
            "-7KMZQEsJW4  205    208    42\n",
            "-8rBYNP0UKM  50     82     52\n",
            "             194    201    56\n",
            "-8y1Q0rA3n8  95     102    27\n",
            "                           ..\n",
            "zulPFoY64wE  26     33     34\n",
            "zv2RIbUsnSw  159    162    25\n",
            "             335    341    28\n",
            "zxB4dFJhHR8  1      9      53\n",
            "zzit5b_-ukg  5      20     41\n",
            "Name: Description, Length: 2088, dtype: int64\n",
            "VideoID\n",
            "-4wsuPCjDBc     29\n",
            "-7KMZQEsJW4     42\n",
            "-8rBYNP0UKM    108\n",
            "-8y1Q0rA3n8     59\n",
            "-9CUm-2cui8     28\n",
            "              ... \n",
            "zuYZ5kPatJE     45\n",
            "zulPFoY64wE     34\n",
            "zv2RIbUsnSw     53\n",
            "zxB4dFJhHR8     53\n",
            "zzit5b_-ukg     41\n",
            "Name: Description, Length: 1586, dtype: int64\n"
          ],
          "name": "stdout"
        }
      ]
    },
    {
      "cell_type": "markdown",
      "metadata": {
        "id": "01UDrFslBx7_"
      },
      "source": [
        "Data exploration:\n",
        "\n",
        "Number of video chunks for each video"
      ]
    },
    {
      "cell_type": "code",
      "metadata": {
        "id": "JVU-w7a8HDWS"
      },
      "source": [
        "def merge_rows(cols,df):\n",
        "  df=df.assign(AnnotationID=df[cols].apply(lambda row: '_'.join(row.values.astype(str)), axis=1))\n",
        "  return df"
      ],
      "execution_count": 12,
      "outputs": []
    },
    {
      "cell_type": "code",
      "metadata": {
        "id": "nRjH-rbzGL6c",
        "outputId": "1470c7f4-ad4c-4c11-a46d-5d8d180f53e5",
        "colab": {
          "base_uri": "https://localhost:8080/"
        }
      },
      "source": [
        "annotations=merge_rows(cols,annotations)\n",
        "corpusVideoIds=annotations['AnnotationID'].unique()\n",
        "len(corpusVideoIds)"
      ],
      "execution_count": 13,
      "outputs": [
        {
          "output_type": "execute_result",
          "data": {
            "text/plain": [
              "2088"
            ]
          },
          "metadata": {
            "tags": []
          },
          "execution_count": 13
        }
      ]
    },
    {
      "cell_type": "markdown",
      "metadata": {
        "id": "fAXyC5CIFr6f"
      },
      "source": [
        "#Statistical inference:\n",
        "\n",
        "Consider a video, this video has "
      ]
    },
    {
      "cell_type": "code",
      "metadata": {
        "id": "1TvSwGZ5DJbz",
        "outputId": "aefea49a-e622-4675-ca5a-a56a055be644",
        "colab": {
          "base_uri": "https://localhost:8080/"
        }
      },
      "source": [
        "specificVideo=annotations.query('VideoID==\"-_hbPLsZvvo\"').filter(items=cols)\n",
        "print('Number of chunks in a video ',len(specificVideo.drop_duplicates())) #-_hbPLsZvvo has 11 chunks\n",
        "print('Number of corpus in each chunk of video')\n",
        "print(annotations.set_index('AnnotationID').filter(regex='-_hbPLsZvvo*',axis=0).groupby(by='AnnotationID')['Description'].count())\n",
        "print('Description of each chunk video corpus')\n",
        "print(annotations.set_index('AnnotationID').filter(like='-_hbPLsZvvo_323_328',axis=0)['Description'])"
      ],
      "execution_count": 14,
      "outputs": [
        {
          "output_type": "stream",
          "text": [
            "Number of chunks in a video  11\n",
            "Number of corpus in each chunk of video\n",
            "AnnotationID\n",
            "-_hbPLsZvvo_172_179    44\n",
            "-_hbPLsZvvo_18_25      35\n",
            "-_hbPLsZvvo_19_25      48\n",
            "-_hbPLsZvvo_19_26      42\n",
            "-_hbPLsZvvo_211_219    38\n",
            "-_hbPLsZvvo_269_275    44\n",
            "-_hbPLsZvvo_288_305    42\n",
            "-_hbPLsZvvo_323_328    38\n",
            "-_hbPLsZvvo_43_55      59\n",
            "-_hbPLsZvvo_49_55      38\n",
            "-_hbPLsZvvo_5_8        49\n",
            "Name: Description, dtype: int64\n",
            "Description of each chunk video corpus\n",
            "AnnotationID\n",
            "-_hbPLsZvvo_323_328                            A man is arranging sushi.\n",
            "-_hbPLsZvvo_323_328                A person is arranging food on a dish.\n",
            "-_hbPLsZvvo_323_328    A person is making a hot dog piece look like a...\n",
            "-_hbPLsZvvo_323_328                        A woman arranges a food dish.\n",
            "-_hbPLsZvvo_323_328                                A woman cuts a squid.\n",
            "-_hbPLsZvvo_323_328    A woman is adding eyes to squash cut into ghos...\n",
            "-_hbPLsZvvo_323_328    A woman is arranging some food and decorating it.\n",
            "-_hbPLsZvvo_323_328                     A woman is decorating some food.\n",
            "-_hbPLsZvvo_323_328                A woman is preparing a plate of food.\n",
            "-_hbPLsZvvo_323_328                           A woman is preparing food.\n",
            "-_hbPLsZvvo_323_328    A woman places sesame seeds as eyes, on an oct...\n",
            "-_hbPLsZvvo_323_328                       A woman prepares a sushi tray.\n",
            "-_hbPLsZvvo_323_328    Sesame seed eyes are added to a sausage cut to...\n",
            "-_hbPLsZvvo_323_328    Someone is decorating a cut piece of sausage w...\n",
            "-_hbPLsZvvo_323_328               Someone is decorating food on a plate.\n",
            "-_hbPLsZvvo_323_328         Someone made the sushi look like an octopus.\n",
            "-_hbPLsZvvo_323_328        The lady made the sushi look like an octopus.\n",
            "-_hbPLsZvvo_323_328                  The woman is garnishing vegetables.\n",
            "-_hbPLsZvvo_323_328    A woman garnish a Bento dish in the serving pl...\n",
            "-_hbPLsZvvo_323_328           A woman is putting a vegetable on a plate.\n",
            "-_hbPLsZvvo_323_328              the person is showing how to make bento\n",
            "-_hbPLsZvvo_323_328                        A woman prepares a bento box.\n",
            "-_hbPLsZvvo_323_328                    A person puts seeds on a hot dog.\n",
            "-_hbPLsZvvo_323_328     A person is placing the black thing on the food.\n",
            "-_hbPLsZvvo_323_328                       A lady is decorating her dish.\n",
            "-_hbPLsZvvo_323_328               Someone put two sausages on a platter.\n",
            "-_hbPLsZvvo_323_328                      Someone is preparing some food.\n",
            "-_hbPLsZvvo_323_328                     A woman is preparing some bento.\n",
            "-_hbPLsZvvo_323_328                                        a man coking.\n",
            "-_hbPLsZvvo_323_328                   somebody is decorating vegetables.\n",
            "-_hbPLsZvvo_323_328                        A video on How to make Bento.\n",
            "-_hbPLsZvvo_323_328                                A person making bento\n",
            "-_hbPLsZvvo_323_328                        A woman plates an asian dish.\n",
            "-_hbPLsZvvo_323_328                               A person making  Bento\n",
            "-_hbPLsZvvo_323_328    A woman adds eyes to a piece of food to make i...\n",
            "-_hbPLsZvvo_323_328            A plate with full of fruits are displayed\n",
            "-_hbPLsZvvo_323_328                   The woman is garnishing the plate.\n",
            "-_hbPLsZvvo_323_328              How to make bento japanese boxed lunch.\n",
            "Name: Description, dtype: object\n"
          ],
          "name": "stdout"
        }
      ]
    },
    {
      "cell_type": "markdown",
      "metadata": {
        "id": "uBu6zpSjHd_G"
      },
      "source": [
        "Remove columns that are not useful\n",
        "\n",
        "As we already have annotation ID as we dont need ['VideoID', 'Start', 'End']\n",
        "\n",
        "Similarly, we know that all the description here are in english, let's remove 'Language' as well\n"
      ]
    },
    {
      "cell_type": "code",
      "metadata": {
        "id": "k4uGd1BnIYRE",
        "outputId": "1c05e2db-1e52-4d39-c244-f8e65df9c279",
        "colab": {
          "base_uri": "https://localhost:8080/"
        }
      },
      "source": [
        "annotations.columns"
      ],
      "execution_count": 15,
      "outputs": [
        {
          "output_type": "execute_result",
          "data": {
            "text/plain": [
              "Index(['VideoID', 'Start', 'End', 'WorkerID', 'Source', 'AnnotationTime',\n",
              "       'Language', 'Description', 'AnnotationID'],\n",
              "      dtype='object')"
            ]
          },
          "metadata": {
            "tags": []
          },
          "execution_count": 15
        }
      ]
    },
    {
      "cell_type": "code",
      "metadata": {
        "id": "roZB-wVbkU5b"
      },
      "source": [
        "def removeColums(dataset, columns):\n",
        "  return dataset.drop(columns=columns)"
      ],
      "execution_count": 16,
      "outputs": []
    },
    {
      "cell_type": "code",
      "metadata": {
        "id": "yjBflvuLkjfH"
      },
      "source": [
        "columns=['VideoID', 'Start', 'End', 'WorkerID', 'Source','Language','AnnotationTime']\n",
        "annotations=removeColums(annotations, columns)"
      ],
      "execution_count": 18,
      "outputs": []
    },
    {
      "cell_type": "code",
      "metadata": {
        "id": "SVoN2xhHIgrv",
        "outputId": "bb169420-fde6-4c0b-c6f3-e0562f950041",
        "colab": {
          "base_uri": "https://localhost:8080/",
          "height": 204
        }
      },
      "source": [
        "annotations.head()"
      ],
      "execution_count": 19,
      "outputs": [
        {
          "output_type": "execute_result",
          "data": {
            "text/html": [
              "<div>\n",
              "<style scoped>\n",
              "    .dataframe tbody tr th:only-of-type {\n",
              "        vertical-align: middle;\n",
              "    }\n",
              "\n",
              "    .dataframe tbody tr th {\n",
              "        vertical-align: top;\n",
              "    }\n",
              "\n",
              "    .dataframe thead th {\n",
              "        text-align: right;\n",
              "    }\n",
              "</style>\n",
              "<table border=\"1\" class=\"dataframe\">\n",
              "  <thead>\n",
              "    <tr style=\"text-align: right;\">\n",
              "      <th></th>\n",
              "      <th>Description</th>\n",
              "      <th>AnnotationID</th>\n",
              "    </tr>\n",
              "  </thead>\n",
              "  <tbody>\n",
              "    <tr>\n",
              "      <th>18</th>\n",
              "      <td>A bird in a sink keeps getting under the runni...</td>\n",
              "      <td>mv89psg6zh4_33_46</td>\n",
              "    </tr>\n",
              "    <tr>\n",
              "      <th>19</th>\n",
              "      <td>A bird is bathing in a sink.</td>\n",
              "      <td>mv89psg6zh4_33_46</td>\n",
              "    </tr>\n",
              "    <tr>\n",
              "      <th>20</th>\n",
              "      <td>A bird is splashing around under a running fau...</td>\n",
              "      <td>mv89psg6zh4_33_46</td>\n",
              "    </tr>\n",
              "    <tr>\n",
              "      <th>21</th>\n",
              "      <td>A bird is bathing in a sink.</td>\n",
              "      <td>mv89psg6zh4_33_46</td>\n",
              "    </tr>\n",
              "    <tr>\n",
              "      <th>22</th>\n",
              "      <td>A bird is standing in a sink drinking water th...</td>\n",
              "      <td>mv89psg6zh4_33_46</td>\n",
              "    </tr>\n",
              "  </tbody>\n",
              "</table>\n",
              "</div>"
            ],
            "text/plain": [
              "                                          Description       AnnotationID\n",
              "18  A bird in a sink keeps getting under the runni...  mv89psg6zh4_33_46\n",
              "19                       A bird is bathing in a sink.  mv89psg6zh4_33_46\n",
              "20  A bird is splashing around under a running fau...  mv89psg6zh4_33_46\n",
              "21                       A bird is bathing in a sink.  mv89psg6zh4_33_46\n",
              "22  A bird is standing in a sink drinking water th...  mv89psg6zh4_33_46"
            ]
          },
          "metadata": {
            "tags": []
          },
          "execution_count": 19
        }
      ]
    },
    {
      "cell_type": "markdown",
      "metadata": {
        "id": "C6inh3uaQW31"
      },
      "source": [
        "There is one missing value, hence removing that row will be good decision, because without description there is no meaning to the row"
      ]
    },
    {
      "cell_type": "code",
      "metadata": {
        "id": "AC0D3EmaI3VL",
        "outputId": "538e6167-24c0-4cb9-8b68-9ea7c6d8fc52",
        "colab": {
          "base_uri": "https://localhost:8080/",
          "height": 80
        }
      },
      "source": [
        "annotations[annotations['Description'].isna()]"
      ],
      "execution_count": 20,
      "outputs": [
        {
          "output_type": "execute_result",
          "data": {
            "text/html": [
              "<div>\n",
              "<style scoped>\n",
              "    .dataframe tbody tr th:only-of-type {\n",
              "        vertical-align: middle;\n",
              "    }\n",
              "\n",
              "    .dataframe tbody tr th {\n",
              "        vertical-align: top;\n",
              "    }\n",
              "\n",
              "    .dataframe thead th {\n",
              "        text-align: right;\n",
              "    }\n",
              "</style>\n",
              "<table border=\"1\" class=\"dataframe\">\n",
              "  <thead>\n",
              "    <tr style=\"text-align: right;\">\n",
              "      <th></th>\n",
              "      <th>Description</th>\n",
              "      <th>AnnotationID</th>\n",
              "    </tr>\n",
              "  </thead>\n",
              "  <tbody>\n",
              "    <tr>\n",
              "      <th>71570</th>\n",
              "      <td>NaN</td>\n",
              "      <td>SKhmFSV-XB0_12_18</td>\n",
              "    </tr>\n",
              "  </tbody>\n",
              "</table>\n",
              "</div>"
            ],
            "text/plain": [
              "      Description       AnnotationID\n",
              "71570         NaN  SKhmFSV-XB0_12_18"
            ]
          },
          "metadata": {
            "tags": []
          },
          "execution_count": 20
        }
      ]
    },
    {
      "cell_type": "code",
      "metadata": {
        "id": "h_GbFXd9Qr4l"
      },
      "source": [
        "def drop_nullvalues(df):\n",
        "  df=df.dropna()\n",
        "  return df"
      ],
      "execution_count": 21,
      "outputs": []
    },
    {
      "cell_type": "code",
      "metadata": {
        "id": "dZU_I7ZARC6u"
      },
      "source": [
        "#Drop null values\n",
        "annotations=drop_nullvalues(annotations)"
      ],
      "execution_count": 22,
      "outputs": []
    },
    {
      "cell_type": "markdown",
      "metadata": {
        "id": "aRcOr8yf9pBI"
      },
      "source": [
        "A counter tool is provided to support convenient and rapid tallies. For example:\n",
        "\n",
        ">>> # Tally occurrences of words in a list\n",
        ">>> cnt = Counter()\n",
        ">>> for word in ['red', 'blue', 'red', 'green', 'blue', 'blue']:\n",
        "...     cnt[word] += 1\n",
        ">>> cnt\n",
        "Counter({'blue': 3, 'red': 2, 'green': 1})\n",
        "\n",
        ">>> # Find the ten most common words in Hamlet\n",
        ">>> import re\n",
        ">>> words = re.findall(r'\\w+', open('hamlet.txt').read().lower())\n",
        ">>> Counter(words).most_common(10)\n",
        "[('the', 1143), ('and', 966), ('to', 762), ('of', 669), ('i', 631),\n",
        " ('you', 554),  ('a', 546), ('my', 514), ('hamlet', 471), ('in', 451)]\n",
        "\n",
        "https://docs.python.org/2/library/collections.html"
      ]
    },
    {
      "cell_type": "code",
      "metadata": {
        "id": "lUwq-nNu8_9i"
      },
      "source": [
        "def utility_counter(data):\n",
        "  unique_files=np.unique(data.AnnotationID.values)\n",
        "  print('The number of unique files :', str(len(unique_files)))\n",
        "  counter_dict=Counter(data.AnnotationID.values)\n",
        "  print(counter_dict.keys())\n",
        "  print(counter_dict)\n",
        "  print('The distribution of the number of captions for each video clip ')\n",
        "  ct=Counter(Counter(data.AnnotationID.values).values())\n",
        "  print(ct)\n",
        "  return counter_dict\n",
        "  "
      ],
      "execution_count": 26,
      "outputs": []
    },
    {
      "cell_type": "code",
      "metadata": {
        "id": "gJNYK3-i-WLl",
        "outputId": "3ccb3216-af4a-4a17-806e-f0997486d052",
        "colab": {
          "base_uri": "https://localhost:8080/"
        }
      },
      "source": [
        "w=utility_counter(annotations)"
      ],
      "execution_count": 27,
      "outputs": [
        {
          "output_type": "stream",
          "text": [
            "The number of unique files : 2088\n",
            "dict_keys(['mv89psg6zh4_33_46', 'ZbzDGXEwtGc_6_15', 'g36ho6UrBz0_5_20', '04Gt01vatkk_248_265', 'buJ5HDCinrM_150_166', 'M_TP6UTrh30_343_358', '8mSUD7JGNO0_174_181', 'ljGcQocjSs4_38_60', 'n2NLoLNecgI_168_178', '6q1dX6thX3E_286_295', 'mFCf8lLXrUc_25_35', '6eokrw6_bjU_1_9', 'E2r6nnkwl0c_6_18', 'n016q1w8Q30_2_11', 'rQuNYxNmA6M_0_4', 'ByGspTdA1ug_16_24', '-_hbPLsZvvo_323_328', '6t0BpjwYKco_217_229', 'MTkGPfMRXtc_5_21', 'aeA-HN7BMdo_34_41', 'WWf0Z6ak3Dg_5_15', 'DBvSfds3FH4_76_80', 'Ms3QdGIzltU_1_16', 'nS6oQxX_Qi8_2_12', 'pDvzOLRLjPc_0_8', 'LQ-jv8g1YVI_1_6', 'kquB3rIgfGk_640_645', 'BVjvRpmHg0w_157_165', 'QzcTlEpAigQ_0_14', 'KLgPTlBLHmo_18_21', 'AysIdzGF-7M_6_14', 'iwpnUHFhjWc_9_14', 'D-K3ThvAqfo_126_130', 'bJJndejsUWc_88_98', 'Xh6rdpJNaf0_0_15', 'eyBmG9ZZnLM_215_219', 'nwk4m329bLw_2_10', 'ItFqogTmAvQ_389_395', 'PCXHuseKwDc_17_20', '9Bxknsvy3jQ_53_58', 'a1Y73sPHKxw_0_5', 'ph-72iVQQnU_38_48', 'C1MNCR1o9lU_0_7', 'zzit5b_-ukg_5_20', 'w9mqbwOIkVg_6_12', 'lAznAeFFldg_6_10', 'VF1K_6ZSOAY_23_28', 'j2Dhf-xFUxU_13_20', '_txL575S_OA_13_23', 'E6sqA9QtV5I_195_201', 'XzCcRzEa83U_1_8', '8jP8CC2rKj4_80_88', 'HBCJYhUjVf0_0_9', 'uRo_vJ-zy-U_35_40', 'n6U-TGahwvs_100_110', 'Uc63MFVwfrs_360_372', 'bQJQGoJF7_k_109_115', '3SKyc0aKx70_46_52', '6t0BpjwYKco_46_53', 'iju4KO-3KnY_2_12', 'PuQVs2Ch1LY_5_15', 'elQqQfux7Po_12_22', 'zFIn8DeV5PM_20_33', 'dEn5E-TNezw_13_23', 'J3_hkgu6MGc_43_52', 'q9ew_nITQWY_54_62', '6owu8Mow0_g_302_307', 'WTf5EgVY5uU_98_104', '9W6aQNcU3PA_92_103', 'bXsKw3TOQXs_30_55', '5W02895vT8c_312_322', 'PHDmVhShE80_20_29', '6t0BpjwYKco_118_127', 'xxHx6s_DbUo_41_44', 'DIebwNHGjm8_133_148', 'fvXXLP6A4p4_109_119', '39Ce7I6nXIw_96_104', 'TJXEKN7nwUc_11_49', '0lh_UWF9ZP4_50_60', 'BVilbVCo9sU_1_11', 'OUII8_aOfNM_60_69', 'JK1R9k1WDpc_6_15', 'u4kMN1jamdM_10_20', '7NNg0_n-bS8_21_30', 'UXs3eq68ZjE_255_260', '-_hbPLsZvvo_288_305', 'wjH72cZ0GLM_1_10', '32_A0-er4Ws_16_20', 'vE1gvaM3iAs_39_46', 'MF88IYF2MHY_25_59', 'H7vezmDeZaw_2_7', 'BAf3LXFUaGs_28_38', '80D0ylOqPJ8_0_5', 'ywMLb2VfHbI_13_20', 'XZ0Ch_ClBfo_120_127', 'gMqKUPeTAkg_17_30', 'PmrTDZy3f2M_35_39', 'S-Civm_fbK8_20_26', 'BtQtRGI0F2Q_15_20', 'o_mWZWcm2r4_10_15', 'j2sOMdilDWU_87_97', 'hcCLIzzB1jQ_1_7', 'hJFBXHtxKIc_204_209', '5K7Ru5s6YIw_8_11', '-wa0umYJVGg_168_176', 'klteYv1Uv9A_27_33', 'swKrHEeOj9c_4_8', 'qBFSt85-xqk_15_20', 'z9qbQX4J_2g_0_14', 'AjZ-R3LFMzo_18_23', 'WPG-BIWOrG4_672_677', 'FWzsXeXCwuc_106_110', 'WPG-BIWOrG4_683_689', 'm1NR0uNNs5Y_160_166', 'yC4eEuURH8c_19_28', '30GeJHYoerk_80_85', 'aRo8x3xXeEA_3_8', '-rvjK0lE3z4_33_43', 'yyxtyCaEVqk_329_360', '1dmVuwO1RZk_214_220', 'Q-soOsOLIGQ_0_22', 'msCidKHOh74_410_418', 'NjCqtzZ3OtU_303_307', 'v-9Gx0gJmfo_91_99', '8MVo7fje_oE_113_118', 'Lt1JijkvSKk_0_10', '_O9kWD8nuRU_25_35', 'oFUsn1owAbs_158_168', 'Ea0thGZKPXA_25_35', 'lsanQj2yacs_102_108', 'OpR1Er5o6IY_209_217', 'IhwPQL9dFYc_61_75', 'kquB3rIgfGk_525_532', 'dvhJGidrrKE_254_260', 'qRoxNXm7INc_58_66', 'dvhJGidrrKE_98_101', '16iNk1hLJt4_37_40', 'ZdlG8fjGJlo_78_87', 'lfGlDg47How_361_367', 'c2a0GcoJAjw_107_129', 'O06WXS_XZN0_0_6', '47D9-U8hn5I_11_16', '-_hbPLsZvvo_18_25', 'c51L6ZxZGjQ_137_154', '-vKO3uSG6Do_3_14', 'vfktGc_qx-w_2_18', 'zSPBC8EO6dY_122_126', 's7znbqra118_91_97', 'Tied-t1fFsk_15_20', 'u9prcUCHlqM_73_80', 'aHiUM8uWxxo_17_25', 'mF6ijhSrbBQ_32_40', 'rw9h_574HxE_229_236', '_WRC7HXBJpU_414_425', '9OvXb1fot74_21_29', 'vZa13vJugGU_0_30', 'r4qv_BNlQNk_93_98', 'dfOuTx66bJU_34_39', 'giLxPCgLLqg_9_19', 'e996zZ0uV_A_152_163', 'Ar70p1_LcfM_2_20', 'Kxa0mnDj0bs_113_124', 'ZlX_Gy4HP2E_38_55', 'fr9H1WLcF1A_326_336', 'GPyFZMJ5Dow_56_70', 'ZN2_czSBSD0_240_250', 'v7NpKUVqjpI_23_40', 'eQcUmH0VE90_9_15', 'UbmZAe5u5FI_16_23', 's1ZABV7AQdA_38_48', '_7nP9z6T9m8_11_17', '3ytUOoa1SBE_12_23', '_o1UXSxTjfo_68_80', 'hW8TKz2Aea4_5_12', 'V6Fxclwdfxc_56_66', 'jlahRlo4jlU_30_36', 'QT8iCDc7NGU_18_23', 'p69d3UBdpR8_98_109', 'nBFhvrAOFqY_89_103', 'ysTmUTQ5wZE_17_45', 'BtQEY2SL4g4_11_16', 'yfMTsYcLt10_0_7', '6pcqRuFEMLs_46_52', 'cs33MNhpRNw_16_21', 'uqVCk2oDpSE_194_200', 'rwHT2SuNOi8_195_201', 'q3I3R_gqy8M_73_79', '6sKdTbRkahM_6_12', 'ifS2nXfCyYo_4_34', 'QsKIlhn6if8_270_276', 'HPFLN5azwtA_56_63', 'YXixZrSxefk_6_15', '73vUksucPz8_12_20', 'CBD9h0jUq3w_1_7', 'VoKJr0EOzCU_136_142', '_6OTzzK7t9Y_158_170', 'Je3V7U5Ctj4_582_587', 'CHVhwcOg6y8_1_12', 'J4otiwOjQy8_98_112', 'tZzJ9dDnncY_37_41', '_WRC7HXBJpU_386_391', 'EdrZtaBUXIo_25_29', '5XxshEdcfAM_85_100', 'ACOmKiJDkA4_161_170', 'RSx5G0_xH48_12_17', 'AEKPjVHSVZc_0_12', '00jrXRMlZOY_0_10', '0hyZ__3YhZc_485_490', 'zpgW7m7_LZw_2_15', 'bQJQGoJF7_k_120_126', 'ghynaoVNwZc_1_20', '1rECrfrdNTo_200_207', '8PQiaurIiDM_94_99', '4s_0-zIWEog_1_15', 'dJEoDaA6VXc_1_19', 'ZxqkAGNyo8A_12_22', 'idXJu0BQRvo_2_6', 'crfrKqFp0Zg_15_25', 'Pr5LQq42l4M_12_17', 'wNv74rvkAw8_30_40', 'c75SIlAjfjg_6_14', '_SNE2MYAotU_41_49', 'jjl2ZMdFCsw_130_142', 'HqbVbPvlDoM_0_11', 'q8t7iSGAKik_11_31', '4QdX5Q3qQsQ_6_14', 'R3a9r8qFlhQ_0_12', 'SzEbtbNSg04_111_117', 'MUkKFFdpm4E_121_135', 'MJoxGpEswOI_9_16', 'ngHDYzhDBk4_5_14', '6t0BpjwYKco_53_59', 'KPPCwmU5OHQ_480_486', 'KWK7szRdbrE_80_90', 'V--abChiVVc_30_40', 'nBJV56WUDng_38_47', '77iDIp40m9E_3_9', 'qhknaG9ifbs_122_127', 'hNECyt6Bo0A_5_10', 'I2eWXGaoWko_20_24', 'sWqi41wyXcQ_68_79', '_QJbjKkfdcs_52_57', 'iCiGjZEV7VI_65_75', 'ywHBKayhyvQ_19_28', '0NPtAv3_uVI_46_54', 'UnWgz-mVMXU_2_6', 'ZsrPKtx0qyg_7_15', 'X7sQq-Iu1gQ_12_22', 'HJHPB_Y8GZE_22_28', '_6OTzzK7t9Y_73_78', 'MJNStEgDKXU_3_10', '4ge5_V-xhP0_138_142', 'L9wD3kw-8FE_65_73', 'X_NLV2KCnIE_60_70', 'o2X6UCaNqKA_27_36', 'tgm4dRGBeJ0_289_294', 'qeKX-N1nKiM_106_115', 'ACOmKiJDkA4_121_128', 'zMg9dChF97A_12_38', '_yUiusXxfWI_150_165', 'FH8vgAp4VDU_10_14', '53dc4z7HLyg_25_29', 'BiVJel79edY_154_168', '0hyZ__3YhZc_410_417', 'XtQdAPV2UZs_4_11', 'J7zb8YXrmIA_93_99', 'C_1cnNdMwxY_0_8', 'kWLNZzuo3do_31_37', 'WrsS6X-FB-I_30_47', 'VfqlfprZsaQ_75_85', '2G9fkvBzzQE_10_20', '-7KMZQEsJW4_205_208', '4lXdVS697DQ_10_25', '7uOiiA4Kxbo_23_35', 'GcfWD62sbcs_13_33', 'XdB0pVjFYoU_1_8', 'QOmrchUPnBs_10_20', 'edqyq4Q-7uU_103_109', 'xxHx6s_DbUo_32_36', 'BnJUWwSx1kE_11_22', 'nd0ToNwccl4_12_17', 'ggic669elLM_200_215', 'JXSkYkiKO0I_42_46', '6t0BpjwYKco_71_76', 'ao-9B8IV9_E_175_187', 'KPPCwmU5OHQ_227_238', 'fX5G_JwPlLo_640_660', 'cFzSEIGrEfA_0_24', 'Ayh26v6Nies_17_22', 'Y4BeJ-64294_20_30', 'Qtu-PXuvCx4_12_17', '-DKuLXYoY3g_14_20', '_0nX-El-ySo_83_93', 'IhwPQL9dFYc_124_129', 'D2FbgK_kkE8_121_151', 'BIqVvRh_cEY_143_149', 'GWQTAe64m-0_91_94', 'TwQzFqBqgeA_0_10', 'qPXynwa_2iM_15_25', 'QsKIlhn6if8_39_49', 'd_BWuttLRFM_42_52', 'Lw0eGsYxElA_11_14', 'WTf5EgVY5uU_58_76', 'PHDmVhShE80_78_82', 'HZqscSWtHmo_24_34', '98shpdib9sg_55_62', 'iuqVpMdb1NM_35_43', 'F44bLc6t7-I_1_8', 'QGgJlHi3tjw_1_15', 'e-j59PqJjSM_264_277', 'W8l_ezoU8Lc_55_70', '2YhDTpzxd3c_149_154', 'uH8ObB_dyOk_159_166', 'qNjeEx92rTA_281_299', 'QHkvBU8diwU_1_18', '7_XASfcYdBk_3_13', 'RWWvWFeE6_Q_2_26', 'hNOzHvsEmg4_31_36', 'ArEWo8pERFc_17_21', 'WTf5EgVY5uU_66_75', 'VZ6H73nH7xs_27_33', 'kNHivduxQWg_0_14', 'qeKX-N1nKiM_68_72', '9Wr48VFhZH8_45_50', 'n_Z0-giaspE_270_278', '_KMoC6ZdeXs_10_16', 'hJuqBDw_TT4_105_112', '6ERey_f0Qmw_20_25', '9HTUcMjWB3g_134_138', 'De815YpTBic_41_48', '0hyZ__3YhZc_418_424', 'kEGmZDpZ_RE_248_293', 'sJC7E06IBXI_49_59', '-FugkxLmGO4_5_16', 'zfQOH4UGU_I_1_10', 'urNX3e1Wbc8_30_38', '77iDIp40m9E_119_123', 'kWLNZzuo3do_251_260', '5W02895vT8c_460_470', 'vz71JKcpeUU_0_10', 'LYSPQqUvNO0_43_57', '2YhDTpzxd3c_22_27', 'vuvpbeQak9Q_23_29', '4t5POXt2e68_5_11', 'zYcY4mjLpxU_45_55', 'zBrC1GmA0Qg_26_33', 'hJFBXHtxKIc_317_322', '45AGQSbodbU_5_15', 'KIEWo_xJ5nU_0_7', '6owu8Mow0_g_527_534', 'nhm_APPwhWk_6_12', 'qvg9eM4Hmzk_1_9', 'FA3OfhJK0mI_195_203', 'WpB4-eLyiBc_10_20', '9xVqwy_4pmQ_36_49', 'hReROJQpSow_24_30', 'MPuKVz3sjBA_1_12', 'Ofr7FWbnPqU_1_11', '1mIyMRPV8kg_9_17', 'xaPepCVepCg_35_46', 'ACOmKiJDkA4_67_74', '93n_oYVCLpk_9_12', 'eyBmG9ZZnLM_103_108', 'F2Ny7rq9RKs_139_148', 'tYh4iDFgmEE_10_14', '9QI8cgBSGo8_28_41', '5OuYhq6Zl0g_0_10', 'WTf5EgVY5uU_100_104', '97JhYpoWxzY_0_4', 'PiyoeFC31kE_9_27', '-wa0umYJVGg_271_276', 'OIjsSu_I4So_6_10', 'zuYZ5kPatJE_78_116', 'WqwcWk1In_g_46_54', 'lvFYUmDSOvU_34_38', '3FnUTQMJVXI_31_36', 'kquB3rIgfGk_537_544', 'hSgGBHbJrmE_0_17', 'io2dbV-Qbus_215_247', 'QGJy1K91gP4_90_100', 'xxHx6s_DbUo_173_177', '2YhDTpzxd3c_98_101', '1dA1RQgPN3c_72_82', 'l_AVz90c4jQ_22_43', '27hs9W89FuI_0_10', '3Da8WdYYoOk_5_20', 'xxHx6s_DbUo_121_128', '74tRCYS_534_49_57', 'Els1Cclg_sk_4_15', 'pFSoWsocv0g_8_17', 'IiTzJQE67FA_36_46', 'ScdUht-pM6s_53_63', 'r2PM0om2El8_18_25', 'W6_XuNhgtrM_2_5', 'klFyrnrUSck_87_100', 'FOOM-wA2rOY_77_86', 'onW5hJXnI5s_126_133', 'v-9Gx0gJmfo_26_32', 'uZEGu-TA2cU_42_58', 'hJFBXHtxKIc_118_123', '6ZhKOK08tgM_45_49', 'jTaLGh_MKCM_5_20', 'hJuqBDw_TT4_14_25', 'jvxUeT1Nlb8_100_115', 'PJnJMp2ZpbA_3_15', 'pzq5fPfsPZg_51_57', 'MMnnqzOoMF0_68_72', 'rnawC5C8gSI_82_90', 'FHwC2THZJfA_0_10', 'Kf8oZGHDTt4_4_13', 'bQJQGoJF7_k_162_169', 'PxygpGLKEps_410_420', 'vMoOpQQy6sI_22_55', 'EjAoBKagWQA_132_145', 'IhwPQL9dFYc_143_147', 'BVy9SQI5R68_0_7', 'QVSt5USMkMg_43_50', 'Sude_yGIbJI_18_67', 'DLcuZ-HnHZc_0_10', 'fEsrO_poIUg_161_168', 'YmXCfQm0_CA_50_57', '_JVxurtGIhI_32_42', 'xxHx6s_DbUo_202_207', 'z3v8BMNdDvo_1_13', 'yd8jh9QYfEs_4_10', 'cSDkshD2ME0_12_15', '-_hbPLsZvvo_19_26', '-_hbPLsZvvo_19_25', 'seTkGZlEU64_81_110', 'LacBy2NT3YQ_12_17', 'P2WM91LENgk_40_50', 'f9Won2JpOEU_60_80', 'IiTzJQE67FA_74_86', 'g1Gldu1KS44_8_14', 'tIMDKdMnNYM_266_273', 'YmXCfQm0_CA_277_284', 'J---aiyznGQ_0_6', 'Kqb-mmkEWqU_1_5', '_1vy2HIN60A_32_40', 'JAFGw0WRHHU_108_116', 'JpjAgSvr42k_0_12', '_WRC7HXBJpU_395_401', 'GyIs9B3A1Z0_0_7', '4MjTb5A68VA_111_118', 'G6w6kO8UPyg_31_41', 'TxzxPyfsSxY_0_10', 'MWvCcwTw7Ac_154_181', '0lh_UWF9ZP4_82_87', 'idRc_KkInds_0_6', 'VxM96IYzw0Q_2_15', 'MoqC84sXu88_47_59', 'HDcIB1e9s5A_28_34', 'NbOlG7THecM_25_34', 'RJNBxdDQOw4_13_26', '8MVo7fje_oE_85_90', 'fgWFxFg7-GU_10_26', '_UqnTFs1BLc_23_27', 'nq4hG6qgyPs_240_251', 'cCmnN96zIeQ_14_24', 'xXlWsBhFvis_6_10', 'hWhKdXcqYeU_3_12', 'b_BuSVZwq6M_1_9', 'xPR0xFgCAZY_17_27', 'rq2p5ML8-WI_63_69', 'PBHZtoygOYg_450_465', 'XNV7hKVu-Xg_40_47', '-t-ZWaJeH-o_0_15', 'xgIIcPSh4EU_0_6', 'GY5Dl00LrEI_2_13', '-uT_1VDvXok_8_15', 'ptHkvYrH9fY_2_10', 'Ted3imMggC0_48_58', 'hGmsx2P1qHw_95_100', 'K6xy6C-Hsa0_2_28', '2F9jX7u5nOg_83_97', '9eJPVpoOtOs_115_130', 'PAm82v0AMFc_5_10', '4QdX5Q3qQsQ_38_44', '6t0BpjwYKco_179_183', '6t0BpjwYKco_254_258', 'jcIrD7rNvTM_10_21', 'aeA-HN7BMdo_16_33', 'JIoiUNOXGaI_8_13', 'dP15zlyra3c_0_10', 'VahnQw2gTQY_274_280', 'dQmaVQZz7EE_1_18', 'QA_JTtM1hKA_5_15', '5U3xz9Ovmhk_99_105', '57C93mpt6Xo_358_368', 'Lz-2QTNp5O8_6_16', 'bkazguPsusc_74_85', 'wLUH7qA_6sA_90_115', 'cWOPC2kt_IA_8_16', 'zYcY4mjLpxU_104_118', 'QklHhN8pQBE_0_10', 'gtIz1u8g1F0_3_13', 'nb12bAaKzvA_0_10', '8PQiaurIiDM_143_151', '8BL9qmFRbd4_6_13', 'cSDkshD2ME0_11_14', 'D1tTBncIsm8_725_740', '9HDUADeA2xg_3_31', 'BiVJel79edY_223_240', 'nV3Wv8iHp4U_0_38', '6t0BpjwYKco_15_31', 'omGWjiwxcTE_18_23', 'NaX51emUDn4_0_20', 'ao-9B8IV9_E_87_95', 'gWRRHV7DLV0_21_31', 'PHDmVhShE80_82_86', 'e3XkmpNcSt4_8_19', '2F9jX7u5nOg_114_130', 'ACOmKiJDkA4_49_54', 'xtbsD3PUua4_174_185', 'AjZ-R3LFMzo_5_10', 'nlU3crMsbWI_19_23', 'aC-KOYQsIvU_25_31', 'fvBs0xpEZhQ_10_30', '504gE1DA_4g_1_6', 'bL_Kijz9IN4_0_15', '6KS8R3RxrV8_0_23', 'gHzws6FpuNE_10_12', 'n9bFBSSJ4Fk_32_39', '2YhDTpzxd3c_115_120', 'DAmOfcvfKZ0_22_32', 'pQYEZTwSVbQ_12_18', 'yqvwrNm4eZ0_3_13', 'fjDvKHkmxs0_72_87', '8MVo7fje_oE_125_130', 'lqeojs7S0qI_181_186', 'Zqmx-nXhLAg_0_10', 'ao-9B8IV9_E_72_77', 'qeKX-N1nKiM_52_59', 'pUPKsHTDZTo_70_85', 'WqQonRVs7WA_0_10', '2R_OAYQIkXM_14_22', 'zCf8NWJ8kzA_47_52', 'CL49s8bO6Fg_1_11', 'nc0fVlaTYEs_34_44', '2mUMTFnQWaw_1_9', 'sBjr8UJOpsQ_181_195', 'ItFqogTmAvQ_240_246', '1qU-kF-km1Q_6_16', 'btxCxlO1Euc_1_20', 'X98fLZHIzWQ_15_20', 'v5CeGLEnVFE_0_8', '7OGizkf_JEo_191_194', 'eroAmLZ85DI_28_35', 't1Oqko6IKBE_0_11', 'h0JvF9vpqx8_213_223', 'xxHx6s_DbUo_240_248', 'JYNzY9jmsQQ_2_10', '8yoUaH6wGLs_22_30', '-wa0umYJVGg_23_41', 'rNSAmHPYHjA_60_73', '61OSscPtQWQ_1_6', 'PQbkdRbir0M_45_53', 'gvVsgOK1iJw_32_38', 'kWLNZzuo3do_17_23', 'xBePrplM4OA_6_18', 'UXs3eq68ZjE_250_255', 'SULWQEAErKw_13_26', 'cLNrpO6wBk4_37_47', 'IytNBm8WA1c_63_67', 'ACOmKiJDkA4_130_144', 'zhLcONtNkew_16_21', 'RvJH_POzxmc_10_25', 'ViM0JjUoqRw_10_20', 'h0JvF9vpqx8_36_42', 'tzd3AYTZq0U_0_6', 'pfQPRXcihkI_160_184', 'GopEjCCu2jo_2_9', '-rkErLY0rRc_26_35', 'JsD6uEZsIsU_45_58', '7HcYJKMxpcg_20_28', 'TO0X4DQZKqk_35_41', 'qzQzooI4BqU_5_15', 'a1i6T160REQ_5_18', '6JnGBs88sL0_4_10', 'Ud3Qy8m6OxQ_52_62', 'H1Bok7Dg7g8_21_26', 'RMznbCn5sQs_0_10', 'xCFCXzDUGjY_5_9', 'MTjrZthHwJQ_2_11', 'SrDE9-cDz48_4_12', '0vmoZEaN_-o_5_21', '8SxALJoNNFI_10_21', 'WlGESqqv0jg_77_82', 'Kxa0mnDj0bs_15_20', 'yREFkmrrYiw_51_57', 'KPPCwmU5OHQ_258_266', 'IiH6yl3j4gI_20_30', 'dF1n2Sa2eCE_6_14', 'SzEbtbNSg04_88_93', '9HTUcMjWB3g_122_128', 'LuQ0KiMMhoI_49_64', '4QYPZM01xFE_14_26', 'ACOmKiJDkA4_47_54', 'Ixw6wmoC_xg_60_70', 'zHy7pM0U49w_110_116', 'KeSQ5Rv7eH8_73_79', '1dfR0A_BXjw_545_560', '0piwbTivpDg_10_40', 'puineN1UMto_25_29', 'mHv4iJ9Yr1g_10_16', 'HVR7KpItLfA_62_70', 'W8_63NiTENw_23_30', 'FavUpD_IjVY_22_26', 'rOic25PnIx8_1_3', 'V4q5dQmpxIE_20_30', '6owu8Mow0_g_692_697', 'TIubRrkku-4_1_10', 'OVEe1DMsOq0_43_52', '0ONJfp95yoE_1_10', 'r4qv_BNlQNk_119_124', 'eiyuac7hA4A_4_47', 'SaOqf2d-y30_22_27', 'Lyp7MiaCXNE_114_120', 'P6eo3LULuuc_1_11', '8z-XGiU1KN4_9_17', '98Alrg4pFXs_148_153', '6owu8Mow0_g_384_389', 'WTf5EgVY5uU_218_236', '9OxQ-2gR1DU_18_38', 'jLgmCY1fEE8_16_26', 'UXs3eq68ZjE_508_513', 'N6SglZopfmk_97_111', 'P4IjNV3lZkQ_136_144', 'pmEKZ6yVewc_0_10', 'FTh5zPk34bQ_16_30', 'Jj4uYHr65H8_28_35', 'ri5AyXzxb4o_201_215', 'GEXqMH8I3_w_63_68', 'TnPOZVHB3x0_45_55', 'JntMAcTlOF0_50_70', 'bb6V0Grtub4_174_185', 'BvHnDAsMtUA_0_13', 'Sq7Vt6KC9Yg_17_35', 'WAa4-cctmDk_55_70', 'gHyXstpe_N8_116_125', 'xdhLQCYQ-nQ_50_63', 'jcRCn7MeSbo_71_82', 'QzulzuWr0Zw_20_45', 'xxHx6s_DbUo_162_165', 'xBW_uR3kGr4_42_55', 'RX6NSOuCCAE_13_27', 'gHyXstpe_N8_95_100', 'WTf5EgVY5uU_15_19', 'PqSZ89FqpiY_65_75', 'WEJfT-oB4v4_20_35', 'Oq3FV_zdyy0_843_855', 'ACOmKiJDkA4_57_65', 'vulNlhUI6m0_7_27', 'Rm-RnxN4oHA_215_225', 'FxIuFwMhOu8_18_26', 'm4D72WXFd8s_557_564', 'jCplbayVbtw_10_20', 'EpMuCrbxE8A_107_115', 'CHFXTeQWXjo_206_212', '0sUL0KCIc48_15_25', '_xf24TYgbuY_14_20', 'UXs3eq68ZjE_280_285', 'bLqmf8x7rLI_2_8', 'lexLAjh8fPA_27_31', 'FGjtmhI-Rmk_30_37', 'YEmS8ZQIhTA_7_20', 'TgFmoZj3NoM_10_18', 'D-K3ThvAqfo_151_158', '9LOJmQQktHA_10_18', 'rw9h_574HxE_251_254', 'ao-9B8IV9_E_217_221', 'fnEvy64GuIE_137_146', 'ok4cM6WTA5E_178_184', 'gCra4qOrjFw_1_17', 'IiIiY6o-C9k_59_64', 'sMscRb9TcQE_146_161', 'onW5hJXnI5s_10_16', 'q8t7iSGAKik_57_74', 'LwvyrDxM2G0_0_11', '4z3b4mnw5y4_56_60', 'BVjvRpmHg0w_47_51', 'bxDlC7YV5is_0_12', 'ItFqogTmAvQ_361_365', 'FCjpuJaUec0_19_26', 'D9I1Z6O_mbw_141_146', 'Aa7yf9XtcJM_45_50', 'msCidKHOh74_392_399', 'gp8XjWSoP2k_0_10', 'aN0WsBcja_E_0_15', '77iDIp40m9E_159_181', '7mKqoUiXIeY_7_15', 'ctUQPVFfrJs_6_36', '4Tn5S48sCwg_110_118', 'mfJjIOfj6D8_3_10', 's20OlIRK340_147_174', 'YUlG_PKzpvc_0_8', 'PHDmVhShE80_36_46', '3_51FhosiVY_93_101', 'mCrRHP4LFmo_24_40', 'INDhUwDMg-4_220_227', 'ufFT2BWh3BQ_0_8', 'c76tShLfQb0_74_81', 'BOLKaQeB6j0_101_111', 'PeUHy0A1GF0_99_103', 'r0E-0ntoNWo_20_30', '4JVpbYmqfcI_5_19', 'g2IYQq7IkXc_124_132', 'od0Da0Rn7U0_486_493', 'u_6tre9_99Q_13_25', '1N_Ic2pBM1o_2_23', 'kWLNZzuo3do_192_196', '6GJ1DNOGDAM_223_233', 'DB-3-TVjrxU_58_75', '-8rBYNP0UKM_50_82', 'UbmZAe5u5FI_44_55', '0hyZ__3YhZc_598_603', 'gHyXstpe_N8_140_150', 'UbmZAe5u5FI_36_40', 'Zg0p5TXi_Cc_30_46', 'WPG-BIWOrG4_608_613', 'fr9H1WLcF1A_256_261', 'Lr8ds5iY5uk_8_15', 'FoL7aWvpvNs_199_204', 'IpHJffM3G1c_412_418', 'nZSFn51l3hc_318_326', 'g8LUhxR-6Wg_0_8', 'o4pL7FObqds_243_263', '30GeJHYoerk_121_126', 'KPPCwmU5OHQ_56_62', 'CTIKmoEigCI_3_30', '_WRC7HXBJpU_451_464', '3eqFFRSXwGE_84_96', '5MzJRgpclwQ_70_84', 'WTf5EgVY5uU_16_24', '9Q0JfdP36kI_23_28', 'TPhpsIK7pDc_25_32', '-8y1Q0rA3n8_95_102', '2YhDTpzxd3c_223_232', 'AX38yo7Wuws_81_91', 'v7iIZXtpIb8_5_15', 'mmSQTI6gMNQ_120_128', 'ETUJipdnfOM_0_5', 'YmXCfQm0_CA_109_120', 'WTf5EgVY5uU_54_58', '6sYmDT5et00_301_339', '8NFoN0K3bPg_20_28', 'kuNQpRTc-hA_126_135', 'hEOGZoYSvT4_82_86', 'jv-eV6jR3Qw_7_12', 'Sg5rTYrkpnU_35_48', '-AwoiGR6c8M_10_14', 'f-24IxG9ijw_25_40', 'NV6pq1W-I4g_7_16', 'KUc1cWKXjDc_20_30', '6Lzq1HN33lE_5_15', '1sffYOXq4Iw_23_49', 'YmXCfQm0_CA_7_16', 'EVqc7e8JCco_5_15', 'ybVb3t560oY_0_9', 'kzyFBlNRohs_82_88', '-wa0umYJVGg_286_290', 'kWLNZzuo3do_38_47', '0vmoZEaN_-o_4_12', '27mxaePkYB4_8_14', 'kWLNZzuo3do_38_42', 'fBA_lxUiwSg_2_4', 'LyYJiKxHZz0_0_10', '62I8I4sCPPQ_12_30', '_pj2Nutu5v8_1_8', '_O9kWD8nuRU_77_81', 'wSwwS_0MKEc_68_78', 'Nd45qJn61Dw_0_10', 'KqKUXRHHkCc_101_105', 'yeg0EKdQonk_102_130', 'DKgHYLDebx0_0_8', 'eyBmG9ZZnLM_84_92', 'htry5uxX0-Y_45_52', 'labytsb3gfI_146_154', 'yU5sxW9bErQ_0_17', 'vDhEpqfhVI0_0_8', 'WG0J2B19ZT8_1_33', 'iarsmqA3dck_19_25', 'tqxRDVKtkSY_30_45', 'Z-An1QQ66f0_13_25', 'POv7JaE3vJ8_40_50', 'wFPmKChNrhU_3_11', 'vRC9sBNt9vs_10_16', '88DOMJ11q2M_84_87', 'bruzcOyIGeg_4_12', 'hq8dCkkhYsk_0_10', 'cnsjm3fNEec_4_10', '326U8N2husw_26_28', '5x_OGEdO6Z8_0_21', 'Hu9Sq1RvuoA_19_62', 'yyxtyCaEVqk_321_328', 'Q7H9mI9dtMY_20_34', '9IrWyZ0KZuk_160_166', 'FXWdmIHXS_U_3_10', 'v_tGw5gwlEw_136_152', 'XOAgUVVwKEA_8_20', 'AXL1oMdCFUM_45_59', 'UXs3eq68ZjE_313_318', 'lFyPUgJCmtU_100_110', 'G_hxdUG6QXE_23_28', 'jjl2ZMdFCsw_17_35', 'Je3V7U5Ctj4_634_639', 'qypmR4O1Gwk_0_10', 'Jag7oTemldY_12_25', 'u9prcUCHlqM_503_511', 'clpgffj3sUw_1_12', 'z1PEyzk4ADU_8_18', 'za-9mBZyNfQ_330_336', 'emblM4a76jg_5_15', '0hyZ__3YhZc_562_568', '2L4oELbX8Ms_1_12', 'WTf5EgVY5uU_104_108', 'klFyrnrUSck_79_85', 'aK8liAv-28s_72_82', 'LF51fban_x4_300_325', '0RWJEOScToE_414_421', 'ruNrdmjcNTc_0_5', 'PeUHy0A1GF0_28_32', 'Jfu-WkuCgD0_140_150', 'K1ZM0LSLVw8_481_487', '9Q0JfdP36kI_167_170', 'ecVwxlXc1PQ_0_12', 's20OlIRK340_125_138', 'Okg8QYhdtvU_48_53', 'UbmZAe5u5FI_111_115', '-_hbPLsZvvo_49_55', 'rw9h_574HxE_127_133', 'lsanQj2yacs_80_85', 'kWLNZzuo3do_206_213', 'ACK7SekJWts_140_150', '9WpJxn-2h1o_122_150', '0hyZ__3YhZc_632_637', '5MzJRgpclwQ_48_55', 'JsmHZlUgf1w_0_21', 'Td29-SApubM_48_57', 'OKBLPpAPp9c_2_17', 'zSPBC8EO6dY_132_140', '9BScZRpF7SI_31_36', 'SzEbtbNSg04_70_85', '-Cv5LsqKUXc_17_25', 'DIToA1dDwGQ_32_42', 'Je3V7U5Ctj4_569_576', 'SRzoLVNgHoI_56_66', 'PeUHy0A1GF0_122_127', 'drsPD5fI1IA_170_180', 'eKtsMfmQ_0s_61_68', 'WZTGqvbqOFE_28_34', 'omIPdpxg--4_39_46', 'I9gLTZY1ouc_142_147', 'mJ9eRvxjLc4_0_16', 'me1D1WZ0yNM_120_124', 'Y4gaJn0wlDE_0_10', 'u9E9HpuJQ7U_29_43', '3zrVqwV29V8_69_76', 'K2LxyytY3Dw_104_112', '7bcV-TL9mho_0_7', '6owu8Mow0_g_275_280', 'mbesJaS6vwg_187_195', '9LSuyLyuUiM_3_6', 'q-a6NEotUX8_5_10', 'e40bBP0_AbE_64_67', '5JLi7L1Kwp8_23_30', 'lB1UPJ4leqs_1_6', 'AGRFy5hDQiY_31_38', 'FWzsXeXCwuc_111_116', 'Hd-NeIhbYGc_43_48', 'suj4VNfZz5E_33_50', 'f_CvW22Eauc_16_23', 'D9I1Z6O_mbw_112_119', 'owiXDr1xQ8Y_66_75', 'nULE40HEWpA_5_11', 'Je3V7U5Ctj4_997_1004', 'iTA0rWPE4nY_17_23', '5PpPOGU_0aA_65_75', 'HkuOqWzXYVg_0_12', 'hGmsx2P1qHw_36_44', '_9iG5Ge01PM_3_11', 'wON-YuA1GjA_3_63', '1pw5ZdRhiig_50_59', 'TsagxA4DKuc_28_41', 'X4yzrIc072w_4_20', 'PeUHy0A1GF0_74_77', 'DJWmm_Q9WvY_1_25', 'fF89MasBFLw_321_326', '6t0BpjwYKco_261_284', 'GtrTNldo0LI_33_46', 'o4pL7FObqds_137_147', 'zH4v_DClIoc_3_28', '05gNigkqfNU_24_32', 'mmSQTI6gMNQ_15_21', 'g9aZcaEg7iY_0_9', '4R-tumAGrtU_12_22', '8MVo7fje_oE_139_144', 'gbUhorqLCzU_10_23', '953PkxFNiko_82_85', 'kWLNZzuo3do_77_83', 'nPj6EcVGoUY_7_15', 'Cxxx6wJ1jNo_0_10', 'ItFqogTmAvQ_48_52', 'ok4cM6WTA5E_142_150', 'xxHx6s_DbUo_36_40', 'Gh4Beb8StFM_29_50', 'A_nCfAbXjoM_8_56', '3ftaoFnhTyY_140_150', 'hXn7D6-AAMA_0_9', 'kWLNZzuo3do_262_270', 'EiylMb_mWk4_2_20', 'C2rDp6FnbP0_10_17', 'iwpnUHFhjWc_84_94', 'm1NR0uNNs5Y_57_64', '53dc4z7HLyg_16_23', 'oRBgVOiZVsc_16_22', 'sFExO_PW22s_10_18', '-vg3vR86fu0_1_6', '0lh_UWF9ZP4_215_226', 'pGsU4FekJQM_10_18', '05gNigkqfNU_25_34', 'q3I3R_gqy8M_38_42', 'lB1UPJ4leqs_0_6', 'WPG-BIWOrG4_130_134', 'fGc6_D0JEIQ_31_46', 'ub-aYLzCF_Q_1_10', 'VLBsAPZ2DDE_34_41', 'OUII8_aOfNM_26_55', '1dfR0A_BXjw_401_408', 'pGCRurvXQGM_45_56', '2jXxtQRy47A_30_38', 'UDwvax7K57c_28_35', 'i3cHNObcEh8_0_10', 'OvRmRN1-O0Q_21_25', 'O_NWtDShLeg_21_25', 'EBWPZIjtnTM_1_6', '-DRy7rBg0IQ_31_37', 'WTf5EgVY5uU_18_23', '4PcL6-mjRNk_47_55', 'L8h2DazQZJY_0_10', 'zlS1_zBYluY_15_21', 'DKZg4kIEa0A_31_36', 'b-d-CxHaKGU_10_30', 'ApYvvQK7bBc_6_32', 'UXs3eq68ZjE_498_504', 'GPT4vUwlrXY_1_10', 'jZ8X8e7eRVk_24_27', 'IhwPQL9dFYc_78_88', 'oDcd2JbOyzg_38_55', '5zkCnHUnoYY_69_74', 'NoCgvH4xZHo_240_251', 'a8PAY4rvzRM_1_10', 'FwCmcZpkk-k_22_32', 'toE0QYZzJKE_1_8', '6vSKIUGGLvY_81_87', '3I9tSDU-OSk_17_22', 'q7pOFn8s4zc_27_36', '0lh_UWF9ZP4_38_46', 'MqS82kBtUHQ_0_12', 'WTf5EgVY5uU_32_52', '3qqEKTPxLNs_1_15', '-_aaMGK6GGw_57_61', 'UXs3eq68ZjE_194_200', 'rVFJzN20jhQ_27_32', 's6QwbmWbSmw_18_24', 'ZbtpcGi2DWY_56_62', 'QjI3Y8ZKSqs_30_38', 'xxHx6s_DbUo_158_161', 'rKF0ZW34FRk_41_54', 'NKtfKR4GNjU_0_20', 'ngHDYzhDBk4_24_29', 'Gn4Iv5ARIXc_37_40', 'IiIiY6o-C9k_49_55', 'LqPIBHAmt4E_22_30', 'Q6HuQEIJqcA_9_16', 'ACOmKiJDkA4_146_153', 'jdAbpLooDgM_10_15', 'q5ZRMvjzhXQ_15_29', 'uppFvcVwqqY_5_15', 'IhwPQL9dFYc_137_143', 'Goj131_GxYs_2_7', 'Je3V7U5Ctj4_488_495', 'D1tTBncIsm8_248_254', 'dabI5gfaFm4_19_25', 'eyhzdC936uk_15_27', 'l5JJ2n2ggiQ_319_327', 'M4It3DrhbE0_13_22', 'lcu-DwrnYY8_2_5', 'MHWxjWwAbwM_10_25', 'auFXfsCzAvQ_1_15', 'ZL7P_XmSnEY_205_209', 'DuMkW35BwK8_43_47', 'TF6LNmwDr_0_2_10', 'b0GjKiy3nSI_0_25', '88DOMJ11q2M_34_43', 'veE0E79dEEc_18_45', '6ZZkO14S7GY_5_15', 'I_-Nb_0RxpM_1_15', 'aeA-HN7BMdo_52_58', 'BGG0uYWZBdw_6_12', 'PeUHy0A1GF0_114_121', 'qDjtN7xxNr4_44_51', 'eTnlw7v8ea0_36_50', '-8rBYNP0UKM_194_201', '-bjOB4zS0uE_100_105', 'PeUHy0A1GF0_51_55', 'haJn6k5zVnE_1_23', '88p7U5CnoYU_1_10', 'WTf5EgVY5uU_108_116', '81fABEiwcIM_31_45', 'pqTWUzehCUM_42_47', 'DIebwNHGjm8_27_38', 'inzk2fTUe1w_1_15', 'izU1dDwnuMY_80_92', 'UXs3eq68ZjE_235_240', '7xNG7qGY9rw_14_29', 'Xwrl4htUPjo_22_38', 'aQWCKcg0VRU_321_339', '3lBHYoI5V8s_30_45', 'b71bI0rH1g8_75_90', '9gbUM9oHBNI_557_563', 'Gw0FU733zzg_58_66', '-joBOHlg5J0_72_80', 'Kms3EXosNS0_8_17', '778mkceE0UQ_40_46', 'kWLNZzuo3do_217_222', 'urXDqw3S34I_12_17', 'yVpwra1TJDY_67_80', '4ge5_V-xhP0_35_42', '0lh_UWF9ZP4_71_77', 'i2sRHf9m5KM_28_42', 'fkONJEgTNJY_25_35', 'zWVQImPY2Cc_27_44', 'uO7Eysrs8_k_80_90', 'XNzXXiE6qR4_0_10', '9hqxOcqW2KY_52_65', 'YRSOc193Pxc_68_73', 'GzlnqrzdYHU_32_40', 'onxE6PpEXes_8_25', '11xs9mFKObs_0_8', 'ph-72iVQQnU_126_138', 'EKL6elkbFy0_16_30', 'AoNnzlGhI04_112_128', 'YXixZrSxefk_49_59', 'zTn-nNj5Bng_61_77', 'kBjUDCyDCuI_20_26', '9LHg5RUGukI_63_68', 'W_iR4YVCxUY_8_15', 'z0Si1XxMibg_0_30', 'Rq_VfjGH7kg_104_110', 'qLwgb3F0aPU_298_305', 'pRpeEdMmmQ0_1_18', 'fKqBnl8D1Qo_5_44', 'EA-J-Y6QjUo_40_61', 'dfOuTx66bJU_11_14', '7ZE2OzguWHo_28_38', 'yYA7YXIKbg4_9_14', '8D_oQnBPfNo_43_50', 'z8dcUzdi2bw_3_16', 'aM-RcQj0a7I_37_55', 'JIKaIriiK8w_0_15', 'jfrrO5K_vKM_55_65', 'htWPOGTagec_2_18', 'wzfkC2TjdeQ_0_31', 'p7IAuvd87hQ_12_19', 'dMH0bHeiRNg_3_14', 'YZ0-6hdQ0mU_0_3', 'HxRK-WqZ5Gk_30_50', 'oBt257I-pL0_0_10', 'y8SDRc4IOjs_94_99', '-wa0umYJVGg_139_157', 'YXixZrSxefk_17_48', 'SFFfhAUEoj0_10_16', 'eyMYc-37Sk4_0_10', '0lh_UWF9ZP4_148_155', 'u9prcUCHlqM_235_241', '60x_yxy7Sfw_1_7', '6t0BpjwYKco_240_247', 'R24RktgUi-s_24_28', 'CjvMNwpAFWM_56_66', 'w28TljSqtW8_64_75', 'p6T3XrnYtFk_4_13', '5AEldiUP408_65_71', 'IHIa75B9AhI_2_26', 'zv2RIbUsnSw_159_162', 'RQYLGNbal2c_5_10', 'VahnQw2gTQY_288_293', '-dm-ds5rRaM_44_52', '0lh_UWF9ZP4_79_82', 'm1NR0uNNs5Y_104_110', 'OIg10Bl7urs_0_10', 'pRpeEdMmmQ0_65_70', 'QqYWLR47eLI_10_18', 'CcvJs77L-e8_15_22', 'Ya-MkA187c8_36_45', '2jkExrrm_sQ_19_25', 'k-SWy-sU8cE_5_10', 's-dSFyz_5Ww_31_41', '3chNlP5TeO8_0_10', 'dq7agmFWkq0_5_9', 'x0QoC5POuko_170_180', 'k4hhWYtaQ14_0_10', 'AzMrltkXGJk_0_10', 'lGk1MA6YP-M_36_48', 'oeaVXK2GAyc_4_21', 'fMXfphSi6Yw_7_12', 'ejgwQqCHN1E_7_12', '4Hhdr1IPOGs_90_98', 'Fe4tO5vW9_E_64_70', '_O9kWD8nuRU_37_43', 'x1i0UOssll8_141_151', 'o4OsYxsNGMI_77_82', '0lh_UWF9ZP4_174_178', '4Hhdr1IPOGs_1_10', 'hxWU5vf-fxU_10_15', 'He7Ge7Sogrk_47_70', 'WTf5EgVY5uU_33_39', 'glii-kazad8_21_29', 'HZ-BuDDmvVk_0_10', 'gXVaC3gBWbc_22_30', 'cJOZp2ZftCw_1_12', '5dZ8PXABC30_14_20', 'UyhvHB62ph8_73_82', 'ObBss94n3gI_35_46', 'klFyrnrUSck_63_73', '4yf2WP6K1gQ_28_32', 'Cjf21Y19aUQ_82_86', 'nohvigNMsbo_199_207', '5rNWGoDoiKE_10_15', 'JIoiUNOXGaI_34_41', 'ok4cM6WTA5E_120_133', 'eoP-SCgYM2w_49_60', '4UOVKok7j1U_1_8', 'DlOhXqKcLXk_7_14', 'M2DiiduAMuo_1_6', '5QJf-l4lPJw_133_138', '21uB8g-jDZI_70_79', 'j4dMnAPZu70_12_17', 'gqxpGOHUH9k_113_119', 'lSnWhsmlGec_5_10', 'UgUFP5baQ9Y_0_10', 'nCtZFOYAlvQ_44_49', 'c2a0GcoJAjw_52_73', 'c53HKs39i28_26_35', '5U3xz9Ovmhk_214_222', 'q6vz80UkVtw_0_7', 'ITNh8tWZPOA_5_25', 'ruoHOXo2PRQ_2_20', '5-8z5U-o4O4_0_3', 'uGDuIyfJXXg_23_33', 'c_XV7nPoRg8_2_12', 'NVGGgncVq-4_111_117', 'rw9h_574HxE_13_18', 'kWLNZzuo3do_154_165', 'ACOmKiJDkA4_20_26', 'qeKX-N1nKiM_37_43', 'ao-9B8IV9_E_77_81', 'hFERWnoc-nU_0_12', 'kSzS_lFtJDk_55_70', '05gNigkqfNU_78_84', 'kWLNZzuo3do_152_164', 'dvhJGidrrKE_247_252', '0xx13BuvVmo_25_36', 'eb-Zp4pJLKk_2_19', 'j1Z890_Q3so_131_138', 'QsvBYKaCXEc_5_15', '7M-jsjLB20Y_11_30', '08pVpBq706k_175_212', 'uiLr9bdOL0M_23_30', 'GlW6n43pUQA_0_12', '8yuPGwxwdPs_1_10', '8PQiaurIiDM_173_180', 'hPyU5KjpWVc_0_35', 'QhRqJp-CgEs_7_14', 'rwHT2SuNOi8_240_255', 's8utHZYTNTs_35_42', 'x_8RiVI6rH8_41_54', 'PD6eQY7yCfw_32_37', 'MUkKFFdpm4E_40_58', 'Xxcv5jvRmcg_39_46', '-_hbPLsZvvo_5_8', 'tZmDWltBziM_42_47', 'Hd-NeIhbYGc_28_31', '6BrHPMdyVtU_1_10', 'kk3TIio1-Uw_5_14', '4a1PGntVff8_121_132', '0bSz70pYAP0_5_15', 'kI6MWZrl8v8_149_161', 'MrQd1zUVRUM_103_110', 'sXyjCgR0rAc_0_11', 'sBjr8UJOpsQ_149_169', 's0hwEUC5emA_127_132', 'klFyrnrUSck_13_19', 'pzq5fPfsPZg_29_33', 'fVWUaH2mCt4_1_7', 'fHfpMUDrQCs_17_31', '30GeJHYoerk_63_75', 'Xp6rxW4hFFo_32_40', 't4aPGtx7e6k_0_10', 'W20Btaww6zc_134_139', '6t0BpjwYKco_80_84', 'xTd_IdIcB4s_2_10', '2YhDTpzxd3c_45_49', '8yS2wqwActs_2_14', 'O2qiPS2NCeY_2_18', '1dmVuwO1RZk_0_15', '0hyZ__3YhZc_364_370', '5OvgDatToBU_0_8', 'EPXsiQw9vvo_1_12', 'T6lPRKRpu9w_32_39', '_O9kWD8nuRU_50_56', 'gnEE6oWoz7U_124_132', 'A6XrTsLsUbA_4_15', '0hyZ__3YhZc_279_283', '0lh_UWF9ZP4_94_103', 'd7Gs0uGFLh0_5_13', 'rw9h_574HxE_70_74', 'SKhmFSV-XB0_12_18', 'AJJ-iQkbRNE_97_109', 'UqBafx3iRKw_22_29', 'TdYN7cePiRI_6_13', 'B4foOe9kUgY_0_8', 'c_-eFL7Sfw4_19_35', 'D1tTBncIsm8_198_205', 'MW21lp833Vo_143_149', 'UbmZAe5u5FI_60_70', 'IV5rtOumpa0_268_273', 'qqYysi3qotc_148_195', 'BApIQn69EVE_10_16', 's-XjRDsYuzU_0_12', '1srk7ApounQ_32_38', 'VahnQw2gTQY_315_320', '6gQu8PWhFoQ_30_35', '1dfR0A_BXjw_524_532', 'UxhKb-zZoWE_0_15', 'WFNXwor69-U_33_40', 'nrZyPuRd5pU_85_92', 'n_Z0-giaspE_62_78', '5CS4nLI2ZX8_50_59', 'dJCtOz32dnw_40_60', 'yFPHhRat6bc_160_210', 'pdrBPJYfTC8_33_39', 'eyBmG9ZZnLM_232_237', 'yNy9jTeolUk_8_12', 'MdOAr_4FJvc_5_15', 'SzEbtbNSg04_214_224', 'xxHx6s_DbUo_49_56', '2YhDTpzxd3c_240_245', 'W8l_ezoU8Lc_76_86', 'yEhV8xbekRo_0_10', 'tBj4Ny19vfQ_54_59', 'YJ2aGe7CLBo_25_35', 'gjVBEJGHrXk_26_38', 'nc8hwLaOyZU_1_19', 'EdV81a5Mg9E_178_200', 'fr9H1WLcF1A_141_148', '30PpKtVT8Z4_35_50', 'B7mP4zoDMwM_0_17', '992zi9V3oiQ_15_17', 'gbbRwBZuhzI_26_40', 'Wnz3IevSNg0_1_8', 'm1NR0uNNs5Y_88_94', 'lrZxpneS6Gk_0_12', 'W-dcOOW_ztM_56_62', 'WeOU0Iba1Xg_1_30', 'oSnYUfCGiCA_7_17', 'L6dEUQ6WiHY_136_142', 'IALJXP8LaS4_10_20', 'sYgm_wBTTrc_41_44', 'OaBmAg6gz30_4_18', 'ACOmKiJDkA4_175_182', 'iyAoiWeD53k_120_127', 'jsEUFYhiqxU_121_128', '5U3xz9Ovmhk_9_15', 'a-cek0mvXxE_15_25', 'BR4yQFZK9YM_101_110', 'O9yLRzpPp44_36_55', 'MHIVmf42Ao4_31_36', 'Je3V7U5Ctj4_768_773', 'HkpUWzNNVt4_20_30', 'LEz0puaKNTk_38_48', '4VLrxtf7Z_8_0_7', 'tPkZK-PzeQE_10_28', 'kIZanu909lw_67_80', 'l_AVz90c4jQ_65_106', 'BtQEY2SL4g4_126_132', 'kquB3rIgfGk_197_202', 'D-K3ThvAqfo_43_47', 'zSPBC8EO6dY_97_110', 'LLkehH86ABY_30_36', '2xpIT0L4GqE_1_10', 'dtwXtwJByYk_5_14', 'aCKNdip53W4_0_25', 'lR8RrUBhCQg_5_15', 'qIXs7fUoLIg_1_11', '71soiLO6I9U_15_24', 'GMuijLIJH-U_1_10', 'ZK4W-2ifl6I_1_28', 'sTMlQSbAGfE_0_12', 'Je3V7U5Ctj4_760_765', '1TjqADyYyxI_36_45', 'zkTn5Ef1Oig_71_75', 'cmQ3SiIaWy4_4_20', 'itxzpFW1z7E_22_36', 'YndZ9YulpTo_61_76', 'Eamd2wMKixs_48_72', 'jI58q6rcNLc_8_18', '3mbBbFH9fAg_21_29', 'dJ3ba9zwx6c_5_15', '25NmudB2fqg_0_7', 'W8l_ezoU8Lc_156_162', 'fjDvKHkmxs0_119_126', 'krAk8WPZRL4_207_212', 'd7eGypGOlOc_13_22', 'psXeA8sSYdI_25_30', 'z4_c9CfLBPk_34_39', 'OE6H_M52Sng_89_97', 'MSrJTeKNzdI_32_36', 'xxHx6s_DbUo_57_61', 'ZvJvNcukZ4w_0_10', 'D-K3ThvAqfo_215_220', '1_6V30igzIk_5_15', 'jCplbayVbtw_28_38', 's-QQWRdF-5Y_19_28', 'RieF9wrFd8s_1_8', 'HypgcCT1r68_38_46', 'Z19zFlPah-o_6_11', 'JIoiUNOXGaI_98_104', 'Rf0TUCA3XNs_3_16', 'ePujnD4qJO0_62_77', 'PeUHy0A1GF0_68_73', 'e-sf-hyrkTs_20_35', 'tn-Hoz4KbkE_89_93', '_ZwwKOzpt2I_69_76', '2KrdBUFeFtY_22_27', 'kWLNZzuo3do_147_153', 'qvSxiVV7jhw_0_15', 'NoCgvH4xZHo_56_63', 'ItFqogTmAvQ_281_286', 'k06Ge9ANKM8_5_16', 'hJFBXHtxKIc_298_303', '8e0yXMa708Y_24_33', 'lm0z7eLsbbw_9_23', 'IY1Fn796MoY_7_10', 'R24RktgUi-s_5_15', 'kWLNZzuo3do_56_62', 'd1zdJO3CqVw_1_35', 'hkkmKk9LcQk_36_43', '2HpZvL-_fiY_40_44', 'r2oI9Y-3wAo_21_28', '4PayIIIOeIs_230_238', 'v4_AzQSnmY4_40_55', 'yq8CjZ2ZzyI_285_295', 'b97TK8XVLHE_40_50', 'Z8rTzW9Gb6Y_116_123', 'KpmVL4ANieA_0_9', '5qVPfLgjHx0_16_22', 'tZzJ9dDnncY_43_46', 'fqly5kyO2MI_10_20', '0hyZ__3YhZc_575_580', 'bmOy6p87TWI_26_35', '-zOrV-5vh1A_69_76', 'OBLIjdMIIt8_54_61', 'bmvD4HlPFxg_20_27', 'nTUONeDqhdk_10_15', 'ecm9gf2Pgkc_1_24', '-_hbPLsZvvo_211_219', 'dtn0PuxgfkM_0_5', 'zbAk0gX7kas_16_24', 'HV12kTtdTT4_5_14', 'TjLCJKoot4U_43_65', 'x_7BrCQdVUs_172_177', 'HO_ovIrLWfQ_1_11', 'YwmUgVrUJ4I_0_15', 'yId1rg5-ac0_40_50', 'xxHx6s_DbUo_98_101', '4zPSShqsq-o_3_16', 'W1052h2rzoA_91_98', 'Ke21boTg2Vg_24_29', 'EXyp0Q7L1zE_30_38', 'OO-5-eVEKPA_25_31', 'q-JHcsqJXWY_0_8', '5E66Gk3V1Bc_23_30', '05gNigkqfNU_11_23', 'kWLNZzuo3do_76_80', '05Gtb7_9tLU_0_9', '5XxshEdcfAM_96_107', 'PTxHJMM6hHE_0_15', 'gIvetX_oXeI_85_90', 'TZ860P4iTaM_11_20', '3doK4FQM5-k_46_57', 'hM3jzlyNIpc_0_10', 'yvfhk1kwKls_103_113', '2Nn2CAeaI5k_72_77', 'l57mQZvDaL4_10_30', 'aA05I5QaZnM_66_75', 'GjN84xigExI_9_20', '0lh_UWF9ZP4_138_145', 'dc4UltkRJsw_53_59', 'k8l4ETsylVY_9_18', '3OPQqH3YlHA_50_54', '8PQiaurIiDM_247_255', 'QTAqjSbMkXU_65_75', '-mAoVOhKy0c_4_9', 'Z3rj9LbCOaM_0_12', 'E4k0Aylzdyo_97_104', 'D1X6qXkLjYE_41_49', 'UbmZAe5u5FI_88_98', 'vub04F8CWng_32_41', 'LjimLwAhAOQ_5_15', 'bqMmyY1ImkI_0_14', 'hGmsx2P1qHw_15_25', '9d57lHEsLU8_1_14', '2LgrGHWSy6k_122_135', 'd4AGWnHJcaY_6_19', 'RjpbFlOHFps_8_25', 'rw9h_574HxE_161_166', '4_WZN7uW0NY_140_145', '0lh_UWF9ZP4_199_207', 'VyBXcQ1v_cw_7_15', '3zgEl-OLFKE_12_15', 'Gn4Iv5ARIXc_83_93', 'kKGehSw5ht8_39_45', 'hbE29pZh76I_3_8', 'uB9zRlV47qA_17_23', '1kYWws89W3Y_0_5', 'wgrrQwLdME8_0_10', 'z2kUc8wp9l8_40_46', 'N2Cm0SLr0ZE_18_29', 'ZdNP0dXCx2I_78_90', 'qeKX-N1nKiM_123_130', '-pUwIypksfE_13_23', 'lw7pTwpx0K0_38_48', 'lb8J2zCQTlo_3_8', 'ge7OOILJA6U_20_25', '1dfR0A_BXjw_590_600', '-YI0cxuNcq8_262_272', 'H9Oplnr8WcE_24_34', 'kZfBt5me3Pg_2_7', 'BE_uxYK9uz0_150_168', 'dhxE9CNeVeY_0_12', 'Afmc6FeN-hM_20_24', 'kWLNZzuo3do_222_227', '9wxB1UQi0MM_18_38', 'UJKythlXAIY_17_21', 'IhzXQ-gc9IQ_125_129', '-4wsuPCjDBc_5_15', 'o_mWZWcm2r4_47_54', '1RchFBCT9JU_43_53', '-wa0umYJVGg_100_115', 'CquJjlNuotg_147_155', '8sARjdhSvpo_167_176', 'UbmZAe5u5FI_26_33', 's80J2dAUUyI_33_43', 'e-j59PqJjSM_50_98', 'bmxIurBrW5s_51_70', 'VuCFgiWfVF4_0_6', 'umjc1CkO4JA_290_305', '9LHg5RUGukI_58_63', 'k9Brw_0gncU_14_33', 'ficwZQYmRLE_5_20', 'hNPZmTlY_3Q_0_8', '0hyZ__3YhZc_380_384', 'ul9Xvjt83eI_111_120', 'jW77z3-SrO4_56_63', 'Qwn0Ni9G5ow_64_69', '9uDPqigcnzw_36_46', 'pptYu3YQnxY_160_170', '0lh_UWF9ZP4_178_182', 'wFX6bXLbHW4_83_90', 'eZLxohGP4IE_147_158', 't3VPeyYL-fI_35_39', '6Q3ltyPJJMQ_67_72', 'yg4aNiO1JnI_111_114', 'oDcd2JbOyzg_85_98', '7d1d2WlEnKs_0_12', 'fJr2evLANsE_0_10', 'unhiT2D6WvE_0_20', 'jDFn-1lXJ98_71_80', 'ogcqFaNbah4_475_487', '1dfR0A_BXjw_441_448', 'fw8qvK67jYY_50_97', '_O9kWD8nuRU_16_23', 'SaYwh6chmiw_15_40', 'BgoOihBb78w_38_40', 'yyxtyCaEVqk_250_264', 'UoPU8F9mus8_258_262', 'DGQL5lx-mwE_2_12', 'ao-9B8IV9_E_37_44', 'YersIyzsOpc_15_30', 'DhwrBs96Kgk_120_124', 'wX-Bl25Htag_104_115', '_WRC7HXBJpU_360_370', 'BE_uxYK9uz0_49_56', 'kWLNZzuo3do_24_31', 'btuxO-C2IzE_64_72', 'ZbtpcGi2DWY_161_170', '8mSUD7JGNO0_198_204', 'cR2yi-JnGcQ_8_16', 'FeTaKOPVaJg_15_25', 'kWLNZzuo3do_25_32', '3Mqau7J2g5E_18_36', '5hSW67ySCio_33_41', 'PeUHy0A1GF0_105_112', 'b4FM9OLBGyM_37_49', '02Z-kuB3IaM_2_13', 'glrijRGnmc0_211_215', 'mFCf8lLXrUc_36_57', 'kJY5BRCNAs4_3_6', 'UdcObAQ5OOM_15_30', 'i2GgBwlwV0c_24_31', 'lKpGc3SCSVw_12_20', '2I20ZTFHheg_96_104', '9zXqkHvs0po_59_65', 'Pgm-mOQu2MM_48_62', 'sJSmRik2c-c_1_7', 'rV5VmhY3-Sw_65_76', 'nZSFn51l3hc_660_666', 'rXZy-PHtnxg_8_42', 'GnwKcpfr_ng_10_20', 'xtbsD3PUua4_84_94', 'tJHUH9tpqPg_113_118', 'PNMsPz1701c_3_20', 'wgrrQwLdME8_66_74', 'aGUx0QOKWXw_7_12', 'PugziVUikEg_117_140', 'VLBsAPZ2DDE_58_64', 'mOZkcBcWR8o_6_12', 'fcvW1vr8hAs_104_108', 'WTx-K045yQM_85_98', 'WyIqGyj21Dk_0_10', 'ymC2bNi6-Is_9_19', 'kWLNZzuo3do_48_53', 'kWLNZzuo3do_86_93', 'lv8d_qLLqsk_1_20', '0GXq1An3yHI_22_35', 'kWLNZzuo3do_145_151', 'Pm9L60YBj3s_0_32', 'AdcgmBtE99c_108_114', '6njscWrdnM0_8_18', '0SMOK2ql7Pg_5_12', 'xb-Nacm-pKc_78_82', 'D1tTBncIsm8_681_688', 'pNelR-nHz7g_68_90', 'DvYN53KBDr0_51_62', 'JsD6uEZsIsU_1_47', '4xVGpDmA4lE_23_33', 'sqy2CMDl7U0_7_10', '4cgzdXlJksU_83_90', 'xxHx6s_DbUo_216_222', 'Zoz0HcCB1vU_0_10', 'xpOYXbMDDBY_1_20', '-9CUm-2cui8_39_44', 'Ne87egvJnWo_0_3', 'qyZ9z_3f94Q_6_9', '19lyIaPOvYs_10_17', '5YJaS2Eswg0_22_26', '0I4VKj4d0WI_24_40', 'R1UrFBF_0iU_35_41', 'F1BwUJ4--Qw_21_38', 'Ylb4pnW-jP4_102_113', 'nYwbAb0QvBE_195_210', 'fIaLVw_Gc_w_99_109', 'WTf5EgVY5uU_124_128', 'AjZ-R3LFMzo_24_38', 'MWzeInQaUk4_12_20', '5HAf_INrFy0_3_25', 'PslVHtXc7Tg_8_14', 'pfQPRXcihkI_135_144', 'RZL9irxnhZ0_34_40', '4ikH9ZRcF2Q_89_105', 'TvBsaMgqh5s_61_68', 'uAaWVeaYLdQ_1_12', 'n_Z0-giaspE_379_387', 'CwPfvoqmV1Q_58_61', 'wsj_dzz33Ko_31_41', 'sm0OYD0NSbQ_51_59', 'tYQ7O6V0Fvk_20_55', 'K-KVz3eqbnA_1_10', 'i3fd4nE8OCI_174_181', '6owu8Mow0_g_850_855', 'SZP3Jpbbwj0_52_59', 'otvx5OZHTJc_1_22', 'zxB4dFJhHR8_1_9', 's_ldnx8_etY_32_54', 'nau1vCzyFQ4_37_54', 'jMO3jGQeqyk_3_6', 'lo4KcsBN--A_0_10', 'b4mJ3AQc-ag_30_34', 'QsC8__3lwO0_50_60', '-s4-6QTT7HE_235_241', 'UXs3eq68ZjE_382_387', 'z0zb--BOhDY_16_22', 'aDjNl5gs4nM_18_47', '4eJJF11bIxM_1_9', '8MVo7fje_oE_130_136', 'ceOXCFUmxzA_100_110', 'CulG2SMC7DU_14_25', 'mYzajpeAWuA_100_112', 'OCcy9TDRGKo_118_127', 'yAD_TS5L2d4_4_11', 'sI0FBMKYo7s_1_6', 'K-czl524zxk_6_15', 'lfGlDg47How_93_98', 'Gm1WnWVXYzQ_0_9', 'NZWiKMZS_k8_39_48', 'fvXXLP6A4p4_250_268', 'kWLNZzuo3do_228_232', '_pBeOAMjGm8_1_18', 'ao-9B8IV9_E_108_119', '4kQnrKvOTNg_15_24', 'mLEhUMLvraQ_35_68', 'C_DDjCRxTxQ_1_4', 'MY-rGamtAJc_6_22', 'ViWQUOGIaSU_9_16', 'PECk9A-07Pw_1_9', '5dv8MSWlxoQ_10_40', 'qeKX-N1nKiM_133_142', 'ht2oIYBSoI0_9_21', '6RlYLTU5gvM_18_24', 'jD4o_Lmy6bU_117_137', 'Je3V7U5Ctj4_558_563', '-_hbPLsZvvo_172_179', '6t0BpjwYKco_200_205', 'o4pL7FObqds_72_78', 'gqSOvUH_njE_151_155', 'aUPnwqkPXYc_123_138', 'cM55xNJ_pfU_1_20', 'inLBPVG8oEU_18_24', 'xEDCfcMZlZY_37_41', 'KPPCwmU5OHQ_424_430', 'ggWzbEFC-RE_1_11', 'bAYIIlX-WWw_5_15', '7s0AXJtLL0Y_57_61', 'lmCrIZeob4w_23_26', '5L5MoemWC6g_10_13', 'WinaH9SkW9c_11_38', 'MrMG15y3rWU_5_13', 'nTasT5h0LEg_12_14', 'eVSQiPbepXg_44_49', '_JorUS-8Nlg_63_73', '8MVo7fje_oE_166_171', 'NjCqtzZ3OtU_62_67', 'ry7AUQtuwdU_4_39', '5JSbxHECb-I_97_110', 'xlPyHMkpaQY_1_7', '-8y1Q0rA3n8_108_115', 't4vP-cXXWkY_14_20', 'Ly5D0z9gKtc_15_20', 'nMBSDpB3WB8_5_14', '2YhDTpzxd3c_102_105', '6ZhKOK08tgM_225_233', 'VF1K_6ZSOAY_60_70', 's-dSFyz_5Ww_13_23', 'e-j59PqJjSM_405_416', 'VahnQw2gTQY_203_210', 'C9vRgZDxTv4_26_33', 'Okg8QYhdtvU_73_92', 'sT5Bzt9w354_11_34', '4D1o4FC8YbA_207_216', 'Z10_CDPQKKs_1_6', 'JledeVyklPw_1_6', 'iEW-EkPQywU_61_83', 'f_GnkweYzzI_35_41', 'a28s_wyqkyc_68_77', 'X0UJaprpxrk_18_26', 'j4dMnAPZu70_11_18', '3n_Kqak2JdA_48_71', 'ibSwITK4jjQ_14_24', 'JM4913Fe-ic_4_15', 'mZVPkPqwzR4_38_45', 'YmXCfQm0_CA_68_75', 'SJZFNwfcSOw_3_18', 'fnpp8v9NbmY_181_188', 'UwlALS1AKb4_0_16', 'Qp-k0H93iJE_35_39', 'aJoDt4DMkFU_118_124', 'IEQyCcageGg_99_126', 'Wv3u2q3oGeU_35_45', 'CGllPWAwmUo_1_15', '0lh_UWF9ZP4_183_190', 'FAD8CbQuvco_35_45', '4wT7zM8XgXQ_5_11', 'pfQPRXcihkI_127_138', 'PAN5IVvMlVc_17_23', 'GWQTAe64m-0_160_166', 'shPymuahrsc_5_12', '0lh_UWF9ZP4_21_26', 'Li3umATsU0E_1_5', 'SzEbtbNSg04_28_48', 'bK-i_FAcpoY_86_92', 'Vn0Xv0fb1z4_18_30', 'Z3XarHZ3HpY_10_17', 'VU4qLrk5axA_40_58', '1_abYc1K0e4_20_25', '-Ms9tsWmhyU_80_95', '6t0BpjwYKco_59_69', 'dZBIdRGKRhM_13_32', 'tZmDWltBziM_70_80', 'r0rmrbTb7fU_98_109', 'kRNHJSc4AXE_220_228', 'ID2xXlUENG0_19_24', 'XEOH3t5AYY0_22_29', 'p9g06ktIkJg_4_11', 'm1NR0uNNs5Y_73_78', 'iLr7ZHAq1ro_7_11', '9Q0JfdP36kI_56_64', '7uF-2adCsI0_60_67', 'zkTn5Ef1Oig_70_75', '-rkErLY0rRc_63_67', 'sv5YlZspb30_10_20', 'J_evFB7RIKA_104_120', 'AKVBK-0veE8_5_12', '_O9kWD8nuRU_70_76', '6gQu8PWhFoQ_37_41', 'IhwPQL9dFYc_171_175', '0lh_UWF9ZP4_62_69', 'b24_bb57PPk_631_637', 'TPD5wO_LEPU_2_6', '8MVo7fje_oE_108_113', '6vC6AT27RUc_29_46', 'HzYtvOYOEoU_21_32', '4D1o4FC8YbA_29_39', 'IhwPQL9dFYc_130_136', 'IhwPQL9dFYc_50_59', 'WPG-BIWOrG4_635_640', 'OfgSCMxttCc_86_92', 'JMUAylpXzG0_45_62', 'BLXzfdNmydQ_151_156', 'zulPFoY64wE_26_33', 'p3J3TAdKAYQ_0_10', 'Dgf0VHMEtNs_57_66', '-wa0umYJVGg_117_123', 'u4T76jsPin0_0_11', 'xEDCfcMZlZY_91_100', '2YhDTpzxd3c_174_180', 'IhwPQL9dFYc_153_170', 'pcjuCotJYj8_50_62', 'MwOEK-KXSPc_1_10', 'oMPebXDwkZ0_4_19', 'N3A7944_UJw_63_70', '4-1gpwkD7Hc_7_15', '0lh_UWF9ZP4_27_31', 'e996zZ0uV_A_196_204', 'QMJY29QMewQ_42_52', 'Ffv7fhL1EDY_177_184', 'K1ZM0LSLVw8_488_494', '-_hbPLsZvvo_43_55', 'swJ0zhVJ8DU_15_21', '8HB7ywgJuTg_131_142', 'k5OKBX2e7xA_19_32', '8CzlhZtunNc_5_11', 'G-M78KIy19E_315_330', 'D-K3ThvAqfo_163_169', 'xkNDE1JL6Z8_50_59', 'MW21lp833Vo_8_16', 'WV9K6MbLjHA_106_116', 'MUkKFFdpm4E_1_12', 'fY0lZTWlBAg_470_485', 'WTf5EgVY5uU_130_135', 'MICawzo1MqI_3_13', 'DcDYRpa34W8_11_25', '9VG7Elw9TDA_85_91', 'CuBgBtQAN7E_7_20', '5fq9iIxxA1s_12_27', 'klFyrnrUSck_25_36', '5EXVeP6R3yc_105_108', 'qOiN__I1-Zo_2_8', 'n_Z0-giaspE_437_447', 'qvg9eM4Hmzk_4_10', 'uuM0BFHTTsQ_9_50', '5fDBl1wT2Lk_34_39', 'bnN_o0Hkn3M_73_80', 'FvfjDQj5sOY_1_10', 'UXs3eq68ZjE_320_325', '1Dty_eGY9Ec_123_133', 'gtixLEvO2Us_0_6', 'muI1BFsdbdo_33_45', 'mtrCf667KDk_134_176', 'x8Ul09tk6zk_0_8', 'pzq5fPfsPZg_145_160', 'wkgGxsuNVSg_34_41', 'VahnQw2gTQY_322_327', 'Je3V7U5Ctj4_504_511', 'p69Q8lTkZTc_21_29', '7EOqi_6rnkg_36_44', 'R0e8ojL0vcc_8_14', 'bDoCQEwghZU_201_211', 'qew09qQgMAg_22_27', 'ulPvRmNfXK4_96_100', 'Tm1HjqK0ABg_9_15', 'TFJ6oR89Vb8_90_107', 'iUYWdCxvJCI_2_14', 'vpR0L3sIvoo_15_49', 'm1NR0uNNs5Y_224_230', 'HmVPxs4ygMc_44_53', 'lFdg5CWMTt0_24_28', '8MVo7fje_oE_153_158', 'm1NR0uNNs5Y_123_129', 'HAjwXjwN9-A_16_24', 'KPPCwmU5OHQ_467_472', '_O9kWD8nuRU_45_49', 'm1c04pCYGxA_57_64', 'nZSFn51l3hc_480_485', 'qeKX-N1nKiM_0_5', 'zTn-nNj5Bng_8_19', 'NoCgvH4xZHo_68_74', 'jmoT2we_rqo_0_5', 'eVSQiPbepXg_83_93', 'pW9DFPqoIsI_26_50', 'SzEbtbNSg04_71_93', 'Mutb8BHFvzk_15_20', 'hJFBXHtxKIc_310_315', 'PqvKNqkGI9o_47_52', 'V6Fxclwdfxc_1_11', 'nBFhvrAOFqY_23_29', '1QVn0FffExM_14_24', 'z_qf7tOnHVg_81_89', 'TZ860P4iTaM_15_28', 'zS50h-a8RTg_3_9', 'PCXHuseKwDc_68_76', 'WPG-BIWOrG4_755_761', 'q7pOFn8s4zc_263_273', 'PeUHy0A1GF0_62_66', 'L6dEUQ6WiHY_171_186', 'Cx1We6GX4IM_0_8', '04Gt01vatkk_308_321', 'ab9EVXlohHg_33_40', 'IpHJffM3G1c_439_446', 'oG6LLGi_n48_51_55', 'YmXCfQm0_CA_140_156', 'rlQ2kW-FvMk_66_79', '_7V-7cs1pNA_269_275', 'IBgsLmDcL78_80_84', 'Sj6GSmDpNDw_0_12', 'UhI-p6AysWY_25_30', 'C12BRGGcd5E_101_117', 'nTasT5h0LEg_40_43', 'nq4hG6qgyPs_184_195', 'sZf3VDsdDPM_107_114', '1dYpcVv6n3Y_0_18', 'kEGmZDpZ_RE_295_330', 'PeUHy0A1GF0_78_85', 'Xvy21KrDv8I_0_10', 'hksxtbcS780_7_14', 'tYh4iDFgmEE_50_54', 'nLvX-erABqY_67_72', 'cwkjJrGpoaU_30_41', 'D-K3ThvAqfo_209_213', 'hW8TKz2Aea4_40_50', 'IWhrWLOAin0_1_4', 'JnNe61UZsdM_78_88', 'UbmZAe5u5FI_132_141', 'lfGlDg47How_110_115', '9fkS7wqrzAY_13_25', 'tmAX2PnRCY0_284_292', '0hyZ__3YhZc_388_394', '06CbMa0kDr8_3_13', 'fd7Ky1lEPT8_40_50', 'BefkDBj5gSw_104_109', 'ZnLgsasu82g_71_81', 'bxjFqtfJlMs_18_27', 'ZYaxg5NZW_g_21_27', 'p6cg2jWI34M_34_42', 'X56XkGFe7OY_47_61', 'OxL9z2BzBnk_0_19', 'd-2C_N5anww_1_3', 'NMlKMfiHSho_1_15', 'O9cOSO9L8Zs_1_16', 'Ce7equ9zCxk_4_19', 'po2tcrG6KzM_2_8', 'eZLxohGP4IE_15_25', 'LSuVRWPoHr0_0_37', 'Yh2N6ZtRBdU_110_120', 'Vg1jyL3cr60_163_186', 'IpHJffM3G1c_464_470', 'WTf5EgVY5uU_94_98', 'RiglOfJon8I_3_18', 'gbW9f8xydks_0_10', '4PcL6-mjRNk_11_18', 'JktNQQnLblQ_4_9', 'BVjvRpmHg0w_121_130', 'E61HNXjgyqA_22_32', 'HYbEf-JKZnA_13_26', 'hxZ-5wELSJM_0_12', 'GnwKcpfr_ng_47_57', 'OCcy9TDRGKo_41_51', 'klFyrnrUSck_42_46', 'kBMsuhDvg88_45_64', 'kWLNZzuo3do_167_181', 'UXs3eq68ZjE_49_54', 'yPNFVj-pISU_105_115', 'Qjbcibrv3L0_26_32', 'cUW_bXll6YM_390_395', '6QbhfbLUtQs_13_23', 'Puv_4NtflqE_26_34', '9Q0JfdP36kI_19_27', 'm1NR0uNNs5Y_192_198', 'jTnrm338_KY_34_42', 'akXjIEoecNs_2_12', 'c2MwqFYVE7A_40_45', 'jPBxl9gFqNY_110_117', '64Xn9edeWRA_0_11', 'hoinj6vyQ2g_8_16', '-_hbPLsZvvo_269_275', 'g2IYQq7IkXc_23_32', 'e4QGnppJ-ys_6_14', 'rl1rVk_xIOs_1_16', 'EPgQ9QwbsLE_16_23', 'e996zZ0uV_A_68_72', 'UI3Cbj9fbxQ_2_23', 'hJFBXHtxKIc_163_168', 'tn1d5DmdMqY_15_28', '8MVo7fje_oE_180_185', 'AQhiE_NL6yY_91_101', 'yOnRm3TP6hM_0_12', 'DN7jwyL1Xgg_1_19', '2MCpA01Sn_c_75_82', 'sRKQfxxEP4M_117_125', 'G3aJaADfFiE_210_216', 'Z3m9V8qPXhQ_13_24', 'Ow_o78zjo14_42_57', 'tcxhOGyrCtI_15_21', '5U3xz9Ovmhk_258_265', 'J8cP93yG1Ao_14_24', 'BefkDBj5gSw_233_240', 'DDtX5a-OgLQ_1_15', '77iDIp40m9E_126_131', 'AE9UaQwum8c_0_10', 'TZ860P4iTaM_10_24', 'BOv-2HzNPaA_7_12', 'Je3V7U5Ctj4_956_961', '6t0BpjwYKco_105_110', '0lh_UWF9ZP4_191_197', 'xxHx6s_DbUo_182_186', '_sJ_09Mf1HY_49_72', 'zHy7pM0U49w_103_109', 'jxdubZzQrio_33_46', 'xSmfK498DjI_1_20', 'ACOmKiJDkA4_23_30', 'nLz0QuerH1c_8_15', 'Ms3QdGIzltU_10_20', 'C9LHk0AJI7U_196_205', 'hJFBXHtxKIc_225_230', 'EwTZ2xpQwpA_14_21', 'bSIjZ75a50s_286_304', 'DBvSfds3FH4_84_88', 'IhwPQL9dFYc_24_30', '8VUbN3hkdBo_36_50', 'fcvW1vr8hAs_96_102', '0lh_UWF9ZP4_165_170', 'xy9LLUUZ6ic_50_60', '6mYnZbIwcNo_10_16', 'DIGIvSOLTIE_24_30', 'JhCvLmf9yr0_46_50', 'CgWYN5e9K10_30_62', 'JnNe61UZsdM_42_51', '0lh_UWF9ZP4_157_160', '229NvV0SRHw_0_5', '0wutCy2ZGOQ_4_10', 'GEXqMH8I3_w_14_18', 'UgUFP5baQ9Y_0_7', 'R8FDJgVW3Vc_0_4', 'LLHUB8ciPrc_0_13', 'YAud4eS3DoA_54_65', 'clKtfGBVI1I_15_28', 'NjblUomxFQo_100_108', 'vloe_60s_dk_0_9', 'EqOGzNkekMk_5_15', 'UXs3eq68ZjE_246_250', 'HJHPB_Y8GZE_259_263', '5CU2JhYM8tY_14_45', 'a0g7wtBkS98_34_42', 'E6sXN-5IgHs_0_8', 'N5wsl86P37Q_1_15', 'qeKX-N1nKiM_74_77', 'eZLxohGP4IE_190_201', 'f9_bP219ehQ_63_70', 's9TklvyLFyI_177_191', '9HTUcMjWB3g_143_151', 'Uc63MFVwfrs_355_372', 'lKADopH3qFY_0_10', 'O9yLRzpPp44_167_190', 'zSPBC8EO6dY_64_73', 'gyOVZz7kXyM_1_10', 'Jxw16bqzVqE_18_28', 'tHLiYTS9Iz8_1_16', '6t0BpjwYKco_142_151', '4yYapi-5QYQ_33_57', '0M-PyX2DbZc_25_31', 'LVHEDAK3X1s_0_16', '1Sp2__RCT0c_11_15', 'cUW_bXll6YM_462_469', 't8Nf1MK7lts_0_10', '_OBlgSz8sSM_15_32', 'UbmZAe5u5FI_101_110', 'Puh1n8DTKw8_2_9', 'NNYLo1OeZ-Q_48_54', 'NFxWwI0J3As_78_84', 'sb1dX5xAFvk_10_17', 'IAvBB2lv8iw_142_148', 'NVGGgncVq-4_12_20', '5P6UU6m3cqk_57_75', 'otLEUwHao_E_140_151', 'LwicaralvS0_90_104', 'uJPupV4oLZ0_4_12', 'XzCcRzEa83U_39_46', '0IDJG0q9j_k_1_24', 'wn9rDTZj-m4_8_18', 'Ugb_uH72d0I_8_17', 'e-j59PqJjSM_163_173', 'xOQn1z_oWDY_30_39', 'UXs3eq68ZjE_209_214', '0hyZ__3YhZc_289_295', '1qV4wfjTYIo_151_164', 'xfRIRSWy0y0_10_20', 'bSrpvMSuhPM_17_31', '0k1Ak8aTMVI_4_12', 'bQJQGoJF7_k_145_153', 'zr9OeyfLPPY_4_9', 'TXabUVUxJqI_22_31', '50O8tEyWg1Y_24_47', 'KrBeBabazDU_15_20', 'HN-ccxID8IM_3_10', '0hyZ__3YhZc_352_356', 'xxHx6s_DbUo_82_86', 'm1NR0uNNs5Y_273_280', 'WTf5EgVY5uU_121_135', 'fMFvOgb4k6E_35_43', 'JXSkYkiKO0I_112_116', '0hyZ__3YhZc_302_307', 'wpUT0DNB3qs_9_19', 'Ixw6wmoC_xg_116_126', 'nq4hG6qgyPs_370_377', '6FmN22YcVVE_11_18', 'dmyz_f8Sx14_56_66', 'O_Pst-uryQI_1_14', 'xGdoi3W3Z4o_2_40', '0hyZ__3YhZc_341_348', 'kEGmZDpZ_RE_352_370', 'D1tTBncIsm8_841_848', 'uy0HNWto0UY_18_25', '3opDcpPxllE_50_66', '1hPxGmTGarM_9_19', 'WTf5EgVY5uU_76_83', '4DVsKrdXaUs_4_12', 'B-Lsf7ZKf5c_10_25', 'yBK02O1Oewc_20_35', 'nHZsE7T7hwI_13_23', '1qxMJLkHDLw_0_9', 'gGDtPJzh_0s_30_45', '5l6acVf12S4_7_13', 'j2Dhf-xFUxU_20_29', 'j7xz1nos-xc_10_20', 'rw9h_574HxE_59_66', 'KFt5Zz5Mwlo_12_30', '6r5DmFa5ZR8_51_58', 'zv2RIbUsnSw_335_341', '-Cv5LsqKUXc_71_76', 'VahnQw2gTQY_298_305', 'uxEhH6MPH28_69_85', '2FLsMPsywRc_45_63', 'NUYu9c9XsgY_7_21', 'hJFBXHtxKIc_286_291', 'uVPnDJKt1M0_0_6', 'ACOmKiJDkA4_75_81', 'ZDoy9S82ETA_5_15', 'FeTaKOPVaJg_60_70', 'BVjvRpmHg0w_231_250', 'q3I3R_gqy8M_34_37', 'QdXRgR30bE4_9_19', 'MWvCcwTw7Ac_78_86', 'n_Z0-giaspE_168_193', 'YS1mzzhmWWA_9_16', 'HM-ZDoRWiH4_0_5', 'qIk_Dz5XE5E_104_109', 'F3pmw2ga244_59_65', 'uO7Eysrs8_k_106_114', 'BCZN-PmEOFg_141_146', 'vcCMId0DQaQ_19_38', 'lc9bA-hvqHU_1_6', '2YhDTpzxd3c_166_170', '6t0BpjwYKco_230_240', '0lh_UWF9ZP4_103_110', 'x68Djm_Q0GA_0_10', 'X6uJyuD_Zso_3_17', 'R2DvpPTfl-E_20_25', 'm7x8uIdg2XU_67_73'])\n",
            "Counter({'kWLNZzuo3do_48_53': 81, 'kWLNZzuo3do_25_32': 75, 'kWLNZzuo3do_17_23': 71, 'D2FbgK_kkE8_121_151': 66, 'gbbRwBZuhzI_26_40': 66, 'kWLNZzuo3do_24_31': 65, 'JhCvLmf9yr0_46_50': 65, 'IHIa75B9AhI_2_26': 64, 'fjDvKHkmxs0_119_126': 64, 'Ofr7FWbnPqU_1_11': 63, 'pfQPRXcihkI_160_184': 63, 'Lr8ds5iY5uk_8_15': 63, 'Q6HuQEIJqcA_9_16': 63, 'Kms3EXosNS0_8_17': 63, '05gNigkqfNU_78_84': 63, 'A6XrTsLsUbA_4_15': 63, '30PpKtVT8Z4_35_50': 63, '05gNigkqfNU_11_23': 63, 'iUYWdCxvJCI_2_14': 63, 'nTasT5h0LEg_40_43': 63, '39Ce7I6nXIw_96_104': 62, 'TwQzFqBqgeA_0_10': 62, 'RJNBxdDQOw4_13_26': 62, 'fgWFxFg7-GU_10_26': 62, 'K6xy6C-Hsa0_2_28': 62, 'nc0fVlaTYEs_34_44': 62, 'eiyuac7hA4A_4_47': 62, 'msCidKHOh74_392_399': 62, 'Z-An1QQ66f0_13_25': 62, 'UqBafx3iRKw_22_29': 62, 'fw8qvK67jYY_50_97': 62, '5dv8MSWlxoQ_10_40': 62, 'FeTaKOPVaJg_60_70': 62, 'YS1mzzhmWWA_9_16': 62, 'g36ho6UrBz0_5_20': 61, 'buJ5HDCinrM_150_166': 61, 'Ms3QdGIzltU_1_16': 61, '8jP8CC2rKj4_80_88': 61, 'zFIn8DeV5PM_20_33': 61, 'CBD9h0jUq3w_1_7': 61, 'ywHBKayhyvQ_19_28': 61, 'MJNStEgDKXU_3_10': 61, 'PJnJMp2ZpbA_3_15': 61, 'PQbkdRbir0M_45_53': 61, 'SULWQEAErKw_13_26': 61, 'IiH6yl3j4gI_20_30': 61, 'KeSQ5Rv7eH8_73_79': 61, '05gNigkqfNU_24_32': 61, '3I9tSDU-OSk_17_22': 61, 'Z19zFlPah-o_6_11': 61, 'hkkmKk9LcQk_36_43': 61, 'k8l4ETsylVY_9_18': 61, '8sARjdhSvpo_167_176': 61, 'oDcd2JbOyzg_85_98': 61, 'DhwrBs96Kgk_120_124': 61, 'mFCf8lLXrUc_36_57': 61, 'PugziVUikEg_117_140': 61, 'otvx5OZHTJc_1_22': 61, 'pfQPRXcihkI_127_138': 61, 'JMUAylpXzG0_45_62': 61, 'WV9K6MbLjHA_106_116': 61, 'NUYu9c9XsgY_7_21': 61, 'io2dbV-Qbus_215_247': 60, 'VxM96IYzw0Q_2_15': 60, 'JYNzY9jmsQQ_2_10': 60, 'cLNrpO6wBk4_37_47': 60, '9WpJxn-2h1o_122_150': 60, '05gNigkqfNU_25_34': 60, 'q5ZRMvjzhXQ_15_29': 60, 'veE0E79dEEc_18_45': 60, 'aQWCKcg0VRU_321_339': 60, 'nCtZFOYAlvQ_44_49': 60, 'WFNXwor69-U_33_40': 60, 'W-dcOOW_ztM_56_62': 60, 'kIZanu909lw_67_80': 60, 'dhxE9CNeVeY_0_12': 60, 'JsD6uEZsIsU_1_47': 60, 'ry7AUQtuwdU_4_39': 60, 'm1c04pCYGxA_57_64': 60, '1QVn0FffExM_14_24': 60, 'X56XkGFe7OY_47_61': 60, '229NvV0SRHw_0_5': 60, 'BVjvRpmHg0w_231_250': 60, 'vcCMId0DQaQ_19_38': 60, '8mSUD7JGNO0_174_181': 59, 'n016q1w8Q30_2_11': 59, 'aHiUM8uWxxo_17_25': 59, 'ZN2_czSBSD0_240_250': 59, 'p69d3UBdpR8_98_109': 59, 'MUkKFFdpm4E_121_135': 59, 'nBJV56WUDng_38_47': 59, '_6OTzzK7t9Y_73_78': 59, 'FH8vgAp4VDU_10_14': 59, 'QGgJlHi3tjw_1_15': 59, 'nhm_APPwhWk_6_12': 59, 'l_AVz90c4jQ_22_43': 59, 'Kf8oZGHDTt4_4_13': 59, '-t-ZWaJeH-o_0_15': 59, '2F9jX7u5nOg_114_130': 59, 'H1Bok7Dg7g8_21_26': 59, '_xf24TYgbuY_14_20': 59, 'BVjvRpmHg0w_47_51': 59, 'cnsjm3fNEec_4_10': 59, 'Hu9Sq1RvuoA_19_62': 59, 'DJWmm_Q9WvY_1_25': 59, 'GtrTNldo0LI_33_46': 59, 'o4pL7FObqds_137_147': 59, 'QjI3Y8ZKSqs_30_38': 59, 'NKtfKR4GNjU_0_20': 59, 'auFXfsCzAvQ_1_15': 59, 'W_iR4YVCxUY_8_15': 59, 'p7IAuvd87hQ_12_19': 59, 'oeaVXK2GAyc_4_21': 59, 'He7Ge7Sogrk_47_70': 59, 'MUkKFFdpm4E_40_58': 59, '6gQu8PWhFoQ_30_35': 59, 'z4_c9CfLBPk_34_39': 59, '3OPQqH3YlHA_50_54': 59, 'b4FM9OLBGyM_37_49': 59, 'b4mJ3AQc-ag_30_34': 59, 'MY-rGamtAJc_6_22': 59, 'ht2oIYBSoI0_9_21': 59, 'dZBIdRGKRhM_13_32': 59, '-_hbPLsZvvo_43_55': 59, '5fq9iIxxA1s_12_27': 59, '5fDBl1wT2Lk_34_39': 59, 'Mutb8BHFvzk_15_20': 59, '4PcL6-mjRNk_11_18': 59, 'GEXqMH8I3_w_14_18': 59, 'NFxWwI0J3As_78_84': 59, 'uxEhH6MPH28_69_85': 59, 'uVPnDJKt1M0_0_6': 59, 'lc9bA-hvqHU_1_6': 59, 'z9qbQX4J_2g_0_14': 58, 'AjZ-R3LFMzo_18_23': 58, 'c2a0GcoJAjw_107_129': 58, 'jlahRlo4jlU_30_36': 58, '_6OTzzK7t9Y_158_170': 58, 'f9Won2JpOEU_60_80': 58, '0vmoZEaN_-o_4_12': 58, 'fBA_lxUiwSg_2_4': 58, 'XOAgUVVwKEA_8_20': 58, 'eKtsMfmQ_0s_61_68': 58, 'suj4VNfZz5E_33_50': 58, 'nPj6EcVGoUY_7_15': 58, '9hqxOcqW2KY_52_65': 58, 'kBjUDCyDCuI_20_26': 58, 'lGk1MA6YP-M_36_48': 58, '4Hhdr1IPOGs_1_10': 58, 'cJOZp2ZftCw_1_12': 58, 'eb-Zp4pJLKk_2_19': 58, 'O2qiPS2NCeY_2_18': 58, 'AJJ-iQkbRNE_97_109': 58, 'lrZxpneS6Gk_0_12': 58, 'sYgm_wBTTrc_41_44': 58, 'itxzpFW1z7E_22_36': 58, 'rXZy-PHtnxg_8_42': 58, 's_ldnx8_etY_32_54': 58, 'ggWzbEFC-RE_1_11': 58, '3n_Kqak2JdA_48_71': 58, 'MUkKFFdpm4E_1_12': 58, 'gtixLEvO2Us_0_6': 58, 'zTn-nNj5Bng_8_19': 58, 'fd7Ky1lEPT8_40_50': 58, 'ZnLgsasu82g_71_81': 58, 'BVjvRpmHg0w_121_130': 58, 'HYbEf-JKZnA_13_26': 58, 'x68Djm_Q0GA_0_10': 58, 'iwpnUHFhjWc_9_14': 57, 'a1Y73sPHKxw_0_5': 57, 'MF88IYF2MHY_25_59': 57, 'GPyFZMJ5Dow_56_70': 57, '73vUksucPz8_12_20': 57, 'fX5G_JwPlLo_640_660': 57, 'cFzSEIGrEfA_0_24': 57, 'LYSPQqUvNO0_43_57': 57, '74tRCYS_534_49_57': 57, 'tIMDKdMnNYM_266_273': 57, 'ptHkvYrH9fY_2_10': 57, '2F9jX7u5nOg_83_97': 57, 'jcIrD7rNvTM_10_21': 57, 'gHzws6FpuNE_10_12': 57, 'btxCxlO1Euc_1_20': 57, 'PqSZ89FqpiY_65_75': 57, 'WG0J2B19ZT8_1_33': 57, '5x_OGEdO6Z8_0_21': 57, 'JsmHZlUgf1w_0_21': 57, '4R-tumAGrtU_12_22': 57, 'uppFvcVwqqY_5_15': 57, 'aeA-HN7BMdo_52_58': 57, '3lBHYoI5V8s_30_45': 57, 'RQYLGNbal2c_5_10': 57, 'l_AVz90c4jQ_65_106': 57, 'd1zdJO3CqVw_1_35': 57, '4zPSShqsq-o_3_16': 57, '2Nn2CAeaI5k_72_77': 57, 'xpOYXbMDDBY_1_20': 57, '5YJaS2Eswg0_22_26': 57, 'fIaLVw_Gc_w_99_109': 57, 'p69Q8lTkZTc_21_29': 57, 'IBgsLmDcL78_80_84': 57, 'JktNQQnLblQ_4_9': 57, 'Puh1n8DTKw8_2_9': 57, 'xGdoi3W3Z4o_2_40': 57, '6eokrw6_bjU_1_9': 56, 'QzcTlEpAigQ_0_14': 56, '3SKyc0aKx70_46_52': 56, 'WrsS6X-FB-I_30_47': 56, '9xVqwy_4pmQ_36_49': 56, 'uZEGu-TA2cU_42_58': 56, 'MoqC84sXu88_47_59': 56, 'bkazguPsusc_74_85': 56, 'nV3Wv8iHp4U_0_38': 56, 'DAmOfcvfKZ0_22_32': 56, 'LuQ0KiMMhoI_49_64': 56, '0piwbTivpDg_10_40': 56, 'FxIuFwMhOu8_18_26': 56, 'gCra4qOrjFw_1_17': 56, 'Gh4Beb8StFM_29_50': 56, 'A_nCfAbXjoM_8_56': 56, 'a8PAY4rvzRM_1_10': 56, 'dabI5gfaFm4_19_25': 56, 'ZL7P_XmSnEY_205_209': 56, '-8rBYNP0UKM_194_201': 56, 'inzk2fTUe1w_1_15': 56, 'JIKaIriiK8w_0_15': 56, 'xTd_IdIcB4s_2_10': 56, '8yS2wqwActs_2_14': 56, 'TZ860P4iTaM_11_20': 56, 'Qwn0Ni9G5ow_64_69': 56, 'cR2yi-JnGcQ_8_16': 56, 'FeTaKOPVaJg_15_25': 56, '5hSW67ySCio_33_41': 56, 'Zoz0HcCB1vU_0_10': 56, 'QsC8__3lwO0_50_60': 56, 'G-M78KIy19E_315_330': 56, 'vpR0L3sIvoo_15_49': 56, 'ab9EVXlohHg_33_40': 56, 'Z3m9V8qPXhQ_13_24': 56, 'CgWYN5e9K10_30_62': 56, 'E6sXN-5IgHs_0_8': 56, '_OBlgSz8sSM_15_32': 56, 'HN-ccxID8IM_3_10': 56, 'gGDtPJzh_0s_30_45': 56, 'rw9h_574HxE_59_66': 56, 'nwk4m329bLw_2_10': 55, '5K7Ru5s6YIw_8_11': 55, 'ZsrPKtx0qyg_7_15': 55, '98shpdib9sg_55_62': 55, 'ArEWo8pERFc_17_21': 55, 'GyIs9B3A1Z0_0_7': 55, 'Kxa0mnDj0bs_15_20': 55, 'yU5sxW9bErQ_0_17': 55, 'aK8liAv-28s_72_82': 55, 'ub-aYLzCF_Q_1_10': 55, 'MqS82kBtUHQ_0_12': 55, 'DIebwNHGjm8_27_38': 55, 'R24RktgUi-s_24_28': 55, 'hxWU5vf-fxU_10_15': 55, 'UxhKb-zZoWE_0_15': 55, 'yNy9jTeolUk_8_12': 55, 'ZK4W-2ifl6I_1_28': 55, 'sTMlQSbAGfE_0_12': 55, '-YI0cxuNcq8_262_272': 55, 'k9Brw_0gncU_14_33': 55, 'DGQL5lx-mwE_2_12': 55, '8mSUD7JGNO0_198_204': 55, 'wsj_dzz33Ko_31_41': 55, 'QMJY29QMewQ_42_52': 55, 'fY0lZTWlBAg_470_485': 55, 'HmVPxs4ygMc_44_53': 55, 'TZ860P4iTaM_15_28': 55, 'yOnRm3TP6hM_0_12': 55, 'N5wsl86P37Q_1_15': 55, 'yBK02O1Oewc_20_35': 55, 'X6uJyuD_Zso_3_17': 55, 'WWf0Z6ak3Dg_5_15': 54, 'BVjvRpmHg0w_157_165': 54, 'gMqKUPeTAkg_17_30': 54, 'zMg9dChF97A_12_38': 54, '_yUiusXxfWI_150_165': 54, '3Da8WdYYoOk_5_20': 54, 'aeA-HN7BMdo_16_33': 54, '8BL9qmFRbd4_6_13': 54, 'yqvwrNm4eZ0_3_13': 54, 'RvJH_POzxmc_10_25': 54, '8SxALJoNNFI_10_21': 54, '8NFoN0K3bPg_20_28': 54, 'drsPD5fI1IA_170_180': 54, '-vg3vR86fu0_1_6': 54, '4PcL6-mjRNk_47_55': 54, 'TF6LNmwDr_0_2_10': 54, '8D_oQnBPfNo_43_50': 54, 'YXixZrSxefk_17_48': 54, 'fMXfphSi6Yw_7_12': 54, 'o4OsYxsNGMI_77_82': 54, 'Xxcv5jvRmcg_39_46': 54, 'HkpUWzNNVt4_20_30': 54, 'LEz0puaKNTk_38_48': 54, 'HypgcCT1r68_38_46': 54, 'aA05I5QaZnM_66_75': 54, 'Afmc6FeN-hM_20_24': 54, 'ul9Xvjt83eI_111_120': 54, 'GnwKcpfr_ng_10_20': 54, 'wgrrQwLdME8_66_74': 54, '4kQnrKvOTNg_15_24': 54, 'xlPyHMkpaQY_1_7': 54, 'ulPvRmNfXK4_96_100': 54, 'TFJ6oR89Vb8_90_107': 54, '04Gt01vatkk_308_321': 54, 'C12BRGGcd5E_101_117': 54, 'bxjFqtfJlMs_18_27': 54, 'EPgQ9QwbsLE_16_23': 54, 'UI3Cbj9fbxQ_2_23': 54, 'Ugb_uH72d0I_8_17': 54, 'MWvCcwTw7Ac_78_86': 54, 'mFCf8lLXrUc_25_35': 53, 'O06WXS_XZN0_0_6': 53, 's7znbqra118_91_97': 53, 'c75SIlAjfjg_6_14': 53, 'BnJUWwSx1kE_11_22': 53, 'r2PM0om2El8_18_25': 53, 'W6_XuNhgtrM_2_5': 53, 'DLcuZ-HnHZc_0_10': 53, '_1vy2HIN60A_32_40': 53, 'MWvCcwTw7Ac_154_181': 53, '9HDUADeA2xg_3_31': 53, 'fjDvKHkmxs0_72_87': 53, 'a1i6T160REQ_5_18': 53, 'zHy7pM0U49w_110_116': 53, 'W8_63NiTENw_23_30': 53, '9OxQ-2gR1DU_18_38': 53, 'ri5AyXzxb4o_201_215': 53, 'TnPOZVHB3x0_45_55': 53, 'o4pL7FObqds_243_263': 53, '7bcV-TL9mho_0_7': 53, 'TsagxA4DKuc_28_41': 53, '7xNG7qGY9rw_14_29': 53, '4ge5_V-xhP0_35_42': 53, 'YRSOc193Pxc_68_73': 53, 'onxE6PpEXes_8_25': 53, 'w28TljSqtW8_64_75': 53, '2jkExrrm_sQ_19_25': 53, 'gXVaC3gBWbc_22_30': 53, '7M-jsjLB20Y_11_30': 53, '0bSz70pYAP0_5_15': 53, 'dJCtOz32dnw_40_60': 53, 'gjVBEJGHrXk_26_38': 53, 'ecm9gf2Pgkc_1_24': 53, 'd4AGWnHJcaY_6_19': 53, 'lb8J2zCQTlo_3_8': 53, 'unhiT2D6WvE_0_20': 53, 'AjZ-R3LFMzo_24_38': 53, 'zxB4dFJhHR8_1_9': 53, 'mLEhUMLvraQ_35_68': 53, 'o4pL7FObqds_72_78': 53, 'WinaH9SkW9c_11_38': 53, 'XEOH3t5AYY0_22_29': 53, 'CuBgBtQAN7E_7_20': 53, 'q7pOFn8s4zc_263_273': 53, 'clKtfGBVI1I_15_28': 53, '3opDcpPxllE_50_66': 53, 'iju4KO-3KnY_2_12': 52, 'u4kMN1jamdM_10_20': 52, '4ge5_V-xhP0_138_142': 52, 'L9wD3kw-8FE_65_73': 52, 'MPuKVz3sjBA_1_12': 52, 'b_BuSVZwq6M_1_9': 52, 'pUPKsHTDZTo_70_85': 52, 'QzulzuWr0Zw_20_45': 52, 'DB-3-TVjrxU_58_75': 52, '-8rBYNP0UKM_50_82': 52, '62I8I4sCPPQ_12_30': 52, 'Q7H9mI9dtMY_20_34': 52, 'SRzoLVNgHoI_56_66': 52, 'omIPdpxg--4_39_46': 52, 'g9aZcaEg7iY_0_9': 52, 'iwpnUHFhjWc_84_94': 52, 'M4It3DrhbE0_13_22': 52, 'Gw0FU733zzg_58_66': 52, 'zTn-nNj5Bng_61_77': 52, 'wzfkC2TjdeQ_0_31': 52, 'dMH0bHeiRNg_3_14': 52, 'Ya-MkA187c8_36_45': 52, 'oSnYUfCGiCA_7_17': 52, 'psXeA8sSYdI_25_30': 52, 'Rf0TUCA3XNs_3_16': 52, 'qvSxiVV7jhw_0_15': 52, 'hGmsx2P1qHw_15_25': 52, 'ZdNP0dXCx2I_78_90': 52, 'UJKythlXAIY_17_21': 52, 'umjc1CkO4JA_290_305': 52, 'SaYwh6chmiw_15_40': 52, 'glrijRGnmc0_211_215': 52, '4D1o4FC8YbA_207_216': 52, 'ibSwITK4jjQ_14_24': 52, 'ID2xXlUENG0_19_24': 52, 'IpHJffM3G1c_439_446': 52, 'UhI-p6AysWY_25_30': 52, 'O9cOSO9L8Zs_1_16': 52, '_sJ_09Mf1HY_49_72': 52, '5CU2JhYM8tY_14_45': 52, '1qV4wfjTYIo_151_164': 52, 'KFt5Zz5Mwlo_12_30': 52, 'ZbzDGXEwtGc_6_15': 51, 'yyxtyCaEVqk_329_360': 51, 'NjCqtzZ3OtU_303_307': 51, 'Tied-t1fFsk_15_20': 51, 'vZa13vJugGU_0_30': 51, 'ZlX_Gy4HP2E_38_55': 51, 'ifS2nXfCyYo_4_34': 51, 'ZxqkAGNyo8A_12_22': 51, 'MJoxGpEswOI_9_16': 51, 'KWK7szRdbrE_80_90': 51, 'qPXynwa_2iM_15_25': 51, 'rnawC5C8gSI_82_90': 51, 'hWhKdXcqYeU_3_12': 51, '2R_OAYQIkXM_14_22': 51, '98Alrg4pFXs_148_153': 51, 'jLgmCY1fEE8_16_26': 51, 'Zg0p5TXi_Cc_30_46': 51, 'DKZg4kIEa0A_31_36': 51, 'lcu-DwrnYY8_2_5': 51, 'DuMkW35BwK8_43_47': 51, 'EKL6elkbFy0_16_30': 51, 'x0QoC5POuko_170_180': 51, 'Fe4tO5vW9_E_64_70': 51, '21uB8g-jDZI_70_79': 51, 'fVWUaH2mCt4_1_7': 51, 'v4_AzQSnmY4_40_55': 51, 'HO_ovIrLWfQ_1_11': 51, 'xb-Nacm-pKc_78_82': 51, 'DvYN53KBDr0_51_62': 51, 'nYwbAb0QvBE_195_210': 51, '5HAf_INrFy0_3_25': 51, '4ikH9ZRcF2Q_89_105': 51, 'lmCrIZeob4w_23_26': 51, 'IEQyCcageGg_99_126': 51, 'VU4qLrk5axA_40_58': 51, 'HzYtvOYOEoU_21_32': 51, 'oG6LLGi_n48_51_55': 51, 'akXjIEoecNs_2_12': 51, 'vloe_60s_dk_0_9': 51, 'zSPBC8EO6dY_64_73': 51, 'xfRIRSWy0y0_10_20': 51, 'JXSkYkiKO0I_112_116': 51, 'S-Civm_fbK8_20_26': 50, 'msCidKHOh74_410_418': 50, 'v7NpKUVqjpI_23_40': 50, 'eQcUmH0VE90_9_15': 50, 'ghynaoVNwZc_1_20': 50, 'edqyq4Q-7uU_103_109': 50, 'Ayh26v6Nies_17_22': 50, 'WqwcWk1In_g_46_54': 50, 'NaX51emUDn4_0_20': 50, 'AjZ-R3LFMzo_5_10': 50, '1qU-kF-km1Q_6_16': 50, 'gvVsgOK1iJw_32_38': 50, 'tzd3AYTZq0U_0_6': 50, 'Sq7Vt6KC9Yg_17_35': 50, 'EpMuCrbxE8A_107_115': 50, 'aN0WsBcja_E_0_15': 50, '77iDIp40m9E_159_181': 50, '7mKqoUiXIeY_7_15': 50, '3eqFFRSXwGE_84_96': 50, 'KUc1cWKXjDc_20_30': 50, 'yyxtyCaEVqk_321_328': 50, 'lFyPUgJCmtU_100_110': 50, 'pGsU4FekJQM_10_18': 50, 'q7pOFn8s4zc_27_36': 50, '3qqEKTPxLNs_1_15': 50, 'rKF0ZW34FRk_41_54': 50, '81fABEiwcIM_31_45': 50, 'urXDqw3S34I_12_17': 50, 'y8SDRc4IOjs_94_99': 50, 'ObBss94n3gI_35_46': 50, 'pdrBPJYfTC8_33_39': 50, 'd7eGypGOlOc_13_22': 50, 'ePujnD4qJO0_62_77': 50, '_ZwwKOzpt2I_69_76': 50, '4PayIIIOeIs_230_238': 50, 'QTAqjSbMkXU_65_75': 50, '0SMOK2ql7Pg_5_12': 50, 'tYQ7O6V0Fvk_20_55': 50, 'PECk9A-07Pw_1_9': 50, 'eVSQiPbepXg_44_49': 50, 'pcjuCotJYj8_50_62': 50, '1Dty_eGY9Ec_123_133': 50, 'mtrCf667KDk_134_176': 50, 'p6cg2jWI34M_34_42': 50, 'po2tcrG6KzM_2_8': 50, 'Qjbcibrv3L0_26_32': 50, 'tcxhOGyrCtI_15_21': 50, 'BOv-2HzNPaA_7_12': 50, '0k1Ak8aTMVI_4_12': 50, 'dmyz_f8Sx14_56_66': 50, 'ZDoy9S82ETA_5_15': 50, 'aeA-HN7BMdo_34_41': 49, 'LQ-jv8g1YVI_1_6': 49, 'giLxPCgLLqg_9_19': 49, 'ysTmUTQ5wZE_17_45': 49, 'yfMTsYcLt10_0_7': 49, 'idXJu0BQRvo_2_6': 49, 'QOmrchUPnBs_10_20': 49, 'Y4BeJ-64294_20_30': 49, 'PiyoeFC31kE_9_27': 49, 'Els1Cclg_sk_4_15': 49, 'PxygpGLKEps_410_420': 49, 'Kqb-mmkEWqU_1_5': 49, 'nlU3crMsbWI_19_23': 49, 'xCFCXzDUGjY_5_9': 49, 'xdhLQCYQ-nQ_50_63': 49, 'vulNlhUI6m0_7_27': 49, 'CHFXTeQWXjo_206_212': 49, 'jv-eV6jR3Qw_7_12': 49, '1sffYOXq4Iw_23_49': 49, 'ACK7SekJWts_140_150': 49, 'u9E9HpuJQ7U_29_43': 49, '_9iG5Ge01PM_3_11': 49, 'oDcd2JbOyzg_38_55': 49, 'BGG0uYWZBdw_6_12': 49, 'AzMrltkXGJk_0_10': 49, 'ruoHOXo2PRQ_2_20': 49, '-_hbPLsZvvo_5_8': 49, '6BrHPMdyVtU_1_10': 49, 'MrQd1zUVRUM_103_110': 49, 'MHIVmf42Ao4_31_36': 49, '2HpZvL-_fiY_40_44': 49, 'bmOy6p87TWI_26_35': 49, 'hM3jzlyNIpc_0_10': 49, '9d57lHEsLU8_1_14': 49, '0GXq1An3yHI_22_35': 49, 'RZL9irxnhZ0_34_40': 49, 'kEGmZDpZ_RE_295_330': 49, 'GnwKcpfr_ng_47_57': 49, 's9TklvyLFyI_177_191': 49, '6FmN22YcVVE_11_18': 49, 'R2DvpPTfl-E_20_25': 49, '04Gt01vatkk_248_265': 48, 'n6U-TGahwvs_100_110': 48, 'DIebwNHGjm8_133_148': 48, 'CHVhwcOg6y8_1_12': 48, '5XxshEdcfAM_85_100': 48, 'Pr5LQq42l4M_12_17': 48, 'kEGmZDpZ_RE_248_293': 48, 'ScdUht-pM6s_53_63': 48, '-_hbPLsZvvo_19_25': 48, '2mUMTFnQWaw_1_9': 48, 'LwvyrDxM2G0_0_11': 48, 'gp8XjWSoP2k_0_10': 48, 'BOLKaQeB6j0_101_111': 48, 'u_6tre9_99Q_13_25': 48, 'Td29-SApubM_48_57': 48, 'I9gLTZY1ouc_142_147': 48, 'X4yzrIc072w_4_20': 48, 'zH4v_DClIoc_3_28': 48, 'EBWPZIjtnTM_1_6': 48, 'GPT4vUwlrXY_1_10': 48, 'YXixZrSxefk_49_59': 48, 'htWPOGTagec_2_18': 48, '08pVpBq706k_175_212': 48, 'W20Btaww6zc_134_139': 48, 'B7mP4zoDMwM_0_17': 48, 'cmQ3SiIaWy4_4_20': 48, 'yq8CjZ2ZzyI_285_295': 48, 'vub04F8CWng_32_41': 48, 'z2kUc8wp9l8_40_46': 48, '19lyIaPOvYs_10_17': 48, 'aDjNl5gs4nM_18_47': 48, 'mYzajpeAWuA_100_112': 48, 'xEDCfcMZlZY_37_41': 48, '5JSbxHECb-I_97_110': 48, 'sT5Bzt9w354_11_34': 48, 'Z3XarHZ3HpY_10_17': 48, 'OxL9z2BzBnk_0_19': 48, 'c2MwqFYVE7A_40_45': 48, 'e4QGnppJ-ys_6_14': 48, 'tn1d5DmdMqY_15_28': 48, 'Ow_o78zjo14_42_57': 48, 'EwTZ2xpQwpA_14_21': 48, '8VUbN3hkdBo_36_50': 48, 'kquB3rIgfGk_640_645': 47, 'WTf5EgVY5uU_98_104': 47, '7NNg0_n-bS8_21_30': 47, '6pcqRuFEMLs_46_52': 47, 'J7zb8YXrmIA_93_99': 47, '4lXdVS697DQ_10_25': 47, 'W8l_ezoU8Lc_55_70': 47, '-FugkxLmGO4_5_16': 47, 'jTaLGh_MKCM_5_20': 47, '9eJPVpoOtOs_115_130': 47, 'xtbsD3PUua4_174_185': 47, '1dfR0A_BXjw_545_560': 47, 'P6eo3LULuuc_1_11': 47, 'RX6NSOuCCAE_13_27': 47, 'm4D72WXFd8s_557_564': 47, 'CTIKmoEigCI_3_30': 47, 'iarsmqA3dck_19_25': 47, 'G_hxdUG6QXE_23_28': 47, 'za-9mBZyNfQ_330_336': 47, 'emblM4a76jg_5_15': 47, 'owiXDr1xQ8Y_66_75': 47, '-joBOHlg5J0_72_80': 47, 'z8dcUzdi2bw_3_16': 47, '-wa0umYJVGg_139_157': 47, 'c2a0GcoJAjw_52_73': 47, 'T6lPRKRpu9w_32_39': 47, 'IV5rtOumpa0_268_273': 47, '1srk7ApounQ_32_38': 47, 'W8l_ezoU8Lc_76_86': 47, 'WeOU0Iba1Xg_1_30': 47, 'a-cek0mvXxE_15_25': 47, 'lR8RrUBhCQg_5_15': 47, 'RieF9wrFd8s_1_8': 47, 'R24RktgUi-s_5_15': 47, '5XxshEdcfAM_96_107': 47, 'Z3rj9LbCOaM_0_12': 47, 'hbE29pZh76I_3_8': 47, 'yyxtyCaEVqk_250_264': 47, '4wT7zM8XgXQ_5_11': 47, 'sv5YlZspb30_10_20': 47, '-wa0umYJVGg_117_123': 47, 'pW9DFPqoIsI_26_50': 47, 'SzEbtbNSg04_71_93': 47, 'Vg1jyL3cr60_163_186': 47, 'DDtX5a-OgLQ_1_15': 47, '77iDIp40m9E_126_131': 47, 'jxdubZzQrio_33_46': 47, 'Uc63MFVwfrs_355_372': 47, 'kEGmZDpZ_RE_352_370': 47, '_txL575S_OA_13_23': 46, 'Q-soOsOLIGQ_0_22': 46, 'V--abChiVVc_30_40': 46, 'nd0ToNwccl4_12_17': 46, 'JXSkYkiKO0I_42_46': 46, 'kquB3rIgfGk_537_544': 46, 'EjAoBKagWQA_132_145': 46, '_JVxurtGIhI_32_42': 46, 'cCmnN96zIeQ_14_24': 46, 'xXlWsBhFvis_6_10': 46, 'dQmaVQZz7EE_1_18': 46, '9HTUcMjWB3g_122_128': 46, 'SaOqf2d-y30_22_27': 46, 'N6SglZopfmk_97_111': 46, 'pmEKZ6yVewc_0_10': 46, 'ao-9B8IV9_E_217_221': 46, 'wFPmKChNrhU_3_11': 46, 'mbesJaS6vwg_187_195': 46, 'OUII8_aOfNM_26_55': 46, 'UDwvax7K57c_28_35': 46, 'jdAbpLooDgM_10_15': 46, 'p6T3XrnYtFk_4_13': 46, 'k4hhWYtaQ14_0_10': 46, 'GlW6n43pUQA_0_12': 46, 'hPyU5KjpWVc_0_35': 46, 'gnEE6oWoz7U_124_132': 46, 'MdOAr_4FJvc_5_15': 46, '25NmudB2fqg_0_7': 46, 'RjpbFlOHFps_8_25': 46, 'pptYu3YQnxY_160_170': 46, 'kJY5BRCNAs4_3_6': 46, 'ymC2bNi6-Is_9_19': 46, '0I4VKj4d0WI_24_40': 46, 'z0zb--BOhDY_16_22': 46, 'C9vRgZDxTv4_26_33': 46, 'a28s_wyqkyc_68_77': 46, '4D1o4FC8YbA_29_39': 46, '4-1gpwkD7Hc_7_15': 46, 'uuM0BFHTTsQ_9_50': 46, 'bnN_o0Hkn3M_73_80': 46, 'DN7jwyL1Xgg_1_19': 46, '2MCpA01Sn_c_75_82': 46, 'f9_bP219ehQ_63_70': 46, 'xOQn1z_oWDY_30_39': 46, 'M_TP6UTrh30_343_358': 45, 'n2NLoLNecgI_168_178': 45, '6q1dX6thX3E_286_295': 45, 'bJJndejsUWc_88_98': 45, 'q9ew_nITQWY_54_62': 45, '1dmVuwO1RZk_214_220': 45, 'Ea0thGZKPXA_25_35': 45, 'Kxa0mnDj0bs_113_124': 45, 's1ZABV7AQdA_38_48': 45, '_o1UXSxTjfo_68_80': 45, 'YXixZrSxefk_6_15': 45, 'dJEoDaA6VXc_1_19': 45, 'hNECyt6Bo0A_5_10': 45, 'I2eWXGaoWko_20_24': 45, 'UnWgz-mVMXU_2_6': 45, 'HZqscSWtHmo_24_34': 45, '77iDIp40m9E_119_123': 45, '5OuYhq6Zl0g_0_10': 45, 'zuYZ5kPatJE_78_116': 45, 'BVy9SQI5R68_0_7': 45, 'PBHZtoygOYg_450_465': 45, '8yoUaH6wGLs_22_30': 45, 'JsD6uEZsIsU_45_58': 45, 'V4q5dQmpxIE_20_30': 45, 'sMscRb9TcQE_146_161': 45, 'bxDlC7YV5is_0_12': 45, 'YUlG_PKzpvc_0_8': 45, 'od0Da0Rn7U0_486_493': 45, 'IpHJffM3G1c_412_418': 45, 'htry5uxX0-Y_45_52': 45, 'clpgffj3sUw_1_12': 45, 'klFyrnrUSck_79_85': 45, '0RWJEOScToE_414_421': 45, '-DRy7rBg0IQ_31_37': 45, 'toE0QYZzJKE_1_8': 45, 'z0Si1XxMibg_0_30': 45, 'EA-J-Y6QjUo_40_61': 45, '4yf2WP6K1gQ_28_32': 45, 'ok4cM6WTA5E_120_133': 45, 'c53HKs39i28_26_35': 45, 'ITNh8tWZPOA_5_25': 45, 'jI58q6rcNLc_8_18': 45, '2LgrGHWSy6k_122_135': 45, '_WRC7HXBJpU_360_370': 45, 'i2GgBwlwV0c_24_31': 45, 'rV5VmhY3-Sw_65_76': 45, 'xtbsD3PUua4_84_94': 45, 'Pm9L60YBj3s_0_32': 45, 'F1BwUJ4--Qw_21_38': 45, 'lfGlDg47How_93_98': 45, 'SJZFNwfcSOw_3_18': 45, 'tZmDWltBziM_70_80': 45, 'qvg9eM4Hmzk_4_10': 45, 'Sj6GSmDpNDw_0_12': 45, 'IpHJffM3G1c_464_470': 45, 'jPBxl9gFqNY_110_117': 45, 'cUW_bXll6YM_462_469': 45, 'IAvBB2lv8iw_142_148': 45, 'bSrpvMSuhPM_17_31': 45, '50O8tEyWg1Y_24_47': 45, 'HM-ZDoRWiH4_0_5': 45, 'uO7Eysrs8_k_106_114': 45, 'rQuNYxNmA6M_0_4': 44, '32_A0-er4Ws_16_20': 44, '_WRC7HXBJpU_414_425': 44, '77iDIp40m9E_3_9': 44, 'sWqi41wyXcQ_68_79': 44, 'qNjeEx92rTA_281_299': 44, 'QHkvBU8diwU_1_18': 44, 'F2Ny7rq9RKs_139_148': 44, 'WTf5EgVY5uU_100_104': 44, 'vMoOpQQy6sI_22_55': 44, 'Ted3imMggC0_48_58': 44, 'fvBs0xpEZhQ_10_30': 44, '6KS8R3RxrV8_0_23': 44, 'OVEe1DMsOq0_43_52': 44, '-AwoiGR6c8M_10_14': 44, 'NV6pq1W-I4g_7_16': 44, 'Okg8QYhdtvU_48_53': 44, 'OKBLPpAPp9c_2_17': 44, 'kWLNZzuo3do_77_83': 44, 'VLBsAPZ2DDE_34_41': 44, 'jZ8X8e7eRVk_24_27': 44, 'WTf5EgVY5uU_32_52': 44, 'yVpwra1TJDY_67_80': 44, 'XNzXXiE6qR4_0_10': 44, 'fKqBnl8D1Qo_5_44': 44, 'eyMYc-37Sk4_0_10': 44, '-dm-ds5rRaM_44_52': 44, '5rNWGoDoiKE_10_15': 44, '5QJf-l4lPJw_133_138': 44, 'kWLNZzuo3do_152_164': 44, 'rwHT2SuNOi8_240_255': 44, '1dmVuwO1RZk_0_15': 44, '992zi9V3oiQ_15_17': 44, '4VLrxtf7Z_8_0_7': 44, 'kquB3rIgfGk_197_202': 44, 'zSPBC8EO6dY_97_110': 44, 'k06Ge9ANKM8_5_16': 44, '3doK4FQM5-k_46_57': 44, 'LjimLwAhAOQ_5_15': 44, '1dfR0A_BXjw_590_600': 44, 'fJr2evLANsE_0_10': 44, 'UoPU8F9mus8_258_262': 44, 'sqy2CMDl7U0_7_10': 44, 'TvBsaMgqh5s_61_68': 44, 'n_Z0-giaspE_379_387': 44, 'NZWiKMZS_k8_39_48': 44, '-_hbPLsZvvo_172_179': 44, 'JledeVyklPw_1_6': 44, 'X0UJaprpxrk_18_26': 44, 'fnpp8v9NbmY_181_188': 44, '-Ms9tsWmhyU_80_95': 44, 'AKVBK-0veE8_5_12': 44, 'R0e8ojL0vcc_8_14': 44, 'qew09qQgMAg_22_27': 44, 'tmAX2PnRCY0_284_292': 44, 'LSuVRWPoHr0_0_37': 44, 'RiglOfJon8I_3_18': 44, '-_hbPLsZvvo_269_275': 44, '9HTUcMjWB3g_143_151': 44, 't8Nf1MK7lts_0_10': 44, 'nHZsE7T7hwI_13_23': 44, '6r5DmFa5ZR8_51_58': 44, 'QdXRgR30bE4_9_19': 44, 'nS6oQxX_Qi8_2_12': 43, 'C1MNCR1o9lU_0_7': 43, 'OpR1Er5o6IY_209_217': 43, 'kquB3rIgfGk_525_532': 43, '_7nP9z6T9m8_11_17': 43, 'cs33MNhpRNw_16_21': 43, 'HPFLN5azwtA_56_63': 43, 'VoKJr0EOzCU_136_142': 43, '_WRC7HXBJpU_386_391': 43, 'RSx5G0_xH48_12_17': 43, 'R3a9r8qFlhQ_0_12': 43, '_QJbjKkfdcs_52_57': 43, 'tgm4dRGBeJ0_289_294': 43, 'ao-9B8IV9_E_175_187': 43, '6ERey_f0Qmw_20_25': 43, 'onW5hJXnI5s_126_133': 43, 'QA_JTtM1hKA_5_15': 43, 'omGWjiwxcTE_18_23': 43, 'bL_Kijz9IN4_0_15': 43, 'pQYEZTwSVbQ_12_18': 43, 'ao-9B8IV9_E_72_77': 43, '-wa0umYJVGg_23_41': 43, 'xBePrplM4OA_6_18': 43, 'TO0X4DQZKqk_35_41': 43, 'ACOmKiJDkA4_47_54': 43, 'FavUpD_IjVY_22_26': 43, 'rOic25PnIx8_1_3': 43, 'Rm-RnxN4oHA_215_225': 43, '1N_Ic2pBM1o_2_23': 43, '_pj2Nutu5v8_1_8': 43, 'vDhEpqfhVI0_0_8': 43, 'mJ9eRvxjLc4_0_16': 43, '5PpPOGU_0aA_65_75': 43, 'hXn7D6-AAMA_0_9': 43, 'kWLNZzuo3do_262_270': 43, 'fGc6_D0JEIQ_31_46': 43, 'b-d-CxHaKGU_10_30': 43, 'ApYvvQK7bBc_6_32': 43, '-_aaMGK6GGw_57_61': 43, 'izU1dDwnuMY_80_92': 43, 'b71bI0rH1g8_75_90': 43, 'aM-RcQj0a7I_37_55': 43, 'x1i0UOssll8_141_151': 43, 'glii-kazad8_21_29': 43, 'c_XV7nPoRg8_2_12': 43, 'EPXsiQw9vvo_1_12': 43, '1TjqADyYyxI_36_45': 43, 'W8l_ezoU8Lc_156_162': 43, 'kWLNZzuo3do_147_153': 43, 'nTUONeDqhdk_10_15': 43, 'bmxIurBrW5s_51_70': 43, '7d1d2WlEnKs_0_12': 43, 'mOZkcBcWR8o_6_12': 43, 'Ylb4pnW-jP4_102_113': 43, 'jMO3jGQeqyk_3_6': 43, 'ViWQUOGIaSU_9_16': 43, 'gqSOvUH_njE_151_155': 43, 'MrMG15y3rWU_5_13': 43, 'NjCqtzZ3OtU_62_67': 43, 'mZVPkPqwzR4_38_45': 43, 'bDoCQEwghZU_201_211': 43, 'zS50h-a8RTg_3_9': 43, 'Cx1We6GX4IM_0_8': 43, 'cwkjJrGpoaU_30_41': 43, '9fkS7wqrzAY_13_25': 43, 'OCcy9TDRGKo_41_51': 43, 'cUW_bXll6YM_390_395': 43, 'ACOmKiJDkA4_23_30': 43, '4yYapi-5QYQ_33_57': 43, '5P6UU6m3cqk_57_75': 43, 'LwicaralvS0_90_104': 43, 'wn9rDTZj-m4_8_18': 43, 'BCZN-PmEOFg_141_146': 43, 'lAznAeFFldg_6_10': 42, 'bXsKw3TOQXs_30_55': 42, 'fvXXLP6A4p4_109_119': 42, '-_hbPLsZvvo_288_305': 42, 'zSPBC8EO6dY_122_126': 42, 'e996zZ0uV_A_152_163': 42, '00jrXRMlZOY_0_10': 42, '4s_0-zIWEog_1_15': 42, 'crfrKqFp0Zg_15_25': 42, 'X_NLV2KCnIE_60_70': 42, '-7KMZQEsJW4_205_208': 42, 'KPPCwmU5OHQ_227_238': 42, 'WTf5EgVY5uU_58_76': 42, '7_XASfcYdBk_3_13': 42, '9QI8cgBSGo8_28_41': 42, '-wa0umYJVGg_271_276': 42, 'pFSoWsocv0g_8_17': 42, '-_hbPLsZvvo_19_26': 42, 'JpjAgSvr42k_0_12': 42, 'PAm82v0AMFc_5_10': 42, 'Lz-2QTNp5O8_6_16': 42, 'gtIz1u8g1F0_3_13': 42, '6t0BpjwYKco_15_31': 42, 't1Oqko6IKBE_0_11': 42, '6JnGBs88sL0_4_10': 42, 'MTjrZthHwJQ_2_11': 42, 'dF1n2Sa2eCE_6_14': 42, '_WRC7HXBJpU_451_464': 42, 'LyYJiKxHZz0_0_10': 42, 'zSPBC8EO6dY_132_140': 42, '-Cv5LsqKUXc_17_25': 42, 'wON-YuA1GjA_3_63': 42, 'EiylMb_mWk4_2_20': 42, 'pGCRurvXQGM_45_56': 42, 'WTf5EgVY5uU_18_23': 42, 'L8h2DazQZJY_0_10': 42, 'FwCmcZpkk-k_22_32': 42, 'LqPIBHAmt4E_22_30': 42, 'jfrrO5K_vKM_55_65': 42, '5-8z5U-o4O4_0_3': 42, 'rw9h_574HxE_13_18': 42, 'PD6eQY7yCfw_32_37': 42, '5OvgDatToBU_0_8': 42, 'TdYN7cePiRI_6_13': 42, 's-XjRDsYuzU_0_12': 42, 'yEhV8xbekRo_0_10': 42, 'e-sf-hyrkTs_20_35': 42, 'fqly5kyO2MI_10_20': 42, 'bqMmyY1ImkI_0_14': 42, '1dfR0A_BXjw_441_448': 42, '9zXqkHvs0po_59_65': 42, 'lv8d_qLLqsk_1_20': 42, 'nau1vCzyFQ4_37_54': 42, 'cM55xNJ_pfU_1_20': 42, 'Ly5D0z9gKtc_15_20': 42, 'JM4913Fe-ic_4_15': 42, 'k5OKBX2e7xA_19_32': 42, 'DcDYRpa34W8_11_25': 42, 'qOiN__I1-Zo_2_8': 42, '7EOqi_6rnkg_36_44': 42, 'Xvy21KrDv8I_0_10': 42, 'd-2C_N5anww_1_3': 42, 'fcvW1vr8hAs_96_102': 42, 'NjblUomxFQo_100_108': 42, 'a0g7wtBkS98_34_42': 42, 'TXabUVUxJqI_22_31': 42, 'WTf5EgVY5uU_121_135': 42, 'nq4hG6qgyPs_370_377': 42, 'ljGcQocjSs4_38_60': 41, 'zzit5b_-ukg_5_20': 41, '9W6aQNcU3PA_92_103': 41, 'PHDmVhShE80_20_29': 41, 'v-9Gx0gJmfo_91_99': 41, 'V6Fxclwdfxc_56_66': 41, 'nBFhvrAOFqY_89_103': 41, 'rwHT2SuNOi8_195_201': 41, 'HqbVbPvlDoM_0_11': 41, 'QsKIlhn6if8_39_49': 41, 'n_Z0-giaspE_270_278': 41, 'hReROJQpSow_24_30': 41, '_WRC7HXBJpU_395_401': 41, 'nq4hG6qgyPs_240_251': 41, 'xgIIcPSh4EU_0_6': 41, 'GY5Dl00LrEI_2_13': 41, 'wLUH7qA_6sA_90_115': 41, 'nb12bAaKzvA_0_10': 41, 'HVR7KpItLfA_62_70': 41, '6owu8Mow0_g_692_697': 41, 'gHyXstpe_N8_95_100': 41, 'Oq3FV_zdyy0_843_855': 41, 'ybVb3t560oY_0_9': 41, 'tqxRDVKtkSY_30_45': 41, '9IrWyZ0KZuk_160_166': 41, 'Jag7oTemldY_12_25': 41, 'nULE40HEWpA_5_11': 41, '1pw5ZdRhiig_50_59': 41, 'ok4cM6WTA5E_142_150': 41, 'Goj131_GxYs_2_7': 41, 'haJn6k5zVnE_1_23': 41, 'WTf5EgVY5uU_108_116': 41, 'kWLNZzuo3do_217_222': 41, 'zWVQImPY2Cc_27_44': 41, 'AoNnzlGhI04_112_128': 41, '7ZE2OzguWHo_28_38': 41, 'HxRK-WqZ5Gk_30_50': 41, 'u9prcUCHlqM_235_241': 41, 'QsvBYKaCXEc_5_15': 41, 'fHfpMUDrQCs_17_31': 41, '1dfR0A_BXjw_524_532': 41, 'nc8hwLaOyZU_1_19': 41, 'krAk8WPZRL4_207_212': 41, 'ZvJvNcukZ4w_0_10': 41, 'kKGehSw5ht8_39_45': 41, '-wa0umYJVGg_100_115': 41, 'wX-Bl25Htag_104_115': 41, 'lKpGc3SCSVw_12_20': 41, 'Pgm-mOQu2MM_48_62': 41, 'pNelR-nHz7g_68_90': 41, 'i3fd4nE8OCI_174_181': 41, '7s0AXJtLL0Y_57_61': 41, 'Okg8QYhdtvU_73_92': 41, 'b24_bb57PPk_631_637': 41, '8HB7ywgJuTg_131_142': 41, 'MICawzo1MqI_3_13': 41, 'klFyrnrUSck_25_36': 41, 'eVSQiPbepXg_83_93': 41, 'z_qf7tOnHVg_81_89': 41, 'rlQ2kW-FvMk_66_79': 41, 'ZYaxg5NZW_g_21_27': 41, 'klFyrnrUSck_42_46': 41, 'lKADopH3qFY_0_10': 41, '1Sp2__RCT0c_11_15': 41, 'sb1dX5xAFvk_10_17': 41, 'uJPupV4oLZ0_4_12': 41, 'zr9OeyfLPPY_4_9': 41, 'm1NR0uNNs5Y_273_280': 41, 'MTkGPfMRXtc_5_21': 40, 'w9mqbwOIkVg_6_12': 40, 'JK1R9k1WDpc_6_15': 40, 'wjH72cZ0GLM_1_10': 40, 'BAf3LXFUaGs_28_38': 40, '47D9-U8hn5I_11_16': 40, '9OvXb1fot74_21_29': 40, 'Qtu-PXuvCx4_12_17': 40, 'd_BWuttLRFM_42_52': 40, '9HTUcMjWB3g_134_138': 40, 'zfQOH4UGU_I_1_10': 40, '6owu8Mow0_g_527_534': 40, 'jvxUeT1Nlb8_100_115': 40, 'bQJQGoJF7_k_162_169': 40, 'seTkGZlEU64_81_110': 40, 'TxzxPyfsSxY_0_10': 40, 'hGmsx2P1qHw_95_100': 40, 'QklHhN8pQBE_0_10': 40, 'aC-KOYQsIvU_25_31': 40, 'sBjr8UJOpsQ_181_195': 40, '7HcYJKMxpcg_20_28': 40, 'Jj4uYHr65H8_28_35': 40, 'JntMAcTlOF0_50_70': 40, 'gHyXstpe_N8_116_125': 40, '9LOJmQQktHA_10_18': 40, 'ctUQPVFfrJs_6_36': 40, 'mCrRHP4LFmo_24_40': 40, 'kuNQpRTc-hA_126_135': 40, 'Nd45qJn61Dw_0_10': 40, 'FXWdmIHXS_U_3_10': 40, 'LF51fban_x4_300_325': 40, 'K1ZM0LSLVw8_481_487': 40, '5JLi7L1Kwp8_23_30': 40, 'iTA0rWPE4nY_17_23': 40, '2jXxtQRy47A_30_38': 40, 'ngHDYzhDBk4_24_29': 40, 'Je3V7U5Ctj4_488_495': 40, '-bjOB4zS0uE_100_105': 40, 'pRpeEdMmmQ0_1_18': 40, 'VyBXcQ1v_cw_7_15': 40, 'lw7pTwpx0K0_38_48': 40, 's80J2dAUUyI_33_43': 40, '6Q3ltyPJJMQ_67_72': 40, 'fvXXLP6A4p4_250_268': 40, 'inLBPVG8oEU_18_24': 40, 'nMBSDpB3WB8_5_14': 40, 'iEW-EkPQywU_61_83': 40, 'kRNHJSc4AXE_220_228': 40, 'zHy7pM0U49w_103_109': 40, 'UgUFP5baQ9Y_0_7': 40, 'YAud4eS3DoA_54_65': 40, 'pDvzOLRLjPc_0_8': 39, 'VF1K_6ZSOAY_23_28': 39, 'PuQVs2Ch1LY_5_15': 39, 'OUII8_aOfNM_60_69': 39, 'vE1gvaM3iAs_39_46': 39, 'ZdlG8fjGJlo_78_87': 39, 'dfOuTx66bJU_34_39': 39, 'Je3V7U5Ctj4_582_587': 39, '2G9fkvBzzQE_10_20': 39, '-DKuLXYoY3g_14_20': 39, '5W02895vT8c_460_470': 39, '2YhDTpzxd3c_22_27': 39, '45AGQSbodbU_5_15': 39, 'hSgGBHbJrmE_0_17': 39, 'IiTzJQE67FA_74_86': 39, '6t0BpjwYKco_254_258': 39, 'VahnQw2gTQY_274_280': 39, 'gWRRHV7DLV0_21_31': 39, 'PHDmVhShE80_82_86': 39, 'KPPCwmU5OHQ_258_266': 39, 'FTh5zPk34bQ_16_30': 39, 'WTf5EgVY5uU_15_19': 39, 'q8t7iSGAKik_57_74': 39, 'FCjpuJaUec0_19_26': 39, 'Aa7yf9XtcJM_45_50': 39, 'ufFT2BWh3BQ_0_8': 39, 'eyBmG9ZZnLM_84_92': 39, 'hq8dCkkhYsk_0_10': 39, 'Je3V7U5Ctj4_634_639': 39, 'qypmR4O1Gwk_0_10': 39, 'WTf5EgVY5uU_104_108': 39, 'Cxxx6wJ1jNo_0_10': 39, 'm1NR0uNNs5Y_57_64': 39, 'l5JJ2n2ggiQ_319_327': 39, 'I_-Nb_0RxpM_1_15': 39, 'Xwrl4htUPjo_22_38': 39, 'uO7Eysrs8_k_80_90': 39, '5dZ8PXABC30_14_20': 39, 'M2DiiduAMuo_1_6': 39, '6t0BpjwYKco_80_84': 39, 'tPkZK-PzeQE_10_28': 39, 'kWLNZzuo3do_56_62': 39, 'OBLIjdMIIt8_54_61': 39, 'GjN84xigExI_9_20': 39, 'N2Cm0SLr0ZE_18_29': 39, 'H9Oplnr8WcE_24_34': 39, 't3VPeyYL-fI_35_39': 39, 'PeUHy0A1GF0_105_112': 39, 'kWLNZzuo3do_86_93': 39, '4cgzdXlJksU_83_90': 39, 'yAD_TS5L2d4_4_11': 39, '6RlYLTU5gvM_18_24': 39, 'Je3V7U5Ctj4_558_563': 39, '5L5MoemWC6g_10_13': 39, 'nTasT5h0LEg_12_14': 39, 'UwlALS1AKb4_0_16': 39, 'CGllPWAwmUo_1_15': 39, 'zkTn5Ef1Oig_70_75': 39, 'N3A7944_UJw_63_70': 39, 'Je3V7U5Ctj4_504_511': 39, 'Tm1HjqK0ABg_9_15': 39, 'KPPCwmU5OHQ_467_472': 39, 'PqvKNqkGI9o_47_52': 39, 'nLvX-erABqY_67_72': 39, '6QbhfbLUtQs_13_23': 39, '9Q0JfdP36kI_19_27': 39, 'DBvSfds3FH4_84_88': 39, 'R8FDJgVW3Vc_0_4': 39, 'bQJQGoJF7_k_145_153': 39, 'KrBeBabazDU_15_20': 39, '2FLsMPsywRc_45_63': 39, 'ByGspTdA1ug_16_24': 38, '-_hbPLsZvvo_323_328': 38, 'DBvSfds3FH4_76_80': 38, '6t0BpjwYKco_46_53': 38, '6t0BpjwYKco_118_127': 38, 'swKrHEeOj9c_4_8': 38, 'yC4eEuURH8c_19_28': 38, 'lfGlDg47How_361_367': 38, 'zpgW7m7_LZw_2_15': 38, 'vz71JKcpeUU_0_10': 38, 'QGJy1K91gP4_90_100': 38, 'hJuqBDw_TT4_14_25': 38, 'cSDkshD2ME0_12_15': 38, '_UqnTFs1BLc_23_27': 38, 'dP15zlyra3c_0_10': 38, 'e3XkmpNcSt4_8_19': 38, '504gE1DA_4g_1_6': 38, 'X98fLZHIzWQ_15_20': 38, 'h0JvF9vpqx8_213_223': 38, 'Ud3Qy8m6OxQ_52_62': 38, 'WAa4-cctmDk_55_70': 38, 'FGjtmhI-Rmk_30_37': 38, 'ok4cM6WTA5E_178_184': 38, 'D9I1Z6O_mbw_141_146': 38, 'PHDmVhShE80_36_46': 38, 'gHyXstpe_N8_140_150': 38, 'WTf5EgVY5uU_16_24': 38, 'v7iIZXtpIb8_5_15': 38, 'f-24IxG9ijw_25_40': 38, '88DOMJ11q2M_84_87': 38, '326U8N2husw_26_28': 38, '-_hbPLsZvvo_49_55': 38, '5MzJRgpclwQ_48_55': 38, '6t0BpjwYKco_261_284': 38, 'ZbtpcGi2DWY_56_62': 38, 'dfOuTx66bJU_11_14': 38, 'VahnQw2gTQY_288_293': 38, 'pRpeEdMmmQ0_65_70': 38, 'eoP-SCgYM2w_49_60': 38, 'klFyrnrUSck_13_19': 38, 'qqYysi3qotc_148_195': 38, 'tBj4Ny19vfQ_54_59': 38, 'jsEUFYhiqxU_121_128': 38, 'LLkehH86ABY_30_36': 38, '3mbBbFH9fAg_21_29': 38, '8e0yXMa708Y_24_33': 38, 'r2oI9Y-3wAo_21_28': 38, 'Z8rTzW9Gb6Y_116_123': 38, '-_hbPLsZvvo_211_219': 38, 'l57mQZvDaL4_10_30': 38, 'BE_uxYK9uz0_150_168': 38, 'qyZ9z_3f94Q_6_9': 38, 'K-czl524zxk_6_15': 38, '_pBeOAMjGm8_1_18': 38, 'KPPCwmU5OHQ_424_430': 38, 'shPymuahrsc_5_12': 38, '6t0BpjwYKco_59_69': 38, 'm1NR0uNNs5Y_73_78': 38, 'J_evFB7RIKA_104_120': 38, 'BLXzfdNmydQ_151_156': 38, '8CzlhZtunNc_5_11': 38, 'D-K3ThvAqfo_163_169': 38, 'WTf5EgVY5uU_130_135': 38, 'FvfjDQj5sOY_1_10': 38, 'wkgGxsuNVSg_34_41': 38, 'm1NR0uNNs5Y_123_129': 38, 'lfGlDg47How_110_115': 38, 'gbW9f8xydks_0_10': 38, 'hxZ-5wELSJM_0_12': 38, 'yPNFVj-pISU_105_115': 38, '64Xn9edeWRA_0_11': 38, 'xSmfK498DjI_1_20': 38, 'C9LHk0AJI7U_196_205': 38, '6mYnZbIwcNo_10_16': 38, 'DIGIvSOLTIE_24_30': 38, 'LLHUB8ciPrc_0_13': 38, '0M-PyX2DbZc_25_31': 38, 'XzCcRzEa83U_39_46': 38, 'uy0HNWto0UY_18_25': 38, '-Cv5LsqKUXc_71_76': 38, '6t0BpjwYKco_230_240': 38, 'AysIdzGF-7M_6_14': 37, '6owu8Mow0_g_302_307': 37, '5W02895vT8c_312_322': 37, 'u9prcUCHlqM_73_80': 37, 'q3I3R_gqy8M_73_79': 37, 'bQJQGoJF7_k_120_126': 37, 'xxHx6s_DbUo_32_36': 37, 'WTf5EgVY5uU_66_75': 37, 'urNX3e1Wbc8_30_38': 37, 'KIEWo_xJ5nU_0_7': 37, 'OIjsSu_I4So_6_10': 37, '6ZhKOK08tgM_45_49': 37, 'LacBy2NT3YQ_12_17': 37, 'HDcIB1e9s5A_28_34': 37, 'NbOlG7THecM_25_34': 37, 'rq2p5ML8-WI_63_69': 37, 'Zqmx-nXhLAg_0_10': 37, 'WqQonRVs7WA_0_10': 37, 'r4qv_BNlQNk_119_124': 37, 'bLqmf8x7rLI_2_8': 37, 'TgFmoZj3NoM_10_18': 37, 'kWLNZzuo3do_192_196': 37, 'g8LUhxR-6Wg_0_8': 37, 'WTf5EgVY5uU_54_58': 37, '6sYmDT5et00_301_339': 37, 'yeg0EKdQonk_102_130': 37, 'z1PEyzk4ADU_8_18': 37, 'kWLNZzuo3do_206_213': 37, '6owu8Mow0_g_275_280': 37, 'AGRFy5hDQiY_31_38': 37, 'PeUHy0A1GF0_74_77': 37, '953PkxFNiko_82_85': 37, 'C2rDp6FnbP0_10_17': 37, 'q3I3R_gqy8M_38_42': 37, 'i3cHNObcEh8_0_10': 37, 's6QwbmWbSmw_18_24': 37, 'Gn4Iv5ARIXc_37_40': 37, 'eyhzdC936uk_15_27': 37, '88p7U5CnoYU_1_10': 37, 'qLwgb3F0aPU_298_305': 37, '6t0BpjwYKco_240_247': 37, 'dq7agmFWkq0_5_9': 37, '4Hhdr1IPOGs_90_98': 37, 'WTf5EgVY5uU_33_39': 37, 'klFyrnrUSck_63_73': 37, 'Cjf21Y19aUQ_82_86': 37, 'nohvigNMsbo_199_207': 37, 't4aPGtx7e6k_0_10': 37, 'ACOmKiJDkA4_175_182': 37, 'Je3V7U5Ctj4_768_773': 37, 'Eamd2wMKixs_48_72': 37, '1_6V30igzIk_5_15': 37, 's-QQWRdF-5Y_19_28': 37, 'IY1Fn796MoY_7_10': 37, 'YwmUgVrUJ4I_0_15': 37, 'jW77z3-SrO4_56_63': 37, '9uDPqigcnzw_36_46': 37, 'jDFn-1lXJ98_71_80': 37, 'WTx-K045yQM_85_98': 37, 'sm0OYD0NSbQ_51_59': 37, '6owu8Mow0_g_850_855': 37, 'qeKX-N1nKiM_133_142': 37, '6t0BpjwYKco_200_205': 37, 'bAYIIlX-WWw_5_15': 37, '6ZhKOK08tgM_225_233': 37, 's-dSFyz_5Ww_13_23': 37, 'VahnQw2gTQY_203_210': 37, '6vC6AT27RUc_29_46': 37, 'p3J3TAdKAYQ_0_10': 37, 'VahnQw2gTQY_322_327': 37, 'lFdg5CWMTt0_24_28': 37, 'jmoT2we_rqo_0_5': 37, 'nBFhvrAOFqY_23_29': 37, '_7V-7cs1pNA_269_275': 37, 'nq4hG6qgyPs_184_195': 37, 'kBMsuhDvg88_45_64': 37, 'Je3V7U5Ctj4_956_961': 37, 'VahnQw2gTQY_298_305': 37, 'n_Z0-giaspE_168_193': 37, '2YhDTpzxd3c_166_170': 37, 'E2r6nnkwl0c_6_18': 36, 'XzCcRzEa83U_1_8': 36, 'J3_hkgu6MGc_43_52': 36, 'hcCLIzzB1jQ_1_7': 36, 'qBFSt85-xqk_15_20': 36, 'm1NR0uNNs5Y_160_166': 36, 'QsKIlhn6if8_270_276': 36, '1rECrfrdNTo_200_207': 36, '_SNE2MYAotU_41_49': 36, '6t0BpjwYKco_53_59': 36, 'KPPCwmU5OHQ_480_486': 36, 'iCiGjZEV7VI_65_75': 36, 'X7sQq-Iu1gQ_12_22': 36, 'kWLNZzuo3do_31_37': 36, '6t0BpjwYKco_71_76': 36, 'BIqVvRh_cEY_143_149': 36, 'zYcY4mjLpxU_45_55': 36, '27hs9W89FuI_0_10': 36, 'yd8jh9QYfEs_4_10': 36, 'GopEjCCu2jo_2_9': 36, 'RMznbCn5sQs_0_10': 36, '0vmoZEaN_-o_5_21': 36, 'WTf5EgVY5uU_218_236': 36, '3_51FhosiVY_93_101': 36, 'c76tShLfQb0_74_81': 36, 'PeUHy0A1GF0_99_103': 36, 'KPPCwmU5OHQ_56_62': 36, '5MzJRgpclwQ_70_84': 36, 'TPhpsIK7pDc_25_32': 36, 'ETUJipdnfOM_0_5': 36, 'EVqc7e8JCco_5_15': 36, 'Je3V7U5Ctj4_997_1004': 36, 'gbUhorqLCzU_10_23': 36, '1dfR0A_BXjw_401_408': 36, 'qDjtN7xxNr4_44_51': 36, 'Rq_VfjGH7kg_104_110': 36, 'YZ0-6hdQ0mU_0_3': 36, '4UOVKok7j1U_1_8': 36, 'DlOhXqKcLXk_7_14': 36, 'x_8RiVI6rH8_41_54': 36, 'sBjr8UJOpsQ_149_169': 36, 'yFPHhRat6bc_160_210': 36, 'eyBmG9ZZnLM_232_237': 36, 'YJ2aGe7CLBo_25_35': 36, 'Je3V7U5Ctj4_760_765': 36, 'lm0z7eLsbbw_9_23': 36, 'dtn0PuxgfkM_0_5': 36, 'TjLCJKoot4U_43_65': 36, '5E66Gk3V1Bc_23_30': 36, 'gIvetX_oXeI_85_90': 36, 'yvfhk1kwKls_103_113': 36, '3zgEl-OLFKE_12_15': 36, 'uB9zRlV47qA_17_23': 36, 'BE_uxYK9uz0_49_56': 36, 'aGUx0QOKWXw_7_12': 36, 'VLBsAPZ2DDE_58_64': 36, 'Ne87egvJnWo_0_3': 36, 'uAaWVeaYLdQ_1_12': 36, 'SZP3Jpbbwj0_52_59': 36, 'OCcy9TDRGKo_118_127': 36, 'kWLNZzuo3do_228_232': 36, '2YhDTpzxd3c_102_105': 36, 'u4T76jsPin0_0_11': 36, 'e996zZ0uV_A_196_204': 36, 'Ffv7fhL1EDY_177_184': 36, 'x8Ul09tk6zk_0_8': 36, 'V6Fxclwdfxc_1_11': 36, 'jTnrm338_KY_34_42': 36, 'g2IYQq7IkXc_23_32': 36, 'hJFBXHtxKIc_225_230': 36, 'UXs3eq68ZjE_246_250': 36, 'F3pmw2ga244_59_65': 36, 'H7vezmDeZaw_2_7': 35, '80D0ylOqPJ8_0_5': 35, 'ywMLb2VfHbI_13_20': 35, 'XZ0Ch_ClBfo_120_127': 35, 'hJFBXHtxKIc_204_209': 35, '-wa0umYJVGg_168_176': 35, 'lsanQj2yacs_102_108': 35, '-_hbPLsZvvo_18_25': 35, 'ACOmKiJDkA4_121_128': 35, 'sJC7E06IBXI_49_59': 35, 'xaPepCVepCg_35_46': 35, '2YhDTpzxd3c_98_101': 35, 'IiTzJQE67FA_36_46': 35, 'klFyrnrUSck_87_100': 35, 'FHwC2THZJfA_0_10': 35, 'qzQzooI4BqU_5_15': 35, '6owu8Mow0_g_384_389': 35, 'bb6V0Grtub4_174_185': 35, '0sUL0KCIc48_15_25': 35, 'D-K3ThvAqfo_151_158': 35, 'Sg5rTYrkpnU_35_48': 35, '6Lzq1HN33lE_5_15': 35, 'DKgHYLDebx0_0_8': 35, 'bruzcOyIGeg_4_12': 35, 'v_tGw5gwlEw_136_152': 35, '2L4oELbX8Ms_1_12': 35, 'Jfu-WkuCgD0_140_150': 35, 'ecVwxlXc1PQ_0_12': 35, 's20OlIRK340_125_138': 35, 'rw9h_574HxE_127_133': 35, 'fF89MasBFLw_321_326': 35, 'oRBgVOiZVsc_16_22': 35, '5AEldiUP408_65_71': 35, 'HZ-BuDDmvVk_0_10': 35, 's0hwEUC5emA_127_132': 35, '2YhDTpzxd3c_45_49': 35, 'B4foOe9kUgY_0_8': 35, 'c_-eFL7Sfw4_19_35': 35, 'n_Z0-giaspE_62_78': 35, 'm1NR0uNNs5Y_88_94': 35, 'qIXs7fUoLIg_1_11': 35, 'PeUHy0A1GF0_68_73': 35, 'tn-Hoz4KbkE_89_93': 35, 'q-JHcsqJXWY_0_8': 35, 'E4k0Aylzdyo_97_104': 35, 'D1X6qXkLjYE_41_49': 35, 'rw9h_574HxE_161_166': 35, 'kWLNZzuo3do_222_227': 35, '1RchFBCT9JU_43_53': 35, 'ogcqFaNbah4_475_487': 35, 'UdcObAQ5OOM_15_30': 35, '2I20ZTFHheg_96_104': 35, 'ao-9B8IV9_E_108_119': 35, 'VF1K_6ZSOAY_60_70': 35, 'Qp-k0H93iJE_35_39': 35, 'FAD8CbQuvco_35_45': 35, 'xkNDE1JL6Z8_50_59': 35, '5EXVeP6R3yc_105_108': 35, 'PeUHy0A1GF0_78_85': 35, 'hksxtbcS780_7_14': 35, 'WTf5EgVY5uU_94_98': 35, 'kWLNZzuo3do_167_181': 35, 'm1NR0uNNs5Y_192_198': 35, 'rl1rVk_xIOs_1_16': 35, 'AE9UaQwum8c_0_10': 35, 'xy9LLUUZ6ic_50_60': 35, '6t0BpjwYKco_142_151': 35, '0IDJG0q9j_k_1_24': 35, 'wpUT0DNB3qs_9_19': 35, 'O_Pst-uryQI_1_14': 35, 'WTf5EgVY5uU_76_83': 35, 'B-Lsf7ZKf5c_10_25': 35, 'bQJQGoJF7_k_109_115': 34, 'BtQtRGI0F2Q_15_20': 34, 'mF6ijhSrbBQ_32_40': 34, 'uqVCk2oDpSE_194_200': 34, '6sKdTbRkahM_6_12': 34, 'J4otiwOjQy8_98_112': 34, '4QdX5Q3qQsQ_6_14': 34, 'qhknaG9ifbs_122_127': 34, 'C_1cnNdMwxY_0_8': 34, 'ggic669elLM_200_215': 34, '2YhDTpzxd3c_149_154': 34, 'hJuqBDw_TT4_105_112': 34, '4t5POXt2e68_5_11': 34, 'lvFYUmDSOvU_34_38': 34, 'YmXCfQm0_CA_277_284': 34, '6t0BpjwYKco_179_183': 34, 'rNSAmHPYHjA_60_73': 34, 'WlGESqqv0jg_77_82': 34, 'BvHnDAsMtUA_0_13': 34, 'rw9h_574HxE_251_254': 34, 'mfJjIOfj6D8_3_10': 34, 'INDhUwDMg-4_220_227': 34, '2YhDTpzxd3c_223_232': 34, 'KqKUXRHHkCc_101_105': 34, 'u9prcUCHlqM_503_511': 34, 'e40bBP0_AbE_64_67': 34, 'HkuOqWzXYVg_0_12': 34, 'zlS1_zBYluY_15_21': 34, '6ZZkO14S7GY_5_15': 34, '60x_yxy7Sfw_1_7': 34, 'CjvMNwpAFWM_56_66': 34, 'CcvJs77L-e8_15_22': 34, '3chNlP5TeO8_0_10': 34, 'ejgwQqCHN1E_7_12': 34, '0xx13BuvVmo_25_36': 34, 'VahnQw2gTQY_315_320': 34, '5CS4nLI2ZX8_50_59': 34, '2YhDTpzxd3c_240_245': 34, 'aCKNdip53W4_0_25': 34, 'kWLNZzuo3do_76_80': 34, '-pUwIypksfE_13_23': 34, '9wxB1UQi0MM_18_38': 34, 'tJHUH9tpqPg_113_118': 34, 'fcvW1vr8hAs_104_108': 34, 'zulPFoY64wE_26_33': 34, 'K1ZM0LSLVw8_488_494': 34, 'qeKX-N1nKiM_0_5': 34, 'PeUHy0A1GF0_62_66': 34, '0lh_UWF9ZP4_191_197': 34, 'bSIjZ75a50s_286_304': 34, '0lh_UWF9ZP4_157_160': 34, 'qeKX-N1nKiM_74_77': 34, 'tHLiYTS9Iz8_1_16': 34, 'NVGGgncVq-4_12_20': 34, 'j2Dhf-xFUxU_20_29': 34, 'q3I3R_gqy8M_34_37': 34, 'qIk_Dz5XE5E_104_109': 34, '6t0BpjwYKco_217_229': 33, 'eyBmG9ZZnLM_215_219': 33, 'j2Dhf-xFUxU_13_20': 33, 'UXs3eq68ZjE_255_260': 33, 'hW8TKz2Aea4_5_12': 33, 'XtQdAPV2UZs_4_11': 33, 'VZ6H73nH7xs_27_33': 33, 'hJFBXHtxKIc_118_123': 33, 'g1Gldu1KS44_8_14': 33, 'n9bFBSSJ4Fk_32_39': 33, 'h0JvF9vpqx8_36_42': 33, 'TIubRrkku-4_1_10': 33, 'UXs3eq68ZjE_280_285': 33, 'nZSFn51l3hc_318_326': 33, 'YmXCfQm0_CA_109_120': 33, '-wa0umYJVGg_286_290': 33, 'kWLNZzuo3do_38_47': 33, 'labytsb3gfI_146_154': 33, 'DIToA1dDwGQ_32_42': 33, 'Je3V7U5Ctj4_569_576': 33, 'Y4gaJn0wlDE_0_10': 33, 'xxHx6s_DbUo_36_40': 33, '0lh_UWF9ZP4_215_226': 33, 'UXs3eq68ZjE_498_504': 33, 'pqTWUzehCUM_42_47': 33, 'UXs3eq68ZjE_235_240': 33, '778mkceE0UQ_40_46': 33, '0lh_UWF9ZP4_79_82': 33, 'm1NR0uNNs5Y_104_110': 33, 's-dSFyz_5Ww_31_41': 33, 'UgUFP5baQ9Y_0_10': 33, 'j1Z890_Q3so_131_138': 33, 'kk3TIio1-Uw_5_14': 33, 'sXyjCgR0rAc_0_11': 33, '71soiLO6I9U_15_24': 33, 'GMuijLIJH-U_1_10': 33, 'dJ3ba9zwx6c_5_15': 33, 'jCplbayVbtw_28_38': 33, 'sJSmRik2c-c_1_7': 33, 'AdcgmBtE99c_108_114': 33, '6njscWrdnM0_8_18': 33, 'ceOXCFUmxzA_100_110': 33, 'j4dMnAPZu70_11_18': 33, 'bK-i_FAcpoY_86_92': 33, 'MW21lp833Vo_8_16': 33, 'nZSFn51l3hc_480_485': 33, '1dYpcVv6n3Y_0_18': 33, '06CbMa0kDr8_3_13': 33, 'UXs3eq68ZjE_49_54': 33, 'hoinj6vyQ2g_8_16': 33, 'J8cP93yG1Ao_14_24': 33, 'nLz0QuerH1c_8_15': 33, 'eZLxohGP4IE_190_201': 33, 'UXs3eq68ZjE_209_214': 33, '0hyZ__3YhZc_289_295': 33, '5l6acVf12S4_7_13': 33, '0lh_UWF9ZP4_103_110': 33, 'D-K3ThvAqfo_126_130': 32, 'Xh6rdpJNaf0_0_15': 32, '9Bxknsvy3jQ_53_58': 32, 'xxHx6s_DbUo_41_44': 32, 'aRo8x3xXeEA_3_8': 32, 'Lt1JijkvSKk_0_10': 32, '3ytUOoa1SBE_12_23': 32, 'EdrZtaBUXIo_25_29': 32, '0NPtAv3_uVI_46_54': 32, '_0nX-El-ySo_83_93': 32, 'WpB4-eLyiBc_10_20': 32, '3FnUTQMJVXI_31_36': 32, 'QVSt5USMkMg_43_50': 32, 'fEsrO_poIUg_161_168': 32, 'xxHx6s_DbUo_202_207': 32, '4QdX5Q3qQsQ_38_44': 32, '8PQiaurIiDM_143_151': 32, 'qeKX-N1nKiM_52_59': 32, 'ItFqogTmAvQ_240_246': 32, 'xxHx6s_DbUo_240_248': 32, '61OSscPtQWQ_1_6': 32, 'UXs3eq68ZjE_250_255': 32, 'SrDE9-cDz48_4_12': 32, 'lexLAjh8fPA_27_31': 32, '4JVpbYmqfcI_5_19': 32, 'g2IYQq7IkXc_124_132': 32, 'wSwwS_0MKEc_68_78': 32, 'lsanQj2yacs_80_85': 32, 'PeUHy0A1GF0_122_127': 32, 'xxHx6s_DbUo_158_161': 32, '88DOMJ11q2M_34_43': 32, 'yYA7YXIKbg4_9_14': 32, 'hFERWnoc-nU_0_12': 32, 'kSzS_lFtJDk_55_70': 32, 'QhRqJp-CgEs_7_14': 32, 'tZmDWltBziM_42_47': 32, 'MW21lp833Vo_143_149': 32, 'ItFqogTmAvQ_281_286': 32, 'btuxO-C2IzE_64_72': 32, 'xxHx6s_DbUo_216_222': 32, 'WTf5EgVY5uU_124_128': 32, 'UXs3eq68ZjE_382_387': 32, 'CulG2SMC7DU_14_25': 32, 'jD4o_Lmy6bU_117_137': 32, '-8y1Q0rA3n8_108_115': 32, 'YmXCfQm0_CA_68_75': 32, 'aJoDt4DMkFU_118_124': 32, 'muI1BFsdbdo_33_45': 32, 'm1NR0uNNs5Y_224_230': 32, 'L6dEUQ6WiHY_171_186': 32, 'YmXCfQm0_CA_140_156': 32, 'D-K3ThvAqfo_209_213': 32, 'hW8TKz2Aea4_40_50': 32, 'BefkDBj5gSw_104_109': 32, 'Puv_4NtflqE_26_34': 32, 'e996zZ0uV_A_68_72': 32, 'AQhiE_NL6yY_91_101': 32, 'BefkDBj5gSw_233_240': 32, '6t0BpjwYKco_105_110': 32, 'otLEUwHao_E_140_151': 32, '0hyZ__3YhZc_352_356': 32, 'HBCJYhUjVf0_0_9': 31, '_O9kWD8nuRU_25_35': 31, 'c51L6ZxZGjQ_137_154': 31, 'rw9h_574HxE_229_236': 31, 'jjl2ZMdFCsw_130_142': 31, 'ngHDYzhDBk4_5_14': 31, '0hyZ__3YhZc_410_417': 31, 'iuqVpMdb1NM_35_43': 31, 'zBrC1GmA0Qg_26_33': 31, 'hJFBXHtxKIc_317_322': 31, 'ACOmKiJDkA4_67_74': 31, 'eyBmG9ZZnLM_103_108': 31, 'xxHx6s_DbUo_173_177': 31, 'Sude_yGIbJI_18_67': 31, 'G6w6kO8UPyg_31_41': 31, 'cWOPC2kt_IA_8_16': 31, 'D1tTBncIsm8_725_740': 31, 'eroAmLZ85DI_28_35': 31, 'zhLcONtNkew_16_21': 31, 'ACOmKiJDkA4_57_65': 31, 'YEmS8ZQIhTA_7_20': 31, '4Tn5S48sCwg_110_118': 31, 'AX38yo7Wuws_81_91': 31, 'YmXCfQm0_CA_7_16': 31, 'POv7JaE3vJ8_40_50': 31, '0hyZ__3YhZc_632_637': 31, '9BScZRpF7SI_31_36': 31, 'Hd-NeIhbYGc_43_48': 31, 'f_CvW22Eauc_16_23': 31, '5zkCnHUnoYY_69_74': 31, 'D1tTBncIsm8_248_254': 31, 'MHWxjWwAbwM_10_25': 31, '9gbUM9oHBNI_557_563': 31, 'qeKX-N1nKiM_37_43': 31, 'rw9h_574HxE_70_74': 31, 'Wnz3IevSNg0_1_8': 31, '5U3xz9Ovmhk_9_15': 31, 'O9yLRzpPp44_36_55': 31, '2xpIT0L4GqE_1_10': 31, 'YndZ9YulpTo_61_76': 31, 'D-K3ThvAqfo_215_220': 31, 'hJFBXHtxKIc_298_303': 31, '-zOrV-5vh1A_69_76': 31, 'bmvD4HlPFxg_20_27': 31, 'EXyp0Q7L1zE_30_38': 31, '0lh_UWF9ZP4_138_145': 31, '4_WZN7uW0NY_140_145': 31, 'BgoOihBb78w_38_40': 31, 'ao-9B8IV9_E_37_44': 31, 'WyIqGyj21Dk_0_10': 31, 'pfQPRXcihkI_135_144': 31, 'K-KVz3eqbnA_1_10': 31, '-s4-6QTT7HE_235_241': 31, 'Gm1WnWVXYzQ_0_9': 31, 'f_GnkweYzzI_35_41': 31, 'Wv3u2q3oGeU_35_45': 31, 'r0rmrbTb7fU_98_109': 31, '-rkErLY0rRc_63_67': 31, '6gQu8PWhFoQ_37_41': 31, 'WPG-BIWOrG4_635_640': 31, 'UXs3eq68ZjE_320_325': 31, 'hJFBXHtxKIc_310_315': 31, 'sZf3VDsdDPM_107_114': 31, 'JnNe61UZsdM_78_88': 31, '5U3xz9Ovmhk_258_265': 31, 'xxHx6s_DbUo_182_186': 31, '0lh_UWF9ZP4_165_170': 31, 'xxHx6s_DbUo_82_86': 31, 'fMFvOgb4k6E_35_43': 31, '0hyZ__3YhZc_302_307': 31, 'Ixw6wmoC_xg_116_126': 31, 'hJFBXHtxKIc_286_291': 31, 'uRo_vJ-zy-U_35_40': 30, 'TJXEKN7nwUc_11_49': 30, 'j2sOMdilDWU_87_97': 30, 'QT8iCDc7NGU_18_23': 30, 'SzEbtbNSg04_111_117': 30, 'GWQTAe64m-0_91_94': 30, 'PHDmVhShE80_78_82': 30, 'uH8ObB_dyOk_159_166': 30, '9Wr48VFhZH8_45_50': 30, 'kWLNZzuo3do_251_260': 30, 'qvg9eM4Hmzk_1_9': 30, '97JhYpoWxzY_0_4': 30, 'YmXCfQm0_CA_50_57': 30, 'zYcY4mjLpxU_104_118': 30, 'puineN1UMto_25_29': 30, 'UXs3eq68ZjE_508_513': 30, 'jcRCn7MeSbo_71_82': 30, 'ItFqogTmAvQ_361_365': 30, 's20OlIRK340_147_174': 30, 'UbmZAe5u5FI_44_55': 30, 'FoL7aWvpvNs_199_204': 30, 'kzyFBlNRohs_82_88': 30, '27mxaePkYB4_8_14': 30, 'jjl2ZMdFCsw_17_35': 30, 'me1D1WZ0yNM_120_124': 30, '3zrVqwV29V8_69_76': 30, 'K2LxyytY3Dw_104_112': 30, 'D9I1Z6O_mbw_112_119': 30, 'O_NWtDShLeg_21_25': 30, 'i2sRHf9m5KM_28_42': 30, 'OIg10Bl7urs_0_10': 30, 'j4dMnAPZu70_12_17': 30, 'q6vz80UkVtw_0_7': 30, 'kWLNZzuo3do_154_165': 30, 'uiLr9bdOL0M_23_30': 30, 'kI6MWZrl8v8_149_161': 30, '0hyZ__3YhZc_364_370': 30, 'L6dEUQ6WiHY_136_142': 30, 'IALJXP8LaS4_10_20': 30, 'iyAoiWeD53k_120_127': 30, 'BR4yQFZK9YM_101_110': 30, 'zkTn5Ef1Oig_71_75': 30, 'JIoiUNOXGaI_98_104': 30, 'PTxHJMM6hHE_0_15': 30, 'kZfBt5me3Pg_2_7': 30, 'IhzXQ-gc9IQ_125_129': 30, 'o_mWZWcm2r4_47_54': 30, '0lh_UWF9ZP4_178_182': 30, 'yg4aNiO1JnI_111_114': 30, '_O9kWD8nuRU_16_23': 30, '02Z-kuB3IaM_2_13': 30, 'D1tTBncIsm8_681_688': 30, 'CwPfvoqmV1Q_58_61': 30, 'lo4KcsBN--A_0_10': 30, 'C_DDjCRxTxQ_1_4': 30, 't4vP-cXXWkY_14_20': 30, 'Vn0Xv0fb1z4_18_30': 30, '1_abYc1K0e4_20_25': 30, '0lh_UWF9ZP4_62_69': 30, 'TPD5wO_LEPU_2_6': 30, 'IhwPQL9dFYc_130_136': 30, '_O9kWD8nuRU_45_49': 30, 'NoCgvH4xZHo_68_74': 30, 'hJFBXHtxKIc_163_168': 30, 'G3aJaADfFiE_210_216': 30, 'D1tTBncIsm8_841_848': 30, 'mv89psg6zh4_33_46': 29, 'ph-72iVQQnU_38_48': 29, 'dEn5E-TNezw_13_23': 29, 'WPG-BIWOrG4_672_677': 29, '8MVo7fje_oE_113_118': 29, 'oFUsn1owAbs_158_168': 29, 'dvhJGidrrKE_254_260': 29, '-vKO3uSG6Do_3_14': 29, 'ACOmKiJDkA4_161_170': 29, 'qeKX-N1nKiM_106_115': 29, 'F44bLc6t7-I_1_8': 29, 'RWWvWFeE6_Q_2_26': 29, 'hNOzHvsEmg4_31_36': 29, 'kNHivduxQWg_0_14': 29, '_KMoC6ZdeXs_10_16': 29, 'FA3OfhJK0mI_195_203': 29, 'P2WM91LENgk_40_50': 29, 'JAFGw0WRHHU_108_116': 29, 'idRc_KkInds_0_6': 29, 'XNV7hKVu-Xg_40_47': 29, '-uT_1VDvXok_8_15': 29, 'JIoiUNOXGaI_8_13': 29, '2YhDTpzxd3c_115_120': 29, '7OGizkf_JEo_191_194': 29, '-rkErLY0rRc_26_35': 29, 'yREFkmrrYiw_51_57': 29, 'SzEbtbNSg04_88_93': 29, 'Lyp7MiaCXNE_114_120': 29, '8z-XGiU1KN4_9_17': 29, 'xxHx6s_DbUo_162_165': 29, 'jCplbayVbtw_10_20': 29, 'mmSQTI6gMNQ_120_128': 29, 'kWLNZzuo3do_38_42': 29, 'vRC9sBNt9vs_10_16': 29, 'AXL1oMdCFUM_45_59': 29, 'UXs3eq68ZjE_313_318': 29, '9Q0JfdP36kI_167_170': 29, 'WZTGqvbqOFE_28_34': 29, '8MVo7fje_oE_139_144': 29, 'sFExO_PW22s_10_18': 29, 'WPG-BIWOrG4_130_134': 29, 'NoCgvH4xZHo_240_251': 29, 'UXs3eq68ZjE_194_200': 29, 'IiIiY6o-C9k_49_55': 29, 'ACOmKiJDkA4_146_153': 29, 'PeUHy0A1GF0_114_121': 29, 'fkONJEgTNJY_25_35': 29, '11xs9mFKObs_0_8': 29, 'oBt257I-pL0_0_10': 29, '0lh_UWF9ZP4_148_155': 29, 'k-SWy-sU8cE_5_10': 29, 'gqxpGOHUH9k_113_119': 29, 'NVGGgncVq-4_111_117': 29, 'ACOmKiJDkA4_20_26': 29, 'ao-9B8IV9_E_77_81': 29, 'Xp6rxW4hFFo_32_40': 29, 'd7Gs0uGFLh0_5_13': 29, 'xxHx6s_DbUo_49_56': 29, 'fr9H1WLcF1A_141_148': 29, 'NoCgvH4xZHo_56_63': 29, 'KpmVL4ANieA_0_9': 29, 'tZzJ9dDnncY_43_46': 29, 'x_7BrCQdVUs_172_177': 29, 'yId1rg5-ac0_40_50': 29, 'xxHx6s_DbUo_98_101': 29, 'W1052h2rzoA_91_98': 29, '0lh_UWF9ZP4_199_207': 29, 'Gn4Iv5ARIXc_83_93': 29, '1kYWws89W3Y_0_5': 29, '-4wsuPCjDBc_5_15': 29, 'wFX6bXLbHW4_83_90': 29, 'PNMsPz1701c_3_20': 29, '4xVGpDmA4lE_23_33': 29, 'MWzeInQaUk4_12_20': 29, '4eJJF11bIxM_1_9': 29, 'sI0FBMKYo7s_1_6': 29, 'aUPnwqkPXYc_123_138': 29, 'Z10_CDPQKKs_1_6': 29, '0lh_UWF9ZP4_183_190': 29, 'xEDCfcMZlZY_91_100': 29, 'IhwPQL9dFYc_153_170': 29, 'MwOEK-KXSPc_1_10': 29, 'oMPebXDwkZ0_4_19': 29, 'n_Z0-giaspE_437_447': 29, 'HAjwXjwN9-A_16_24': 29, '0hyZ__3YhZc_388_394': 29, 'Ce7equ9zCxk_4_19': 29, 'eZLxohGP4IE_15_25': 29, 'Yh2N6ZtRBdU_110_120': 29, 'UbmZAe5u5FI_101_110': 29, 'e-j59PqJjSM_163_173': 29, '0hyZ__3YhZc_341_348': 29, '1qxMJLkHDLw_0_9': 29, 'ItFqogTmAvQ_389_395': 28, 'PCXHuseKwDc_17_20': 28, 'E6sqA9QtV5I_195_201': 28, 'Uc63MFVwfrs_360_372': 28, 'elQqQfux7Po_12_22': 28, 'PmrTDZy3f2M_35_39': 28, 'klteYv1Uv9A_27_33': 28, 'FWzsXeXCwuc_106_110': 28, 'r4qv_BNlQNk_93_98': 28, 'UbmZAe5u5FI_16_23': 28, 'AEKPjVHSVZc_0_12': 28, 'wNv74rvkAw8_30_40': 28, 'q8t7iSGAKik_11_31': 28, '7uOiiA4Kxbo_23_35': 28, 'IhwPQL9dFYc_124_129': 28, 'qeKX-N1nKiM_68_72': 28, '1mIyMRPV8kg_9_17': 28, '1dA1RQgPN3c_72_82': 28, 'MMnnqzOoMF0_68_72': 28, 'IhwPQL9dFYc_143_147': 28, 'cSDkshD2ME0_11_14': 28, 'ao-9B8IV9_E_87_95': 28, 'ACOmKiJDkA4_49_54': 28, 'lqeojs7S0qI_181_186': 28, 'CL49s8bO6Fg_1_11': 28, 'v5CeGLEnVFE_0_8': 28, 'ACOmKiJDkA4_130_144': 28, 'Ixw6wmoC_xg_60_70': 28, 'mHv4iJ9Yr1g_10_16': 28, 'onW5hJXnI5s_10_16': 28, '6GJ1DNOGDAM_223_233': 28, 'WPG-BIWOrG4_608_613': 28, '_O9kWD8nuRU_77_81': 28, '0hyZ__3YhZc_562_568': 28, 'ruNrdmjcNTc_0_5': 28, 'PeUHy0A1GF0_28_32': 28, 'SzEbtbNSg04_70_85': 28, 'mmSQTI6gMNQ_15_21': 28, 'ItFqogTmAvQ_48_52': 28, '53dc4z7HLyg_16_23': 28, 'IhwPQL9dFYc_78_88': 28, 'IhwPQL9dFYc_137_143': 28, 'PeUHy0A1GF0_51_55': 28, 'GzlnqrzdYHU_32_40': 28, '9LHg5RUGukI_63_68': 28, 'SFFfhAUEoj0_10_16': 28, 'QqYWLR47eLI_10_18': 28, '_O9kWD8nuRU_37_43': 28, 'JIoiUNOXGaI_34_41': 28, 'uGDuIyfJXXg_23_33': 28, 'dvhJGidrrKE_247_252': 28, '8yuPGwxwdPs_1_10': 28, 's8utHZYTNTs_35_42': 28, 'Hd-NeIhbYGc_28_31': 28, '0lh_UWF9ZP4_94_103': 28, 'UbmZAe5u5FI_60_70': 28, 'OaBmAg6gz30_4_18': 28, 'D-K3ThvAqfo_43_47': 28, 'b97TK8XVLHE_40_50': 28, 'HV12kTtdTT4_5_14': 28, 'Ke21boTg2Vg_24_29': 28, 'dc4UltkRJsw_53_59': 28, '8PQiaurIiDM_247_255': 28, 'ficwZQYmRLE_5_20': 28, '0hyZ__3YhZc_380_384': 28, 'eZLxohGP4IE_147_158': 28, 'ZbtpcGi2DWY_161_170': 28, 'kWLNZzuo3do_145_151': 28, '-9CUm-2cui8_39_44': 28, 'R1UrFBF_0iU_35_41': 28, '8MVo7fje_oE_130_136': 28, '_JorUS-8Nlg_63_73': 28, 'e-j59PqJjSM_405_416': 28, 'PAN5IVvMlVc_17_23': 28, 'SzEbtbNSg04_28_48': 28, '9Q0JfdP36kI_56_64': 28, '7uF-2adCsI0_60_67': 28, '_O9kWD8nuRU_70_76': 28, 'IhwPQL9dFYc_171_175': 28, 'tYh4iDFgmEE_50_54': 28, 'IWhrWLOAin0_1_4': 28, 'TZ860P4iTaM_10_24': 28, 'Ms3QdGIzltU_10_20': 28, 'IhwPQL9dFYc_24_30': 28, 'EqOGzNkekMk_5_15': 28, '4DVsKrdXaUs_4_12': 28, 'zv2RIbUsnSw_335_341': 28, 'ACOmKiJDkA4_75_81': 28, 'm7x8uIdg2XU_67_73': 28, '0lh_UWF9ZP4_50_60': 27, 'o_mWZWcm2r4_10_15': 27, 'IhwPQL9dFYc_61_75': 27, 'HJHPB_Y8GZE_22_28': 27, '53dc4z7HLyg_25_29': 27, 'vuvpbeQak9Q_23_29': 27, '93n_oYVCLpk_9_12': 27, 'tYh4iDFgmEE_10_14': 27, 'xxHx6s_DbUo_121_128': 27, 'v-9Gx0gJmfo_26_32': 27, '8MVo7fje_oE_85_90': 27, '5U3xz9Ovmhk_99_105': 27, '8MVo7fje_oE_125_130': 27, 'zCf8NWJ8kzA_47_52': 27, 'IytNBm8WA1c_63_67': 27, '4QYPZM01xFE_14_26': 27, '0ONJfp95yoE_1_10': 27, 'P4IjNV3lZkQ_136_144': 27, 'GEXqMH8I3_w_63_68': 27, 'WEJfT-oB4v4_20_35': 27, 'IiIiY6o-C9k_59_64': 27, '0hyZ__3YhZc_598_603': 27, 'UbmZAe5u5FI_36_40': 27, 'fr9H1WLcF1A_256_261': 27, '9Q0JfdP36kI_23_28': 27, '-8y1Q0rA3n8_95_102': 27, 'hEOGZoYSvT4_82_86': 27, 'UbmZAe5u5FI_111_115': 27, 'FWzsXeXCwuc_111_116': 27, '3ftaoFnhTyY_140_150': 27, 'OvRmRN1-O0Q_21_25': 27, '6vSKIUGGLvY_81_87': 27, 'rVFJzN20jhQ_27_32': 27, 'eTnlw7v8ea0_36_50': 27, '0lh_UWF9ZP4_174_178': 27, 'lSnWhsmlGec_5_10': 27, '8PQiaurIiDM_173_180': 27, 'pzq5fPfsPZg_29_33': 27, '30GeJHYoerk_63_75': 27, '_O9kWD8nuRU_50_56': 27, 'nrZyPuRd5pU_85_92': 27, 'BtQEY2SL4g4_126_132': 27, 'MSrJTeKNzdI_32_36': 27, 'xxHx6s_DbUo_57_61': 27, '2KrdBUFeFtY_22_27': 27, '0hyZ__3YhZc_575_580': 27, 'OO-5-eVEKPA_25_31': 27, '-mAoVOhKy0c_4_9': 27, 'UbmZAe5u5FI_88_98': 27, 'wgrrQwLdME8_0_10': 27, 'qeKX-N1nKiM_123_130': 27, 'ge7OOILJA6U_20_25': 27, 'UbmZAe5u5FI_26_33': 27, 'e-j59PqJjSM_50_98': 27, 'hNPZmTlY_3Q_0_8': 27, '8MVo7fje_oE_166_171': 27, 'Li3umATsU0E_1_5': 27, 'iLr7ZHAq1ro_7_11': 27, 'IhwPQL9dFYc_50_59': 27, 'OfgSCMxttCc_86_92': 27, 'swJ0zhVJ8DU_15_21': 27, '8MVo7fje_oE_153_158': 27, 'PCXHuseKwDc_68_76': 27, 'WPG-BIWOrG4_755_761': 27, 'sRKQfxxEP4M_117_125': 27, 'JnNe61UZsdM_42_51': 27, 'HJHPB_Y8GZE_259_263': 27, 'BVilbVCo9sU_1_11': 26, '-rvjK0lE3z4_33_43': 26, 'qRoxNXm7INc_58_66': 26, 'dvhJGidrrKE_98_101': 26, 'fr9H1WLcF1A_326_336': 26, 'tZzJ9dDnncY_37_41': 26, 'VfqlfprZsaQ_75_85': 26, 'Lw0eGsYxElA_11_14': 26, 'De815YpTBic_41_48': 26, 'FOOM-wA2rOY_77_86': 26, '4MjTb5A68VA_111_118': 26, '0lh_UWF9ZP4_82_87': 26, 'xPR0xFgCAZY_17_27': 26, '9LSuyLyuUiM_3_6': 26, 'lB1UPJ4leqs_1_6': 26, 'hGmsx2P1qHw_36_44': 26, '0lh_UWF9ZP4_71_77': 26, 'ph-72iVQQnU_126_138': 26, 'D1tTBncIsm8_198_205': 26, 'BApIQn69EVE_10_16': 26, 'SzEbtbNSg04_214_224': 26, 'OE6H_M52Sng_89_97': 26, 'zbAk0gX7kas_16_24': 26, '05Gtb7_9tLU_0_9': 26, 'CquJjlNuotg_147_155': 26, 'VuCFgiWfVF4_0_6': 26, 'nZSFn51l3hc_660_666': 26, 'PslVHtXc7Tg_8_14': 26, '0lh_UWF9ZP4_21_26': 26, '8MVo7fje_oE_108_113': 26, '9VG7Elw9TDA_85_91': 26, 'UbmZAe5u5FI_132_141': 26, '0wutCy2ZGOQ_4_10': 26, 'O9yLRzpPp44_167_190': 26, 'gyOVZz7kXyM_1_10': 26, '1hPxGmTGarM_9_19': 26, 'WPG-BIWOrG4_683_689': 25, '30GeJHYoerk_80_85': 25, '16iNk1hLJt4_37_40': 25, 'BtQEY2SL4g4_11_16': 25, '8PQiaurIiDM_94_99': 25, 'GcfWD62sbcs_13_33': 25, 'XdB0pVjFYoU_1_8': 25, 'e-j59PqJjSM_264_277': 25, '0hyZ__3YhZc_418_424': 25, 'pzq5fPfsPZg_51_57': 25, '57C93mpt6Xo_358_368': 25, 'ViM0JjUoqRw_10_20': 25, 'xBW_uR3kGr4_42_55': 25, '4z3b4mnw5y4_56_60': 25, 'r0E-0ntoNWo_20_30': 25, 'q-a6NEotUX8_5_10': 25, '0lh_UWF9ZP4_38_46': 25, 'zv2RIbUsnSw_159_162': 25, 'UyhvHB62ph8_73_82': 25, '5U3xz9Ovmhk_214_222': 25, '4a1PGntVff8_121_132': 25, '0hyZ__3YhZc_279_283': 25, 'dtwXtwJByYk_5_14': 25, '9LHg5RUGukI_58_63': 25, 'GWQTAe64m-0_160_166': 25, 'NMlKMfiHSho_1_15': 25, 'E61HNXjgyqA_22_32': 25, '8MVo7fje_oE_180_185': 25, 'Jxw16bqzVqE_18_28': 25, 'NNYLo1OeZ-Q_48_54': 25, 'j7xz1nos-xc_10_20': 25, 'Ar70p1_LcfM_2_20': 24, 'o2X6UCaNqKA_27_36': 24, 'J---aiyznGQ_0_6': 24, 'lB1UPJ4leqs_0_6': 24, 'YersIyzsOpc_15_30': 24, 'Dgf0VHMEtNs_57_66': 24, '2YhDTpzxd3c_174_180': 24, '0lh_UWF9ZP4_27_31': 24, '0hyZ__3YhZc_485_490': 23, '30GeJHYoerk_121_126': 23, '5qVPfLgjHx0_16_22': 23, 'p9g06ktIkJg_4_11': 23, 'pzq5fPfsPZg_145_160': 23, 'z3v8BMNdDvo_1_13': 22, 'vfktGc_qx-w_2_18': 21, 'SKhmFSV-XB0_12_18': 17, 'EdV81a5Mg9E_178_200': 17, '3Mqau7J2g5E_18_36': 16, 'KLgPTlBLHmo_18_21': 14, 'BiVJel79edY_154_168': 12, 'fnEvy64GuIE_137_146': 12, 'BiVJel79edY_223_240': 11, 'b0GjKiy3nSI_0_25': 6, 'LVHEDAK3X1s_0_16': 5})\n",
            "The distribution of the number of captions for each video clip \n",
            "Counter({29: 93, 28: 89, 38: 81, 37: 80, 43: 73, 36: 72, 31: 72, 35: 72, 39: 71, 41: 68, 42: 68, 27: 67, 30: 66, 44: 63, 45: 62, 32: 61, 33: 57, 34: 57, 40: 51, 50: 51, 59: 49, 47: 49, 53: 46, 46: 44, 48: 43, 51: 42, 52: 42, 56: 41, 49: 41, 54: 40, 57: 36, 26: 36, 58: 35, 55: 31, 25: 31, 61: 28, 60: 22, 62: 14, 63: 11, 24: 8, 23: 5, 12: 2, 66: 2, 64: 2, 17: 2, 65: 2, 14: 1, 21: 1, 22: 1, 11: 1, 71: 1, 6: 1, 75: 1, 16: 1, 81: 1, 5: 1})\n"
          ],
          "name": "stdout"
        }
      ]
    },
    {
      "cell_type": "code",
      "metadata": {
        "id": "b-v6laGrF9r1",
        "outputId": "b665fd13-7b79-417f-eac5-060df4878cf9",
        "colab": {
          "base_uri": "https://localhost:8080/",
          "height": 542
        }
      },
      "source": [
        "\n",
        "common_file = [word[0] for word in w.most_common(10)]\n",
        "common_counts = [word[1] for word in w.most_common(10)]\n",
        "fig = plt.figure(figsize=(18,6))\n",
        "sns.barplot(x=common_file, y=common_counts)\n",
        "plt.title('Number of captions for the first 20 videos')\n",
        "#plt.show()\n",
        "plt.xticks(rotation=45, horizontalalignment='right',fontweight='light',fontsize='x-large' )"
      ],
      "execution_count": 28,
      "outputs": [
        {
          "output_type": "execute_result",
          "data": {
            "text/plain": [
              "(array([0, 1, 2, 3, 4, 5, 6, 7, 8, 9]),\n",
              " <a list of 10 Text major ticklabel objects>)"
            ]
          },
          "metadata": {
            "tags": []
          },
          "execution_count": 28
        },
        {
          "output_type": "display_data",
          "data": {
            "image/png": "[encoded data removed]",
            "text/plain": [
              "<Figure size 1296x432 with 1 Axes>"
            ]
          },
          "metadata": {
            "tags": [],
            "needs_background": "light"
          }
        }
      ]
    },
    {
      "cell_type": "code",
      "metadata": {
        "id": "703Nu7r3EcIX",
        "outputId": "8c6a85bc-f6c3-42aa-bfe9-7d105318946e",
        "colab": {
          "base_uri": "https://localhost:8080/",
          "height": 855
        }
      },
      "source": [
        "#plt.figure(figsize=(12,12))\n",
        "fig = plt.figure()\n",
        "ax = fig.add_axes([0,0,5,5])\n",
        "ax.bar(w.keys(), w.values())\n",
        "ax.set_ylabel('Number of captions')\n",
        "ax.set_title('Distribution graph')\n",
        "plt.show()\n",
        "#plt.xticks(rotation=45, horizontalalignment='right',fontweight='light',fontsize='x-large' )"
      ],
      "execution_count": 29,
      "outputs": [
        {
          "output_type": "display_data",
          "data": {
            "image/png": "[encoded data removed]",
            "text/plain": [
              "<Figure size 432x288 with 1 Axes>"
            ]
          },
          "metadata": {
            "tags": [],
            "needs_background": "light"
          }
        }
      ]
    },
    {
      "cell_type": "code",
      "metadata": {
        "id": "0JiArTbzO5zB"
      },
      "source": [
        "def convert_to_lower(data, title):\n",
        "  return [x.lower() for x in data[title]]"
      ],
      "execution_count": 30,
      "outputs": []
    },
    {
      "cell_type": "code",
      "metadata": {
        "id": "4tMuW5HoOtOC"
      },
      "source": [
        "annotations['Description'] = convert_to_lower(annotations, 'Description')"
      ],
      "execution_count": 31,
      "outputs": []
    },
    {
      "cell_type": "markdown",
      "metadata": {
        "id": "zArxVUmnHRJ7"
      },
      "source": [
        "#View word count"
      ]
    },
    {
      "cell_type": "code",
      "metadata": {
        "id": "zSEcCDqT5ENk"
      },
      "source": [
        "def visualize_words(all_words, plt_title='Top appearing words'):\n",
        "  common_words = [word[0] for word in all_words]\n",
        "  common_counts = [word[1] for word in all_words]\n",
        "  plt.figure(figsize=(18,6))\n",
        "  sns.barplot(x=common_words, y=common_counts)\n",
        "  plt.xticks(rotation=45, horizontalalignment='right',fontweight='light',fontsize='x-large' )"
      ],
      "execution_count": 32,
      "outputs": []
    },
    {
      "cell_type": "code",
      "metadata": {
        "id": "Ru5AFs3DP2Qt",
        "outputId": "78db8274-0ae2-4b27-9fd8-fe3e2b314b50",
        "colab": {
          "base_uri": "https://localhost:8080/",
          "height": 856
        }
      },
      "source": [
        "def visualize_description(dataset, title, plt_title='Top appearing words'):\n",
        "  all_words=Counter(\" \".join(dataset[title]).split())\n",
        "  best_50=all_words.most_common(50)\n",
        "  least=all_words.most_common()[:-50-1:-1]\n",
        "  visualize_words(best_50, \" 50 best \"+ plt_title)\n",
        "  visualize_words(least, \" 50 least  \"+ plt_title)\n",
        "\n",
        "visualize_description(final_corpus,'Description', 'Common words')\n",
        "\n"
      ],
      "execution_count": 33,
      "outputs": [
        {
          "output_type": "display_data",
          "data": {
            "image/png": "[encoded data removed]",
            "text/plain": [
              "<Figure size 1296x432 with 1 Axes>"
            ]
          },
          "metadata": {
            "tags": [],
            "needs_background": "light"
          }
        },
        {
          "output_type": "display_data",
          "data": {
            "image/png": "[encoded data removed]",
            "text/plain": [
              "<Figure size 1296x432 with 1 Axes>"
            ]
          },
          "metadata": {
            "tags": [],
            "needs_background": "light"
          }
        }
      ]
    },
    {
      "cell_type": "code",
      "metadata": {
        "id": "U-phbCAKNUXY"
      },
      "source": [
        "annotations=annotations.reindex(['AnnotationID','VideoPath','Description'], axis=\"columns\").reset_index()"
      ],
      "execution_count": 34,
      "outputs": []
    },
    {
      "cell_type": "code",
      "metadata": {
        "id": "_KzSlGJgOhfn"
      },
      "source": [
        "annotations.drop(labels='index',inplace=True, axis= 'columns')"
      ],
      "execution_count": 35,
      "outputs": []
    },
    {
      "cell_type": "code",
      "metadata": {
        "id": "aLXulnoyJ9qF"
      },
      "source": [
        "# To remove punctuations\n",
        "def remove_punctuation(text_original):\n",
        "    text_no_punctuation = text_original.translate(string.punctuation)\n",
        "    return(text_no_punctuation)\n",
        "\n",
        "\n",
        "# To remove single characters\n",
        "def remove_single_character(text):\n",
        "    text_len_more_than1 = \"\"\n",
        "    for word in text.split():\n",
        "        if len(word) > 1:\n",
        "            text_len_more_than1 += \" \" + word\n",
        "    return(text_len_more_than1)\n",
        "\n",
        "# To remove numeric values\n",
        "def remove_numeric(text,printTF=False):\n",
        "    text_no_numeric = \"\"\n",
        "    for word in text.split():\n",
        "        isalpha = word.isalpha()\n",
        "        if printTF:\n",
        "            print(\"    {:10} : {:}\".format(word,isalpha))\n",
        "        if isalpha:\n",
        "            text_no_numeric += \" \" + word\n",
        "    return(text_no_numeric)\n",
        "def text_clean(text_original):\n",
        "    text = remove_punctuation(text_original)\n",
        "    text = remove_single_character(text)\n",
        "    text = remove_numeric(text)\n",
        "    return(text)"
      ],
      "execution_count": 36,
      "outputs": []
    },
    {
      "cell_type": "code",
      "metadata": {
        "id": "BFTR-kaW9i_m"
      },
      "source": [
        "from tqdm import tqdm"
      ],
      "execution_count": 37,
      "outputs": []
    },
    {
      "cell_type": "code",
      "metadata": {
        "id": "mzSBO2CBVrqV",
        "outputId": "f31376de-e090-48ee-9651-ce6060c84064",
        "colab": {
          "base_uri": "https://localhost:8080/"
        }
      },
      "source": [
        "for i, caption in tqdm(enumerate(annotations.Description.values),total=annotations.shape[0]):\n",
        "    newcaption = text_clean(caption)\n",
        "    annotations['Description'].iloc[i] = newcaption"
      ],
      "execution_count": 38,
      "outputs": [
        {
          "output_type": "stream",
          "text": [
            "100%|██████████| 85510/85510 [00:57<00:00, 1491.34it/s]\n"
          ],
          "name": "stderr"
        }
      ]
    },
    {
      "cell_type": "code",
      "metadata": {
        "id": "ur3FJ06NEuFI"
      },
      "source": [
        " def addPath(text_data,video_path):\n",
        "   text_data['VideoPath'] = text_data.apply(lambda row: row['AnnotationID']+'.npy', axis=1)\n",
        "   text_data['VideoPath'] = text_data['VideoPath'].map(lambda x: video_path.joinpath(x))\n",
        "   text_data = text_data[text_data['VideoPath'].map(lambda x: x.is_file())]\n",
        "   text_data = text_data[text_data['Description'].map(lambda x: isinstance(x, str))]\n",
        "   unique_filenames = sorted(text_data['VideoPath'].unique())\n",
        "   data = text_data[text_data['VideoPath'].map(lambda x: x in unique_filenames)]\n",
        "   return data"
      ],
      "execution_count": 39,
      "outputs": []
    },
    {
      "cell_type": "code",
      "metadata": {
        "id": "ZaxQ53V7ELT0"
      },
      "source": [
        "video_path=drive_path.joinpath('VideoArrays')\n",
        "len(list(video_path.glob('*')))\n",
        "annotations=addPath(annotations, video_path)"
      ],
      "execution_count": 40,
      "outputs": []
    },
    {
      "cell_type": "code",
      "metadata": {
        "id": "SOpmPiYy_upq",
        "outputId": "d4092c73-c103-4336-9b2f-e4ffe0131b36",
        "colab": {
          "base_uri": "https://localhost:8080/"
        }
      },
      "source": [
        "print(len(list(np.unique(annotations['VideoPath']))))\n",
        "print(len(list(np.unique(annotations['AnnotationID']))))"
      ],
      "execution_count": 41,
      "outputs": [
        {
          "output_type": "stream",
          "text": [
            "1969\n",
            "1969\n"
          ],
          "name": "stdout"
        }
      ]
    },
    {
      "cell_type": "code",
      "metadata": {
        "id": "jqSAXH8Lu6Y1",
        "outputId": "a9724f06-35bd-419e-9bb3-c0213cf0ba8b",
        "colab": {
          "base_uri": "https://localhost:8080/",
          "height": 862
        }
      },
      "source": [
        "visualize_description(annotations,'Description', 'Common words After Noise reduction')"
      ],
      "execution_count": 42,
      "outputs": [
        {
          "output_type": "display_data",
          "data": {
            "image/png": "[encoded data removed]",
            "text/plain": [
              "<Figure size 1296x432 with 1 Axes>"
            ]
          },
          "metadata": {
            "tags": [],
            "needs_background": "light"
          }
        },
        {
          "output_type": "display_data",
          "data": {
            "image/png": "[encoded data removed]",
            "text/plain": [
              "<Figure size 1296x432 with 1 Axes>"
            ]
          },
          "metadata": {
            "tags": [],
            "needs_background": "light"
          }
        }
      ]
    },
    {
      "cell_type": "code",
      "metadata": {
        "id": "MFld7UzhBBUr",
        "outputId": "6510e236-37b6-44e9-ddf1-f2a3c46eb492",
        "colab": {
          "base_uri": "https://localhost:8080/",
          "height": 204
        }
      },
      "source": [
        "annotations.head()"
      ],
      "execution_count": 43,
      "outputs": [
        {
          "output_type": "execute_result",
          "data": {
            "text/html": [
              "<div>\n",
              "<style scoped>\n",
              "    .dataframe tbody tr th:only-of-type {\n",
              "        vertical-align: middle;\n",
              "    }\n",
              "\n",
              "    .dataframe tbody tr th {\n",
              "        vertical-align: top;\n",
              "    }\n",
              "\n",
              "    .dataframe thead th {\n",
              "        text-align: right;\n",
              "    }\n",
              "</style>\n",
              "<table border=\"1\" class=\"dataframe\">\n",
              "  <thead>\n",
              "    <tr style=\"text-align: right;\">\n",
              "      <th></th>\n",
              "      <th>AnnotationID</th>\n",
              "      <th>VideoPath</th>\n",
              "      <th>Description</th>\n",
              "    </tr>\n",
              "  </thead>\n",
              "  <tbody>\n",
              "    <tr>\n",
              "      <th>0</th>\n",
              "      <td>mv89psg6zh4_33_46</td>\n",
              "      <td>/content/drive/My Drive/VideoArrays/mv89psg6zh...</td>\n",
              "      <td>bird in sink keeps getting under the running ...</td>\n",
              "    </tr>\n",
              "    <tr>\n",
              "      <th>1</th>\n",
              "      <td>mv89psg6zh4_33_46</td>\n",
              "      <td>/content/drive/My Drive/VideoArrays/mv89psg6zh...</td>\n",
              "      <td>bird is bathing in</td>\n",
              "    </tr>\n",
              "    <tr>\n",
              "      <th>2</th>\n",
              "      <td>mv89psg6zh4_33_46</td>\n",
              "      <td>/content/drive/My Drive/VideoArrays/mv89psg6zh...</td>\n",
              "      <td>bird is splashing around under running</td>\n",
              "    </tr>\n",
              "    <tr>\n",
              "      <th>3</th>\n",
              "      <td>mv89psg6zh4_33_46</td>\n",
              "      <td>/content/drive/My Drive/VideoArrays/mv89psg6zh...</td>\n",
              "      <td>bird is bathing in</td>\n",
              "    </tr>\n",
              "    <tr>\n",
              "      <th>4</th>\n",
              "      <td>mv89psg6zh4_33_46</td>\n",
              "      <td>/content/drive/My Drive/VideoArrays/mv89psg6zh...</td>\n",
              "      <td>bird is standing in sink drinking water that ...</td>\n",
              "    </tr>\n",
              "  </tbody>\n",
              "</table>\n",
              "</div>"
            ],
            "text/plain": [
              "        AnnotationID  ...                                        Description\n",
              "0  mv89psg6zh4_33_46  ...   bird in sink keeps getting under the running ...\n",
              "1  mv89psg6zh4_33_46  ...                                 bird is bathing in\n",
              "2  mv89psg6zh4_33_46  ...             bird is splashing around under running\n",
              "3  mv89psg6zh4_33_46  ...                                 bird is bathing in\n",
              "4  mv89psg6zh4_33_46  ...   bird is standing in sink drinking water that ...\n",
              "\n",
              "[5 rows x 3 columns]"
            ]
          },
          "metadata": {
            "tags": []
          },
          "execution_count": 43
        }
      ]
    },
    {
      "cell_type": "code",
      "metadata": {
        "id": "EL8DEjwOToKe",
        "outputId": "d30ce99c-bbd1-443a-bc42-2c6c08b6852c",
        "colab": {
          "base_uri": "https://localhost:8080/"
        }
      },
      "source": [
        "def preprocess_captions(data):\n",
        "  total_captions=[]\n",
        "  for caption in tqdm(data['Description'].astype(str)):\n",
        "    caption='<start> '+caption+' <end>'\n",
        "    total_captions.append(caption)\n",
        "  return total_captions\n",
        "total_captions=preprocess_captions(annotations)"
      ],
      "execution_count": 45,
      "outputs": [
        {
          "output_type": "stream",
          "text": [
            "100%|██████████| 80799/80799 [00:00<00:00, 1440478.30it/s]\n"
          ],
          "name": "stderr"
        }
      ]
    },
    {
      "cell_type": "code",
      "metadata": {
        "id": "Rkg747O2c6lS"
      },
      "source": [
        "annotations['captions']=total_captions"
      ],
      "execution_count": 46,
      "outputs": []
    },
    {
      "cell_type": "code",
      "metadata": {
        "id": "IZc0X7SZ_utZ",
        "outputId": "a289638a-10a8-4978-f315-6a8a637429ac",
        "colab": {
          "base_uri": "https://localhost:8080/",
          "height": 204
        }
      },
      "source": [
        "annotations.head()"
      ],
      "execution_count": 47,
      "outputs": [
        {
          "output_type": "execute_result",
          "data": {
            "text/html": [
              "<div>\n",
              "<style scoped>\n",
              "    .dataframe tbody tr th:only-of-type {\n",
              "        vertical-align: middle;\n",
              "    }\n",
              "\n",
              "    .dataframe tbody tr th {\n",
              "        vertical-align: top;\n",
              "    }\n",
              "\n",
              "    .dataframe thead th {\n",
              "        text-align: right;\n",
              "    }\n",
              "</style>\n",
              "<table border=\"1\" class=\"dataframe\">\n",
              "  <thead>\n",
              "    <tr style=\"text-align: right;\">\n",
              "      <th></th>\n",
              "      <th>AnnotationID</th>\n",
              "      <th>VideoPath</th>\n",
              "      <th>Description</th>\n",
              "      <th>captions</th>\n",
              "    </tr>\n",
              "  </thead>\n",
              "  <tbody>\n",
              "    <tr>\n",
              "      <th>0</th>\n",
              "      <td>mv89psg6zh4_33_46</td>\n",
              "      <td>/content/drive/My Drive/VideoArrays/mv89psg6zh...</td>\n",
              "      <td>bird in sink keeps getting under the running ...</td>\n",
              "      <td>&lt;start&gt;  bird in sink keeps getting under the ...</td>\n",
              "    </tr>\n",
              "    <tr>\n",
              "      <th>1</th>\n",
              "      <td>mv89psg6zh4_33_46</td>\n",
              "      <td>/content/drive/My Drive/VideoArrays/mv89psg6zh...</td>\n",
              "      <td>bird is bathing in</td>\n",
              "      <td>&lt;start&gt;  bird is bathing in &lt;end&gt;</td>\n",
              "    </tr>\n",
              "    <tr>\n",
              "      <th>2</th>\n",
              "      <td>mv89psg6zh4_33_46</td>\n",
              "      <td>/content/drive/My Drive/VideoArrays/mv89psg6zh...</td>\n",
              "      <td>bird is splashing around under running</td>\n",
              "      <td>&lt;start&gt;  bird is splashing around under runnin...</td>\n",
              "    </tr>\n",
              "    <tr>\n",
              "      <th>3</th>\n",
              "      <td>mv89psg6zh4_33_46</td>\n",
              "      <td>/content/drive/My Drive/VideoArrays/mv89psg6zh...</td>\n",
              "      <td>bird is bathing in</td>\n",
              "      <td>&lt;start&gt;  bird is bathing in &lt;end&gt;</td>\n",
              "    </tr>\n",
              "    <tr>\n",
              "      <th>4</th>\n",
              "      <td>mv89psg6zh4_33_46</td>\n",
              "      <td>/content/drive/My Drive/VideoArrays/mv89psg6zh...</td>\n",
              "      <td>bird is standing in sink drinking water that ...</td>\n",
              "      <td>&lt;start&gt;  bird is standing in sink drinking wat...</td>\n",
              "    </tr>\n",
              "  </tbody>\n",
              "</table>\n",
              "</div>"
            ],
            "text/plain": [
              "        AnnotationID  ...                                           captions\n",
              "0  mv89psg6zh4_33_46  ...  <start>  bird in sink keeps getting under the ...\n",
              "1  mv89psg6zh4_33_46  ...                  <start>  bird is bathing in <end>\n",
              "2  mv89psg6zh4_33_46  ...  <start>  bird is splashing around under runnin...\n",
              "3  mv89psg6zh4_33_46  ...                  <start>  bird is bathing in <end>\n",
              "4  mv89psg6zh4_33_46  ...  <start>  bird is standing in sink drinking wat...\n",
              "\n",
              "[5 rows x 4 columns]"
            ]
          },
          "metadata": {
            "tags": []
          },
          "execution_count": 47
        }
      ]
    },
    {
      "cell_type": "markdown",
      "metadata": {
        "id": "EeRbB-xLBaX5"
      },
      "source": [
        "Keras Tokenizer:\n",
        "num_words: the maximum number of words to keep, based on word frequency. Only the most common num_words-1 words will be kept.\n",
        "filters: a string where each element is a character that will be filtered from the texts. The default is all punctuation, plus tabs and line breaks, minus the ' character.\n",
        "lower: boolean. Whether to convert the texts to lowercase.\n",
        "split: str. Separator for word splitting.\n",
        "char_level: if True, every character will be treated as a token.\n",
        "oov_token: if given, it will be added to word_index and used to replace out-of-vocabulary words during text_to_sequence calls"
      ]
    },
    {
      "cell_type": "code",
      "metadata": {
        "id": "9aP1rvos2qX4",
        "outputId": "b51e1e3f-529c-4136-ec6e-8cbd2d61473d",
        "colab": {
          "base_uri": "https://localhost:8080/"
        }
      },
      "source": [
        "from keras.preprocessing.text import Tokenizer\n",
        "# prepare tokenizer\n",
        "#tokenizer = Tokenizer(\n",
        "    #num_words=None, filters='!\"#$%&()*+,-./:;<=>?@[\\\\]^_`{|}~\\t\\n', lower=True,\n",
        "    #split=' ', char_level=False, oov_token=None, document_count=0)\n",
        "#tokenizer = Tokenizer(num_words=top_k, oov_token=\"<unk>\", filters='!\"#$%&()*+.,-/:;=?@[\\]^_`{|}~ ')\n",
        "tokenizer = Tokenizer(num_words=None, oov_token=\"<unk>\", filters='!\"#$%&()*+.,-/:;=?@[\\]^_`{|}~ ')\n",
        "tokenizer.fit_on_texts(total_captions)\n",
        "vocab_size = len(tokenizer.word_index) + 1\n",
        "print('Vocabulary Size: %d' % vocab_size)"
      ],
      "execution_count": 49,
      "outputs": [
        {
          "output_type": "stream",
          "text": [
            "Vocabulary Size: 11161\n"
          ],
          "name": "stdout"
        }
      ]
    },
    {
      "cell_type": "markdown",
      "metadata": {
        "id": "GcHBltK9CU2-"
      },
      "source": [
        "https://faroit.com/keras-docs/1.2.2/preprocessing/text/"
      ]
    },
    {
      "cell_type": "code",
      "metadata": {
        "id": "8E6CT48q3dRi"
      },
      "source": [
        "# integer encode descriptions\n",
        "sequences = tokenizer.texts_to_sequences(total_captions)"
      ],
      "execution_count": 50,
      "outputs": []
    },
    {
      "cell_type": "markdown",
      "metadata": {
        "id": "_T7P9Xik4lxz"
      },
      "source": [
        "The model will require all output sequences to have the same length for training. We can achieve this by padding all encoded sequences to have the same length as the longest encoded sequence. We can pad the sequences with 0 values after the list of words. Keras provides the pad_sequences() function to pad the sequences."
      ]
    },
    {
      "cell_type": "code",
      "metadata": {
        "id": "rsywlVTv2xmG",
        "outputId": "10ad5fdb-303f-4dd6-b046-7c7be8750f7f",
        "colab": {
          "base_uri": "https://localhost:8080/"
        }
      },
      "source": [
        "from keras.preprocessing.sequence import pad_sequences\n",
        "# Pad each vector to the max_length of the captions\n",
        "# If you do not provide a max_length value, pad_sequences calculates it automatically\n",
        "cap_vector = pad_sequences(sequences, padding='post')\n",
        "cap_vector[0].shape"
      ],
      "execution_count": 51,
      "outputs": [
        {
          "output_type": "execute_result",
          "data": {
            "text/plain": [
              "(89,)"
            ]
          },
          "metadata": {
            "tags": []
          },
          "execution_count": 51
        }
      ]
    },
    {
      "cell_type": "code",
      "metadata": {
        "id": "BDpdPuyZ21SE",
        "outputId": "b1409c8c-8d83-423e-cecf-fdae635fb131",
        "colab": {
          "base_uri": "https://localhost:8080/"
        }
      },
      "source": [
        "max_len=len(cap_vector[0])\n",
        "max_len"
      ],
      "execution_count": 52,
      "outputs": [
        {
          "output_type": "execute_result",
          "data": {
            "text/plain": [
              "89"
            ]
          },
          "metadata": {
            "tags": []
          },
          "execution_count": 52
        }
      ]
    },
    {
      "cell_type": "code",
      "metadata": {
        "id": "GxzSAH4Z27Mi",
        "outputId": "592b7462-0880-4658-f7c6-5569e44a2be4",
        "colab": {
          "base_uri": "https://localhost:8080/"
        }
      },
      "source": [
        "print('Number of captions: ', str(len(total_captions)))\n",
        "print('length of sequences : ',str(len(sequences)))\n",
        "print('first sequence: ', sequences[0])\n",
        "print('first sequence length : ', len(sequences[0]))\n",
        "print('first caption: ', total_captions[0])\n",
        "print('padding vector ', cap_vector.shape)\n",
        "print('first caption padding vector ', cap_vector[0].shape)\n",
        "print('Max len of single padding vector or number of rows ', max_len)"
      ],
      "execution_count": 53,
      "outputs": [
        {
          "output_type": "stream",
          "text": [
            "Number of captions:  80799\n",
            "length of sequences :  80799\n",
            "first sequence:  [2, 192, 9, 779, 1836, 181, 243, 5, 48, 46, 31, 3]\n",
            "first sequence length :  12\n",
            "first caption:  <start>  bird in sink keeps getting under the running water from <end>\n",
            "padding vector  (80799, 89)\n",
            "first caption padding vector  (89,)\n",
            "Max len of single padding vector or number of rows  89\n"
          ],
          "name": "stdout"
        }
      ]
    },
    {
      "cell_type": "code",
      "metadata": {
        "id": "wF6d1saUy4EY"
      },
      "source": [
        "video_paths=np.unique(annotations.VideoPath)"
      ],
      "execution_count": 54,
      "outputs": []
    },
    {
      "cell_type": "code",
      "metadata": {
        "id": "gNJ4LIM-VaOi"
      },
      "source": [
        "def load_videos_as_numpy(video_paths):\n",
        "  video_np={}\n",
        "  for eachVideo in tqdm(np.unique(video_paths)):\n",
        "    video_np[eachVideo.stem]=np.load(eachVideo)\n",
        "  return video_np\n"
      ],
      "execution_count": 55,
      "outputs": []
    },
    {
      "cell_type": "code",
      "metadata": {
        "id": "WeKw4HTyh3cB",
        "outputId": "c93d2066-0914-4dfc-e89c-3d56bdcda820",
        "colab": {
          "base_uri": "https://localhost:8080/"
        }
      },
      "source": [
        "video_np=load_videos_as_numpy(video_paths)\n",
        "print(len(video_np))"
      ],
      "execution_count": 56,
      "outputs": [
        {
          "output_type": "stream",
          "text": [
            "100%|██████████| 1969/1969 [13:08<00:00,  2.50it/s]"
          ],
          "name": "stderr"
        },
        {
          "output_type": "stream",
          "text": [
            "1969\n"
          ],
          "name": "stdout"
        },
        {
          "output_type": "stream",
          "text": [
            "\n"
          ],
          "name": "stderr"
        }
      ]
    },
    {
      "cell_type": "code",
      "metadata": {
        "id": "pWQRSjcGaUtb",
        "outputId": "46193ddf-dcd0-4141-fee6-8efe4e521172",
        "colab": {
          "base_uri": "https://localhost:8080/"
        }
      },
      "source": [
        "#keepindex = []\n",
        "videos_dt=[]\n",
        "for i, fnm in tqdm(enumerate(final_corpus.AnnotationID), total=annotations.shape[0]):\n",
        "    if fnm in video_np.keys():\n",
        "      videos_dt.append(video_np[fnm])\n",
        "      #keepindex.append(i)\n",
        "\n",
        "#fnames = final_corpus[\"AnnotationID\"].iloc[keepindex].values"
      ],
      "execution_count": 58,
      "outputs": [
        {
          "output_type": "stream",
          "text": [
            "100%|██████████| 80799/80799 [00:00<00:00, 1171137.49it/s]\n"
          ],
          "name": "stderr"
        }
      ]
    },
    {
      "cell_type": "code",
      "metadata": {
        "id": "IU_EJSRt3b1e",
        "outputId": "f2847a67-19ec-4b79-e480-d7c7077cdd04",
        "colab": {
          "base_uri": "https://localhost:8080/"
        }
      },
      "source": [
        "# Scikit-learn includes many helpful utilities\n",
        "from sklearn.model_selection import train_test_split\n",
        "# Create training and validation sets using an 80-20 split\n",
        "fnames = final_corpus[\"AnnotationID\"].values\n",
        "vid_train, vid_val, cap_train, cap_val = train_test_split(videos_dt,\n",
        "                                                                    cap_vector,\n",
        "                                                                    test_size=0.2,\n",
        "                                                                    random_state=0)\n",
        "len(vid_train), len(cap_train), len(vid_val), len(cap_val)\n",
        "# Feel free to change these parameters according to your system's configuration"
      ],
      "execution_count": 59,
      "outputs": [
        {
          "output_type": "execute_result",
          "data": {
            "text/plain": [
              "(64639, 64639, 16160, 16160)"
            ]
          },
          "metadata": {
            "tags": []
          },
          "execution_count": 59
        }
      ]
    },
    {
      "cell_type": "code",
      "metadata": {
        "id": "R5Rq3BS82AzV"
      },
      "source": [
        "import pickle\n",
        "outfile = open(drive_path.joinpath('pickle_train.dat'),'wb')\n",
        "pickle.dump((vid_train, cap_train),outfile)\n",
        "outfile.close()"
      ],
      "execution_count": 61,
      "outputs": []
    },
    {
      "cell_type": "code",
      "metadata": {
        "id": "FQxNvRMXNvak"
      },
      "source": [
        "outfile = open(drive_path.joinpath('pickle_test.dat'),'wb')\n",
        "pickle.dump((vid_val, cap_val),outfile)\n",
        "outfile.close()"
      ],
      "execution_count": 62,
      "outputs": []
    },
    {
      "cell_type": "code",
      "metadata": {
        "id": "Wya2Uj9h3lmr"
      },
      "source": [
        "BATCH_SIZE = 64\n",
        "BUFFER_SIZE = 1000\n",
        "embedding_dim = 256\n",
        "units = 512\n",
        "vocab_size = len(tokenizer.word_index) + 1\n",
        "num_steps = len(vid_name_train) // BATCH_SIZE\n",
        "# Shape of the vector extracted from Vgg16 is (64, 2048)\n",
        "# These two variables represent that vector shape\n",
        "features_shape = 4096\n",
        "attention_features_shape = 80\n",
        "#videos_dt[0].shape #(80, 4096)"
      ],
      "execution_count": null,
      "outputs": []
    },
    {
      "cell_type": "code",
      "metadata": {
        "id": "kzvQM6se57EB"
      },
      "source": [
        "import pickle\n",
        "(vid_name_train, cap_train)=pickle.load(open( drive_path.joinpath('pickle.dat'), \"rb\" ))\n",
        "\n"
      ],
      "execution_count": null,
      "outputs": []
    },
    {
      "cell_type": "code",
      "metadata": {
        "id": "TJZJLaLf7EGO"
      },
      "source": [
        "np.asarray(vid_name_train,dtype=np.float32)"
      ],
      "execution_count": null,
      "outputs": []
    },
    {
      "cell_type": "code",
      "metadata": {
        "id": "GdMgLlHe3C_n",
        "outputId": "fed30904-f799-4cf6-f016-879b85ac3939",
        "colab": {
          "base_uri": "https://localhost:8080/",
          "height": 119
        }
      },
      "source": [
        "list(drive_path.glob('*'))"
      ],
      "execution_count": null,
      "outputs": [
        {
          "output_type": "execute_result",
          "data": {
            "text/plain": [
              "[PosixPath('/content/drive/My Drive/Colab Notebooks'),\n",
              " PosixPath('/content/drive/My Drive/YouTubeClips.tar'),\n",
              " PosixPath('/content/drive/My Drive/video_corpus.csv'),\n",
              " PosixPath('/content/drive/My Drive/.ipynb_checkpoints'),\n",
              " PosixPath('/content/drive/My Drive/VideoArrays'),\n",
              " PosixPath('/content/drive/My Drive/pickle.dat')]"
            ]
          },
          "metadata": {
            "tags": []
          },
          "execution_count": 38
        }
      ]
    },
    {
      "cell_type": "code",
      "metadata": {
        "id": "43Q-RyAv4vdw",
        "outputId": "8e279e17-6d7d-4a78-e3d6-3204c4539114",
        "colab": {
          "base_uri": "https://localhost:8080/",
          "height": 34
        }
      },
      "source": [
        "vid_name_train[0].shape"
      ],
      "execution_count": null,
      "outputs": [
        {
          "output_type": "execute_result",
          "data": {
            "text/plain": [
              "(80, 4096)"
            ]
          },
          "metadata": {
            "tags": []
          },
          "execution_count": 43
        }
      ]
    },
    {
      "cell_type": "code",
      "metadata": {
        "id": "AtvypdyI5foQ"
      },
      "source": [
        "import numpy as np\n"
      ],
      "execution_count": null,
      "outputs": []
    },
    {
      "cell_type": "code",
      "metadata": {
        "id": "ygs5OptB5LWv",
        "outputId": "116bf24f-222d-477b-e7ff-d4151d777242",
        "colab": {
          "base_uri": "https://localhost:8080/",
          "height": 163
        }
      },
      "source": [
        "np.asarray(vid_name_train, dtype=np.float32)"
      ],
      "execution_count": null,
      "outputs": [
        {
          "output_type": "error",
          "ename": "NameError",
          "evalue": "ignored",
          "traceback": [
            "\u001b[0;31m---------------------------------------------------------------------------\u001b[0m",
            "\u001b[0;31mNameError\u001b[0m                                 Traceback (most recent call last)",
            "\u001b[0;32m<ipython-input-3-25ad3b5ddaf4>\u001b[0m in \u001b[0;36m<module>\u001b[0;34m()\u001b[0m\n\u001b[0;32m----> 1\u001b[0;31m \u001b[0mnp\u001b[0m\u001b[0;34m.\u001b[0m\u001b[0marray\u001b[0m\u001b[0;34m(\u001b[0m\u001b[0mvid_name_train\u001b[0m\u001b[0;34m)\u001b[0m\u001b[0;34m\u001b[0m\u001b[0;34m\u001b[0m\u001b[0m\n\u001b[0m",
            "\u001b[0;31mNameError\u001b[0m: name 'vid_name_train' is not defined"
          ]
        }
      ]
    },
    {
      "cell_type": "code",
      "metadata": {
        "id": "ctj8g2hX8KGO"
      },
      "source": [
        "import tensorflow as tf\n",
        "dataset = tf.data.Dataset.from_tensor_slices((vid_name_train, cap_train))\n",
        "#train_dataset = tf.data.Dataset.from_tensor_slices((train_examples, train_labels))"
      ],
      "execution_count": null,
      "outputs": []
    },
    {
      "cell_type": "code",
      "metadata": {
        "id": "jGKve_UF3xrT"
      },
      "source": [
        "BATCH_SIZE = 64\n",
        "SHUFFLE_BUFFER_SIZE = 100\n",
        "\n",
        "train_dataset = train_dataset.shuffle(SHUFFLE_BUFFER_SIZE).batch(BATCH_SIZE)\n",
        "test_dataset = test_dataset.batch(BATCH_SIZE)"
      ],
      "execution_count": null,
      "outputs": []
    },
    {
      "cell_type": "code",
      "metadata": {
        "id": "zRcTj6mg8dCR"
      },
      "source": [
        "# Load the numpy files\n",
        "#def map_func(vid_name, cap):\n",
        "#  img_tensor=\n",
        "#  return img_tensor, cap"
      ],
      "execution_count": null,
      "outputs": []
    },
    {
      "cell_type": "code",
      "metadata": {
        "id": "tYbNgJiv3pAB"
      },
      "source": [
        "# Use map to load the numpy files in parallel\n",
        "#dataset = dataset.map(lambda item1, item2: tf.numpy_function(\n",
        "#          map_func, [item1, item2], [tf.float32, tf.int32]),\n",
        "#          num_parallel_calls=tf.data.experimental.AUTOTUNE)"
      ],
      "execution_count": null,
      "outputs": []
    },
    {
      "cell_type": "code",
      "metadata": {
        "id": "BwnxMgKC3sFL"
      },
      "source": [
        "# Shuffle and batch\n",
        "dataset = dataset.shuffle(BUFFER_SIZE).batch(BATCH_SIZE)\n",
        "dataset = dataset.prefetch(buffer_size=tf.data.experimental.AUTOTUNE)"
      ],
      "execution_count": null,
      "outputs": []
    },
    {
      "cell_type": "code",
      "metadata": {
        "id": "b5UT-8xP9M2z"
      },
      "source": [
        "class BahdanauAttention(tf.keras.Model):\n",
        "  def __init__(self, units):\n",
        "    super(BahdanauAttention, self).__init__()\n",
        "    self.W1 = tf.keras.layers.Dense(units)\n",
        "    self.W2 = tf.keras.layers.Dense(units)\n",
        "    self.V = tf.keras.layers.Dense(1)\n",
        "\n",
        "  def call(self, features, hidden):\n",
        "    # features(CNN_encoder output) shape == (batch_size, 64, embedding_dim)\n",
        "\n",
        "    # hidden shape == (batch_size, hidden_size)\n",
        "    # hidden_with_time_axis shape == (batch_size, 1, hidden_size)\n",
        "    hidden_with_time_axis = tf.expand_dims(hidden, 1)\n",
        "\n",
        "    # score shape == (batch_size, 64, hidden_size)\n",
        "    score = tf.nn.tanh(self.W1(features) + self.W2(hidden_with_time_axis))\n",
        "\n",
        "    # attention_weights shape == (batch_size, 64, 1)\n",
        "    # you get 1 at the last axis because you are applying score to self.V\n",
        "    attention_weights = tf.nn.softmax(self.V(score), axis=1)\n",
        "\n",
        "    # context_vector shape after sum == (batch_size, hidden_size)\n",
        "    context_vector = attention_weights * features\n",
        "    context_vector = tf.reduce_sum(context_vector, axis=1)\n",
        "\n",
        "    return context_vector, attention_weights"
      ],
      "execution_count": null,
      "outputs": []
    },
    {
      "cell_type": "code",
      "metadata": {
        "id": "xSaZUNLW9DlT"
      },
      "source": [
        "class CNN_Encoder(tf.keras.Model):\n",
        "    # Since you have already extracted the features and dumped it using pickle\n",
        "    # This encoder passes those features through a Fully connected layer\n",
        "    def __init__(self, embedding_dim):\n",
        "        super(CNN_Encoder, self).__init__()\n",
        "        # shape after fc == (batch_size, 64, embedding_dim)\n",
        "        self.fc = tf.keras.layers.Dense(embedding_dim)\n",
        "\n",
        "    def call(self, x):\n",
        "        x = self.fc(x)\n",
        "        x = tf.nn.relu(x)\n",
        "        return x"
      ],
      "execution_count": null,
      "outputs": []
    },
    {
      "cell_type": "code",
      "metadata": {
        "id": "FR2-8Tlp9IGn"
      },
      "source": [
        "class RNN_Decoder(tf.keras.Model):\n",
        "  def __init__(self, embedding_dim, units, vocab_size):\n",
        "    super(RNN_Decoder, self).__init__()\n",
        "    self.units = units\n",
        "\n",
        "    self.embedding = tf.keras.layers.Embedding(vocab_size, embedding_dim)\n",
        "    self.gru = tf.keras.layers.GRU(self.units,\n",
        "                                   return_sequences=True,\n",
        "                                   return_state=True,\n",
        "                                   recurrent_initializer='glorot_uniform')\n",
        "    self.fc1 = tf.keras.layers.Dense(self.units)\n",
        "    self.fc2 = tf.keras.layers.Dense(vocab_size)\n",
        "\n",
        "    self.attention = BahdanauAttention(self.units)\n",
        "\n",
        "  def call(self, x, features, hidden):\n",
        "    # defining attention as a separate model\n",
        "    context_vector, attention_weights = self.attention(features, hidden)\n",
        "\n",
        "    # x shape after passing through embedding == (batch_size, 1, embedding_dim)\n",
        "    x = self.embedding(x)\n",
        "\n",
        "    # x shape after concatenation == (batch_size, 1, embedding_dim + hidden_size)\n",
        "    x = tf.concat([tf.expand_dims(context_vector, 1), x], axis=-1)\n",
        "\n",
        "    # passing the concatenated vector to the GRU\n",
        "    output, state = self.gru(x)\n",
        "\n",
        "    # shape == (batch_size, max_length, hidden_size)\n",
        "    x = self.fc1(output)\n",
        "\n",
        "    # x shape == (batch_size * max_length, hidden_size)\n",
        "    x = tf.reshape(x, (-1, x.shape[2]))\n",
        "\n",
        "    # output shape == (batch_size * max_length, vocab)\n",
        "    x = self.fc2(x)\n",
        "\n",
        "    return x, state, attention_weights\n",
        "\n",
        "  def reset_state(self, batch_size):\n",
        "    return tf.zeros((batch_size, self.units))"
      ],
      "execution_count": null,
      "outputs": []
    },
    {
      "cell_type": "code",
      "metadata": {
        "id": "xZjjBdrs9WTX"
      },
      "source": [
        "encoder = CNN_Encoder(embedding_dim)\n",
        "decoder = RNN_Decoder(embedding_dim, units, vocab_size)"
      ],
      "execution_count": null,
      "outputs": []
    },
    {
      "cell_type": "code",
      "metadata": {
        "id": "Acvd2O8H9Ysj"
      },
      "source": [
        "optimizer = tf.keras.optimizers.Adam()\n",
        "loss_object = tf.keras.losses.SparseCategoricalCrossentropy(\n",
        "    from_logits=True, reduction='none')\n",
        "\n",
        "def loss_function(real, pred):\n",
        "  mask = tf.math.logical_not(tf.math.equal(real, 0))\n",
        "  loss_ = loss_object(real, pred)\n",
        "\n",
        "  mask = tf.cast(mask, dtype=loss_.dtype)\n",
        "  loss_ *= mask\n",
        "\n",
        "  return tf.reduce_mean(loss_)"
      ],
      "execution_count": null,
      "outputs": []
    },
    {
      "cell_type": "markdown",
      "metadata": {
        "id": "xaR4iamO9gok"
      },
      "source": [
        "Checkpoints"
      ]
    },
    {
      "cell_type": "code",
      "metadata": {
        "id": "EItjzPID9kKk"
      },
      "source": [
        "checkpoint_path = \"./checkpoints/train\"\n",
        "ckpt = tf.train.Checkpoint(encoder=encoder,\n",
        "                           decoder=decoder,\n",
        "                           optimizer = optimizer)\n",
        "ckpt_manager = tf.train.CheckpointManager(ckpt, checkpoint_path, max_to_keep=5)"
      ],
      "execution_count": null,
      "outputs": []
    },
    {
      "cell_type": "code",
      "metadata": {
        "id": "YKKvOwmf9njl"
      },
      "source": [
        "start_epoch = 0\n",
        "if ckpt_manager.latest_checkpoint:\n",
        "  start_epoch = int(ckpt_manager.latest_checkpoint.split('-')[-1])"
      ],
      "execution_count": null,
      "outputs": []
    },
    {
      "cell_type": "code",
      "metadata": {
        "id": "tOWok4UK9r3b"
      },
      "source": [
        "# adding this in a separate cell because if you run the training cell\n",
        "# many times, the loss_plot array will be reset\n",
        "loss_plot = []"
      ],
      "execution_count": null,
      "outputs": []
    },
    {
      "cell_type": "code",
      "metadata": {
        "id": "JASjlaK69vWN"
      },
      "source": [
        "@tf.function\n",
        "def train_step(img_tensor, target):\n",
        "  loss = 0\n",
        "\n",
        "  # initializing the hidden state for each batch\n",
        "  # because the captions are not related from image to image\n",
        "  hidden = decoder.reset_state(batch_size=target.shape[0])\n",
        "\n",
        "  dec_input = tf.expand_dims([tokenizer.word_index['<start>']] * BATCH_SIZE, 1)\n",
        "\n",
        "  with tf.GradientTape() as tape:\n",
        "      features = encoder(img_tensor)\n",
        "\n",
        "      for i in range(1, target.shape[1]):\n",
        "          # passing the features through the decoder\n",
        "          predictions, hidden, _ = decoder(dec_input, features, hidden)\n",
        "\n",
        "          loss += loss_function(target[:, i], predictions)\n",
        "\n",
        "          # using teacher forcing\n",
        "          dec_input = tf.expand_dims(target[:, i], 1)\n",
        "\n",
        "  total_loss = (loss / int(target.shape[1]))\n",
        "\n",
        "  trainable_variables = encoder.trainable_variables + decoder.trainable_variables\n",
        "\n",
        "  gradients = tape.gradient(loss, trainable_variables)\n",
        "\n",
        "  optimizer.apply_gradients(zip(gradients, trainable_variables))\n",
        "\n",
        "  return loss, total_loss"
      ],
      "execution_count": null,
      "outputs": []
    },
    {
      "cell_type": "code",
      "metadata": {
        "id": "sm6qLsjs9zAZ",
        "outputId": "39595b33-bbdb-429f-9b2f-6db2b9323c17",
        "colab": {
          "base_uri": "https://localhost:8080/",
          "height": 935
        }
      },
      "source": [
        "\n",
        "EPOCHS = 20\n",
        "\n",
        "for epoch in range(start_epoch, EPOCHS):\n",
        "    start = time.time()\n",
        "    total_loss = 0\n",
        "\n",
        "    for (batch, (img_tensor, target)) in enumerate(dataset):\n",
        "      print(img_tensor)\n",
        "      batch_loss, t_loss = train_step(img_tensor, target)\n",
        "      total_loss += t_loss\n",
        "      if batch % 100 == 0:\n",
        "        print ('Epoch {} Batch {} Loss {:.4f}'.format(epoch + 1, batch, batch_loss.numpy() / int(target.shape[1])))\n",
        "    # storing the epoch end loss value to plot later\n",
        "    loss_plot.append(total_loss / num_steps)\n",
        "\n",
        "    if epoch % 5 == 0:\n",
        "      ckpt_manager.save()\n",
        "\n",
        "    print ('Epoch {} Loss {:.6f}'.format(epoch + 1,\n",
        "                                         total_loss/num_steps))\n",
        "    print ('Time taken for 1 epoch {} sec\\n'.format(time.time() - start))"
      ],
      "execution_count": null,
      "outputs": [
        {
          "output_type": "error",
          "ename": "UnknownError",
          "evalue": "ignored",
          "traceback": [
            "\u001b[0;31m---------------------------------------------------------------------------\u001b[0m",
            "\u001b[0;31mUnknownError\u001b[0m                              Traceback (most recent call last)",
            "\u001b[0;32m/usr/local/lib/python3.6/dist-packages/tensorflow/python/eager/context.py\u001b[0m in \u001b[0;36mexecution_mode\u001b[0;34m(mode)\u001b[0m\n\u001b[1;32m   2101\u001b[0m       \u001b[0mctx\u001b[0m\u001b[0;34m.\u001b[0m\u001b[0mexecutor\u001b[0m \u001b[0;34m=\u001b[0m \u001b[0mexecutor_new\u001b[0m\u001b[0;34m\u001b[0m\u001b[0;34m\u001b[0m\u001b[0m\n\u001b[0;32m-> 2102\u001b[0;31m       \u001b[0;32myield\u001b[0m\u001b[0;34m\u001b[0m\u001b[0;34m\u001b[0m\u001b[0m\n\u001b[0m\u001b[1;32m   2103\u001b[0m     \u001b[0;32mfinally\u001b[0m\u001b[0;34m:\u001b[0m\u001b[0;34m\u001b[0m\u001b[0;34m\u001b[0m\u001b[0m\n",
            "\u001b[0;32m/usr/local/lib/python3.6/dist-packages/tensorflow/python/data/ops/iterator_ops.py\u001b[0m in \u001b[0;36m_next_internal\u001b[0;34m(self)\u001b[0m\n\u001b[1;32m    757\u001b[0m             \u001b[0moutput_types\u001b[0m\u001b[0;34m=\u001b[0m\u001b[0mself\u001b[0m\u001b[0;34m.\u001b[0m\u001b[0m_flat_output_types\u001b[0m\u001b[0;34m,\u001b[0m\u001b[0;34m\u001b[0m\u001b[0;34m\u001b[0m\u001b[0m\n\u001b[0;32m--> 758\u001b[0;31m             output_shapes=self._flat_output_shapes)\n\u001b[0m\u001b[1;32m    759\u001b[0m \u001b[0;34m\u001b[0m\u001b[0m\n",
            "\u001b[0;32m/usr/local/lib/python3.6/dist-packages/tensorflow/python/ops/gen_dataset_ops.py\u001b[0m in \u001b[0;36miterator_get_next\u001b[0;34m(iterator, output_types, output_shapes, name)\u001b[0m\n\u001b[1;32m   2609\u001b[0m     \u001b[0;32mexcept\u001b[0m \u001b[0m_core\u001b[0m\u001b[0;34m.\u001b[0m\u001b[0m_NotOkStatusException\u001b[0m \u001b[0;32mas\u001b[0m \u001b[0me\u001b[0m\u001b[0;34m:\u001b[0m\u001b[0;34m\u001b[0m\u001b[0;34m\u001b[0m\u001b[0m\n\u001b[0;32m-> 2610\u001b[0;31m       \u001b[0m_ops\u001b[0m\u001b[0;34m.\u001b[0m\u001b[0mraise_from_not_ok_status\u001b[0m\u001b[0;34m(\u001b[0m\u001b[0me\u001b[0m\u001b[0;34m,\u001b[0m \u001b[0mname\u001b[0m\u001b[0;34m)\u001b[0m\u001b[0;34m\u001b[0m\u001b[0;34m\u001b[0m\u001b[0m\n\u001b[0m\u001b[1;32m   2611\u001b[0m     \u001b[0;32mexcept\u001b[0m \u001b[0m_core\u001b[0m\u001b[0;34m.\u001b[0m\u001b[0m_FallbackException\u001b[0m\u001b[0;34m:\u001b[0m\u001b[0;34m\u001b[0m\u001b[0;34m\u001b[0m\u001b[0m\n",
            "\u001b[0;32m/usr/local/lib/python3.6/dist-packages/tensorflow/python/framework/ops.py\u001b[0m in \u001b[0;36mraise_from_not_ok_status\u001b[0;34m(e, name)\u001b[0m\n\u001b[1;32m   6842\u001b[0m   \u001b[0;31m# pylint: disable=protected-access\u001b[0m\u001b[0;34m\u001b[0m\u001b[0;34m\u001b[0m\u001b[0;34m\u001b[0m\u001b[0m\n\u001b[0;32m-> 6843\u001b[0;31m   \u001b[0msix\u001b[0m\u001b[0;34m.\u001b[0m\u001b[0mraise_from\u001b[0m\u001b[0;34m(\u001b[0m\u001b[0mcore\u001b[0m\u001b[0;34m.\u001b[0m\u001b[0m_status_to_exception\u001b[0m\u001b[0;34m(\u001b[0m\u001b[0me\u001b[0m\u001b[0;34m.\u001b[0m\u001b[0mcode\u001b[0m\u001b[0;34m,\u001b[0m \u001b[0mmessage\u001b[0m\u001b[0;34m)\u001b[0m\u001b[0;34m,\u001b[0m \u001b[0;32mNone\u001b[0m\u001b[0;34m)\u001b[0m\u001b[0;34m\u001b[0m\u001b[0;34m\u001b[0m\u001b[0m\n\u001b[0m\u001b[1;32m   6844\u001b[0m   \u001b[0;31m# pylint: enable=protected-access\u001b[0m\u001b[0;34m\u001b[0m\u001b[0;34m\u001b[0m\u001b[0;34m\u001b[0m\u001b[0m\n",
            "\u001b[0;32m/usr/local/lib/python3.6/dist-packages/six.py\u001b[0m in \u001b[0;36mraise_from\u001b[0;34m(value, from_value)\u001b[0m\n",
            "\u001b[0;31mUnknownError\u001b[0m: KeyError: b'ao-9B8IV9_E_37_44'\nTraceback (most recent call last):\n\n  File \"/usr/local/lib/python3.6/dist-packages/tensorflow/python/ops/script_ops.py\", line 244, in __call__\n    ret = func(*args)\n\n  File \"/usr/local/lib/python3.6/dist-packages/tensorflow/python/autograph/impl/api.py\", line 302, in wrapper\n    return func(*args, **kwargs)\n\n  File \"<ipython-input-60-074bda26513b>\", line 3, in map_func\n    img_tensor = video_np[vid_name]\n\nKeyError: b'ao-9B8IV9_E_37_44'\n\n\n\t [[{{node PyFunc}}]] [Op:IteratorGetNext]",
            "\nDuring handling of the above exception, another exception occurred:\n",
            "\u001b[0;31mUnknownError\u001b[0m                              Traceback (most recent call last)",
            "\u001b[0;32m<ipython-input-134-476b0dabe3c9>\u001b[0m in \u001b[0;36m<module>\u001b[0;34m()\u001b[0m\n\u001b[1;32m      6\u001b[0m     \u001b[0mtotal_loss\u001b[0m \u001b[0;34m=\u001b[0m \u001b[0;36m0\u001b[0m\u001b[0;34m\u001b[0m\u001b[0;34m\u001b[0m\u001b[0m\n\u001b[1;32m      7\u001b[0m \u001b[0;34m\u001b[0m\u001b[0m\n\u001b[0;32m----> 8\u001b[0;31m     \u001b[0;32mfor\u001b[0m \u001b[0;34m(\u001b[0m\u001b[0mbatch\u001b[0m\u001b[0;34m,\u001b[0m \u001b[0;34m(\u001b[0m\u001b[0mimg_tensor\u001b[0m\u001b[0;34m,\u001b[0m \u001b[0mtarget\u001b[0m\u001b[0;34m)\u001b[0m\u001b[0;34m)\u001b[0m \u001b[0;32min\u001b[0m \u001b[0menumerate\u001b[0m\u001b[0;34m(\u001b[0m\u001b[0mdataset\u001b[0m\u001b[0;34m)\u001b[0m\u001b[0;34m:\u001b[0m\u001b[0;34m\u001b[0m\u001b[0;34m\u001b[0m\u001b[0m\n\u001b[0m\u001b[1;32m      9\u001b[0m       \u001b[0mprint\u001b[0m\u001b[0;34m(\u001b[0m\u001b[0mimg_tensor\u001b[0m\u001b[0;34m)\u001b[0m\u001b[0;34m\u001b[0m\u001b[0;34m\u001b[0m\u001b[0m\n\u001b[1;32m     10\u001b[0m       \u001b[0mbatch_loss\u001b[0m\u001b[0;34m,\u001b[0m \u001b[0mt_loss\u001b[0m \u001b[0;34m=\u001b[0m \u001b[0mtrain_step\u001b[0m\u001b[0;34m(\u001b[0m\u001b[0mimg_tensor\u001b[0m\u001b[0;34m,\u001b[0m \u001b[0mtarget\u001b[0m\u001b[0;34m)\u001b[0m\u001b[0;34m\u001b[0m\u001b[0;34m\u001b[0m\u001b[0m\n",
            "\u001b[0;32m/usr/local/lib/python3.6/dist-packages/tensorflow/python/data/ops/iterator_ops.py\u001b[0m in \u001b[0;36m__next__\u001b[0;34m(self)\u001b[0m\n\u001b[1;32m    734\u001b[0m \u001b[0;34m\u001b[0m\u001b[0m\n\u001b[1;32m    735\u001b[0m   \u001b[0;32mdef\u001b[0m \u001b[0m__next__\u001b[0m\u001b[0;34m(\u001b[0m\u001b[0mself\u001b[0m\u001b[0;34m)\u001b[0m\u001b[0;34m:\u001b[0m  \u001b[0;31m# For Python 3 compatibility\u001b[0m\u001b[0;34m\u001b[0m\u001b[0;34m\u001b[0m\u001b[0m\n\u001b[0;32m--> 736\u001b[0;31m     \u001b[0;32mreturn\u001b[0m \u001b[0mself\u001b[0m\u001b[0;34m.\u001b[0m\u001b[0mnext\u001b[0m\u001b[0;34m(\u001b[0m\u001b[0;34m)\u001b[0m\u001b[0;34m\u001b[0m\u001b[0;34m\u001b[0m\u001b[0m\n\u001b[0m\u001b[1;32m    737\u001b[0m \u001b[0;34m\u001b[0m\u001b[0m\n\u001b[1;32m    738\u001b[0m   \u001b[0;32mdef\u001b[0m \u001b[0m_next_internal\u001b[0m\u001b[0;34m(\u001b[0m\u001b[0mself\u001b[0m\u001b[0;34m)\u001b[0m\u001b[0;34m:\u001b[0m\u001b[0;34m\u001b[0m\u001b[0;34m\u001b[0m\u001b[0m\n",
            "\u001b[0;32m/usr/local/lib/python3.6/dist-packages/tensorflow/python/data/ops/iterator_ops.py\u001b[0m in \u001b[0;36mnext\u001b[0;34m(self)\u001b[0m\n\u001b[1;32m    770\u001b[0m   \u001b[0;32mdef\u001b[0m \u001b[0mnext\u001b[0m\u001b[0;34m(\u001b[0m\u001b[0mself\u001b[0m\u001b[0;34m)\u001b[0m\u001b[0;34m:\u001b[0m\u001b[0;34m\u001b[0m\u001b[0;34m\u001b[0m\u001b[0m\n\u001b[1;32m    771\u001b[0m     \u001b[0;32mtry\u001b[0m\u001b[0;34m:\u001b[0m\u001b[0;34m\u001b[0m\u001b[0;34m\u001b[0m\u001b[0m\n\u001b[0;32m--> 772\u001b[0;31m       \u001b[0;32mreturn\u001b[0m \u001b[0mself\u001b[0m\u001b[0;34m.\u001b[0m\u001b[0m_next_internal\u001b[0m\u001b[0;34m(\u001b[0m\u001b[0;34m)\u001b[0m\u001b[0;34m\u001b[0m\u001b[0;34m\u001b[0m\u001b[0m\n\u001b[0m\u001b[1;32m    773\u001b[0m     \u001b[0;32mexcept\u001b[0m \u001b[0merrors\u001b[0m\u001b[0;34m.\u001b[0m\u001b[0mOutOfRangeError\u001b[0m\u001b[0;34m:\u001b[0m\u001b[0;34m\u001b[0m\u001b[0;34m\u001b[0m\u001b[0m\n\u001b[1;32m    774\u001b[0m       \u001b[0;32mraise\u001b[0m \u001b[0mStopIteration\u001b[0m\u001b[0;34m\u001b[0m\u001b[0;34m\u001b[0m\u001b[0m\n",
            "\u001b[0;32m/usr/local/lib/python3.6/dist-packages/tensorflow/python/data/ops/iterator_ops.py\u001b[0m in \u001b[0;36m_next_internal\u001b[0;34m(self)\u001b[0m\n\u001b[1;32m    762\u001b[0m         \u001b[0;32mreturn\u001b[0m \u001b[0mself\u001b[0m\u001b[0;34m.\u001b[0m\u001b[0m_element_spec\u001b[0m\u001b[0;34m.\u001b[0m\u001b[0m_from_compatible_tensor_list\u001b[0m\u001b[0;34m(\u001b[0m\u001b[0mret\u001b[0m\u001b[0;34m)\u001b[0m  \u001b[0;31m# pylint: disable=protected-access\u001b[0m\u001b[0;34m\u001b[0m\u001b[0;34m\u001b[0m\u001b[0m\n\u001b[1;32m    763\u001b[0m       \u001b[0;32mexcept\u001b[0m \u001b[0mAttributeError\u001b[0m\u001b[0;34m:\u001b[0m\u001b[0;34m\u001b[0m\u001b[0;34m\u001b[0m\u001b[0m\n\u001b[0;32m--> 764\u001b[0;31m         \u001b[0;32mreturn\u001b[0m \u001b[0mstructure\u001b[0m\u001b[0;34m.\u001b[0m\u001b[0mfrom_compatible_tensor_list\u001b[0m\u001b[0;34m(\u001b[0m\u001b[0mself\u001b[0m\u001b[0;34m.\u001b[0m\u001b[0m_element_spec\u001b[0m\u001b[0;34m,\u001b[0m \u001b[0mret\u001b[0m\u001b[0;34m)\u001b[0m\u001b[0;34m\u001b[0m\u001b[0;34m\u001b[0m\u001b[0m\n\u001b[0m\u001b[1;32m    765\u001b[0m \u001b[0;34m\u001b[0m\u001b[0m\n\u001b[1;32m    766\u001b[0m   \u001b[0;34m@\u001b[0m\u001b[0mproperty\u001b[0m\u001b[0;34m\u001b[0m\u001b[0;34m\u001b[0m\u001b[0m\n",
            "\u001b[0;32m/usr/lib/python3.6/contextlib.py\u001b[0m in \u001b[0;36m__exit__\u001b[0;34m(self, type, value, traceback)\u001b[0m\n\u001b[1;32m     97\u001b[0m                 \u001b[0mvalue\u001b[0m \u001b[0;34m=\u001b[0m \u001b[0mtype\u001b[0m\u001b[0;34m(\u001b[0m\u001b[0;34m)\u001b[0m\u001b[0;34m\u001b[0m\u001b[0;34m\u001b[0m\u001b[0m\n\u001b[1;32m     98\u001b[0m             \u001b[0;32mtry\u001b[0m\u001b[0;34m:\u001b[0m\u001b[0;34m\u001b[0m\u001b[0;34m\u001b[0m\u001b[0m\n\u001b[0;32m---> 99\u001b[0;31m                 \u001b[0mself\u001b[0m\u001b[0;34m.\u001b[0m\u001b[0mgen\u001b[0m\u001b[0;34m.\u001b[0m\u001b[0mthrow\u001b[0m\u001b[0;34m(\u001b[0m\u001b[0mtype\u001b[0m\u001b[0;34m,\u001b[0m \u001b[0mvalue\u001b[0m\u001b[0;34m,\u001b[0m \u001b[0mtraceback\u001b[0m\u001b[0;34m)\u001b[0m\u001b[0;34m\u001b[0m\u001b[0;34m\u001b[0m\u001b[0m\n\u001b[0m\u001b[1;32m    100\u001b[0m             \u001b[0;32mexcept\u001b[0m \u001b[0mStopIteration\u001b[0m \u001b[0;32mas\u001b[0m \u001b[0mexc\u001b[0m\u001b[0;34m:\u001b[0m\u001b[0;34m\u001b[0m\u001b[0;34m\u001b[0m\u001b[0m\n\u001b[1;32m    101\u001b[0m                 \u001b[0;31m# Suppress StopIteration *unless* it's the same exception that\u001b[0m\u001b[0;34m\u001b[0m\u001b[0;34m\u001b[0m\u001b[0;34m\u001b[0m\u001b[0m\n",
            "\u001b[0;32m/usr/local/lib/python3.6/dist-packages/tensorflow/python/eager/context.py\u001b[0m in \u001b[0;36mexecution_mode\u001b[0;34m(mode)\u001b[0m\n\u001b[1;32m   2103\u001b[0m     \u001b[0;32mfinally\u001b[0m\u001b[0;34m:\u001b[0m\u001b[0;34m\u001b[0m\u001b[0;34m\u001b[0m\u001b[0m\n\u001b[1;32m   2104\u001b[0m       \u001b[0mctx\u001b[0m\u001b[0;34m.\u001b[0m\u001b[0mexecutor\u001b[0m \u001b[0;34m=\u001b[0m \u001b[0mexecutor_old\u001b[0m\u001b[0;34m\u001b[0m\u001b[0;34m\u001b[0m\u001b[0m\n\u001b[0;32m-> 2105\u001b[0;31m       \u001b[0mexecutor_new\u001b[0m\u001b[0;34m.\u001b[0m\u001b[0mwait\u001b[0m\u001b[0;34m(\u001b[0m\u001b[0;34m)\u001b[0m\u001b[0;34m\u001b[0m\u001b[0;34m\u001b[0m\u001b[0m\n\u001b[0m\u001b[1;32m   2106\u001b[0m \u001b[0;34m\u001b[0m\u001b[0m\n\u001b[1;32m   2107\u001b[0m \u001b[0;34m\u001b[0m\u001b[0m\n",
            "\u001b[0;32m/usr/local/lib/python3.6/dist-packages/tensorflow/python/eager/executor.py\u001b[0m in \u001b[0;36mwait\u001b[0;34m(self)\u001b[0m\n\u001b[1;32m     65\u001b[0m   \u001b[0;32mdef\u001b[0m \u001b[0mwait\u001b[0m\u001b[0;34m(\u001b[0m\u001b[0mself\u001b[0m\u001b[0;34m)\u001b[0m\u001b[0;34m:\u001b[0m\u001b[0;34m\u001b[0m\u001b[0;34m\u001b[0m\u001b[0m\n\u001b[1;32m     66\u001b[0m     \u001b[0;34m\"\"\"Waits for ops dispatched in this executor to finish.\"\"\"\u001b[0m\u001b[0;34m\u001b[0m\u001b[0;34m\u001b[0m\u001b[0m\n\u001b[0;32m---> 67\u001b[0;31m     \u001b[0mpywrap_tfe\u001b[0m\u001b[0;34m.\u001b[0m\u001b[0mTFE_ExecutorWaitForAllPendingNodes\u001b[0m\u001b[0;34m(\u001b[0m\u001b[0mself\u001b[0m\u001b[0;34m.\u001b[0m\u001b[0m_handle\u001b[0m\u001b[0;34m)\u001b[0m\u001b[0;34m\u001b[0m\u001b[0;34m\u001b[0m\u001b[0m\n\u001b[0m\u001b[1;32m     68\u001b[0m \u001b[0;34m\u001b[0m\u001b[0m\n\u001b[1;32m     69\u001b[0m   \u001b[0;32mdef\u001b[0m \u001b[0mclear_error\u001b[0m\u001b[0;34m(\u001b[0m\u001b[0mself\u001b[0m\u001b[0;34m)\u001b[0m\u001b[0;34m:\u001b[0m\u001b[0;34m\u001b[0m\u001b[0;34m\u001b[0m\u001b[0m\n",
            "\u001b[0;31mUnknownError\u001b[0m: KeyError: b'ao-9B8IV9_E_37_44'\nTraceback (most recent call last):\n\n  File \"/usr/local/lib/python3.6/dist-packages/tensorflow/python/ops/script_ops.py\", line 244, in __call__\n    ret = func(*args)\n\n  File \"/usr/local/lib/python3.6/dist-packages/tensorflow/python/autograph/impl/api.py\", line 302, in wrapper\n    return func(*args, **kwargs)\n\n  File \"<ipython-input-60-074bda26513b>\", line 3, in map_func\n    img_tensor = video_np[vid_name]\n\nKeyError: b'ao-9B8IV9_E_37_44'\n\n\n\t [[{{node PyFunc}}]]"
          ]
        }
      ]
    },
    {
      "cell_type": "code",
      "metadata": {
        "id": "itK-3V8kAtUc",
        "outputId": "bb53b23a-cdbe-44db-914e-d1c72916b310",
        "colab": {
          "base_uri": "https://localhost:8080/",
          "height": 34
        }
      },
      "source": [
        "video_np['ao-9B8IV9_E_37_44'].shape"
      ],
      "execution_count": null,
      "outputs": [
        {
          "output_type": "execute_result",
          "data": {
            "text/plain": [
              "(80, 4096)"
            ]
          },
          "metadata": {
            "tags": []
          },
          "execution_count": 82
        }
      ]
    },
    {
      "cell_type": "code",
      "metadata": {
        "id": "lVDsvCShkGoc"
      },
      "source": [
        "final_corpus['sequences']=sequences"
      ],
      "execution_count": null,
      "outputs": []
    },
    {
      "cell_type": "code",
      "metadata": {
        "id": "ufc9LmKfiRyY",
        "outputId": "8ed95779-aed5-4eaa-9bda-7c9dd0dc568e",
        "colab": {
          "base_uri": "https://localhost:8080/",
          "height": 34
        }
      },
      "source": [
        "final_corpus.columns"
      ],
      "execution_count": null,
      "outputs": [
        {
          "output_type": "execute_result",
          "data": {
            "text/plain": [
              "Index(['AnnotationID', 'VideoPath', 'Description', 'captions'], dtype='object')"
            ]
          },
          "metadata": {
            "tags": []
          },
          "execution_count": 49
        }
      ]
    },
    {
      "cell_type": "code",
      "metadata": {
        "id": "CGHT-njDmQdI"
      },
      "source": [
        "train=final_corpus[final_corpus.AnnotationID=='_0nX-El-ySo_83_93']\n",
        "\n",
        "#video_np['_0nX-El-ySo_83_93'].shape\n",
        "#Xtext_train, Ximage_train, ytext_train = preprocessing(dt_train,di_train, fn_train)"
      ],
      "execution_count": null,
      "outputs": []
    },
    {
      "cell_type": "code",
      "metadata": {
        "id": "p82KcZLzdOF5"
      },
      "source": [
        "videos_dt, keepindex = [],[]\n",
        "for i, fnm in enumerate(final_corpus.AnnotationID):\n",
        "    if fnm in video_np.keys():\n",
        "        videos_dt.append(video_np[fnm])\n",
        "        keepindex.append(i)\n",
        "\n",
        "fnames = final_corpus[\"AnnotationID\"].iloc[keepindex].values\n",
        "captions_dt = final_corpus[\"sequences\"].iloc[keepindex].values\n",
        "#videos_dt = np.array(videos_dt)"
      ],
      "execution_count": null,
      "outputs": []
    },
    {
      "cell_type": "code",
      "metadata": {
        "id": "WlRDXzXCYJBC"
      },
      "source": [
        "prop_test, prop_val = 0.2, 0.2 \n",
        "\n",
        "N = len(captions_dt)\n",
        "Ntest, Nval = int(N*prop_test), int(N*prop_val)\n",
        "\n",
        "def split_test_val_train(dtexts,Ntest,Nval):\n",
        "    return(dtexts[:Ntest], \n",
        "           dtexts[Ntest:Ntest+Nval],  \n",
        "           dtexts[Ntest+Nval:])\n",
        "\n",
        "dt_test,  dt_val, dt_train   = split_test_val_train(captions_dt,Ntest,Nval)\n",
        "di_test,  di_val, di_train   = split_test_val_train(videos_dt,Ntest,Nval)\n",
        "fn_test,  fn_val, fn_train   = split_test_val_train(fnames,Ntest,Nval)"
      ],
      "execution_count": null,
      "outputs": []
    },
    {
      "cell_type": "code",
      "metadata": {
        "id": "wjt4zjM01Xu5"
      },
      "source": [
        "maxlen = np.max([len(text) for text in captions_dt])"
      ],
      "execution_count": null,
      "outputs": []
    },
    {
      "cell_type": "code",
      "metadata": {
        "id": "SAKarnVEgzk_",
        "outputId": "cc556178-cbf4-4909-f53c-25e544936220",
        "colab": {
          "base_uri": "https://localhost:8080/",
          "height": 85
        }
      },
      "source": [
        "print(maxlen)\n",
        "print(len(dt_test),  len(dt_val), len(dt_train))\n",
        "print(len(di_test),  len(di_val), len(di_train))\n",
        "print(len(fn_test),  len(fn_val), len(fn_train))"
      ],
      "execution_count": null,
      "outputs": [
        {
          "output_type": "stream",
          "text": [
            "89\n",
            "16159 16159 48481\n",
            "16159 16159 48481\n",
            "16159 16159 48481\n"
          ],
          "name": "stdout"
        }
      ]
    },
    {
      "cell_type": "code",
      "metadata": {
        "id": "NFLFZJdt1cgJ"
      },
      "source": [
        "from keras.preprocessing.sequence import pad_sequences\n",
        "from keras.utils import to_categorical\n",
        "\n",
        "def preprocessing(dtexts,dvideos, dfnames):\n",
        "    N = len(dtexts)\n",
        "    print(\"# captions/images = {}\".format(N))\n",
        "\n",
        "    assert(N==len(dvideos))\n",
        "    Xtext, Xvideo, ytext = [],[],[]\n",
        "    for text,image,fname in zip(dtexts,dvideos, dfnames):\n",
        "\n",
        "        for i in range(1,len(text)):\n",
        "            in_text, out_text = text[:i], text[i]\n",
        "            in_text = pad_sequences([in_text],maxlen=maxlen).flatten()\n",
        "            out_text = to_categorical(out_text,num_classes = vocab_size)\n",
        "\n",
        "            Xtext.append(in_text)\n",
        "            Xvideo.append(image)\n",
        "            ytext.append(out_text)\n",
        "\n",
        "    Xtext  = np.array(Xtext)\n",
        "    Xvideo = np.array(Xvideo)\n",
        "    ytext  = np.array(ytext)\n",
        "    print(\" {} {} {}\".format(Xtext.shape,Xvideo.shape,ytext.shape))\n",
        "    return(Xtext,Xvideo,ytext)\n",
        "\n",
        "\n",
        "#Xtext_train, Ximage_train, ytext_train = preprocessing(dt_train,di_train, fn_train)\n",
        "#Xtext_val,   Ximage_val,   ytext_val   = preprocessing(dt_val,di_val, fn_train)\n",
        "# pre-processing is not necessary for testing data\n",
        "#Xtext_test,  Ximage_test,  ytext_test  = preprocessing(dt_test,di_test)"
      ],
      "execution_count": null,
      "outputs": []
    },
    {
      "cell_type": "code",
      "metadata": {
        "id": "VW8SYyrHpEFI",
        "outputId": "f91758f3-2198-4d6a-b576-c54afdefb1f3",
        "colab": {
          "base_uri": "https://localhost:8080/",
          "height": 51
        }
      },
      "source": [
        "Xtext_train, Ximage_train, ytext_train = preprocessing(captions_dt,videos_dt, fnames)"
      ],
      "execution_count": null,
      "outputs": [
        {
          "output_type": "stream",
          "text": [
            "# captions/images = 32\n",
            " (213, 89) (213, 80, 4096) (213, 11158)\n"
          ],
          "name": "stdout"
        }
      ]
    },
    {
      "cell_type": "code",
      "metadata": {
        "id": "fNtvK5EQ2im3",
        "outputId": "0a900aba-a09a-444f-8a76-e659c578ac7b",
        "colab": {
          "base_uri": "https://localhost:8080/",
          "height": 476
        }
      },
      "source": [
        "from keras import layers\n",
        "from keras import models\n",
        "print(vocab_size)\n",
        "## image feature\n",
        "\n",
        "dim_embedding = 64\n",
        "\n",
        "input_image = layers.Input(shape=(Ximage_train.shape[1],))\n",
        "fimage = layers.Dense(256,activation='relu',name=\"ImageFeature\")(input_image)\n",
        "## sequence model\n",
        "input_txt = layers.Input(shape=(maxlen,))\n",
        "ftxt = layers.Embedding(vocab_size,dim_embedding, mask_zero=True)(input_txt)\n",
        "ftxt = layers.LSTM(256,name=\"CaptionFeature\")(ftxt)\n",
        "## combined model for decoder\n",
        "decoder = layers.add([ftxt,fimage])\n",
        "decoder = layers.Dense(256,activation='relu')(decoder)\n",
        "output = layers.Dense(vocab_size,activation='softmax')(decoder)\n",
        "model = models.Model(inputs=[input_image, input_txt],outputs=output)\n",
        "\n",
        "model.compile(loss='categorical_crossentropy', optimizer='adam')\n",
        "\n",
        "print(model.summary())"
      ],
      "execution_count": null,
      "outputs": [
        {
          "output_type": "stream",
          "text": [
            "11158\n",
            "Model: \"functional_1\"\n",
            "__________________________________________________________________________________________________\n",
            "Layer (type)                    Output Shape         Param #     Connected to                     \n",
            "==================================================================================================\n",
            "input_4 (InputLayer)            [(None, 89)]         0                                            \n",
            "__________________________________________________________________________________________________\n",
            "embedding_1 (Embedding)         (None, 89, 64)       714112      input_4[0][0]                    \n",
            "__________________________________________________________________________________________________\n",
            "input_3 (InputLayer)            [(None, 80)]         0                                            \n",
            "__________________________________________________________________________________________________\n",
            "CaptionFeature (LSTM)           (None, 256)          328704      embedding_1[0][0]                \n",
            "__________________________________________________________________________________________________\n",
            "ImageFeature (Dense)            (None, 256)          20736       input_3[0][0]                    \n",
            "__________________________________________________________________________________________________\n",
            "add_1 (Add)                     (None, 256)          0           CaptionFeature[0][0]             \n",
            "                                                                 ImageFeature[0][0]               \n",
            "__________________________________________________________________________________________________\n",
            "dense_2 (Dense)                 (None, 256)          65792       add_1[0][0]                      \n",
            "__________________________________________________________________________________________________\n",
            "dense_3 (Dense)                 (None, 11158)        2867606     dense_2[0][0]                    \n",
            "==================================================================================================\n",
            "Total params: 3,996,950\n",
            "Trainable params: 3,996,950\n",
            "Non-trainable params: 0\n",
            "__________________________________________________________________________________________________\n",
            "None\n"
          ],
          "name": "stdout"
        }
      ]
    },
    {
      "cell_type": "code",
      "metadata": {
        "id": "byXpwrU42zMc",
        "outputId": "8ccd45e1-539c-4b2a-da71-107d2ff3d721",
        "colab": {
          "base_uri": "https://localhost:8080/",
          "height": 904
        }
      },
      "source": [
        "# fit model\n",
        "import time\n",
        "start = time.time()\n",
        "hist = model.fit([Ximage_train, Xtext_train], ytext_train, \n",
        "                  epochs=5, verbose=2, \n",
        "                  batch_size=64)\n",
        "#,\n",
        "                  #validation_data=([Ximage_val, Xtext_val], ytext_val))\n",
        "end = time.time()\n",
        "print(\"TIME TOOK {:3.2f}MIN\".format((end - start )/60))"
      ],
      "execution_count": null,
      "outputs": [
        {
          "output_type": "stream",
          "text": [
            "Epoch 1/5\n",
            "WARNING:tensorflow:Model was constructed with shape (None, 80) for input Tensor(\"input_3:0\", shape=(None, 80), dtype=float32), but it was called on an input with incompatible shape (None, 80, 4096).\n"
          ],
          "name": "stdout"
        },
        {
          "output_type": "error",
          "ename": "ValueError",
          "evalue": "ignored",
          "traceback": [
            "\u001b[0;31m---------------------------------------------------------------------------\u001b[0m",
            "\u001b[0;31mValueError\u001b[0m                                Traceback (most recent call last)",
            "\u001b[0;32m<ipython-input-89-bf7d6ac0d35c>\u001b[0m in \u001b[0;36m<module>\u001b[0;34m()\u001b[0m\n\u001b[1;32m      4\u001b[0m hist = model.fit([Ximage_train, Xtext_train], ytext_train, \n\u001b[1;32m      5\u001b[0m                   \u001b[0mepochs\u001b[0m\u001b[0;34m=\u001b[0m\u001b[0;36m5\u001b[0m\u001b[0;34m,\u001b[0m \u001b[0mverbose\u001b[0m\u001b[0;34m=\u001b[0m\u001b[0;36m2\u001b[0m\u001b[0;34m,\u001b[0m\u001b[0;34m\u001b[0m\u001b[0;34m\u001b[0m\u001b[0m\n\u001b[0;32m----> 6\u001b[0;31m                   batch_size=64)\n\u001b[0m\u001b[1;32m      7\u001b[0m \u001b[0;31m#,\u001b[0m\u001b[0;34m\u001b[0m\u001b[0;34m\u001b[0m\u001b[0;34m\u001b[0m\u001b[0m\n\u001b[1;32m      8\u001b[0m                   \u001b[0;31m#validation_data=([Ximage_val, Xtext_val], ytext_val))\u001b[0m\u001b[0;34m\u001b[0m\u001b[0;34m\u001b[0m\u001b[0;34m\u001b[0m\u001b[0m\n",
            "\u001b[0;32m/usr/local/lib/python3.6/dist-packages/tensorflow/python/keras/engine/training.py\u001b[0m in \u001b[0;36m_method_wrapper\u001b[0;34m(self, *args, **kwargs)\u001b[0m\n\u001b[1;32m    106\u001b[0m   \u001b[0;32mdef\u001b[0m \u001b[0m_method_wrapper\u001b[0m\u001b[0;34m(\u001b[0m\u001b[0mself\u001b[0m\u001b[0;34m,\u001b[0m \u001b[0;34m*\u001b[0m\u001b[0margs\u001b[0m\u001b[0;34m,\u001b[0m \u001b[0;34m**\u001b[0m\u001b[0mkwargs\u001b[0m\u001b[0;34m)\u001b[0m\u001b[0;34m:\u001b[0m\u001b[0;34m\u001b[0m\u001b[0;34m\u001b[0m\u001b[0m\n\u001b[1;32m    107\u001b[0m     \u001b[0;32mif\u001b[0m \u001b[0;32mnot\u001b[0m \u001b[0mself\u001b[0m\u001b[0;34m.\u001b[0m\u001b[0m_in_multi_worker_mode\u001b[0m\u001b[0;34m(\u001b[0m\u001b[0;34m)\u001b[0m\u001b[0;34m:\u001b[0m  \u001b[0;31m# pylint: disable=protected-access\u001b[0m\u001b[0;34m\u001b[0m\u001b[0;34m\u001b[0m\u001b[0m\n\u001b[0;32m--> 108\u001b[0;31m       \u001b[0;32mreturn\u001b[0m \u001b[0mmethod\u001b[0m\u001b[0;34m(\u001b[0m\u001b[0mself\u001b[0m\u001b[0;34m,\u001b[0m \u001b[0;34m*\u001b[0m\u001b[0margs\u001b[0m\u001b[0;34m,\u001b[0m \u001b[0;34m**\u001b[0m\u001b[0mkwargs\u001b[0m\u001b[0;34m)\u001b[0m\u001b[0;34m\u001b[0m\u001b[0;34m\u001b[0m\u001b[0m\n\u001b[0m\u001b[1;32m    109\u001b[0m \u001b[0;34m\u001b[0m\u001b[0m\n\u001b[1;32m    110\u001b[0m     \u001b[0;31m# Running inside `run_distribute_coordinator` already.\u001b[0m\u001b[0;34m\u001b[0m\u001b[0;34m\u001b[0m\u001b[0;34m\u001b[0m\u001b[0m\n",
            "\u001b[0;32m/usr/local/lib/python3.6/dist-packages/tensorflow/python/keras/engine/training.py\u001b[0m in \u001b[0;36mfit\u001b[0;34m(self, x, y, batch_size, epochs, verbose, callbacks, validation_split, validation_data, shuffle, class_weight, sample_weight, initial_epoch, steps_per_epoch, validation_steps, validation_batch_size, validation_freq, max_queue_size, workers, use_multiprocessing)\u001b[0m\n\u001b[1;32m   1096\u001b[0m                 batch_size=batch_size):\n\u001b[1;32m   1097\u001b[0m               \u001b[0mcallbacks\u001b[0m\u001b[0;34m.\u001b[0m\u001b[0mon_train_batch_begin\u001b[0m\u001b[0;34m(\u001b[0m\u001b[0mstep\u001b[0m\u001b[0;34m)\u001b[0m\u001b[0;34m\u001b[0m\u001b[0;34m\u001b[0m\u001b[0m\n\u001b[0;32m-> 1098\u001b[0;31m               \u001b[0mtmp_logs\u001b[0m \u001b[0;34m=\u001b[0m \u001b[0mtrain_function\u001b[0m\u001b[0;34m(\u001b[0m\u001b[0miterator\u001b[0m\u001b[0;34m)\u001b[0m\u001b[0;34m\u001b[0m\u001b[0;34m\u001b[0m\u001b[0m\n\u001b[0m\u001b[1;32m   1099\u001b[0m               \u001b[0;32mif\u001b[0m \u001b[0mdata_handler\u001b[0m\u001b[0;34m.\u001b[0m\u001b[0mshould_sync\u001b[0m\u001b[0;34m:\u001b[0m\u001b[0;34m\u001b[0m\u001b[0;34m\u001b[0m\u001b[0m\n\u001b[1;32m   1100\u001b[0m                 \u001b[0mcontext\u001b[0m\u001b[0;34m.\u001b[0m\u001b[0masync_wait\u001b[0m\u001b[0;34m(\u001b[0m\u001b[0;34m)\u001b[0m\u001b[0;34m\u001b[0m\u001b[0;34m\u001b[0m\u001b[0m\n",
            "\u001b[0;32m/usr/local/lib/python3.6/dist-packages/tensorflow/python/eager/def_function.py\u001b[0m in \u001b[0;36m__call__\u001b[0;34m(self, *args, **kwds)\u001b[0m\n\u001b[1;32m    778\u001b[0m       \u001b[0;32melse\u001b[0m\u001b[0;34m:\u001b[0m\u001b[0;34m\u001b[0m\u001b[0;34m\u001b[0m\u001b[0m\n\u001b[1;32m    779\u001b[0m         \u001b[0mcompiler\u001b[0m \u001b[0;34m=\u001b[0m \u001b[0;34m\"nonXla\"\u001b[0m\u001b[0;34m\u001b[0m\u001b[0;34m\u001b[0m\u001b[0m\n\u001b[0;32m--> 780\u001b[0;31m         \u001b[0mresult\u001b[0m \u001b[0;34m=\u001b[0m \u001b[0mself\u001b[0m\u001b[0;34m.\u001b[0m\u001b[0m_call\u001b[0m\u001b[0;34m(\u001b[0m\u001b[0;34m*\u001b[0m\u001b[0margs\u001b[0m\u001b[0;34m,\u001b[0m \u001b[0;34m**\u001b[0m\u001b[0mkwds\u001b[0m\u001b[0;34m)\u001b[0m\u001b[0;34m\u001b[0m\u001b[0;34m\u001b[0m\u001b[0m\n\u001b[0m\u001b[1;32m    781\u001b[0m \u001b[0;34m\u001b[0m\u001b[0m\n\u001b[1;32m    782\u001b[0m       \u001b[0mnew_tracing_count\u001b[0m \u001b[0;34m=\u001b[0m \u001b[0mself\u001b[0m\u001b[0;34m.\u001b[0m\u001b[0m_get_tracing_count\u001b[0m\u001b[0;34m(\u001b[0m\u001b[0;34m)\u001b[0m\u001b[0;34m\u001b[0m\u001b[0;34m\u001b[0m\u001b[0m\n",
            "\u001b[0;32m/usr/local/lib/python3.6/dist-packages/tensorflow/python/eager/def_function.py\u001b[0m in \u001b[0;36m_call\u001b[0;34m(self, *args, **kwds)\u001b[0m\n\u001b[1;32m    812\u001b[0m       \u001b[0;31m# In this case we have not created variables on the first call. So we can\u001b[0m\u001b[0;34m\u001b[0m\u001b[0;34m\u001b[0m\u001b[0;34m\u001b[0m\u001b[0m\n\u001b[1;32m    813\u001b[0m       \u001b[0;31m# run the first trace but we should fail if variables are created.\u001b[0m\u001b[0;34m\u001b[0m\u001b[0;34m\u001b[0m\u001b[0;34m\u001b[0m\u001b[0m\n\u001b[0;32m--> 814\u001b[0;31m       \u001b[0mresults\u001b[0m \u001b[0;34m=\u001b[0m \u001b[0mself\u001b[0m\u001b[0;34m.\u001b[0m\u001b[0m_stateful_fn\u001b[0m\u001b[0;34m(\u001b[0m\u001b[0;34m*\u001b[0m\u001b[0margs\u001b[0m\u001b[0;34m,\u001b[0m \u001b[0;34m**\u001b[0m\u001b[0mkwds\u001b[0m\u001b[0;34m)\u001b[0m\u001b[0;34m\u001b[0m\u001b[0;34m\u001b[0m\u001b[0m\n\u001b[0m\u001b[1;32m    815\u001b[0m       \u001b[0;32mif\u001b[0m \u001b[0mself\u001b[0m\u001b[0;34m.\u001b[0m\u001b[0m_created_variables\u001b[0m\u001b[0;34m:\u001b[0m\u001b[0;34m\u001b[0m\u001b[0;34m\u001b[0m\u001b[0m\n\u001b[1;32m    816\u001b[0m         raise ValueError(\"Creating variables on a non-first call to a function\"\n",
            "\u001b[0;32m/usr/local/lib/python3.6/dist-packages/tensorflow/python/eager/function.py\u001b[0m in \u001b[0;36m__call__\u001b[0;34m(self, *args, **kwargs)\u001b[0m\n\u001b[1;32m   2826\u001b[0m     \u001b[0;34m\"\"\"Calls a graph function specialized to the inputs.\"\"\"\u001b[0m\u001b[0;34m\u001b[0m\u001b[0;34m\u001b[0m\u001b[0m\n\u001b[1;32m   2827\u001b[0m     \u001b[0;32mwith\u001b[0m \u001b[0mself\u001b[0m\u001b[0;34m.\u001b[0m\u001b[0m_lock\u001b[0m\u001b[0;34m:\u001b[0m\u001b[0;34m\u001b[0m\u001b[0;34m\u001b[0m\u001b[0m\n\u001b[0;32m-> 2828\u001b[0;31m       \u001b[0mgraph_function\u001b[0m\u001b[0;34m,\u001b[0m \u001b[0margs\u001b[0m\u001b[0;34m,\u001b[0m \u001b[0mkwargs\u001b[0m \u001b[0;34m=\u001b[0m \u001b[0mself\u001b[0m\u001b[0;34m.\u001b[0m\u001b[0m_maybe_define_function\u001b[0m\u001b[0;34m(\u001b[0m\u001b[0margs\u001b[0m\u001b[0;34m,\u001b[0m \u001b[0mkwargs\u001b[0m\u001b[0;34m)\u001b[0m\u001b[0;34m\u001b[0m\u001b[0;34m\u001b[0m\u001b[0m\n\u001b[0m\u001b[1;32m   2829\u001b[0m     \u001b[0;32mreturn\u001b[0m \u001b[0mgraph_function\u001b[0m\u001b[0;34m.\u001b[0m\u001b[0m_filtered_call\u001b[0m\u001b[0;34m(\u001b[0m\u001b[0margs\u001b[0m\u001b[0;34m,\u001b[0m \u001b[0mkwargs\u001b[0m\u001b[0;34m)\u001b[0m  \u001b[0;31m# pylint: disable=protected-access\u001b[0m\u001b[0;34m\u001b[0m\u001b[0;34m\u001b[0m\u001b[0m\n\u001b[1;32m   2830\u001b[0m \u001b[0;34m\u001b[0m\u001b[0m\n",
            "\u001b[0;32m/usr/local/lib/python3.6/dist-packages/tensorflow/python/eager/function.py\u001b[0m in \u001b[0;36m_maybe_define_function\u001b[0;34m(self, args, kwargs)\u001b[0m\n\u001b[1;32m   3208\u001b[0m           \u001b[0;32mand\u001b[0m \u001b[0mself\u001b[0m\u001b[0;34m.\u001b[0m\u001b[0minput_signature\u001b[0m \u001b[0;32mis\u001b[0m \u001b[0;32mNone\u001b[0m\u001b[0;34m\u001b[0m\u001b[0;34m\u001b[0m\u001b[0m\n\u001b[1;32m   3209\u001b[0m           and call_context_key in self._function_cache.missed):\n\u001b[0;32m-> 3210\u001b[0;31m         \u001b[0;32mreturn\u001b[0m \u001b[0mself\u001b[0m\u001b[0;34m.\u001b[0m\u001b[0m_define_function_with_shape_relaxation\u001b[0m\u001b[0;34m(\u001b[0m\u001b[0margs\u001b[0m\u001b[0;34m,\u001b[0m \u001b[0mkwargs\u001b[0m\u001b[0;34m)\u001b[0m\u001b[0;34m\u001b[0m\u001b[0;34m\u001b[0m\u001b[0m\n\u001b[0m\u001b[1;32m   3211\u001b[0m \u001b[0;34m\u001b[0m\u001b[0m\n\u001b[1;32m   3212\u001b[0m       \u001b[0mself\u001b[0m\u001b[0;34m.\u001b[0m\u001b[0m_function_cache\u001b[0m\u001b[0;34m.\u001b[0m\u001b[0mmissed\u001b[0m\u001b[0;34m.\u001b[0m\u001b[0madd\u001b[0m\u001b[0;34m(\u001b[0m\u001b[0mcall_context_key\u001b[0m\u001b[0;34m)\u001b[0m\u001b[0;34m\u001b[0m\u001b[0;34m\u001b[0m\u001b[0m\n",
            "\u001b[0;32m/usr/local/lib/python3.6/dist-packages/tensorflow/python/eager/function.py\u001b[0m in \u001b[0;36m_define_function_with_shape_relaxation\u001b[0;34m(self, args, kwargs)\u001b[0m\n\u001b[1;32m   3140\u001b[0m \u001b[0;34m\u001b[0m\u001b[0m\n\u001b[1;32m   3141\u001b[0m     graph_function = self._create_graph_function(\n\u001b[0;32m-> 3142\u001b[0;31m         args, kwargs, override_flat_arg_shapes=relaxed_arg_shapes)\n\u001b[0m\u001b[1;32m   3143\u001b[0m     \u001b[0mself\u001b[0m\u001b[0;34m.\u001b[0m\u001b[0m_function_cache\u001b[0m\u001b[0;34m.\u001b[0m\u001b[0marg_relaxed\u001b[0m\u001b[0;34m[\u001b[0m\u001b[0mrank_only_cache_key\u001b[0m\u001b[0;34m]\u001b[0m \u001b[0;34m=\u001b[0m \u001b[0mgraph_function\u001b[0m\u001b[0;34m\u001b[0m\u001b[0;34m\u001b[0m\u001b[0m\n\u001b[1;32m   3144\u001b[0m \u001b[0;34m\u001b[0m\u001b[0m\n",
            "\u001b[0;32m/usr/local/lib/python3.6/dist-packages/tensorflow/python/eager/function.py\u001b[0m in \u001b[0;36m_create_graph_function\u001b[0;34m(self, args, kwargs, override_flat_arg_shapes)\u001b[0m\n\u001b[1;32m   3073\u001b[0m             \u001b[0marg_names\u001b[0m\u001b[0;34m=\u001b[0m\u001b[0marg_names\u001b[0m\u001b[0;34m,\u001b[0m\u001b[0;34m\u001b[0m\u001b[0;34m\u001b[0m\u001b[0m\n\u001b[1;32m   3074\u001b[0m             \u001b[0moverride_flat_arg_shapes\u001b[0m\u001b[0;34m=\u001b[0m\u001b[0moverride_flat_arg_shapes\u001b[0m\u001b[0;34m,\u001b[0m\u001b[0;34m\u001b[0m\u001b[0;34m\u001b[0m\u001b[0m\n\u001b[0;32m-> 3075\u001b[0;31m             capture_by_value=self._capture_by_value),\n\u001b[0m\u001b[1;32m   3076\u001b[0m         \u001b[0mself\u001b[0m\u001b[0;34m.\u001b[0m\u001b[0m_function_attributes\u001b[0m\u001b[0;34m,\u001b[0m\u001b[0;34m\u001b[0m\u001b[0;34m\u001b[0m\u001b[0m\n\u001b[1;32m   3077\u001b[0m         \u001b[0mfunction_spec\u001b[0m\u001b[0;34m=\u001b[0m\u001b[0mself\u001b[0m\u001b[0;34m.\u001b[0m\u001b[0mfunction_spec\u001b[0m\u001b[0;34m,\u001b[0m\u001b[0;34m\u001b[0m\u001b[0;34m\u001b[0m\u001b[0m\n",
            "\u001b[0;32m/usr/local/lib/python3.6/dist-packages/tensorflow/python/framework/func_graph.py\u001b[0m in \u001b[0;36mfunc_graph_from_py_func\u001b[0;34m(name, python_func, args, kwargs, signature, func_graph, autograph, autograph_options, add_control_dependencies, arg_names, op_return_value, collections, capture_by_value, override_flat_arg_shapes)\u001b[0m\n\u001b[1;32m    984\u001b[0m         \u001b[0m_\u001b[0m\u001b[0;34m,\u001b[0m \u001b[0moriginal_func\u001b[0m \u001b[0;34m=\u001b[0m \u001b[0mtf_decorator\u001b[0m\u001b[0;34m.\u001b[0m\u001b[0munwrap\u001b[0m\u001b[0;34m(\u001b[0m\u001b[0mpython_func\u001b[0m\u001b[0;34m)\u001b[0m\u001b[0;34m\u001b[0m\u001b[0;34m\u001b[0m\u001b[0m\n\u001b[1;32m    985\u001b[0m \u001b[0;34m\u001b[0m\u001b[0m\n\u001b[0;32m--> 986\u001b[0;31m       \u001b[0mfunc_outputs\u001b[0m \u001b[0;34m=\u001b[0m \u001b[0mpython_func\u001b[0m\u001b[0;34m(\u001b[0m\u001b[0;34m*\u001b[0m\u001b[0mfunc_args\u001b[0m\u001b[0;34m,\u001b[0m \u001b[0;34m**\u001b[0m\u001b[0mfunc_kwargs\u001b[0m\u001b[0;34m)\u001b[0m\u001b[0;34m\u001b[0m\u001b[0;34m\u001b[0m\u001b[0m\n\u001b[0m\u001b[1;32m    987\u001b[0m \u001b[0;34m\u001b[0m\u001b[0m\n\u001b[1;32m    988\u001b[0m       \u001b[0;31m# invariant: `func_outputs` contains only Tensors, CompositeTensors,\u001b[0m\u001b[0;34m\u001b[0m\u001b[0;34m\u001b[0m\u001b[0;34m\u001b[0m\u001b[0m\n",
            "\u001b[0;32m/usr/local/lib/python3.6/dist-packages/tensorflow/python/eager/def_function.py\u001b[0m in \u001b[0;36mwrapped_fn\u001b[0;34m(*args, **kwds)\u001b[0m\n\u001b[1;32m    598\u001b[0m         \u001b[0;31m# __wrapped__ allows AutoGraph to swap in a converted function. We give\u001b[0m\u001b[0;34m\u001b[0m\u001b[0;34m\u001b[0m\u001b[0;34m\u001b[0m\u001b[0m\n\u001b[1;32m    599\u001b[0m         \u001b[0;31m# the function a weak reference to itself to avoid a reference cycle.\u001b[0m\u001b[0;34m\u001b[0m\u001b[0;34m\u001b[0m\u001b[0;34m\u001b[0m\u001b[0m\n\u001b[0;32m--> 600\u001b[0;31m         \u001b[0;32mreturn\u001b[0m \u001b[0mweak_wrapped_fn\u001b[0m\u001b[0;34m(\u001b[0m\u001b[0;34m)\u001b[0m\u001b[0;34m.\u001b[0m\u001b[0m__wrapped__\u001b[0m\u001b[0;34m(\u001b[0m\u001b[0;34m*\u001b[0m\u001b[0margs\u001b[0m\u001b[0;34m,\u001b[0m \u001b[0;34m**\u001b[0m\u001b[0mkwds\u001b[0m\u001b[0;34m)\u001b[0m\u001b[0;34m\u001b[0m\u001b[0;34m\u001b[0m\u001b[0m\n\u001b[0m\u001b[1;32m    601\u001b[0m     \u001b[0mweak_wrapped_fn\u001b[0m \u001b[0;34m=\u001b[0m \u001b[0mweakref\u001b[0m\u001b[0;34m.\u001b[0m\u001b[0mref\u001b[0m\u001b[0;34m(\u001b[0m\u001b[0mwrapped_fn\u001b[0m\u001b[0;34m)\u001b[0m\u001b[0;34m\u001b[0m\u001b[0;34m\u001b[0m\u001b[0m\n\u001b[1;32m    602\u001b[0m \u001b[0;34m\u001b[0m\u001b[0m\n",
            "\u001b[0;32m/usr/local/lib/python3.6/dist-packages/tensorflow/python/framework/func_graph.py\u001b[0m in \u001b[0;36mwrapper\u001b[0;34m(*args, **kwargs)\u001b[0m\n\u001b[1;32m    971\u001b[0m           \u001b[0;32mexcept\u001b[0m \u001b[0mException\u001b[0m \u001b[0;32mas\u001b[0m \u001b[0me\u001b[0m\u001b[0;34m:\u001b[0m  \u001b[0;31m# pylint:disable=broad-except\u001b[0m\u001b[0;34m\u001b[0m\u001b[0;34m\u001b[0m\u001b[0m\n\u001b[1;32m    972\u001b[0m             \u001b[0;32mif\u001b[0m \u001b[0mhasattr\u001b[0m\u001b[0;34m(\u001b[0m\u001b[0me\u001b[0m\u001b[0;34m,\u001b[0m \u001b[0;34m\"ag_error_metadata\"\u001b[0m\u001b[0;34m)\u001b[0m\u001b[0;34m:\u001b[0m\u001b[0;34m\u001b[0m\u001b[0;34m\u001b[0m\u001b[0m\n\u001b[0;32m--> 973\u001b[0;31m               \u001b[0;32mraise\u001b[0m \u001b[0me\u001b[0m\u001b[0;34m.\u001b[0m\u001b[0mag_error_metadata\u001b[0m\u001b[0;34m.\u001b[0m\u001b[0mto_exception\u001b[0m\u001b[0;34m(\u001b[0m\u001b[0me\u001b[0m\u001b[0;34m)\u001b[0m\u001b[0;34m\u001b[0m\u001b[0;34m\u001b[0m\u001b[0m\n\u001b[0m\u001b[1;32m    974\u001b[0m             \u001b[0;32melse\u001b[0m\u001b[0;34m:\u001b[0m\u001b[0;34m\u001b[0m\u001b[0;34m\u001b[0m\u001b[0m\n\u001b[1;32m    975\u001b[0m               \u001b[0;32mraise\u001b[0m\u001b[0;34m\u001b[0m\u001b[0;34m\u001b[0m\u001b[0m\n",
            "\u001b[0;31mValueError\u001b[0m: in user code:\n\n    /usr/local/lib/python3.6/dist-packages/tensorflow/python/keras/engine/training.py:806 train_function  *\n        return step_function(self, iterator)\n    /usr/local/lib/python3.6/dist-packages/tensorflow/python/keras/engine/training.py:796 step_function  **\n        outputs = model.distribute_strategy.run(run_step, args=(data,))\n    /usr/local/lib/python3.6/dist-packages/tensorflow/python/distribute/distribute_lib.py:1211 run\n        return self._extended.call_for_each_replica(fn, args=args, kwargs=kwargs)\n    /usr/local/lib/python3.6/dist-packages/tensorflow/python/distribute/distribute_lib.py:2585 call_for_each_replica\n        return self._call_for_each_replica(fn, args, kwargs)\n    /usr/local/lib/python3.6/dist-packages/tensorflow/python/distribute/distribute_lib.py:2945 _call_for_each_replica\n        return fn(*args, **kwargs)\n    /usr/local/lib/python3.6/dist-packages/tensorflow/python/keras/engine/training.py:789 run_step  **\n        outputs = model.train_step(data)\n    /usr/local/lib/python3.6/dist-packages/tensorflow/python/keras/engine/training.py:747 train_step\n        y_pred = self(x, training=True)\n    /usr/local/lib/python3.6/dist-packages/tensorflow/python/keras/engine/base_layer.py:985 __call__\n        outputs = call_fn(inputs, *args, **kwargs)\n    /usr/local/lib/python3.6/dist-packages/tensorflow/python/keras/engine/functional.py:386 call\n        inputs, training=training, mask=mask)\n    /usr/local/lib/python3.6/dist-packages/tensorflow/python/keras/engine/functional.py:508 _run_internal_graph\n        outputs = node.layer(*args, **kwargs)\n    /usr/local/lib/python3.6/dist-packages/tensorflow/python/keras/engine/base_layer.py:976 __call__\n        self.name)\n    /usr/local/lib/python3.6/dist-packages/tensorflow/python/keras/engine/input_spec.py:216 assert_input_compatibility\n        ' but received input with shape ' + str(shape))\n\n    ValueError: Input 0 of layer ImageFeature is incompatible with the layer: expected axis -1 of input shape to have value 80 but received input with shape [None, 80, 4096]\n"
          ]
        }
      ]
    },
    {
      "cell_type": "code",
      "metadata": {
        "id": "JzNmq4y322ks"
      },
      "source": [
        "print(Ximage_train.shape,Xtext_train.shape,ytext_train.shape)"
      ],
      "execution_count": null,
      "outputs": []
    },
    {
      "cell_type": "code",
      "metadata": {
        "id": "7dwy-_HD4nHy"
      },
      "source": [
        "from keras.preprocessing.sequence import pad_sequences\n",
        "# pad all sequences to a fixed length\n",
        "max_length = max(len(s) for s in sequences)\n",
        "print('Description Length: %d' % max_length)\n",
        "padded = pad_sequences(sequences, maxlen=max_length, padding='post')"
      ],
      "execution_count": null,
      "outputs": []
    },
    {
      "cell_type": "code",
      "metadata": {
        "id": "CI2IYwlK4vIZ"
      },
      "source": [
        "print('Shape of padded text matrix ',padded.shape) # there are 80799 captions and each caption should have 89 words\n",
        "print('Single captions after padding', padded[0]) # we can see that first 12 are filled with sequence values, rest of them are replaced with 0"
      ],
      "execution_count": null,
      "outputs": []
    },
    {
      "cell_type": "code",
      "metadata": {
        "id": "AFbGd4NAUiis"
      },
      "source": [
        "total_captions[:10]"
      ],
      "execution_count": null,
      "outputs": []
    },
    {
      "cell_type": "markdown",
      "metadata": {
        "id": "MDleX5cLd1iI"
      },
      "source": [
        "**en_core_web_sm**\n",
        "\n",
        "English multi-task CNN trained on OntoNotes. Assigns context-specific token vectors, POS tags, dependency parse and named entities\n",
        "\n",
        "SIZE : 11 MB\n",
        "\n",
        "PIPELINE  : tagger, parser, ner"
      ]
    },
    {
      "cell_type": "code",
      "metadata": {
        "id": "BH653DrdRHZc"
      },
      "source": [
        "nlp=spacy.load('en_core_web_sm')"
      ],
      "execution_count": null,
      "outputs": []
    },
    {
      "cell_type": "markdown",
      "metadata": {
        "id": "WMBf6ywoYCVy"
      },
      "source": [
        "Data Cleaning:\n",
        "\n",
        "Noise Reduction Methods\n",
        "1. Using split method with space\n",
        "2. Using re library of python, but doent support unicode characters\n",
        "3. Using regex library of python\n",
        "4. Using spacy, this will split data in terms of tokens. These tokens have is_* methods like is_space, is_punctuation, is_stop etc\n",
        "Noise here means:\n",
        "\n",
        "Remove punctuation\n",
        "Remove single words\n",
        "Remove numerical values\n",
        "Lemmetization and Stemming\n",
        "\n",
        "Word wrapping"
      ]
    },
    {
      "cell_type": "code",
      "metadata": {
        "id": "0r__j8A4UIq_"
      },
      "source": [
        "def tokenize_spacy(text):\n",
        "  return mytokens"
      ],
      "execution_count": null,
      "outputs": []
    },
    {
      "cell_type": "code",
      "metadata": {
        "id": "R8HeYqXApQEp"
      },
      "source": [
        "final_corpus.head()"
      ],
      "execution_count": null,
      "outputs": []
    },
    {
      "cell_type": "code",
      "metadata": {
        "id": "yLt6HYYupqI8"
      },
      "source": [
        "td.head()"
      ],
      "execution_count": null,
      "outputs": []
    },
    {
      "cell_type": "code",
      "metadata": {
        "id": "T8Xe0zVWmztq"
      },
      "source": [
        "td['test']= [ tokenize_spacy(each) for each in td['Description']]"
      ],
      "execution_count": null,
      "outputs": []
    }
  ]
}