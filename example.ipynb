{
  "nbformat": 4,
  "nbformat_minor": 0,
  "metadata": {
    "colab": {
      "name": "example.ipynb",
      "provenance": [],
      "collapsed_sections": [],
      "authorship_tag": "ABX9TyOHp2FNXdHmUb+5gMU6N+QD",
      "include_colab_link": true
    },
    "kernelspec": {
      "name": "python3",
      "display_name": "Python 3"
    }
  },
  "cells": [
    {
      "cell_type": "markdown",
      "metadata": {
        "id": "view-in-github",
        "colab_type": "text"
      },
      "source": [
        "<a href=\"https://colab.research.google.com/github/ngolla/video-captioning/blob/master/example.ipynb\" target=\"_parent\"><img src=\"https://colab.research.google.com/assets/colab-badge.svg\" alt=\"Open In Colab\"/></a>"
      ]
    },
    {
      "cell_type": "code",
      "metadata": {
        "id": "b-HwjwCrwUyS"
      },
      "source": [
        "from google.colab import files\n",
        "from google.colab import drive\n",
        "from pathlib import Path\n",
        "import io\n",
        "import pandas as pd\n",
        "import numpy as np\n",
        "import string\n",
        "import time\n",
        "from tqdm import tqdm\n",
        "import pickle"
      ],
      "execution_count": 1,
      "outputs": []
    },
    {
      "cell_type": "code",
      "metadata": {
        "id": "yqtYmuQhwmwr",
        "outputId": "f36069c2-854b-4692-a275-bc7690318ae0",
        "colab": {
          "base_uri": "https://localhost:8080/"
        }
      },
      "source": [
        "drive.mount('/content/drive')"
      ],
      "execution_count": 2,
      "outputs": [
        {
          "output_type": "stream",
          "text": [
            "Mounted at /content/drive\n"
          ],
          "name": "stdout"
        }
      ]
    },
    {
      "cell_type": "code",
      "metadata": {
        "id": "Rrv6eSCzwx5U"
      },
      "source": [
        "def load_csv(file_name, drive_path):\n",
        "  corpus_file=drive_path.joinpath(file_name)\n",
        "  if(corpus_file.is_file()):\n",
        "    corpus_df=pd.read_csv(str(corpus_file))\n",
        "  else:\n",
        "    uploaded=files.upload()\n",
        "    corpus_df=pd.read_csv(io.BytesIO(uploaded[file_name]))\n",
        "    corpus_df.to_csv(corpus_file)\n",
        "  return corpus_df"
      ],
      "execution_count": 3,
      "outputs": []
    },
    {
      "cell_type": "code",
      "metadata": {
        "id": "nU-xqWg_w7Fa"
      },
      "source": [
        "drive_path=Path(\"/content/drive/My Drive\")\n",
        "annotations=load_csv('video_corpus.csv', drive_path)"
      ],
      "execution_count": 4,
      "outputs": []
    },
    {
      "cell_type": "code",
      "metadata": {
        "id": "SL0AbYH3xOb3"
      },
      "source": [
        "def extractBy(title, value, dataset):\n",
        "  return dataset[dataset[title]==value]"
      ],
      "execution_count": 5,
      "outputs": []
    },
    {
      "cell_type": "code",
      "metadata": {
        "id": "TrIz-gDCw-35"
      },
      "source": [
        "annotations=extractBy('Language','English', annotations)"
      ],
      "execution_count": 6,
      "outputs": []
    },
    {
      "cell_type": "code",
      "metadata": {
        "id": "znHg5mPuxRlU"
      },
      "source": [
        "def merge_rows(cols,df):\n",
        "  df=df.assign(AnnotationID=df[cols].apply(lambda row: '_'.join(row.values.astype(str)), axis=1))\n",
        "  return df"
      ],
      "execution_count": 7,
      "outputs": []
    },
    {
      "cell_type": "code",
      "metadata": {
        "id": "10bztjjwxbqp"
      },
      "source": [
        "cols = ['VideoID', 'Start', 'End']\n",
        "annotations=merge_rows(cols,annotations)"
      ],
      "execution_count": 8,
      "outputs": []
    },
    {
      "cell_type": "code",
      "metadata": {
        "id": "mtOQOljpxjis"
      },
      "source": [
        "annotations=annotations[['AnnotationID','Description']]"
      ],
      "execution_count": 9,
      "outputs": []
    },
    {
      "cell_type": "code",
      "metadata": {
        "id": "c5JGV7Q6x1LE",
        "outputId": "f9b0ebfe-697d-41ab-82bf-28b534cc3752",
        "colab": {
          "base_uri": "https://localhost:8080/"
        }
      },
      "source": [
        "annotations.shape"
      ],
      "execution_count": 10,
      "outputs": [
        {
          "output_type": "execute_result",
          "data": {
            "text/plain": [
              "(85511, 2)"
            ]
          },
          "metadata": {
            "tags": []
          },
          "execution_count": 10
        }
      ]
    },
    {
      "cell_type": "code",
      "metadata": {
        "id": "zihwZzBfzEmz"
      },
      "source": [
        "def drop_nullvalues(df):\n",
        "  df=df.dropna()\n",
        "  return df"
      ],
      "execution_count": 11,
      "outputs": []
    },
    {
      "cell_type": "code",
      "metadata": {
        "id": "25q4nRtwzGyO"
      },
      "source": [
        "#Drop null values\n",
        "annotations=drop_nullvalues(annotations)"
      ],
      "execution_count": 12,
      "outputs": []
    },
    {
      "cell_type": "code",
      "metadata": {
        "id": "OYM9cs0azTqP"
      },
      "source": [
        "def convert_to_lower(data, title):\n",
        "  return [x.lower() for x in data[title]]"
      ],
      "execution_count": 13,
      "outputs": []
    },
    {
      "cell_type": "code",
      "metadata": {
        "id": "TGWUEBhVzXAN"
      },
      "source": [
        "annotations['Description'] = convert_to_lower(annotations, 'Description')"
      ],
      "execution_count": 14,
      "outputs": []
    },
    {
      "cell_type": "code",
      "metadata": {
        "id": "k9jZ2p5jzipY"
      },
      "source": [
        "# To remove punctuations\n",
        "def remove_punctuation(text_original):\n",
        "    text_no_punctuation = text_original.translate(string.punctuation)\n",
        "    return(text_no_punctuation)\n",
        "\n",
        "\n",
        "# To remove single characters\n",
        "def remove_single_character(text):\n",
        "    text_len_more_than1 = \"\"\n",
        "    for word in text.split():\n",
        "        if len(word) > 1:\n",
        "            text_len_more_than1 += \" \" + word\n",
        "    return(text_len_more_than1)\n",
        "\n",
        "# To remove numeric values\n",
        "def remove_numeric(text,printTF=False):\n",
        "    text_no_numeric = \"\"\n",
        "    for word in text.split():\n",
        "        isalpha = word.isalpha()\n",
        "        if printTF:\n",
        "            print(\"    {:10} : {:}\".format(word,isalpha))\n",
        "        if isalpha:\n",
        "            text_no_numeric += \" \" + word\n",
        "    return(text_no_numeric)\n",
        "def text_clean(text_original):\n",
        "    text = remove_punctuation(text_original)\n",
        "    text = remove_single_character(text)\n",
        "    text = remove_numeric(text)\n",
        "    return(text)"
      ],
      "execution_count": 15,
      "outputs": []
    },
    {
      "cell_type": "code",
      "metadata": {
        "id": "s8vzRLB7zmjF",
        "outputId": "46699ee4-db4c-4922-dc61-6e7e351a1b43",
        "colab": {
          "base_uri": "https://localhost:8080/"
        }
      },
      "source": [
        "for i, caption in tqdm(enumerate(annotations.Description.values),total=annotations.shape[0]):\n",
        "    newcaption = text_clean(caption)\n",
        "    annotations['Description'].iloc[i] = newcaption"
      ],
      "execution_count": 16,
      "outputs": [
        {
          "output_type": "stream",
          "text": [
            "100%|██████████| 85510/85510 [00:54<00:00, 1569.17it/s]\n"
          ],
          "name": "stderr"
        }
      ]
    },
    {
      "cell_type": "code",
      "metadata": {
        "id": "21CvLouxyjG0"
      },
      "source": [
        " def addPath(text_data,video_path):\n",
        "   text_data['VideoPath'] = text_data.apply(lambda row: row['AnnotationID']+'.npy', axis=1)\n",
        "   text_data['VideoPath'] = text_data['VideoPath'].map(lambda x: video_path.joinpath(x))\n",
        "   text_data = text_data[text_data['VideoPath'].map(lambda x: x.is_file())]\n",
        "   text_data = text_data[text_data['Description'].map(lambda x: isinstance(x, str))]\n",
        "   unique_filenames = sorted(text_data['VideoPath'].unique())\n",
        "   data = text_data[text_data['VideoPath'].map(lambda x: x in unique_filenames)]\n",
        "   return data"
      ],
      "execution_count": 17,
      "outputs": []
    },
    {
      "cell_type": "code",
      "metadata": {
        "id": "psWPWS3TyBLg"
      },
      "source": [
        "video_path=drive_path.joinpath('VideoArrays')\n",
        "annotations=addPath(annotations, video_path)"
      ],
      "execution_count": 18,
      "outputs": []
    },
    {
      "cell_type": "code",
      "metadata": {
        "id": "_Y5SgEST0NnV",
        "outputId": "65ba374a-03df-48c5-acee-831ef9affda6",
        "colab": {
          "base_uri": "https://localhost:8080/"
        }
      },
      "source": [
        "print(len(list(np.unique(annotations['VideoPath']))))\n",
        "print(len(list(np.unique(annotations['AnnotationID']))))"
      ],
      "execution_count": 19,
      "outputs": [
        {
          "output_type": "stream",
          "text": [
            "1969\n",
            "1969\n"
          ],
          "name": "stdout"
        }
      ]
    },
    {
      "cell_type": "code",
      "metadata": {
        "id": "ikolvsVK0eUb",
        "outputId": "2796b922-2024-49e7-aa24-3d4940dd1ef5",
        "colab": {
          "base_uri": "https://localhost:8080/"
        }
      },
      "source": [
        "annotations.shape"
      ],
      "execution_count": 20,
      "outputs": [
        {
          "output_type": "execute_result",
          "data": {
            "text/plain": [
              "(80799, 3)"
            ]
          },
          "metadata": {
            "tags": []
          },
          "execution_count": 20
        }
      ]
    },
    {
      "cell_type": "code",
      "metadata": {
        "id": "Phq6dgzNk986",
        "outputId": "7e454e21-3fae-4ade-86f1-aa62e8f97576",
        "colab": {
          "base_uri": "https://localhost:8080/",
          "height": 359
        }
      },
      "source": [
        "annotations[:10]"
      ],
      "execution_count": null,
      "outputs": [
        {
          "output_type": "execute_result",
          "data": {
            "text/html": [
              "<div>\n",
              "<style scoped>\n",
              "    .dataframe tbody tr th:only-of-type {\n",
              "        vertical-align: middle;\n",
              "    }\n",
              "\n",
              "    .dataframe tbody tr th {\n",
              "        vertical-align: top;\n",
              "    }\n",
              "\n",
              "    .dataframe thead th {\n",
              "        text-align: right;\n",
              "    }\n",
              "</style>\n",
              "<table border=\"1\" class=\"dataframe\">\n",
              "  <thead>\n",
              "    <tr style=\"text-align: right;\">\n",
              "      <th></th>\n",
              "      <th>AnnotationID</th>\n",
              "      <th>Description</th>\n",
              "      <th>VideoPath</th>\n",
              "    </tr>\n",
              "  </thead>\n",
              "  <tbody>\n",
              "    <tr>\n",
              "      <th>18</th>\n",
              "      <td>mv89psg6zh4_33_46</td>\n",
              "      <td>bird in sink keeps getting under the running ...</td>\n",
              "      <td>/content/drive/My Drive/VideoArrays/mv89psg6zh...</td>\n",
              "    </tr>\n",
              "    <tr>\n",
              "      <th>19</th>\n",
              "      <td>mv89psg6zh4_33_46</td>\n",
              "      <td>bird is bathing in</td>\n",
              "      <td>/content/drive/My Drive/VideoArrays/mv89psg6zh...</td>\n",
              "    </tr>\n",
              "    <tr>\n",
              "      <th>20</th>\n",
              "      <td>mv89psg6zh4_33_46</td>\n",
              "      <td>bird is splashing around under running</td>\n",
              "      <td>/content/drive/My Drive/VideoArrays/mv89psg6zh...</td>\n",
              "    </tr>\n",
              "    <tr>\n",
              "      <th>21</th>\n",
              "      <td>mv89psg6zh4_33_46</td>\n",
              "      <td>bird is bathing in</td>\n",
              "      <td>/content/drive/My Drive/VideoArrays/mv89psg6zh...</td>\n",
              "    </tr>\n",
              "    <tr>\n",
              "      <th>22</th>\n",
              "      <td>mv89psg6zh4_33_46</td>\n",
              "      <td>bird is standing in sink drinking water that ...</td>\n",
              "      <td>/content/drive/My Drive/VideoArrays/mv89psg6zh...</td>\n",
              "    </tr>\n",
              "    <tr>\n",
              "      <th>23</th>\n",
              "      <td>mv89psg6zh4_33_46</td>\n",
              "      <td>faucet is running while bird stands in the sink</td>\n",
              "      <td>/content/drive/My Drive/VideoArrays/mv89psg6zh...</td>\n",
              "    </tr>\n",
              "    <tr>\n",
              "      <th>24</th>\n",
              "      <td>mv89psg6zh4_33_46</td>\n",
              "      <td>bird is playing in sink with running</td>\n",
              "      <td>/content/drive/My Drive/VideoArrays/mv89psg6zh...</td>\n",
              "    </tr>\n",
              "    <tr>\n",
              "      <th>25</th>\n",
              "      <td>mv89psg6zh4_33_46</td>\n",
              "      <td>bird is playing in tap</td>\n",
              "      <td>/content/drive/My Drive/VideoArrays/mv89psg6zh...</td>\n",
              "    </tr>\n",
              "    <tr>\n",
              "      <th>26</th>\n",
              "      <td>mv89psg6zh4_33_46</td>\n",
              "      <td>bird is bathing in the</td>\n",
              "      <td>/content/drive/My Drive/VideoArrays/mv89psg6zh...</td>\n",
              "    </tr>\n",
              "    <tr>\n",
              "      <th>27</th>\n",
              "      <td>mv89psg6zh4_33_46</td>\n",
              "      <td>bird is taking</td>\n",
              "      <td>/content/drive/My Drive/VideoArrays/mv89psg6zh...</td>\n",
              "    </tr>\n",
              "  </tbody>\n",
              "</table>\n",
              "</div>"
            ],
            "text/plain": [
              "         AnnotationID  ...                                          VideoPath\n",
              "18  mv89psg6zh4_33_46  ...  /content/drive/My Drive/VideoArrays/mv89psg6zh...\n",
              "19  mv89psg6zh4_33_46  ...  /content/drive/My Drive/VideoArrays/mv89psg6zh...\n",
              "20  mv89psg6zh4_33_46  ...  /content/drive/My Drive/VideoArrays/mv89psg6zh...\n",
              "21  mv89psg6zh4_33_46  ...  /content/drive/My Drive/VideoArrays/mv89psg6zh...\n",
              "22  mv89psg6zh4_33_46  ...  /content/drive/My Drive/VideoArrays/mv89psg6zh...\n",
              "23  mv89psg6zh4_33_46  ...  /content/drive/My Drive/VideoArrays/mv89psg6zh...\n",
              "24  mv89psg6zh4_33_46  ...  /content/drive/My Drive/VideoArrays/mv89psg6zh...\n",
              "25  mv89psg6zh4_33_46  ...  /content/drive/My Drive/VideoArrays/mv89psg6zh...\n",
              "26  mv89psg6zh4_33_46  ...  /content/drive/My Drive/VideoArrays/mv89psg6zh...\n",
              "27  mv89psg6zh4_33_46  ...  /content/drive/My Drive/VideoArrays/mv89psg6zh...\n",
              "\n",
              "[10 rows x 3 columns]"
            ]
          },
          "metadata": {
            "tags": []
          },
          "execution_count": 21
        }
      ]
    },
    {
      "cell_type": "code",
      "metadata": {
        "id": "s3X7p_YJG6Ig"
      },
      "source": [
        "annotations.to_csv(drive_path.joinpath('processed.csv'),index=False)"
      ],
      "execution_count": 22,
      "outputs": []
    },
    {
      "cell_type": "code",
      "metadata": {
        "id": "IxNdHDzU0kBJ"
      },
      "source": [
        "annotations_0=annotations[:20000]"
      ],
      "execution_count": null,
      "outputs": []
    },
    {
      "cell_type": "code",
      "metadata": {
        "id": "CehHcU5RlM_0",
        "outputId": "8ad85081-90f8-4eb0-c2f1-99383263b51c",
        "colab": {
          "base_uri": "https://localhost:8080/"
        }
      },
      "source": [
        "annotations_0.shape"
      ],
      "execution_count": null,
      "outputs": [
        {
          "output_type": "execute_result",
          "data": {
            "text/plain": [
              "(20000, 3)"
            ]
          },
          "metadata": {
            "tags": []
          },
          "execution_count": 23
        }
      ]
    },
    {
      "cell_type": "code",
      "metadata": {
        "id": "gPSGJn3slkiX",
        "outputId": "ca8d9f0a-63ff-4995-aad7-38ab5c104ee9",
        "colab": {
          "base_uri": "https://localhost:8080/"
        }
      },
      "source": [
        "video_paths=np.unique(annotations_0.VideoPath)\n",
        "len(video_paths)"
      ],
      "execution_count": null,
      "outputs": [
        {
          "output_type": "execute_result",
          "data": {
            "text/plain": [
              "489"
            ]
          },
          "metadata": {
            "tags": []
          },
          "execution_count": 25
        }
      ]
    },
    {
      "cell_type": "code",
      "metadata": {
        "id": "eucQIozTleCc",
        "outputId": "fa0779d1-cbcb-4172-a622-085c9fd1b367",
        "colab": {
          "base_uri": "https://localhost:8080/"
        }
      },
      "source": [
        "def load_videos_as_numpy(video_paths):\n",
        "  video_np={}\n",
        "  for eachVideo in tqdm(np.unique(video_paths)):\n",
        "    video_np[eachVideo.stem]=np.load(eachVideo)\n",
        "  return video_np\n",
        "video_np=load_videos_as_numpy(video_paths)\n",
        "print(len(video_np))"
      ],
      "execution_count": null,
      "outputs": [
        {
          "output_type": "stream",
          "text": [
            "100%|██████████| 489/489 [04:21<00:00,  1.87it/s]"
          ],
          "name": "stderr"
        },
        {
          "output_type": "stream",
          "text": [
            "489\n"
          ],
          "name": "stdout"
        },
        {
          "output_type": "stream",
          "text": [
            "\n"
          ],
          "name": "stderr"
        }
      ]
    },
    {
      "cell_type": "code",
      "metadata": {
        "id": "wy0d9JOIm6cx",
        "outputId": "95195c4b-a302-4168-dc10-f9c708c3c251",
        "colab": {
          "base_uri": "https://localhost:8080/"
        }
      },
      "source": [
        "def preprocess_captions(data):\n",
        "  total_captions=[]\n",
        "  for caption in tqdm(data['Description'].astype(str)):\n",
        "    caption='<start> '+caption+' <end>'\n",
        "    total_captions.append(caption)\n",
        "  return total_captions\n",
        "total_captions=preprocess_captions(annotations_0)"
      ],
      "execution_count": null,
      "outputs": [
        {
          "output_type": "stream",
          "text": [
            "100%|██████████| 20000/20000 [00:00<00:00, 1215669.82it/s]\n"
          ],
          "name": "stderr"
        }
      ]
    },
    {
      "cell_type": "code",
      "metadata": {
        "id": "jqz0UxcYnC0X",
        "outputId": "d87c93c4-636c-4c26-9540-fb2f383ca395",
        "colab": {
          "base_uri": "https://localhost:8080/"
        }
      },
      "source": [
        "annotations_0['captions']=total_captions"
      ],
      "execution_count": null,
      "outputs": [
        {
          "output_type": "stream",
          "text": [
            "/usr/local/lib/python3.6/dist-packages/ipykernel_launcher.py:1: SettingWithCopyWarning: \n",
            "A value is trying to be set on a copy of a slice from a DataFrame.\n",
            "Try using .loc[row_indexer,col_indexer] = value instead\n",
            "\n",
            "See the caveats in the documentation: https://pandas.pydata.org/pandas-docs/stable/user_guide/indexing.html#returning-a-view-versus-a-copy\n",
            "  \"\"\"Entry point for launching an IPython kernel.\n"
          ],
          "name": "stderr"
        }
      ]
    },
    {
      "cell_type": "code",
      "metadata": {
        "id": "w--py-9anqZA",
        "outputId": "c19e2393-c9cd-4343-bfbc-b209d6774c1a",
        "colab": {
          "base_uri": "https://localhost:8080/"
        }
      },
      "source": [
        "annotations_0.shape"
      ],
      "execution_count": null,
      "outputs": [
        {
          "output_type": "execute_result",
          "data": {
            "text/plain": [
              "(20000, 4)"
            ]
          },
          "metadata": {
            "tags": []
          },
          "execution_count": 31
        }
      ]
    },
    {
      "cell_type": "code",
      "metadata": {
        "id": "6hFX1BF_ng_4",
        "outputId": "5e657434-2ddf-4d26-dea7-d9db5d132a6a",
        "colab": {
          "base_uri": "https://localhost:8080/"
        }
      },
      "source": [
        "keepindex = []\n",
        "videos_dt=[]\n",
        "for i, fnm in tqdm(enumerate(annotations_0.AnnotationID), total=annotations_0.shape[0]):\n",
        "    if fnm in video_np.keys():\n",
        "      videos_dt.append(video_np[fnm])\n",
        "      keepindex.append(i)\n",
        "\n",
        "total_captions = annotations_0[\"captions\"].iloc[keepindex].values"
      ],
      "execution_count": null,
      "outputs": [
        {
          "output_type": "stream",
          "text": [
            "100%|██████████| 20000/20000 [00:00<00:00, 663314.59it/s]\n"
          ],
          "name": "stderr"
        }
      ]
    },
    {
      "cell_type": "code",
      "metadata": {
        "id": "g_50zI0doEPA",
        "outputId": "b24a5611-32c2-4e59-b761-a5af3179b408",
        "colab": {
          "base_uri": "https://localhost:8080/"
        }
      },
      "source": [
        "from keras.preprocessing.text import Tokenizer\n",
        "# prepare tokenizer\n",
        "#tokenizer = Tokenizer(\n",
        "    #num_words=None, filters='!\"#$%&()*+,-./:;<=>?@[\\\\]^_`{|}~\\t\\n', lower=True,\n",
        "    #split=' ', char_level=False, oov_token=None, document_count=0)\n",
        "#tokenizer = Tokenizer(num_words=top_k, oov_token=\"<unk>\", filters='!\"#$%&()*+.,-/:;=?@[\\]^_`{|}~ ')\n",
        "tokenizer = Tokenizer(num_words=None, oov_token=\"<unk>\", filters='!\"#$%&()*+.,-/:;=?@[\\]^_`{|}~ ')\n",
        "tokenizer.fit_on_texts(total_captions)\n",
        "vocab_size = len(tokenizer.word_index) + 1\n",
        "print('Vocabulary Size: %d' % vocab_size)"
      ],
      "execution_count": null,
      "outputs": [
        {
          "output_type": "stream",
          "text": [
            "Vocabulary Size: 5001\n"
          ],
          "name": "stdout"
        }
      ]
    },
    {
      "cell_type": "code",
      "metadata": {
        "id": "4F6FFEFMoLtA"
      },
      "source": [
        "# integer encode descriptions\n",
        "sequences = tokenizer.texts_to_sequences(total_captions)"
      ],
      "execution_count": null,
      "outputs": []
    },
    {
      "cell_type": "code",
      "metadata": {
        "id": "MlcbPLaooSng",
        "outputId": "2c5adf6d-d5fc-439f-b22a-372492dc4961",
        "colab": {
          "base_uri": "https://localhost:8080/"
        }
      },
      "source": [
        "from keras.preprocessing.sequence import pad_sequences\n",
        "# Pad each vector to the max_length of the captions\n",
        "# If you do not provide a max_length value, pad_sequences calculates it automatically\n",
        "cap_vector = pad_sequences(sequences, padding='post')\n",
        "cap_vector[0].shape"
      ],
      "execution_count": null,
      "outputs": [
        {
          "output_type": "execute_result",
          "data": {
            "text/plain": [
              "(39,)"
            ]
          },
          "metadata": {
            "tags": []
          },
          "execution_count": 37
        }
      ]
    },
    {
      "cell_type": "code",
      "metadata": {
        "id": "ebHMxjONovCy",
        "outputId": "558c1476-cd27-4844-baf3-227935c11aab",
        "colab": {
          "base_uri": "https://localhost:8080/"
        }
      },
      "source": [
        "max_len=len(cap_vector[0])\n",
        "max_len"
      ],
      "execution_count": null,
      "outputs": [
        {
          "output_type": "execute_result",
          "data": {
            "text/plain": [
              "39"
            ]
          },
          "metadata": {
            "tags": []
          },
          "execution_count": 38
        }
      ]
    },
    {
      "cell_type": "code",
      "metadata": {
        "id": "3Zwv8tPAozaX",
        "outputId": "50778402-1502-4f73-9184-a2f2f80af075",
        "colab": {
          "base_uri": "https://localhost:8080/"
        }
      },
      "source": [
        "print('Number of captions: ', str(len(total_captions)))\n",
        "print('length of sequences : ',str(len(sequences)))\n",
        "print('first sequence: ', sequences[0])\n",
        "print('first sequence length : ', len(sequences[0]))\n",
        "print('first caption: ', total_captions[0])\n",
        "print('padding vector ', cap_vector.shape)\n",
        "print('first caption padding vector ', cap_vector[0].shape)\n",
        "print('Max len of single padding vector or number of rows ', max_len)"
      ],
      "execution_count": null,
      "outputs": [
        {
          "output_type": "stream",
          "text": [
            "Number of captions:  20000\n",
            "length of sequences :  20000\n",
            "first sequence:  [2, 151, 9, 527, 2073, 146, 133, 5, 43, 45, 32, 3]\n",
            "first sequence length :  12\n",
            "first caption:  <start>  bird in sink keeps getting under the running water from <end>\n",
            "padding vector  (20000, 39)\n",
            "first caption padding vector  (39,)\n",
            "Max len of single padding vector or number of rows  39\n"
          ],
          "name": "stdout"
        }
      ]
    },
    {
      "cell_type": "code",
      "metadata": {
        "id": "nxWsfxgVqEeH",
        "outputId": "c988b364-4140-45e1-b8e2-bcc900b74805",
        "colab": {
          "base_uri": "https://localhost:8080/"
        }
      },
      "source": [
        "len(videos_dt), videos_dt[0].shape, videos_dt[0].ndim"
      ],
      "execution_count": null,
      "outputs": [
        {
          "output_type": "execute_result",
          "data": {
            "text/plain": [
              "(20000, (80, 4096), 2)"
            ]
          },
          "metadata": {
            "tags": []
          },
          "execution_count": 42
        }
      ]
    },
    {
      "cell_type": "code",
      "metadata": {
        "id": "D__g4qkWqJ42",
        "outputId": "f4b56f0e-c8c1-4c73-c0c7-3fa1bba357dd",
        "colab": {
          "base_uri": "https://localhost:8080/"
        }
      },
      "source": [
        "len(cap_vector), cap_vector[0].shape, cap_vector[0].ndim"
      ],
      "execution_count": null,
      "outputs": [
        {
          "output_type": "execute_result",
          "data": {
            "text/plain": [
              "(20000, (39,), 1)"
            ]
          },
          "metadata": {
            "tags": []
          },
          "execution_count": 43
        }
      ]
    },
    {
      "cell_type": "code",
      "metadata": {
        "id": "HLPVRVGdqbZO",
        "outputId": "40ec6ba8-a6fb-4f97-d268-01df7c229ebd",
        "colab": {
          "base_uri": "https://localhost:8080/"
        }
      },
      "source": [
        "# Scikit-learn includes many helpful utilities\n",
        "from sklearn.model_selection import train_test_split\n",
        "# Create training and validation sets using an 80-20 split\n",
        "vid_train, vid_val, cap_train, cap_val = train_test_split(videos_dt,cap_vector,test_size=0.2,random_state=0)\n",
        "len(vid_train), len(cap_train), len(vid_val), len(cap_val)\n",
        "# Feel free to change these parameters according to your system's configuration"
      ],
      "execution_count": null,
      "outputs": [
        {
          "output_type": "execute_result",
          "data": {
            "text/plain": [
              "(16000, 16000, 4000, 4000)"
            ]
          },
          "metadata": {
            "tags": []
          },
          "execution_count": 44
        }
      ]
    },
    {
      "cell_type": "code",
      "metadata": {
        "id": "pzAJaKGltWuu"
      },
      "source": [
        "outfile = open(drive_path.joinpath('train.dat'),'wb')\n",
        "pickle.dump((vid_train, cap_train),outfile)\n",
        "outfile.close()"
      ],
      "execution_count": null,
      "outputs": []
    },
    {
      "cell_type": "code",
      "metadata": {
        "id": "lgt1gNN1tYzS"
      },
      "source": [
        "outfile = open(drive_path.joinpath('test.dat'),'wb')\n",
        "pickle.dump((vid_val, cap_val),outfile)\n",
        "outfile.close()"
      ],
      "execution_count": null,
      "outputs": []
    },
    {
      "cell_type": "code",
      "metadata": {
        "id": "tVCZwTNevCtl"
      },
      "source": [
        "outfile = open(drive_path.joinpath('tokens_word_index.txt'),'wb')\n",
        "pickle.dump(tokenizer.word_index,outfile)\n",
        "outfile.close()"
      ],
      "execution_count": null,
      "outputs": []
    },
    {
      "cell_type": "code",
      "metadata": {
        "id": "wq0MniNNwRAB"
      },
      "source": [
        "outfile = open(drive_path.joinpath('tokens_index_word.txt'),'wb')\n",
        "pickle.dump(tokenizer.index_word,outfile)\n",
        "outfile.close()"
      ],
      "execution_count": null,
      "outputs": []
    }
  ]
}